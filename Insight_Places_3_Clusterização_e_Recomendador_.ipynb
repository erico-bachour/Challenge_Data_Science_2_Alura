{
  "nbformat": 4,
  "nbformat_minor": 0,
  "metadata": {
    "colab": {
      "provenance": [],
      "authorship_tag": "ABX9TyMuf+hl9b9muEpuKfuCniwN",
      "include_colab_link": true
    },
    "kernelspec": {
      "name": "python3",
      "display_name": "Python 3"
    },
    "language_info": {
      "name": "python"
    }
  },
  "cells": [
    {
      "cell_type": "markdown",
      "metadata": {
        "id": "view-in-github",
        "colab_type": "text"
      },
      "source": [
        "<a href=\"https://colab.research.google.com/github/erico-bachour/Challenge_Data_Science_2_Alura/blob/main/Insight_Places_3_Clusteriza%C3%A7%C3%A3o_e_Recomendador_.ipynb\" target=\"_parent\"><img src=\"https://colab.research.google.com/assets/colab-badge.svg\" alt=\"Open In Colab\"/></a>"
      ]
    },
    {
      "cell_type": "markdown",
      "source": [
        "# **Insight Places 3 - Clusterização e Recomendador**\n",
        "\n",
        "Nesta etapa do projeto para a Imobiliária Insight Places vamos partir para uma outra forma de modelagem. Com a base de dados tratada na fase anterior, iremos padronizá-la para que possamos dividir os imóveis em grupos. Dessa forma, o objetivo é criar um recomendador que, a partir de um imóvel escolhido, indique-nos uma série de imóveis de características semelhantes."
      ],
      "metadata": {
        "id": "2Dp-cCyvNVOQ"
      }
    },
    {
      "cell_type": "markdown",
      "source": [
        "##1. Preparação do ambiente de trabalho e download da base de dados"
      ],
      "metadata": {
        "id": "N-O-eM1kWZMs"
      }
    },
    {
      "cell_type": "code",
      "source": [
        "!pip install pyspark==3.3.1"
      ],
      "metadata": {
        "colab": {
          "base_uri": "https://localhost:8080/"
        },
        "id": "hHgcWUAnSEXk",
        "outputId": "c2c4aac4-914d-4fb6-86ee-dcb97e44dc0e"
      },
      "execution_count": 2,
      "outputs": [
        {
          "output_type": "stream",
          "name": "stdout",
          "text": [
            "Looking in indexes: https://pypi.org/simple, https://us-python.pkg.dev/colab-wheels/public/simple/\n",
            "Collecting pyspark==3.3.1\n",
            "  Downloading pyspark-3.3.1.tar.gz (281.4 MB)\n",
            "\u001b[K     |████████████████████████████████| 281.4 MB 44 kB/s \n",
            "\u001b[?25hCollecting py4j==0.10.9.5\n",
            "  Downloading py4j-0.10.9.5-py2.py3-none-any.whl (199 kB)\n",
            "\u001b[K     |████████████████████████████████| 199 kB 58.0 MB/s \n",
            "\u001b[?25hBuilding wheels for collected packages: pyspark\n",
            "  Building wheel for pyspark (setup.py) ... \u001b[?25l\u001b[?25hdone\n",
            "  Created wheel for pyspark: filename=pyspark-3.3.1-py2.py3-none-any.whl size=281845512 sha256=8df596fde43d7ad3b1f198289d4135270101f1d5a63a1d3d4b592a98f6946c9a\n",
            "  Stored in directory: /root/.cache/pip/wheels/43/dc/11/ec201cd671da62fa9c5cc77078235e40722170ceba231d7598\n",
            "Successfully built pyspark\n",
            "Installing collected packages: py4j, pyspark\n",
            "Successfully installed py4j-0.10.9.5 pyspark-3.3.1\n"
          ]
        }
      ]
    },
    {
      "cell_type": "code",
      "source": [
        "from pyspark.sql import SparkSession\n",
        "\n",
        "spark = SparkSession.builder \\\n",
        "    .master('local[*]') \\\n",
        "    .appName(\"Insight Places 3\") \\\n",
        "    .getOrCreate()\n",
        "\n",
        "spark"
      ],
      "metadata": {
        "colab": {
          "base_uri": "https://localhost:8080/",
          "height": 222
        },
        "id": "K3T0CIiGSKyi",
        "outputId": "3cd282a3-8af3-4af0-c030-ed4c7367cc46"
      },
      "execution_count": 3,
      "outputs": [
        {
          "output_type": "execute_result",
          "data": {
            "text/plain": [
              "<pyspark.sql.session.SparkSession at 0x7fe8fea5d2e0>"
            ],
            "text/html": [
              "\n",
              "            <div>\n",
              "                <p><b>SparkSession - in-memory</b></p>\n",
              "                \n",
              "        <div>\n",
              "            <p><b>SparkContext</b></p>\n",
              "\n",
              "            <p><a href=\"http://1d551e7dc1fd:4040\">Spark UI</a></p>\n",
              "\n",
              "            <dl>\n",
              "              <dt>Version</dt>\n",
              "                <dd><code>v3.3.1</code></dd>\n",
              "              <dt>Master</dt>\n",
              "                <dd><code>local[*]</code></dd>\n",
              "              <dt>AppName</dt>\n",
              "                <dd><code>Insight Places 3</code></dd>\n",
              "            </dl>\n",
              "        </div>\n",
              "        \n",
              "            </div>\n",
              "        "
            ]
          },
          "metadata": {},
          "execution_count": 3
        }
      ]
    },
    {
      "cell_type": "code",
      "execution_count": 4,
      "metadata": {
        "colab": {
          "base_uri": "https://localhost:8080/"
        },
        "id": "ywtNJL3pNDv6",
        "outputId": "e14fc0ed-5f72-458c-9a40-fa7d0f6b3006"
      },
      "outputs": [
        {
          "output_type": "stream",
          "name": "stdout",
          "text": [
            "--2022-12-13 16:47:05--  https://caelum-online-public.s3.amazonaws.com/challenge-spark/semanas-3-e-4.zip\n",
            "Resolving caelum-online-public.s3.amazonaws.com (caelum-online-public.s3.amazonaws.com)... 52.217.44.164, 52.217.231.177, 52.217.192.169, ...\n",
            "Connecting to caelum-online-public.s3.amazonaws.com (caelum-online-public.s3.amazonaws.com)|52.217.44.164|:443... connected.\n",
            "HTTP request sent, awaiting response... 200 OK\n",
            "Length: 2588308 (2.5M) [application/zip]\n",
            "Saving to: ‘semanas-3-e-4.zip’\n",
            "\n",
            "semanas-3-e-4.zip   100%[===================>]   2.47M  5.71MB/s    in 0.4s    \n",
            "\n",
            "2022-12-13 16:47:06 (5.71 MB/s) - ‘semanas-3-e-4.zip’ saved [2588308/2588308]\n",
            "\n"
          ]
        }
      ],
      "source": [
        "import zipfile\n",
        "!wget 'https://caelum-online-public.s3.amazonaws.com/challenge-spark/semanas-3-e-4.zip'"
      ]
    },
    {
      "cell_type": "code",
      "source": [
        "!unzip -o semanas-3-e-4.zip -d ./"
      ],
      "metadata": {
        "id": "bREK11BLSTPK",
        "colab": {
          "base_uri": "https://localhost:8080/"
        },
        "outputId": "90b684a7-cc07-40b1-db06-81fb891fb7e4"
      },
      "execution_count": 5,
      "outputs": [
        {
          "output_type": "stream",
          "name": "stdout",
          "text": [
            "Archive:  semanas-3-e-4.zip\n",
            "   creating: ./dataset_ml_parquet/\n",
            "  inflating: ./dataset_ml_parquet/_SUCCESS  \n",
            "  inflating: ./dataset_ml_parquet/._SUCCESS.crc  \n",
            "  inflating: ./dataset_ml_parquet/part-00003-a14b227c-f87e-4893-b5f9-4163ed07cb37-c000.snappy.parquet  \n",
            "  inflating: ./dataset_ml_parquet/part-00001-a14b227c-f87e-4893-b5f9-4163ed07cb37-c000.snappy.parquet  \n",
            "  inflating: ./dataset_ml_parquet/part-00000-a14b227c-f87e-4893-b5f9-4163ed07cb37-c000.snappy.parquet  \n",
            "  inflating: ./dataset_ml_parquet/.part-00003-a14b227c-f87e-4893-b5f9-4163ed07cb37-c000.snappy.parquet.crc  \n",
            "  inflating: ./dataset_ml_parquet/part-00002-a14b227c-f87e-4893-b5f9-4163ed07cb37-c000.snappy.parquet  \n",
            "  inflating: ./dataset_ml_parquet/.part-00001-a14b227c-f87e-4893-b5f9-4163ed07cb37-c000.snappy.parquet.crc  \n",
            "  inflating: ./dataset_ml_parquet/.part-00002-a14b227c-f87e-4893-b5f9-4163ed07cb37-c000.snappy.parquet.crc  \n",
            "  inflating: ./dataset_ml_parquet/.part-00000-a14b227c-f87e-4893-b5f9-4163ed07cb37-c000.snappy.parquet.crc  \n"
          ]
        }
      ]
    },
    {
      "cell_type": "code",
      "source": [
        "dataset = spark.read.parquet('/content/dataset_ml_parquet')"
      ],
      "metadata": {
        "id": "-V410yHESeFd"
      },
      "execution_count": 6,
      "outputs": []
    },
    {
      "cell_type": "markdown",
      "source": [
        "Mostrando a base de dados e o número de registros no arquivo"
      ],
      "metadata": {
        "id": "JgBYKocTTEJ-"
      }
    },
    {
      "cell_type": "code",
      "source": [
        "dataset.limit(5).show()\n",
        "print('Número de linhas no arquivo: %s' % dataset.count())"
      ],
      "metadata": {
        "colab": {
          "base_uri": "https://localhost:8080/"
        },
        "id": "QyDjIKHuSnW5",
        "outputId": "657bb0e4-930d-4cd3-9fef-a6f349f38b7f"
      },
      "execution_count": 7,
      "outputs": [
        {
          "output_type": "stream",
          "name": "stdout",
          "text": [
            "+--------------------+-----+---------+---------+-------+------+----+------------+----------+-----+--------+------------+----------+----------+--------+--------+------------------+-------------+------------------+--------+-------+----------+------------+-----------------+---------------+\n",
            "|                  id|andar|area_util|banheiros|quartos|suites|vaga|      bairro|condominio| iptu|   valor|Zona Central|Zona Norte|Zona Oeste|Zona Sul|Academia|Animais permitidos|Churrasqueira|Condomínio fechado|Elevador|Piscina|Playground|Portaria 24h|Portão eletrônico|Salão de festas|\n",
            "+--------------------+-----+---------+---------+-------+------+----+------------+----------+-----+--------+------------+----------+----------+--------+--------+------------------+-------------+------------------+--------+-------+----------+------------+-----------------+---------------+\n",
            "|00002dd9-cc74-480...|    2|       35|        1|      1|   0.0| 0.0|Santo Cristo|     100.0|100.0|245000.0|           1|         0|         0|       0|       1|                 1|            1|                 1|       1|      1|         1|           1|                1|              1|\n",
            "|0009ca94-2b37-438...|    1|       84|        2|      2|   0.0| 1.0|      Tijuca|     770.0|105.0|474980.0|           0|         1|         0|       0|       0|                 0|            1|                 0|       1|      0|         1|           1|                0|              1|\n",
            "|000e3d28-e3e5-411...|    0|       85|        2|      2|   0.0| 0.0|Santa Teresa|     460.0|661.0|290000.0|           0|         0|         0|       1|       0|                 1|            0|                 0|       1|      0|         0|           0|                0|              0|\n",
            "|000fb707-6cad-496...|    0|       58|        1|      2|   0.0| 1.0|   Pechincha|     550.0|550.0|249000.0|           0|         0|         1|       0|       0|                 0|            0|                 0|       0|      1|         1|           0|                0|              0|\n",
            "|001b6db0-e88d-4eb...|    0|       64|        2|      2|   1.0| 1.0|      Tijuca|     850.0|  0.0|530000.0|           0|         1|         0|       0|       0|                 0|            0|                 0|       0|      0|         0|           0|                0|              0|\n",
            "+--------------------+-----+---------+---------+-------+------+----+------------+----------+-----+--------+------------+----------+----------+--------+--------+------------------+-------------+------------------+--------+-------+----------+------------+-----------------+---------------+\n",
            "\n",
            "Número de linhas no arquivo: 66551\n"
          ]
        }
      ]
    },
    {
      "cell_type": "markdown",
      "source": [
        "Mostrando os tipos dos dados:"
      ],
      "metadata": {
        "id": "cmBbzgylTPSl"
      }
    },
    {
      "cell_type": "code",
      "source": [
        "dataset.printSchema()"
      ],
      "metadata": {
        "colab": {
          "base_uri": "https://localhost:8080/"
        },
        "id": "aBjpQHJEStRC",
        "outputId": "15ef1836-373d-4bb9-e31f-82d8c63afcfb"
      },
      "execution_count": 8,
      "outputs": [
        {
          "output_type": "stream",
          "name": "stdout",
          "text": [
            "root\n",
            " |-- id: string (nullable = true)\n",
            " |-- andar: integer (nullable = true)\n",
            " |-- area_util: integer (nullable = true)\n",
            " |-- banheiros: integer (nullable = true)\n",
            " |-- quartos: integer (nullable = true)\n",
            " |-- suites: double (nullable = true)\n",
            " |-- vaga: double (nullable = true)\n",
            " |-- bairro: string (nullable = true)\n",
            " |-- condominio: double (nullable = true)\n",
            " |-- iptu: double (nullable = true)\n",
            " |-- valor: double (nullable = true)\n",
            " |-- Zona Central: integer (nullable = true)\n",
            " |-- Zona Norte: integer (nullable = true)\n",
            " |-- Zona Oeste: integer (nullable = true)\n",
            " |-- Zona Sul: integer (nullable = true)\n",
            " |-- Academia: integer (nullable = true)\n",
            " |-- Animais permitidos: integer (nullable = true)\n",
            " |-- Churrasqueira: integer (nullable = true)\n",
            " |-- Condomínio fechado: integer (nullable = true)\n",
            " |-- Elevador: integer (nullable = true)\n",
            " |-- Piscina: integer (nullable = true)\n",
            " |-- Playground: integer (nullable = true)\n",
            " |-- Portaria 24h: integer (nullable = true)\n",
            " |-- Portão eletrônico: integer (nullable = true)\n",
            " |-- Salão de festas: integer (nullable = true)\n",
            "\n"
          ]
        }
      ]
    },
    {
      "cell_type": "markdown",
      "source": [
        "Como padrão nos modelos de machine learning, vamos transformar a coluna 'valor' em 'label'."
      ],
      "metadata": {
        "id": "Jim-xd-NV5g0"
      }
    },
    {
      "cell_type": "code",
      "source": [
        "dataset = dataset\\\n",
        "        .withColumnRenamed('valor', 'label')"
      ],
      "metadata": {
        "id": "3Oimm-gMS-fi"
      },
      "execution_count": 9,
      "outputs": []
    },
    {
      "cell_type": "code",
      "source": [
        "dataset.columns"
      ],
      "metadata": {
        "colab": {
          "base_uri": "https://localhost:8080/"
        },
        "id": "8NL_HvxGWLaG",
        "outputId": "7ce9145d-81fb-4060-b1a2-e3d5d7a76d8e"
      },
      "execution_count": 10,
      "outputs": [
        {
          "output_type": "execute_result",
          "data": {
            "text/plain": [
              "['id',\n",
              " 'andar',\n",
              " 'area_util',\n",
              " 'banheiros',\n",
              " 'quartos',\n",
              " 'suites',\n",
              " 'vaga',\n",
              " 'bairro',\n",
              " 'condominio',\n",
              " 'iptu',\n",
              " 'label',\n",
              " 'Zona Central',\n",
              " 'Zona Norte',\n",
              " 'Zona Oeste',\n",
              " 'Zona Sul',\n",
              " 'Academia',\n",
              " 'Animais permitidos',\n",
              " 'Churrasqueira',\n",
              " 'Condomínio fechado',\n",
              " 'Elevador',\n",
              " 'Piscina',\n",
              " 'Playground',\n",
              " 'Portaria 24h',\n",
              " 'Portão eletrônico',\n",
              " 'Salão de festas']"
            ]
          },
          "metadata": {},
          "execution_count": 10
        }
      ]
    },
    {
      "cell_type": "markdown",
      "source": [
        "## 2. Transformação dos Dados"
      ],
      "metadata": {
        "id": "fnVr9qfqGXWb"
      }
    },
    {
      "cell_type": "markdown",
      "source": [
        "### 2.1. Vector Assembling\n",
        "\n",
        "Para tornar possivel a modelagem por clustering, vamos transformar as diversas features da base de dados em um vetor somente, por meio da ferramenta Vector Assembler."
      ],
      "metadata": {
        "id": "MbsUwUO7WTnN"
      }
    },
    {
      "cell_type": "code",
      "source": [
        "from pyspark.ml.feature import VectorAssembler"
      ],
      "metadata": {
        "id": "43bToYi5WMw7"
      },
      "execution_count": 11,
      "outputs": []
    },
    {
      "cell_type": "code",
      "source": [
        "x = ['andar',\n",
        " 'area_util',\n",
        " 'banheiros',\n",
        " 'quartos',\n",
        " 'suites',\n",
        " 'vaga',\n",
        " 'condominio',\n",
        " 'iptu',\n",
        " 'Zona Central',\n",
        " 'Zona Norte',\n",
        " 'Zona Oeste',\n",
        " 'Zona Sul',\n",
        " 'Academia',\n",
        " 'Animais permitidos',\n",
        " 'Churrasqueira',\n",
        " 'Condomínio fechado',\n",
        " 'Elevador',\n",
        " 'Piscina',\n",
        " 'Playground',\n",
        " 'Portaria 24h',\n",
        " 'Portão eletrônico',\n",
        " 'Salão de festas']\n",
        "\n",
        "dataset_vector = VectorAssembler(inputCols = x, outputCol = 'features').transform(dataset).select('features', 'label', 'id')\n",
        "\n",
        "dataset_vector.show(5, truncate=False)"
      ],
      "metadata": {
        "colab": {
          "base_uri": "https://localhost:8080/"
        },
        "id": "cwhx1XaoW6fE",
        "outputId": "aba7012f-967b-4e12-b8fe-d38dc878ac9a"
      },
      "execution_count": 12,
      "outputs": [
        {
          "output_type": "stream",
          "name": "stdout",
          "text": [
            "+------------------------------------------------------------------------------------------------+--------+------------------------------------+\n",
            "|features                                                                                        |label   |id                                  |\n",
            "+------------------------------------------------------------------------------------------------+--------+------------------------------------+\n",
            "|[2.0,35.0,1.0,1.0,0.0,0.0,100.0,100.0,1.0,0.0,0.0,0.0,1.0,1.0,1.0,1.0,1.0,1.0,1.0,1.0,1.0,1.0]  |245000.0|00002dd9-cc74-4809-b5a5-850adf0e7526|\n",
            "|(22,[0,1,2,3,5,6,7,9,14,16,18,19,21],[1.0,84.0,2.0,2.0,1.0,770.0,105.0,1.0,1.0,1.0,1.0,1.0,1.0])|474980.0|0009ca94-2b37-4381-b8b8-773ce0f92444|\n",
            "|(22,[1,2,3,6,7,11,13,16],[85.0,2.0,2.0,460.0,661.0,1.0,1.0,1.0])                                |290000.0|000e3d28-e3e5-4110-b488-69154931140e|\n",
            "|(22,[1,2,3,5,6,7,10,17,18],[58.0,1.0,2.0,1.0,550.0,550.0,1.0,1.0,1.0])                          |249000.0|000fb707-6cad-496d-8cb7-d8046cb5ef37|\n",
            "|(22,[1,2,3,4,5,6,9],[64.0,2.0,2.0,1.0,1.0,850.0,1.0])                                           |530000.0|001b6db0-e88d-4eba-84e5-0ef94b091a64|\n",
            "+------------------------------------------------------------------------------------------------+--------+------------------------------------+\n",
            "only showing top 5 rows\n",
            "\n"
          ]
        }
      ]
    },
    {
      "cell_type": "markdown",
      "source": [
        "### 2.2. Standard Scaler - Padronização\n",
        "\n",
        "Para podermos inserir os dados de maneira correta no modelo, eles devem estar em uma mesma escala. Assim, usaremos a feature Standard Scaler do spark para realizar a tarefa."
      ],
      "metadata": {
        "id": "1qqehlllDLq9"
      }
    },
    {
      "cell_type": "code",
      "source": [
        "from pyspark.ml.feature import StandardScaler"
      ],
      "metadata": {
        "id": "gZSvTiIEXGqb"
      },
      "execution_count": 13,
      "outputs": []
    },
    {
      "cell_type": "code",
      "source": [
        "scaler = StandardScaler(inputCol=\"features\", outputCol=\"scaledFeatures\")\n",
        "\n",
        "# fitando o normalizador à base de dados\n",
        "scalerModel = scaler.fit(dataset_vector)\n",
        "\n",
        "# criando a coluna de features normalizadas\n",
        "X_normalizado = scalerModel.transform(dataset_vector)"
      ],
      "metadata": {
        "id": "tZ3EfidQEUMG"
      },
      "execution_count": 14,
      "outputs": []
    },
    {
      "cell_type": "code",
      "source": [
        "X_normalizado.show()"
      ],
      "metadata": {
        "colab": {
          "base_uri": "https://localhost:8080/"
        },
        "id": "RygSHsH9E8EM",
        "outputId": "0410a73c-60bf-4fb0-e5f9-a5f4518440b1"
      },
      "execution_count": 15,
      "outputs": [
        {
          "output_type": "stream",
          "name": "stdout",
          "text": [
            "+--------------------+---------+--------------------+--------------------+\n",
            "|            features|    label|                  id|      scaledFeatures|\n",
            "+--------------------+---------+--------------------+--------------------+\n",
            "|[2.0,35.0,1.0,1.0...| 245000.0|00002dd9-cc74-480...|[0.13607726247524...|\n",
            "|(22,[0,1,2,3,5,6,...| 474980.0|0009ca94-2b37-438...|(22,[0,1,2,3,5,6,...|\n",
            "|(22,[1,2,3,6,7,11...| 290000.0|000e3d28-e3e5-411...|(22,[1,2,3,6,7,11...|\n",
            "|(22,[1,2,3,5,6,7,...| 249000.0|000fb707-6cad-496...|(22,[1,2,3,5,6,7,...|\n",
            "|(22,[1,2,3,4,5,6,...| 530000.0|001b6db0-e88d-4eb...|(22,[1,2,3,4,5,6,...|\n",
            "|[0.0,200.0,6.0,4....|2900000.0|002db67e-52cc-480...|[0.0,2.2447697820...|\n",
            "|(22,[1,2,3,6,9,16...| 389000.0|002dc4e0-f1a5-4ad...|(22,[1,2,3,6,9,16...|\n",
            "|(22,[0,1,2,3,4,5,...| 470000.0|0030dd84-f657-41f...|(22,[0,1,2,3,4,5,...|\n",
            "|(22,[1,2,3,4,5,10...|4400000.0|003213bb-ec21-4ad...|(22,[1,2,3,4,5,10...|\n",
            "|[0.0,41.0,1.0,1.0...| 269900.0|0032884c-aa5f-455...|[0.0,0.4601778053...|\n",
            "|[5.0,78.0,1.0,2.0...|1050300.0|00348cd1-923a-4db...|[0.34019315618810...|\n",
            "|(22,[1,2,3,4,5,6,...| 950000.0|0034df72-124a-438...|(22,[1,2,3,4,5,6,...|\n",
            "|(22,[1,2,3,4,5,6,...|1300000.0|0036114a-4a0f-492...|(22,[1,2,3,4,5,6,...|\n",
            "|(22,[1,2,3,4,5,6,...| 650000.0|00370d62-f774-405...|(22,[1,2,3,4,5,6,...|\n",
            "|[9.0,120.0,2.0,2....| 970000.0|00396d9d-2d0e-4b5...|[0.61234768113858...|\n",
            "|[20.0,341.0,2.0,3...|4800000.0|003cb63c-a666-458...|[1.36077262475241...|\n",
            "|[0.0,194.0,5.0,4....|2750000.0|0040f5a7-6c6a-40e...|[0.0,2.1774266885...|\n",
            "|(22,[1,2,3,9,21],...| 194687.0|00529a9d-d876-4dc...|(22,[1,2,3,9,21],...|\n",
            "|(22,[0,1,2,3,9],[...| 220000.0|00584813-33b4-477...|(22,[0,1,2,3,9],[...|\n",
            "|(22,[0,1,2,3,5,6,...|1000000.0|005b5441-16b2-483...|(22,[0,1,2,3,5,6,...|\n",
            "+--------------------+---------+--------------------+--------------------+\n",
            "only showing top 20 rows\n",
            "\n"
          ]
        }
      ]
    },
    {
      "cell_type": "markdown",
      "source": [
        "### 2.3. Redução de Dimensionalidade - PCA\n",
        "\n",
        "Para conseguirmos criar nosso modelo de recomendação, precisamos reduzir a dimensão dos nossos dados, pois atualmente temos 22 features. Para fazermos isso, podemos utilizar a técnica chamada PCA (Principal Component Analisys)\n",
        "\n",
        "Aplicando essa técnica, teremos um novo conjunto de dados onde as colunas serão uma combinação linear das colunas originais. Assim, essas novas features explicarão boa parte da variância do total, porém trazendo menos confusão ao modelo.\n",
        "\n",
        "O objetivo é conseguir um número de features que explique ao mínimo 70% da variância das features do modelo original. Assim, teremos menos informações mas manteremos uma boa explicação sobre os resultados."
      ],
      "metadata": {
        "id": "8gBGf3yrGv-6"
      }
    },
    {
      "cell_type": "code",
      "source": [
        "x"
      ],
      "metadata": {
        "colab": {
          "base_uri": "https://localhost:8080/"
        },
        "id": "xkCs2CmTVtEQ",
        "outputId": "edd3cd59-d00d-4e6d-d9b8-e3414ad29a20"
      },
      "execution_count": 16,
      "outputs": [
        {
          "output_type": "execute_result",
          "data": {
            "text/plain": [
              "['andar',\n",
              " 'area_util',\n",
              " 'banheiros',\n",
              " 'quartos',\n",
              " 'suites',\n",
              " 'vaga',\n",
              " 'condominio',\n",
              " 'iptu',\n",
              " 'Zona Central',\n",
              " 'Zona Norte',\n",
              " 'Zona Oeste',\n",
              " 'Zona Sul',\n",
              " 'Academia',\n",
              " 'Animais permitidos',\n",
              " 'Churrasqueira',\n",
              " 'Condomínio fechado',\n",
              " 'Elevador',\n",
              " 'Piscina',\n",
              " 'Playground',\n",
              " 'Portaria 24h',\n",
              " 'Portão eletrônico',\n",
              " 'Salão de festas']"
            ]
          },
          "metadata": {},
          "execution_count": 16
        }
      ]
    },
    {
      "cell_type": "code",
      "source": [
        "from pyspark.ml.feature import PCA"
      ],
      "metadata": {
        "id": "4Ymd0uVfFlw9"
      },
      "execution_count": 17,
      "outputs": []
    },
    {
      "cell_type": "code",
      "source": [
        "pca = PCA(k=7, inputCol='scaledFeatures', outputCol='pca_features')\n",
        "model_pca = pca.fit(X_normalizado)\n",
        "dataset_pca = model_pca.transform(X_normalizado)"
      ],
      "metadata": {
        "id": "rBkM9romHtbg"
      },
      "execution_count": 18,
      "outputs": []
    },
    {
      "cell_type": "code",
      "source": [
        "dataset_pca.limit(2).show()"
      ],
      "metadata": {
        "colab": {
          "base_uri": "https://localhost:8080/"
        },
        "id": "WHDq8IWEIa1e",
        "outputId": "98231fc7-cd49-4ccb-fb39-6783ba300e90"
      },
      "execution_count": 19,
      "outputs": [
        {
          "output_type": "stream",
          "name": "stdout",
          "text": [
            "+--------------------+--------+--------------------+--------------------+--------------------+\n",
            "|            features|   label|                  id|      scaledFeatures|        pca_features|\n",
            "+--------------------+--------+--------------------+--------------------+--------------------+\n",
            "|[2.0,35.0,1.0,1.0...|245000.0|00002dd9-cc74-480...|[0.13607726247524...|[-6.1850665561860...|\n",
            "|(22,[0,1,2,3,5,6,...|474980.0|0009ca94-2b37-438...|(22,[0,1,2,3,5,6,...|[-3.2149125552925...|\n",
            "+--------------------+--------+--------------------+--------------------+--------------------+\n",
            "\n"
          ]
        }
      ]
    },
    {
      "cell_type": "code",
      "source": [
        "model_pca.explainedVariance"
      ],
      "metadata": {
        "colab": {
          "base_uri": "https://localhost:8080/"
        },
        "id": "UpNhMo1hTXZj",
        "outputId": "ead527fc-0a17-4b57-b3d7-bbb4583b7033"
      },
      "execution_count": 20,
      "outputs": [
        {
          "output_type": "execute_result",
          "data": {
            "text/plain": [
              "DenseVector([0.2771, 0.1559, 0.0905, 0.0568, 0.0546, 0.0479, 0.0457])"
            ]
          },
          "metadata": {},
          "execution_count": 20
        }
      ]
    },
    {
      "cell_type": "code",
      "source": [
        "print(model_pca.explainedVariance.sum())"
      ],
      "metadata": {
        "colab": {
          "base_uri": "https://localhost:8080/"
        },
        "id": "pLvG9e6JVctv",
        "outputId": "7b7db472-cb29-421f-8e6e-b22b651b0071"
      },
      "execution_count": 21,
      "outputs": [
        {
          "output_type": "stream",
          "name": "stdout",
          "text": [
            "0.7284955171033062\n"
          ]
        }
      ]
    },
    {
      "cell_type": "markdown",
      "source": [
        "Após testes, chegou-se a conclusão que o número ótimo de features é 7."
      ],
      "metadata": {
        "id": "F2aDe49MXSkQ"
      }
    },
    {
      "cell_type": "markdown",
      "source": [
        "##3. Clusterização\n",
        "\n",
        "Com a base de dados tratada, vetorizada e normalizada, podemos dar prosseguimento a criação do nosso modelo. O que vamos fazer agora chama-se Clusterização, que é um agrupamento por similaridade. Assim, imóveis de características semelhantes ficarão unidos em clusters."
      ],
      "metadata": {
        "id": "RmKECP7-PuX1"
      }
    },
    {
      "cell_type": "code",
      "source": [
        "from pyspark.ml.clustering import KMeans"
      ],
      "metadata": {
        "id": "uGq274I4PZsm"
      },
      "execution_count": 22,
      "outputs": []
    },
    {
      "cell_type": "markdown",
      "source": [
        "Para que esse projeto possa ser replicado vamos definir uma SEED única"
      ],
      "metadata": {
        "id": "a8o7es8OWYqi"
      }
    },
    {
      "cell_type": "code",
      "source": [
        "SEED = 1001"
      ],
      "metadata": {
        "id": "Y97zS_pUWW23"
      },
      "execution_count": 23,
      "outputs": []
    },
    {
      "cell_type": "markdown",
      "source": [
        "Para efeitos de teste, vamos começar com 5 clusters."
      ],
      "metadata": {
        "id": "1Jb6j3vlkpTJ"
      }
    },
    {
      "cell_type": "code",
      "source": [
        "kmeans = KMeans(featuresCol='pca_features', predictionCol='prediction').setK(5).setSeed(SEED)"
      ],
      "metadata": {
        "id": "pCKwtHxsWj0q"
      },
      "execution_count": 24,
      "outputs": []
    },
    {
      "cell_type": "code",
      "source": [
        "model = kmeans.fit(dataset_pca)"
      ],
      "metadata": {
        "id": "XJeehtkoYRTf"
      },
      "execution_count": 25,
      "outputs": []
    },
    {
      "cell_type": "code",
      "source": [
        "prediction = model.transform(dataset_pca)"
      ],
      "metadata": {
        "id": "7e2NDvEnYW15"
      },
      "execution_count": 26,
      "outputs": []
    },
    {
      "cell_type": "code",
      "source": [
        "prediction.show()"
      ],
      "metadata": {
        "colab": {
          "base_uri": "https://localhost:8080/"
        },
        "id": "HpcaNmD9YhdK",
        "outputId": "fa00787e-976a-4ae7-dd53-d9cac2069537"
      },
      "execution_count": 27,
      "outputs": [
        {
          "output_type": "stream",
          "name": "stdout",
          "text": [
            "+--------------------+---------+--------------------+--------------------+--------------------+----------+\n",
            "|            features|    label|                  id|      scaledFeatures|        pca_features|prediction|\n",
            "+--------------------+---------+--------------------+--------------------+--------------------+----------+\n",
            "|[2.0,35.0,1.0,1.0...| 245000.0|00002dd9-cc74-480...|[0.13607726247524...|[-6.1850665561860...|         3|\n",
            "|(22,[0,1,2,3,5,6,...| 474980.0|0009ca94-2b37-438...|(22,[0,1,2,3,5,6,...|[-3.2149125552925...|         0|\n",
            "|(22,[1,2,3,6,7,11...| 290000.0|000e3d28-e3e5-411...|(22,[1,2,3,6,7,11...|[-1.0068958653993...|         1|\n",
            "|(22,[1,2,3,5,6,7,...| 249000.0|000fb707-6cad-496...|(22,[1,2,3,5,6,7,...|[-1.9528334788197...|         1|\n",
            "|(22,[1,2,3,4,5,6,...| 530000.0|001b6db0-e88d-4eb...|(22,[1,2,3,4,5,6,...|[-0.3550159242190...|         0|\n",
            "|[0.0,200.0,6.0,4....|2900000.0|002db67e-52cc-480...|[0.0,2.2447697820...|[-6.6836779492566...|         2|\n",
            "|(22,[1,2,3,6,9,16...| 389000.0|002dc4e0-f1a5-4ad...|(22,[1,2,3,6,9,16...|[-0.6726504912129...|         0|\n",
            "|(22,[0,1,2,3,4,5,...| 470000.0|0030dd84-f657-41f...|(22,[0,1,2,3,4,5,...|[-1.4295621382313...|         0|\n",
            "|(22,[1,2,3,4,5,10...|4400000.0|003213bb-ec21-4ad...|(22,[1,2,3,4,5,10...|[-5.7543305973636...|         2|\n",
            "|[0.0,41.0,1.0,1.0...| 269900.0|0032884c-aa5f-455...|[0.0,0.4601778053...|[-6.1982600389038...|         3|\n",
            "|[5.0,78.0,1.0,2.0...|1050300.0|00348cd1-923a-4db...|[0.34019315618810...|[-6.8342556196492...|         3|\n",
            "|(22,[1,2,3,4,5,6,...| 950000.0|0034df72-124a-438...|(22,[1,2,3,4,5,6,...|[-4.4998990618847...|         2|\n",
            "|(22,[1,2,3,4,5,6,...|1300000.0|0036114a-4a0f-492...|(22,[1,2,3,4,5,6,...|[-4.3588753692572...|         3|\n",
            "|(22,[1,2,3,4,5,6,...| 650000.0|00370d62-f774-405...|(22,[1,2,3,4,5,6,...|[-0.9112993124695...|         1|\n",
            "|[9.0,120.0,2.0,2....| 970000.0|00396d9d-2d0e-4b5...|[0.61234768113858...|[-3.0777428143005...|         4|\n",
            "|[20.0,341.0,2.0,3...|4800000.0|003cb63c-a666-458...|[1.36077262475241...|[-3.3008968585094...|         4|\n",
            "|[0.0,194.0,5.0,4....|2750000.0|0040f5a7-6c6a-40e...|[0.0,2.1774266885...|[-7.3004872453252...|         2|\n",
            "|(22,[1,2,3,9,21],...| 194687.0|00529a9d-d876-4dc...|(22,[1,2,3,9,21],...|[-0.6361663838849...|         0|\n",
            "|(22,[0,1,2,3,9],[...| 220000.0|00584813-33b4-477...|(22,[0,1,2,3,9],[...|[-0.0936491719375...|         0|\n",
            "|(22,[0,1,2,3,5,6,...|1000000.0|005b5441-16b2-483...|(22,[0,1,2,3,5,6,...|[-2.7882946024817...|         4|\n",
            "+--------------------+---------+--------------------+--------------------+--------------------+----------+\n",
            "only showing top 20 rows\n",
            "\n"
          ]
        }
      ]
    },
    {
      "cell_type": "markdown",
      "source": [
        "###3.1 Testando a Clusterização - Silhouette\n",
        "\n",
        "A fim de testarmos o número ótimo de clusters para nossa base de dados, vamos usar o coeficiente de Silhouette, que mede a dispersão entre os pontos de um cluster pela distância média do ponto e os pontos do mesmo cluster e a disância média do ponto e os pontos do cluster mais próximo."
      ],
      "metadata": {
        "id": "6krntZtPmJjk"
      }
    },
    {
      "cell_type": "code",
      "source": [
        "from pyspark.ml.evaluation import ClusteringEvaluator"
      ],
      "metadata": {
        "id": "elCM-p4OfeCG"
      },
      "execution_count": 28,
      "outputs": []
    },
    {
      "cell_type": "code",
      "source": [
        "evaluator = ClusteringEvaluator()\n",
        "\n",
        "silhouette = evaluator.evaluate(prediction)\n",
        "print(\"O Coeficiente de Silhouette é \" + str(silhouette))"
      ],
      "metadata": {
        "colab": {
          "base_uri": "https://localhost:8080/"
        },
        "id": "IOSGUjBgfWLY",
        "outputId": "12c7a41f-1430-4caa-9f4e-2e8c7a874ead"
      },
      "execution_count": 29,
      "outputs": [
        {
          "output_type": "stream",
          "name": "stdout",
          "text": [
            "O Coeficiente de Silhouette é -0.6798058918573732\n"
          ]
        }
      ]
    },
    {
      "cell_type": "markdown",
      "source": [
        "Agora, vamos calcular o mesmo coeficiente para uma série de números de clusters. Dessa forma, escolheremos um número que consiga explicar as variações na amostra sem comprometer as dispersões entre os pontos."
      ],
      "metadata": {
        "id": "wXlhmhhRUKpJ"
      }
    },
    {
      "cell_type": "code",
      "source": [
        "range_n_clusters = [2,3,4,5,6,7,8,9,10]\n",
        "for n_clusters in range_n_clusters:\n",
        "\n",
        "  kmeans = KMeans(featuresCol='pca_features', predictionCol='prediction', seed=SEED).setK(n_clusters)\n",
        "\n",
        "  model = kmeans.fit(dataset_pca)\n",
        "\n",
        "  prediction = model.transform(dataset_pca)\n",
        "\n",
        "  evaluator = ClusteringEvaluator()\n",
        "\n",
        "  silhouette = evaluator.evaluate(prediction)\n",
        "  \n",
        "  print(\"O Coeficiente de Silhouette com \", n_clusters, \" clusters é \" + str(silhouette))"
      ],
      "metadata": {
        "colab": {
          "base_uri": "https://localhost:8080/"
        },
        "id": "hUGsBaqLSAuL",
        "outputId": "fc1c7795-649a-49d0-ba50-482dbeeeff11"
      },
      "execution_count": 30,
      "outputs": [
        {
          "output_type": "stream",
          "name": "stdout",
          "text": [
            "O Coeficiente de Silhouette com  2  clusters é 0.030640652769336182\n",
            "O Coeficiente de Silhouette com  3  clusters é -0.27748011314680937\n",
            "O Coeficiente de Silhouette com  4  clusters é -0.2019778876886637\n",
            "O Coeficiente de Silhouette com  5  clusters é -0.6798058918573732\n",
            "O Coeficiente de Silhouette com  6  clusters é -0.6877653805655075\n",
            "O Coeficiente de Silhouette com  7  clusters é -0.7079128508028183\n",
            "O Coeficiente de Silhouette com  8  clusters é -0.473942131903593\n",
            "O Coeficiente de Silhouette com  9  clusters é -0.6700421821230954\n",
            "O Coeficiente de Silhouette com  10  clusters é -0.9736366110073471\n"
          ]
        }
      ]
    },
    {
      "cell_type": "markdown",
      "source": [
        "Vamos ficar com o número de 8 clusters, pois com ele conseguimos dividir a amostra sem comprometer a dispersão."
      ],
      "metadata": {
        "id": "g54gQjbSlOuF"
      }
    },
    {
      "cell_type": "code",
      "source": [
        "kmeans = KMeans(featuresCol='pca_features', predictionCol='prediction', seed=SEED).setK(8)\n",
        "\n",
        "model = kmeans.fit(dataset_pca)\n",
        "\n",
        "prediction = model.transform(dataset_pca)\n",
        "\n",
        "prediction.show(5)\n",
        "print('Número de linhas no arquivo: %s' % prediction.count())"
      ],
      "metadata": {
        "colab": {
          "base_uri": "https://localhost:8080/"
        },
        "id": "bWpJutBRcatr",
        "outputId": "f06bf329-f02d-4048-9386-c535afac4199"
      },
      "execution_count": 31,
      "outputs": [
        {
          "output_type": "stream",
          "name": "stdout",
          "text": [
            "+--------------------+--------+--------------------+--------------------+--------------------+----------+\n",
            "|            features|   label|                  id|      scaledFeatures|        pca_features|prediction|\n",
            "+--------------------+--------+--------------------+--------------------+--------------------+----------+\n",
            "|[2.0,35.0,1.0,1.0...|245000.0|00002dd9-cc74-480...|[0.13607726247524...|[-6.1850665561860...|         3|\n",
            "|(22,[0,1,2,3,5,6,...|474980.0|0009ca94-2b37-438...|(22,[0,1,2,3,5,6,...|[-3.2149125552925...|         2|\n",
            "|(22,[1,2,3,6,7,11...|290000.0|000e3d28-e3e5-411...|(22,[1,2,3,6,7,11...|[-1.0068958653993...|         1|\n",
            "|(22,[1,2,3,5,6,7,...|249000.0|000fb707-6cad-496...|(22,[1,2,3,5,6,7,...|[-1.9528334788197...|         0|\n",
            "|(22,[1,2,3,4,5,6,...|530000.0|001b6db0-e88d-4eb...|(22,[1,2,3,4,5,6,...|[-0.3550159242190...|         2|\n",
            "+--------------------+--------+--------------------+--------------------+--------------------+----------+\n",
            "only showing top 5 rows\n",
            "\n",
            "Número de linhas no arquivo: 66551\n"
          ]
        }
      ]
    },
    {
      "cell_type": "markdown",
      "source": [
        "##4. Filtrar Imóveis\n",
        "\n",
        "Como solicitado pela esquipe de Data Science da Insight Places, vamos desenvolver um filtro para que, a partir do ID de um imóvel, possamos descobrir imóveis pertencem ao mesmo cluster.\n",
        "\n",
        "Para fins de exemplo, vamos pegar um dos IDs da base de dados e usá-lo para demonstrar o filtro."
      ],
      "metadata": {
        "id": "-PUzMiovmMQJ"
      }
    },
    {
      "cell_type": "code",
      "source": [
        "id_imovel = '000e3d28-e3e5-4110-b488-69154931140e'"
      ],
      "metadata": {
        "id": "xFMHitGV1ill"
      },
      "execution_count": 32,
      "outputs": []
    },
    {
      "cell_type": "code",
      "source": [
        "cluster = prediction.filter(prediction.id == id_imovel).select('prediction').collect()[0][0]\n",
        "cluster"
      ],
      "metadata": {
        "colab": {
          "base_uri": "https://localhost:8080/"
        },
        "id": "zd5KMB52lxh_",
        "outputId": "a2a77921-9a5e-4dc6-dbd9-ce9a0f1aad15"
      },
      "execution_count": 33,
      "outputs": [
        {
          "output_type": "execute_result",
          "data": {
            "text/plain": [
              "1"
            ]
          },
          "metadata": {},
          "execution_count": 33
        }
      ]
    },
    {
      "cell_type": "code",
      "source": [
        "imoveis_recomendados = prediction.filter(prediction.prediction == cluster)\\\n",
        "                                        .select('id', 'pca_features')\n",
        "imoveis_recomendados.show()"
      ],
      "metadata": {
        "colab": {
          "base_uri": "https://localhost:8080/"
        },
        "id": "PYLyGWtUmqfA",
        "outputId": "ac1e8b91-678c-42c9-ef92-072f18ad140f"
      },
      "execution_count": 34,
      "outputs": [
        {
          "output_type": "stream",
          "name": "stdout",
          "text": [
            "+--------------------+--------------------+\n",
            "|                  id|        pca_features|\n",
            "+--------------------+--------------------+\n",
            "|000e3d28-e3e5-411...|[-1.0068958653993...|\n",
            "|00370d62-f774-405...|[-0.9112993124695...|\n",
            "|005c608c-5afc-459...|[-0.2029130286116...|\n",
            "|008f5865-d5f4-408...|[-1.1813761520667...|\n",
            "|0092be3c-1736-42a...|[-0.4863135813652...|\n",
            "|00b61c4e-bfc0-470...|[-2.0953409216706...|\n",
            "|00cd6c5d-592d-429...|[0.19283085292747...|\n",
            "|00d01937-9bca-45a...|[-0.4427156106663...|\n",
            "|00fcb5fb-c01b-44b...|[-0.3410577473496...|\n",
            "|00ff8cc4-306e-48a...|[0.04154793417111...|\n",
            "|010cc24b-6cc5-4b8...|[-0.9088326011083...|\n",
            "|01228c26-3a13-480...|[-1.4641566466594...|\n",
            "|01259581-b96b-4ce...|[-0.0889017559452...|\n",
            "|01429b39-66ab-413...|[-0.3387502716969...|\n",
            "|0148c5de-0b01-45b...|[-0.0167463781491...|\n",
            "|01606b94-61f5-44d...|[-0.3260683963709...|\n",
            "|01643d2f-1fbb-429...|[-1.0488992512326...|\n",
            "|01853018-3666-457...|[-1.0586243714978...|\n",
            "|0186f486-f98e-4a8...|[-0.8850607564954...|\n",
            "|01955663-0e7b-441...|[-1.4370119120761...|\n",
            "+--------------------+--------------------+\n",
            "only showing top 20 rows\n",
            "\n"
          ]
        }
      ]
    },
    {
      "cell_type": "markdown",
      "source": [
        "###4.1 Distância Euclidiana\n",
        "\n",
        "A mecânica para selecionar quais imóveis do cluster serão recomendadas será utilizando a distância dos imóveis em relação às suas componentes.\n",
        "\n",
        "Para isso, vamos calcular a distância euclidiana para encontrar as 10 melhores recomendações."
      ],
      "metadata": {
        "id": "rLO6pv7VYqcq"
      }
    },
    {
      "cell_type": "code",
      "source": [
        "componentes_imovel = imoveis_recomendados.filter(imoveis_recomendados.id == id_imovel)\\\n",
        "                                        .select('pca_features').collect()[0][0]\n",
        "componentes_imovel"
      ],
      "metadata": {
        "colab": {
          "base_uri": "https://localhost:8080/"
        },
        "id": "RVWh-gHz3NWn",
        "outputId": "1251bff4-0016-48fa-bd04-ca57606a03d3"
      },
      "execution_count": 35,
      "outputs": [
        {
          "output_type": "execute_result",
          "data": {
            "text/plain": [
              "DenseVector([-1.0069, 1.4962, 2.6741, 0.0297, -0.0432, 0.9916, -0.4643])"
            ]
          },
          "metadata": {},
          "execution_count": 35
        }
      ]
    },
    {
      "cell_type": "code",
      "source": [
        "from scipy.spatial.distance import euclidean\n",
        "from pyspark.sql.types import FloatType\n",
        "import pyspark.sql.functions as f"
      ],
      "metadata": {
        "id": "BxdYhPL0X1xz"
      },
      "execution_count": 39,
      "outputs": []
    },
    {
      "cell_type": "code",
      "source": [
        "def calcula_distance(value):\n",
        "  return euclidean(componentes_imovel, value)\n",
        "\n",
        "udf_calcula_distance = f.udf(calcula_distance, FloatType()) \n",
        "\n",
        "imoveis_recomendados_dist = imoveis_recomendados.withColumn('Dist', udf_calcula_distance('pca_features'))\n",
        "\n",
        "recomendados = spark.createDataFrame(imoveis_recomendados_dist.sort('Dist').take(10)).select(['id', 'Dist'])\n",
        "\n",
        "recomendados.show(truncate=False)"
      ],
      "metadata": {
        "colab": {
          "base_uri": "https://localhost:8080/"
        },
        "id": "0JXe72rPY7x4",
        "outputId": "8c8bb5be-6b1c-4e49-cf27-cd8711136d46"
      },
      "execution_count": 45,
      "outputs": [
        {
          "output_type": "stream",
          "name": "stdout",
          "text": [
            "+------------------------------------+-------------------+\n",
            "|id                                  |Dist               |\n",
            "+------------------------------------+-------------------+\n",
            "|000e3d28-e3e5-4110-b488-69154931140e|0.0                |\n",
            "|2cebd0b6-c6a0-47b9-afda-f6631a83bce7|0.08258937299251556|\n",
            "|165ec168-5f7a-4398-ad09-79bfd516f8fe|0.13131853938102722|\n",
            "|52c76ce2-689b-4a9e-8650-1ac6d7d42e29|0.13568685948848724|\n",
            "|51129053-266a-4aac-8c79-12ebef486af2|0.14148934185504913|\n",
            "|6287eda0-756f-46a6-85ff-b8cafc12f1b1|0.1428685039281845 |\n",
            "|bf4c0e86-a5f2-4d5c-954e-97e23852008f|0.1987978219985962 |\n",
            "|08368119-f5f4-4cf1-bd53-cdcdee123555|0.20707117021083832|\n",
            "|1456a709-50fb-45de-abeb-76c06bae39aa|0.2156127691268921 |\n",
            "|6f5cab16-c874-41c5-8f8d-ffb6389488e5|0.21830229461193085|\n",
            "+------------------------------------+-------------------+\n",
            "\n"
          ]
        }
      ]
    },
    {
      "cell_type": "markdown",
      "source": [
        "##5. Função Recomendadora\n",
        "\n",
        "Para que a equipe de Front-End da Insight Places possa desenvolver uma aplicação para o usuário final, vamos combinar as etapas feitas durante essa parte do projeto em uma única função.\n",
        "\n",
        "Assim, o usuário escolherá o imóvel e a quantidade de recomendações quer receber."
      ],
      "metadata": {
        "id": "JRZdcxOCZx_3"
      }
    },
    {
      "cell_type": "code",
      "source": [
        "def recomendador(id, numero):\n",
        "\n",
        "  cluster = prediction.filter(prediction.id == id_imovel).select('prediction').collect()[0][0]\n",
        "  imoveis_recomendados = prediction.filter(prediction.prediction == cluster)\\\n",
        "                                       .select('id', 'pca_features')\n",
        "  componenetes_imovel = imoveis_recomendados.filter(imoveis_recomendados.id == id_imovel)\\\n",
        "                                          .select('pca_features').collect()[0][0]\n",
        "\n",
        "  def calcula_distance(value):\n",
        "    return euclidean(componenetes_imovel, value)\n",
        "\n",
        "  udf_calcula_distance = f.udf(calcula_distance, FloatType())\n",
        "\n",
        "  imoveis_recomendados_dist = imoveis_recomendados.withColumn('Dist', udf_calcula_distance('pca_features'))\n",
        "\n",
        "  recomendados = spark.createDataFrame(imoveis_recomendados_dist.sort('Dist').take(numero)).select(['id', 'Dist'])\n",
        "\n",
        "  recomendados.select('id').show(truncate=False)"
      ],
      "metadata": {
        "id": "6hq7kt6UZR3z"
      },
      "execution_count": 44,
      "outputs": []
    },
    {
      "cell_type": "code",
      "source": [
        "recomendador('6f5cab16-c874-41c5-8f8d-ffb6389488e5', 7)"
      ],
      "metadata": {
        "colab": {
          "base_uri": "https://localhost:8080/"
        },
        "id": "M_-NFisxblWr",
        "outputId": "b8abd0b4-9796-438c-97c2-c46297346cf3"
      },
      "execution_count": 47,
      "outputs": [
        {
          "output_type": "stream",
          "name": "stdout",
          "text": [
            "+------------------------------------+\n",
            "|id                                  |\n",
            "+------------------------------------+\n",
            "|000e3d28-e3e5-4110-b488-69154931140e|\n",
            "|2cebd0b6-c6a0-47b9-afda-f6631a83bce7|\n",
            "|165ec168-5f7a-4398-ad09-79bfd516f8fe|\n",
            "|52c76ce2-689b-4a9e-8650-1ac6d7d42e29|\n",
            "|51129053-266a-4aac-8c79-12ebef486af2|\n",
            "|6287eda0-756f-46a6-85ff-b8cafc12f1b1|\n",
            "|bf4c0e86-a5f2-4d5c-954e-97e23852008f|\n",
            "+------------------------------------+\n",
            "\n"
          ]
        }
      ]
    },
    {
      "cell_type": "markdown",
      "source": [
        "##6. Pipeline\n",
        "\n",
        "Como forma de construção de conhecimento, a equipe de Data Science da Insight Places solicitou a elaboração de um pipeline de dados. Assim, a partir de uma base de dados, poderão ser feitas transformações aplicadas sequencialmente de forma automatizada."
      ],
      "metadata": {
        "id": "VDVFZdR-cVvh"
      }
    },
    {
      "cell_type": "code",
      "source": [
        "from pyspark.ml import Pipeline"
      ],
      "metadata": {
        "id": "s1mYbBw5b6iO"
      },
      "execution_count": 48,
      "outputs": []
    },
    {
      "cell_type": "code",
      "source": [
        "pca_pipeline = Pipeline(stages=[VectorAssembler(inputCols= x, outputCol='features'),\n",
        "                                StandardScaler(inputCol='features', outputCol='scaledFeatures'),\n",
        "                                PCA(k=7, inputCol='scaledFeatures', outputCol='pca_features')])"
      ],
      "metadata": {
        "id": "0v9xB6x1iNsq"
      },
      "execution_count": 49,
      "outputs": []
    },
    {
      "cell_type": "code",
      "source": [
        "pca_pipeline_model = pca_pipeline.fit(dataset)"
      ],
      "metadata": {
        "id": "auCm7cVWixmN"
      },
      "execution_count": 50,
      "outputs": []
    },
    {
      "cell_type": "code",
      "source": [
        "dataset_pca = pca_pipeline_model.transform(dataset)"
      ],
      "metadata": {
        "id": "xE9PhDWyi9I9"
      },
      "execution_count": 51,
      "outputs": []
    },
    {
      "cell_type": "code",
      "source": [
        "dataset_pca.limit(5).show()"
      ],
      "metadata": {
        "colab": {
          "base_uri": "https://localhost:8080/"
        },
        "id": "c7Hjm3JejFVn",
        "outputId": "610384e5-7c39-4dce-a6a6-323b67921b25"
      },
      "execution_count": 52,
      "outputs": [
        {
          "output_type": "stream",
          "name": "stdout",
          "text": [
            "+--------------------+-----+---------+---------+-------+------+----+------------+----------+-----+--------+------------+----------+----------+--------+--------+------------------+-------------+------------------+--------+-------+----------+------------+-----------------+---------------+--------------------+--------------------+--------------------+\n",
            "|                  id|andar|area_util|banheiros|quartos|suites|vaga|      bairro|condominio| iptu|   label|Zona Central|Zona Norte|Zona Oeste|Zona Sul|Academia|Animais permitidos|Churrasqueira|Condomínio fechado|Elevador|Piscina|Playground|Portaria 24h|Portão eletrônico|Salão de festas|            features|      scaledFeatures|        pca_features|\n",
            "+--------------------+-----+---------+---------+-------+------+----+------------+----------+-----+--------+------------+----------+----------+--------+--------+------------------+-------------+------------------+--------+-------+----------+------------+-----------------+---------------+--------------------+--------------------+--------------------+\n",
            "|00002dd9-cc74-480...|    2|       35|        1|      1|   0.0| 0.0|Santo Cristo|     100.0|100.0|245000.0|           1|         0|         0|       0|       1|                 1|            1|                 1|       1|      1|         1|           1|                1|              1|[2.0,35.0,1.0,1.0...|[0.13607726247524...|[-6.1850665561860...|\n",
            "|0009ca94-2b37-438...|    1|       84|        2|      2|   0.0| 1.0|      Tijuca|     770.0|105.0|474980.0|           0|         1|         0|       0|       0|                 0|            1|                 0|       1|      0|         1|           1|                0|              1|(22,[0,1,2,3,5,6,...|(22,[0,1,2,3,5,6,...|[-3.2149125552925...|\n",
            "|000e3d28-e3e5-411...|    0|       85|        2|      2|   0.0| 0.0|Santa Teresa|     460.0|661.0|290000.0|           0|         0|         0|       1|       0|                 1|            0|                 0|       1|      0|         0|           0|                0|              0|(22,[1,2,3,6,7,11...|(22,[1,2,3,6,7,11...|[-1.0068958653993...|\n",
            "|000fb707-6cad-496...|    0|       58|        1|      2|   0.0| 1.0|   Pechincha|     550.0|550.0|249000.0|           0|         0|         1|       0|       0|                 0|            0|                 0|       0|      1|         1|           0|                0|              0|(22,[1,2,3,5,6,7,...|(22,[1,2,3,5,6,7,...|[-1.9528334788197...|\n",
            "|001b6db0-e88d-4eb...|    0|       64|        2|      2|   1.0| 1.0|      Tijuca|     850.0|  0.0|530000.0|           0|         1|         0|       0|       0|                 0|            0|                 0|       0|      0|         0|           0|                0|              0|(22,[1,2,3,4,5,6,...|(22,[1,2,3,4,5,6,...|[-0.3550159242190...|\n",
            "+--------------------+-----+---------+---------+-------+------+----+------------+----------+-----+--------+------------+----------+----------+--------+--------+------------------+-------------+------------------+--------+-------+----------+------------+-----------------+---------------+--------------------+--------------------+--------------------+\n",
            "\n"
          ]
        }
      ]
    },
    {
      "cell_type": "code",
      "source": [
        "dataset_pca.select('pca_features').limit(5).show(truncate=False)"
      ],
      "metadata": {
        "colab": {
          "base_uri": "https://localhost:8080/"
        },
        "id": "cEtIeQkKjIaO",
        "outputId": "4733f887-3958-47f4-954b-0528964b8baa"
      },
      "execution_count": 54,
      "outputs": [
        {
          "output_type": "stream",
          "name": "stdout",
          "text": [
            "+---------------------------------------------------------------------------------------------------------------------------------------------+\n",
            "|pca_features                                                                                                                                 |\n",
            "+---------------------------------------------------------------------------------------------------------------------------------------------+\n",
            "|[-6.185066556186067,-1.5035861420376833,1.4021971813766747,-0.4627462052987944,0.05817557507559954,-2.06050203373801,-5.349447080300572]     |\n",
            "|[-3.2149125552925533,1.16996715944037,0.5164078437661357,3.2086930069839372,0.08994771500778509,1.1457808725760208,-0.8593347144471947]      |\n",
            "|[-1.0068958653993225,1.4962100951692308,2.6741317795672224,0.02967168175495706,-0.043207662071430536,0.9916054175401698,-0.4642687245708697] |\n",
            "|[-1.9528334788197674,2.054292371016602,-1.0129063602744157,-0.17794843497698848,-0.012607180989539779,0.2228967536340269,-0.0336191037998248]|\n",
            "|[-0.3550159242190174,2.168729788605275,0.5165722841101543,2.7636650294554017,-0.06840160430886463,-0.09663724585553389,-0.20893598421171675] |\n",
            "+---------------------------------------------------------------------------------------------------------------------------------------------+\n",
            "\n"
          ]
        }
      ]
    },
    {
      "cell_type": "markdown",
      "source": [
        "##7. Avaliação dos Clusters\n",
        "\n",
        "Vamos pegar a base de dados disponibilizada no começo desta etapa do projeto, concatená-la com a coluna de clusters recém criada e analisá-la a partir dos clusters. Dessa froma podemos saber a média de tamanho ou de quartos dos imóveis de cada cluster, por exemplo."
      ],
      "metadata": {
        "id": "A4478CXXj3dF"
      }
    },
    {
      "cell_type": "code",
      "source": [
        "dataset.show(5)\n",
        "\n",
        "prediction.show(5)"
      ],
      "metadata": {
        "colab": {
          "base_uri": "https://localhost:8080/"
        },
        "id": "MVUEtjJ-jR5T",
        "outputId": "aaa09f6b-f29c-4e49-c8c0-d14eefe891dc"
      },
      "execution_count": 87,
      "outputs": [
        {
          "output_type": "stream",
          "name": "stdout",
          "text": [
            "+--------------------+-----+---------+---------+-------+------+----+------------+----------+-----+--------+------------+----------+----------+--------+--------+------------------+-------------+------------------+--------+-------+----------+------------+-----------------+---------------+\n",
            "|                  id|andar|area_util|banheiros|quartos|suites|vaga|      bairro|condominio| iptu|   label|Zona Central|Zona Norte|Zona Oeste|Zona Sul|Academia|Animais permitidos|Churrasqueira|Condomínio fechado|Elevador|Piscina|Playground|Portaria 24h|Portão eletrônico|Salão de festas|\n",
            "+--------------------+-----+---------+---------+-------+------+----+------------+----------+-----+--------+------------+----------+----------+--------+--------+------------------+-------------+------------------+--------+-------+----------+------------+-----------------+---------------+\n",
            "|00002dd9-cc74-480...|    2|       35|        1|      1|   0.0| 0.0|Santo Cristo|     100.0|100.0|245000.0|           1|         0|         0|       0|       1|                 1|            1|                 1|       1|      1|         1|           1|                1|              1|\n",
            "|0009ca94-2b37-438...|    1|       84|        2|      2|   0.0| 1.0|      Tijuca|     770.0|105.0|474980.0|           0|         1|         0|       0|       0|                 0|            1|                 0|       1|      0|         1|           1|                0|              1|\n",
            "|000e3d28-e3e5-411...|    0|       85|        2|      2|   0.0| 0.0|Santa Teresa|     460.0|661.0|290000.0|           0|         0|         0|       1|       0|                 1|            0|                 0|       1|      0|         0|           0|                0|              0|\n",
            "|000fb707-6cad-496...|    0|       58|        1|      2|   0.0| 1.0|   Pechincha|     550.0|550.0|249000.0|           0|         0|         1|       0|       0|                 0|            0|                 0|       0|      1|         1|           0|                0|              0|\n",
            "|001b6db0-e88d-4eb...|    0|       64|        2|      2|   1.0| 1.0|      Tijuca|     850.0|  0.0|530000.0|           0|         1|         0|       0|       0|                 0|            0|                 0|       0|      0|         0|           0|                0|              0|\n",
            "+--------------------+-----+---------+---------+-------+------+----+------------+----------+-----+--------+------------+----------+----------+--------+--------+------------------+-------------+------------------+--------+-------+----------+------------+-----------------+---------------+\n",
            "only showing top 5 rows\n",
            "\n",
            "+--------------------+--------+--------------------+--------------------+--------------------+----------+\n",
            "|            features|   label|                  id|      scaledFeatures|        pca_features|prediction|\n",
            "+--------------------+--------+--------------------+--------------------+--------------------+----------+\n",
            "|[2.0,35.0,1.0,1.0...|245000.0|00002dd9-cc74-480...|[0.13607726247524...|[-6.1850665561860...|         3|\n",
            "|(22,[0,1,2,3,5,6,...|474980.0|0009ca94-2b37-438...|(22,[0,1,2,3,5,6,...|[-3.2149125552925...|         2|\n",
            "|(22,[1,2,3,6,7,11...|290000.0|000e3d28-e3e5-411...|(22,[1,2,3,6,7,11...|[-1.0068958653993...|         1|\n",
            "|(22,[1,2,3,5,6,7,...|249000.0|000fb707-6cad-496...|(22,[1,2,3,5,6,7,...|[-1.9528334788197...|         0|\n",
            "|(22,[1,2,3,4,5,6,...|530000.0|001b6db0-e88d-4eb...|(22,[1,2,3,4,5,6,...|[-0.3550159242190...|         2|\n",
            "+--------------------+--------+--------------------+--------------------+--------------------+----------+\n",
            "only showing top 5 rows\n",
            "\n"
          ]
        }
      ]
    },
    {
      "cell_type": "code",
      "source": [
        "dataset_cluster = dataset.join(prediction, on=['id', 'label'], how='outer')\n",
        "dataset_cluster.show(5)"
      ],
      "metadata": {
        "colab": {
          "base_uri": "https://localhost:8080/"
        },
        "id": "ln3OspSVlbiW",
        "outputId": "ca06a8d8-c480-4482-f1b3-9b265517c9d4"
      },
      "execution_count": 88,
      "outputs": [
        {
          "output_type": "stream",
          "name": "stdout",
          "text": [
            "+--------------------+---------+-----+---------+---------+-------+------+----+------------+----------+------+------------+----------+----------+--------+--------+------------------+-------------+------------------+--------+-------+----------+------------+-----------------+---------------+--------------------+--------------------+--------------------+----------+\n",
            "|                  id|    label|andar|area_util|banheiros|quartos|suites|vaga|      bairro|condominio|  iptu|Zona Central|Zona Norte|Zona Oeste|Zona Sul|Academia|Animais permitidos|Churrasqueira|Condomínio fechado|Elevador|Piscina|Playground|Portaria 24h|Portão eletrônico|Salão de festas|            features|      scaledFeatures|        pca_features|prediction|\n",
            "+--------------------+---------+-----+---------+---------+-------+------+----+------------+----------+------+------------+----------+----------+--------+--------+------------------+-------------+------------------+--------+-------+----------+------------+-----------------+---------------+--------------------+--------------------+--------------------+----------+\n",
            "|00002dd9-cc74-480...| 245000.0|    2|       35|        1|      1|   0.0| 0.0|Santo Cristo|     100.0| 100.0|           1|         0|         0|       0|       1|                 1|            1|                 1|       1|      1|         1|           1|                1|              1|[2.0,35.0,1.0,1.0...|[0.13607726247524...|[-6.1850665561860...|         3|\n",
            "|00003eb1-1d77-43f...| 955000.0|    5|      169|        4|      4|   2.0| 2.0|        Anil|     998.0|2600.0|           0|         0|         1|       0|       1|                 1|            1|                 1|       1|      1|         1|           1|                1|              1|[5.0,169.0,4.0,4....|[0.34019315618810...|[-7.4109666420691...|         6|\n",
            "|00012605-9cae-45b...|4600000.0|    0|      410|        3|      4|   1.0| 1.0|     Ipanema|    3300.0|5780.0|           0|         0|         0|       1|       0|                 0|            0|                 0|       1|      0|         0|           0|                0|              0|(22,[1,2,3,4,5,6,...|(22,[1,2,3,4,5,6,...|[-1.0846807769764...|         5|\n",
            "|0004b470-5332-446...| 280000.0|    1|       82|        2|      2|   1.0| 1.0|     Taquara|     736.0| 998.0|           0|         0|         1|       0|       1|                 0|            1|                 1|       1|      0|         1|           1|                1|              1|[1.0,82.0,2.0,2.0...|[0.06803863123762...|[-5.7245087509950...|         3|\n",
            "|000c1a63-e78c-437...|1100000.0|    3|      115|        2|      3|   0.0| 0.0|  Copacabana|    1904.0|3831.0|           0|         0|         0|       1|       0|                 1|            0|                 1|       1|      0|         1|           1|                1|              1|[3.0,115.0,2.0,3....|[0.20411589371286...|[-4.1046022244178...|         4|\n",
            "+--------------------+---------+-----+---------+---------+-------+------+----+------------+----------+------+------------+----------+----------+--------+--------+------------------+-------------+------------------+--------+-------+----------+------------+-----------------+---------------+--------------------+--------------------+--------------------+----------+\n",
            "only showing top 5 rows\n",
            "\n"
          ]
        }
      ]
    },
    {
      "cell_type": "markdown",
      "source": [
        "Fazendo uma limpeza em colunas desnecessárias:"
      ],
      "metadata": {
        "id": "W0qiyrD69-I7"
      }
    },
    {
      "cell_type": "code",
      "source": [
        "dataset_cluster = dataset_cluster.drop('features', 'scaledFeatures','pca_features')\\\n",
        "                                 .withColumnRenamed('prediction', 'cluster')\\\n",
        "                                 .withColumnRenamed('label', 'valor')\n",
        "\n",
        "dataset_cluster.show(5)"
      ],
      "metadata": {
        "colab": {
          "base_uri": "https://localhost:8080/"
        },
        "id": "33uKSboW9pc1",
        "outputId": "1ca28a33-7bba-4d48-805e-2eb02cc48e55"
      },
      "execution_count": 89,
      "outputs": [
        {
          "output_type": "stream",
          "name": "stdout",
          "text": [
            "+--------------------+---------+-----+---------+---------+-------+------+----+------------+----------+------+------------+----------+----------+--------+--------+------------------+-------------+------------------+--------+-------+----------+------------+-----------------+---------------+-------+\n",
            "|                  id|    valor|andar|area_util|banheiros|quartos|suites|vaga|      bairro|condominio|  iptu|Zona Central|Zona Norte|Zona Oeste|Zona Sul|Academia|Animais permitidos|Churrasqueira|Condomínio fechado|Elevador|Piscina|Playground|Portaria 24h|Portão eletrônico|Salão de festas|cluster|\n",
            "+--------------------+---------+-----+---------+---------+-------+------+----+------------+----------+------+------------+----------+----------+--------+--------+------------------+-------------+------------------+--------+-------+----------+------------+-----------------+---------------+-------+\n",
            "|00002dd9-cc74-480...| 245000.0|    2|       35|        1|      1|   0.0| 0.0|Santo Cristo|     100.0| 100.0|           1|         0|         0|       0|       1|                 1|            1|                 1|       1|      1|         1|           1|                1|              1|      3|\n",
            "|00003eb1-1d77-43f...| 955000.0|    5|      169|        4|      4|   2.0| 2.0|        Anil|     998.0|2600.0|           0|         0|         1|       0|       1|                 1|            1|                 1|       1|      1|         1|           1|                1|              1|      6|\n",
            "|00012605-9cae-45b...|4600000.0|    0|      410|        3|      4|   1.0| 1.0|     Ipanema|    3300.0|5780.0|           0|         0|         0|       1|       0|                 0|            0|                 0|       1|      0|         0|           0|                0|              0|      5|\n",
            "|0004b470-5332-446...| 280000.0|    1|       82|        2|      2|   1.0| 1.0|     Taquara|     736.0| 998.0|           0|         0|         1|       0|       1|                 0|            1|                 1|       1|      0|         1|           1|                1|              1|      3|\n",
            "|000c1a63-e78c-437...|1100000.0|    3|      115|        2|      3|   0.0| 0.0|  Copacabana|    1904.0|3831.0|           0|         0|         0|       1|       0|                 1|            0|                 1|       1|      0|         1|           1|                1|              1|      4|\n",
            "+--------------------+---------+-----+---------+---------+-------+------+----+------------+----------+------+------------+----------+----------+--------+--------+------------------+-------------+------------------+--------+-------+----------+------------+-----------------+---------------+-------+\n",
            "only showing top 5 rows\n",
            "\n"
          ]
        }
      ]
    },
    {
      "cell_type": "markdown",
      "source": [
        "###7.1 Area Útil"
      ],
      "metadata": {
        "id": "3Nh0rHDWJgB3"
      }
    },
    {
      "cell_type": "code",
      "source": [
        "dataset_cluster\\\n",
        "      .groupBy('cluster')\\\n",
        "      .agg(f.round(f.avg('area_util'),2).alias('Área Útil Média (m2)'))\\\n",
        "      .orderBy('cluster')\\\n",
        "      .show()"
      ],
      "metadata": {
        "colab": {
          "base_uri": "https://localhost:8080/"
        },
        "id": "sZ67yqea-8Pm",
        "outputId": "780afd3b-bf4f-466a-f572-bca8a0ced945"
      },
      "execution_count": 102,
      "outputs": [
        {
          "output_type": "stream",
          "name": "stdout",
          "text": [
            "+-------+--------------------+\n",
            "|cluster|Área Útil Média (m2)|\n",
            "+-------+--------------------+\n",
            "|      0|               90.65|\n",
            "|      1|               98.66|\n",
            "|      2|               84.81|\n",
            "|      3|               82.37|\n",
            "|      4|               96.67|\n",
            "|      5|              264.19|\n",
            "|      6|              229.82|\n",
            "|      7|               260.3|\n",
            "+-------+--------------------+\n",
            "\n"
          ]
        }
      ]
    },
    {
      "cell_type": "markdown",
      "source": [
        "###7.2 Quartos"
      ],
      "metadata": {
        "id": "N9MuY2xlJoq9"
      }
    },
    {
      "cell_type": "code",
      "source": [
        "dataset_cluster\\\n",
        "      .groupBy('cluster')\\\n",
        "      .agg(f.round(f.avg('quartos'),2).alias('Média Quartos'))\\\n",
        "      .orderBy('cluster')\\\n",
        "      .show()"
      ],
      "metadata": {
        "colab": {
          "base_uri": "https://localhost:8080/"
        },
        "id": "KxpghxQmFeuu",
        "outputId": "b5738cdd-095e-4e4f-fca8-f4f80e57d951"
      },
      "execution_count": 100,
      "outputs": [
        {
          "output_type": "stream",
          "name": "stdout",
          "text": [
            "+-------+-------------+\n",
            "|cluster|Média Quartos|\n",
            "+-------+-------------+\n",
            "|      0|         2.48|\n",
            "|      1|         2.41|\n",
            "|      2|         2.36|\n",
            "|      3|         2.35|\n",
            "|      4|         2.24|\n",
            "|      5|         3.78|\n",
            "|      6|         3.77|\n",
            "|      7|         3.44|\n",
            "+-------+-------------+\n",
            "\n"
          ]
        }
      ]
    },
    {
      "cell_type": "markdown",
      "source": [
        "###7.3 Suítes"
      ],
      "metadata": {
        "id": "EhCOhvbAJ2Y5"
      }
    },
    {
      "cell_type": "code",
      "source": [
        "dataset_cluster\\\n",
        "      .groupBy('cluster')\\\n",
        "      .agg(f.round(f.avg('suites'),2).alias('Média Suítes'))\\\n",
        "      .orderBy('cluster')\\\n",
        "      .show()"
      ],
      "metadata": {
        "colab": {
          "base_uri": "https://localhost:8080/"
        },
        "id": "HQnn7tuqJx-b",
        "outputId": "c8f76add-06e1-4a86-ac39-a7764ad04efd"
      },
      "execution_count": 99,
      "outputs": [
        {
          "output_type": "stream",
          "name": "stdout",
          "text": [
            "+-------+------------+\n",
            "|cluster|Média Suítes|\n",
            "+-------+------------+\n",
            "|      0|         1.0|\n",
            "|      1|        0.67|\n",
            "|      2|        0.47|\n",
            "|      3|        0.92|\n",
            "|      4|        0.63|\n",
            "|      5|        2.54|\n",
            "|      6|        2.93|\n",
            "|      7|        1.96|\n",
            "+-------+------------+\n",
            "\n"
          ]
        }
      ]
    },
    {
      "cell_type": "markdown",
      "source": [
        "###7.4 Valor"
      ],
      "metadata": {
        "id": "1EFFyf27KDMZ"
      }
    },
    {
      "cell_type": "code",
      "source": [
        "dataset_cluster\\\n",
        "      .groupBy('cluster')\\\n",
        "      .agg(f.round(f.avg('valor'),2).alias('Valor Médio (R$)'))\\\n",
        "      .orderBy('cluster')\\\n",
        "      .show()"
      ],
      "metadata": {
        "colab": {
          "base_uri": "https://localhost:8080/"
        },
        "id": "AiHT2WEIJ-vt",
        "outputId": "5275f252-3cf0-49f9-91d9-0b9caf3ab6eb"
      },
      "execution_count": 104,
      "outputs": [
        {
          "output_type": "stream",
          "name": "stdout",
          "text": [
            "+-------+----------------+\n",
            "|cluster|Valor Médio (R$)|\n",
            "+-------+----------------+\n",
            "|      0|       864873.79|\n",
            "|      1|      1203171.69|\n",
            "|      2|       483681.76|\n",
            "|      3|       762778.35|\n",
            "|      4|       1221670.3|\n",
            "|      5|      3272943.42|\n",
            "|      6|      2985522.16|\n",
            "|      7|      3954287.41|\n",
            "+-------+----------------+\n",
            "\n"
          ]
        }
      ]
    },
    {
      "cell_type": "markdown",
      "source": [
        "Fazendo uma breve análise com as características destacadas, percebe-se que os 3 ultimos clusters (5, 6 e 7) possuem uma certa discrepância com o restante dos outros clusters. Isso se vê claramente nos números médios de área útil, suítes e no preço médio dos imóveis desses 3 clusters."
      ],
      "metadata": {
        "id": "4zMjp4cZPAtf"
      }
    },
    {
      "cell_type": "code",
      "source": [],
      "metadata": {
        "id": "neYFoP8lKZTm"
      },
      "execution_count": 93,
      "outputs": []
    }
  ]
}