{
  "cells": [
    {
      "cell_type": "markdown",
      "metadata": {
        "id": "view-in-github",
        "colab_type": "text"
      },
      "source": [
        "<a href=\"https://colab.research.google.com/github/erico-bachour/Challenge_Data_Science_2_Alura/blob/main/Challenge_Data_Science_2_InsightPlaces.ipynb\" target=\"_parent\"><img src=\"https://colab.research.google.com/assets/colab-badge.svg\" alt=\"Open In Colab\"/></a>"
      ]
    },
    {
      "cell_type": "markdown",
      "metadata": {
        "id": "3KnrHwpGd0l6"
      },
      "source": [
        "Estudo para a Imobiliária **Insight Places**\n",
        "\n",
        "Com a base de dados fornecida pela Inisight Places, temos o objetivo de criar um modelo de regressão para precificar imóveis e um recomendador de imóveis. Esses por sua vez, auxiliarão a empresa a otimizar seus valores de venda e aluguel de imóveis, dessa forma, aumentando seu potencial de receita e subsequentemente de lucro."
      ]
    },
    {
      "cell_type": "code",
      "execution_count": 1,
      "metadata": {
        "id": "oE7w40nOce-d"
      },
      "outputs": [],
      "source": [
        "#importando bibliotecas básicas para análise de dados\n",
        "import pandas as pd\n",
        "import numpy as np\n",
        "import seaborn as sns\n",
        "import matplotlib.pyplot as plt\n",
        "import scipy as sc\n",
        "import statsmodels.api as sm\n",
        "%matplotlib inline\n",
        "sns.set_style('darkgrid')"
      ]
    },
    {
      "cell_type": "code",
      "execution_count": 2,
      "metadata": {
        "id": "2Iu3OJFDe-eo"
      },
      "outputs": [],
      "source": [
        "#importando a biblioteca PySpark\n",
        "!apt-get update -qq\n",
        "!apt-get install openjdk-8-jdk-headless -qq > /dev/null\n",
        "!wget -q https://archive.apache.org/dist/spark/spark-3.1.2/spark-3.1.2-bin-hadoop2.7.tgz\n",
        "!tar xf spark-3.1.2-bin-hadoop2.7.tgz\n",
        "!pip install -q findspark"
      ]
    },
    {
      "cell_type": "code",
      "execution_count": 3,
      "metadata": {
        "id": "1HNfgEv-guzZ"
      },
      "outputs": [],
      "source": [
        "import os\n",
        "os.environ[\"JAVA_HOME\"] = \"/usr/lib/jvm/java-8-openjdk-amd64\"\n",
        "os.environ[\"SPARK_HOME\"] = \"/content/spark-3.1.2-bin-hadoop2.7\""
      ]
    },
    {
      "cell_type": "code",
      "execution_count": 4,
      "metadata": {
        "id": "jiwlJHlKgwyo"
      },
      "outputs": [],
      "source": [
        "import findspark\n",
        "findspark.init()"
      ]
    },
    {
      "cell_type": "markdown",
      "metadata": {
        "id": "LRX7EHsOg9IY"
      },
      "source": [
        "Iniciando uma SparkSession"
      ]
    },
    {
      "cell_type": "code",
      "execution_count": 5,
      "metadata": {
        "id": "DVk6ynEcgyzH"
      },
      "outputs": [],
      "source": [
        "from pyspark.sql import SparkSession\n",
        "\n",
        "spark = SparkSession.builder \\\n",
        "    .master('local[*]') \\\n",
        "    .appName(\"Iniciando com Spark\") \\\n",
        "    .config('spark.ui.port', '4050') \\\n",
        "    .getOrCreate()"
      ]
    },
    {
      "cell_type": "code",
      "execution_count": 6,
      "metadata": {
        "colab": {
          "base_uri": "https://localhost:8080/",
          "height": 219
        },
        "id": "OKw2TuV_hB03",
        "outputId": "6a3ed563-2958-49ce-a45b-a9ef73ea18db"
      },
      "outputs": [
        {
          "output_type": "execute_result",
          "data": {
            "text/plain": [
              "<pyspark.sql.session.SparkSession at 0x7fce476315d0>"
            ],
            "text/html": [
              "\n",
              "            <div>\n",
              "                <p><b>SparkSession - in-memory</b></p>\n",
              "                \n",
              "        <div>\n",
              "            <p><b>SparkContext</b></p>\n",
              "\n",
              "            <p><a href=\"http://1047da06893e:4050\">Spark UI</a></p>\n",
              "\n",
              "            <dl>\n",
              "              <dt>Version</dt>\n",
              "                <dd><code>v3.1.2</code></dd>\n",
              "              <dt>Master</dt>\n",
              "                <dd><code>local[*]</code></dd>\n",
              "              <dt>AppName</dt>\n",
              "                <dd><code>Iniciando com Spark</code></dd>\n",
              "            </dl>\n",
              "        </div>\n",
              "        \n",
              "            </div>\n",
              "        "
            ]
          },
          "metadata": {},
          "execution_count": 6
        }
      ],
      "source": [
        "spark"
      ]
    },
    {
      "cell_type": "markdown",
      "metadata": {
        "id": "D-8ms7DjhGOt"
      },
      "source": [
        "Acessando a SparkUI"
      ]
    },
    {
      "cell_type": "code",
      "execution_count": 7,
      "metadata": {
        "colab": {
          "base_uri": "https://localhost:8080/"
        },
        "id": "Z1dcXrRnhI6O",
        "outputId": "cc23bc5f-e26f-4b10-a9bb-f44562942397"
      },
      "outputs": [
        {
          "output_type": "stream",
          "name": "stdout",
          "text": [
            "Archive:  ngrok-stable-linux-amd64.zip\n",
            "caution: filename not matched:  -y\n"
          ]
        }
      ],
      "source": [
        "!wget -q https://bin.equinox.io/c/4VmDzA7iaHb/ngrok-stable-linux-amd64.zip\n",
        "!unzip ngrok-stable-linux-amd64.zip -y"
      ]
    },
    {
      "cell_type": "code",
      "execution_count": 8,
      "metadata": {
        "id": "7mAi1RurhLnd"
      },
      "outputs": [],
      "source": [
        "get_ipython().system_raw('./ngrok authtoken 2HrdUIS1XiYY5fV2twMmahQ1UML_3PMhmQFai65KVyZRcJ3ZC')\n",
        "get_ipython().system_raw('./ngrok http 4050 &')"
      ]
    },
    {
      "cell_type": "code",
      "execution_count": 9,
      "metadata": {
        "colab": {
          "base_uri": "https://localhost:8080/"
        },
        "id": "nhddLqJ2hOjw",
        "outputId": "de089be5-37d7-438f-f13f-3ad8a7249466"
      },
      "outputs": [
        {
          "output_type": "stream",
          "name": "stdout",
          "text": [
            "{\"tunnels\":[],\"uri\":\"/api/tunnels\"}\n"
          ]
        }
      ],
      "source": [
        "!curl -s http://localhost:4040/api/tunnels"
      ]
    },
    {
      "cell_type": "markdown",
      "metadata": {
        "id": "wYeMbdK7mWq2"
      },
      "source": [
        "Baixando o arquivo .zip para acesso à base de dados"
      ]
    },
    {
      "cell_type": "code",
      "execution_count": 10,
      "metadata": {
        "colab": {
          "base_uri": "https://localhost:8080/"
        },
        "id": "d50KiandmbD-",
        "outputId": "dc6f0e2e-df93-4d3a-f48d-bc91555a8105"
      },
      "outputs": [
        {
          "output_type": "stream",
          "name": "stdout",
          "text": [
            "Baixando base de dados...Baixado!\n",
            "--2022-11-30 18:32:26--  https://caelum-online-public.s3.amazonaws.com/challenge-spark/semana-1.zip\n",
            "Resolving caelum-online-public.s3.amazonaws.com (caelum-online-public.s3.amazonaws.com)... 54.231.194.73, 52.217.232.241, 52.216.140.156, ...\n",
            "Connecting to caelum-online-public.s3.amazonaws.com (caelum-online-public.s3.amazonaws.com)|54.231.194.73|:443... connected.\n",
            "HTTP request sent, awaiting response... 200 OK\n",
            "Length: 18975214 (18M) [application/zip]\n",
            "Saving to: ‘semana-1.zip.4’\n",
            "\n",
            "semana-1.zip.4      100%[===================>]  18.10M  58.2MB/s    in 0.3s    \n",
            "\n",
            "2022-11-30 18:32:27 (58.2 MB/s) - ‘semana-1.zip.4’ saved [18975214/18975214]\n",
            "\n"
          ]
        }
      ],
      "source": [
        "print('Baixando base de dados...Baixado!')\n",
        "!wget https://caelum-online-public.s3.amazonaws.com/challenge-spark/semana-1.zip"
      ]
    },
    {
      "cell_type": "code",
      "execution_count": 11,
      "metadata": {
        "id": "Sc1GWFzmmxet",
        "colab": {
          "base_uri": "https://localhost:8080/"
        },
        "outputId": "0a24b292-3151-4971-e118-c2ea37f1cca0"
      },
      "outputs": [
        {
          "output_type": "stream",
          "name": "stdout",
          "text": [
            "caution: filename not matched:  -y\n"
          ]
        }
      ],
      "source": [
        "!unzip -q semana-1.zip -y"
      ]
    },
    {
      "cell_type": "code",
      "execution_count": 12,
      "metadata": {
        "id": "2tYkaaqim8O8"
      },
      "outputs": [],
      "source": [
        "path = '/content/dataset_bruto.json'\n",
        "dados = spark.read.json(path)"
      ]
    },
    {
      "cell_type": "markdown",
      "metadata": {
        "id": "5UbFFS8kopm0"
      },
      "source": [
        "Contando quantos registros temos na base de dados:"
      ]
    },
    {
      "cell_type": "code",
      "execution_count": 13,
      "metadata": {
        "colab": {
          "base_uri": "https://localhost:8080/"
        },
        "id": "7P3U-AVnnUUW",
        "outputId": "0b0b7e1b-8c52-40fc-fe22-5850c3435751"
      },
      "outputs": [
        {
          "output_type": "execute_result",
          "data": {
            "text/plain": [
              "89083"
            ]
          },
          "metadata": {},
          "execution_count": 13
        }
      ],
      "source": [
        "dados.count()"
      ]
    },
    {
      "cell_type": "markdown",
      "metadata": {
        "id": "BQ1ZO__Xovsm"
      },
      "source": [
        "Visualisando como está montada a base de dados:"
      ]
    },
    {
      "cell_type": "code",
      "execution_count": 14,
      "metadata": {
        "colab": {
          "base_uri": "https://localhost:8080/",
          "height": 206
        },
        "id": "6wTccTN9n1DW",
        "outputId": "8629648c-6e16-41b8-a25c-2048021fd400"
      },
      "outputs": [
        {
          "output_type": "execute_result",
          "data": {
            "text/plain": [
              "                                             anuncio  \\\n",
              "0  (0, [], [16], [0], [], (Centro, 20061003, Rio ...   \n",
              "1  (0, [], [14], [0], [], (Centro, 20051040, Rio ...   \n",
              "2  (0, [1026], [1026], [0], [], (Maria da Graça, ...   \n",
              "3  (0, [120], [120], [0], [Portão eletrônico, Con...   \n",
              "4  (0, [3], [3], [0], [], (São Cristóvão, 2093167...   \n",
              "\n",
              "                                             imagens  \\\n",
              "0  [(39d6282a-71f3-47bc-94aa-909351ecd881, https:...   \n",
              "1  [(23d2b3ab-45b0-47f2-a27f-ffbe066c2c38, https:...   \n",
              "2  [(1da65baa-368b-490f-bef7-1834b9a428c1, https:...   \n",
              "3  [(79b542c6-49b4-4f06-80b5-ef4fcdf98f76, https:...   \n",
              "4  [(e2bc497b-6510-4731-8942-97b3d3cdab5e, https:...   \n",
              "\n",
              "                                            usuario  \n",
              "0     (9d44563d-3405-4e84-9381-35b7cf40a9a4, Frank)  \n",
              "1  (36245be7-70fe-40cd-84d4-70a57dc8f976, Caroline)  \n",
              "2    (9dc415d8-1397-4d8d-8425-b8310fad309d, Oliver)  \n",
              "3   (9911a2df-f299-4a73-a384-281417abaf69, Matthew)  \n",
              "4      (240a7aab-12e5-4069-9a2c-9dca4c4f9c68, Jude)  "
            ],
            "text/html": [
              "\n",
              "  <div id=\"df-bf43b14d-8e30-4e55-ba73-fe8d53a6f4b9\">\n",
              "    <div class=\"colab-df-container\">\n",
              "      <div>\n",
              "<style scoped>\n",
              "    .dataframe tbody tr th:only-of-type {\n",
              "        vertical-align: middle;\n",
              "    }\n",
              "\n",
              "    .dataframe tbody tr th {\n",
              "        vertical-align: top;\n",
              "    }\n",
              "\n",
              "    .dataframe thead th {\n",
              "        text-align: right;\n",
              "    }\n",
              "</style>\n",
              "<table border=\"1\" class=\"dataframe\">\n",
              "  <thead>\n",
              "    <tr style=\"text-align: right;\">\n",
              "      <th></th>\n",
              "      <th>anuncio</th>\n",
              "      <th>imagens</th>\n",
              "      <th>usuario</th>\n",
              "    </tr>\n",
              "  </thead>\n",
              "  <tbody>\n",
              "    <tr>\n",
              "      <th>0</th>\n",
              "      <td>(0, [], [16], [0], [], (Centro, 20061003, Rio ...</td>\n",
              "      <td>[(39d6282a-71f3-47bc-94aa-909351ecd881, https:...</td>\n",
              "      <td>(9d44563d-3405-4e84-9381-35b7cf40a9a4, Frank)</td>\n",
              "    </tr>\n",
              "    <tr>\n",
              "      <th>1</th>\n",
              "      <td>(0, [], [14], [0], [], (Centro, 20051040, Rio ...</td>\n",
              "      <td>[(23d2b3ab-45b0-47f2-a27f-ffbe066c2c38, https:...</td>\n",
              "      <td>(36245be7-70fe-40cd-84d4-70a57dc8f976, Caroline)</td>\n",
              "    </tr>\n",
              "    <tr>\n",
              "      <th>2</th>\n",
              "      <td>(0, [1026], [1026], [0], [], (Maria da Graça, ...</td>\n",
              "      <td>[(1da65baa-368b-490f-bef7-1834b9a428c1, https:...</td>\n",
              "      <td>(9dc415d8-1397-4d8d-8425-b8310fad309d, Oliver)</td>\n",
              "    </tr>\n",
              "    <tr>\n",
              "      <th>3</th>\n",
              "      <td>(0, [120], [120], [0], [Portão eletrônico, Con...</td>\n",
              "      <td>[(79b542c6-49b4-4f06-80b5-ef4fcdf98f76, https:...</td>\n",
              "      <td>(9911a2df-f299-4a73-a384-281417abaf69, Matthew)</td>\n",
              "    </tr>\n",
              "    <tr>\n",
              "      <th>4</th>\n",
              "      <td>(0, [3], [3], [0], [], (São Cristóvão, 2093167...</td>\n",
              "      <td>[(e2bc497b-6510-4731-8942-97b3d3cdab5e, https:...</td>\n",
              "      <td>(240a7aab-12e5-4069-9a2c-9dca4c4f9c68, Jude)</td>\n",
              "    </tr>\n",
              "  </tbody>\n",
              "</table>\n",
              "</div>\n",
              "      <button class=\"colab-df-convert\" onclick=\"convertToInteractive('df-bf43b14d-8e30-4e55-ba73-fe8d53a6f4b9')\"\n",
              "              title=\"Convert this dataframe to an interactive table.\"\n",
              "              style=\"display:none;\">\n",
              "        \n",
              "  <svg xmlns=\"http://www.w3.org/2000/svg\" height=\"24px\"viewBox=\"0 0 24 24\"\n",
              "       width=\"24px\">\n",
              "    <path d=\"M0 0h24v24H0V0z\" fill=\"none\"/>\n",
              "    <path d=\"M18.56 5.44l.94 2.06.94-2.06 2.06-.94-2.06-.94-.94-2.06-.94 2.06-2.06.94zm-11 1L8.5 8.5l.94-2.06 2.06-.94-2.06-.94L8.5 2.5l-.94 2.06-2.06.94zm10 10l.94 2.06.94-2.06 2.06-.94-2.06-.94-.94-2.06-.94 2.06-2.06.94z\"/><path d=\"M17.41 7.96l-1.37-1.37c-.4-.4-.92-.59-1.43-.59-.52 0-1.04.2-1.43.59L10.3 9.45l-7.72 7.72c-.78.78-.78 2.05 0 2.83L4 21.41c.39.39.9.59 1.41.59.51 0 1.02-.2 1.41-.59l7.78-7.78 2.81-2.81c.8-.78.8-2.07 0-2.86zM5.41 20L4 18.59l7.72-7.72 1.47 1.35L5.41 20z\"/>\n",
              "  </svg>\n",
              "      </button>\n",
              "      \n",
              "  <style>\n",
              "    .colab-df-container {\n",
              "      display:flex;\n",
              "      flex-wrap:wrap;\n",
              "      gap: 12px;\n",
              "    }\n",
              "\n",
              "    .colab-df-convert {\n",
              "      background-color: #E8F0FE;\n",
              "      border: none;\n",
              "      border-radius: 50%;\n",
              "      cursor: pointer;\n",
              "      display: none;\n",
              "      fill: #1967D2;\n",
              "      height: 32px;\n",
              "      padding: 0 0 0 0;\n",
              "      width: 32px;\n",
              "    }\n",
              "\n",
              "    .colab-df-convert:hover {\n",
              "      background-color: #E2EBFA;\n",
              "      box-shadow: 0px 1px 2px rgba(60, 64, 67, 0.3), 0px 1px 3px 1px rgba(60, 64, 67, 0.15);\n",
              "      fill: #174EA6;\n",
              "    }\n",
              "\n",
              "    [theme=dark] .colab-df-convert {\n",
              "      background-color: #3B4455;\n",
              "      fill: #D2E3FC;\n",
              "    }\n",
              "\n",
              "    [theme=dark] .colab-df-convert:hover {\n",
              "      background-color: #434B5C;\n",
              "      box-shadow: 0px 1px 3px 1px rgba(0, 0, 0, 0.15);\n",
              "      filter: drop-shadow(0px 1px 2px rgba(0, 0, 0, 0.3));\n",
              "      fill: #FFFFFF;\n",
              "    }\n",
              "  </style>\n",
              "\n",
              "      <script>\n",
              "        const buttonEl =\n",
              "          document.querySelector('#df-bf43b14d-8e30-4e55-ba73-fe8d53a6f4b9 button.colab-df-convert');\n",
              "        buttonEl.style.display =\n",
              "          google.colab.kernel.accessAllowed ? 'block' : 'none';\n",
              "\n",
              "        async function convertToInteractive(key) {\n",
              "          const element = document.querySelector('#df-bf43b14d-8e30-4e55-ba73-fe8d53a6f4b9');\n",
              "          const dataTable =\n",
              "            await google.colab.kernel.invokeFunction('convertToInteractive',\n",
              "                                                     [key], {});\n",
              "          if (!dataTable) return;\n",
              "\n",
              "          const docLinkHtml = 'Like what you see? Visit the ' +\n",
              "            '<a target=\"_blank\" href=https://colab.research.google.com/notebooks/data_table.ipynb>data table notebook</a>'\n",
              "            + ' to learn more about interactive tables.';\n",
              "          element.innerHTML = '';\n",
              "          dataTable['output_type'] = 'display_data';\n",
              "          await google.colab.output.renderOutput(dataTable, element);\n",
              "          const docLink = document.createElement('div');\n",
              "          docLink.innerHTML = docLinkHtml;\n",
              "          element.appendChild(docLink);\n",
              "        }\n",
              "      </script>\n",
              "    </div>\n",
              "  </div>\n",
              "  "
            ]
          },
          "metadata": {},
          "execution_count": 14
        }
      ],
      "source": [
        "dados.limit(5).toPandas()"
      ]
    },
    {
      "cell_type": "code",
      "execution_count": 15,
      "metadata": {
        "colab": {
          "base_uri": "https://localhost:8080/"
        },
        "id": "3AqwLH9-o5fA",
        "outputId": "15c99a1a-ad36-428a-b4f3-aab2fcfae61f"
      },
      "outputs": [
        {
          "output_type": "execute_result",
          "data": {
            "text/plain": [
              "['anuncio', 'imagens', 'usuario']"
            ]
          },
          "metadata": {},
          "execution_count": 15
        }
      ],
      "source": [
        "dados.columns"
      ]
    },
    {
      "cell_type": "code",
      "execution_count": 16,
      "metadata": {
        "colab": {
          "base_uri": "https://localhost:8080/"
        },
        "id": "1DEfcnwOpM7m",
        "outputId": "66a6e9d7-ae22-47b4-f437-4fb96fe9b0b5"
      },
      "outputs": [
        {
          "output_type": "stream",
          "name": "stdout",
          "text": [
            "root\n",
            " |-- anuncio: struct (nullable = true)\n",
            " |    |-- andar: long (nullable = true)\n",
            " |    |-- area_total: array (nullable = true)\n",
            " |    |    |-- element: string (containsNull = true)\n",
            " |    |-- area_util: array (nullable = true)\n",
            " |    |    |-- element: string (containsNull = true)\n",
            " |    |-- banheiros: array (nullable = true)\n",
            " |    |    |-- element: long (containsNull = true)\n",
            " |    |-- caracteristicas: array (nullable = true)\n",
            " |    |    |-- element: string (containsNull = true)\n",
            " |    |-- endereco: struct (nullable = true)\n",
            " |    |    |-- bairro: string (nullable = true)\n",
            " |    |    |-- cep: string (nullable = true)\n",
            " |    |    |-- cidade: string (nullable = true)\n",
            " |    |    |-- estado: string (nullable = true)\n",
            " |    |    |-- latitude: double (nullable = true)\n",
            " |    |    |-- longitude: double (nullable = true)\n",
            " |    |    |-- pais: string (nullable = true)\n",
            " |    |    |-- rua: string (nullable = true)\n",
            " |    |    |-- zona: string (nullable = true)\n",
            " |    |-- id: string (nullable = true)\n",
            " |    |-- quartos: array (nullable = true)\n",
            " |    |    |-- element: long (containsNull = true)\n",
            " |    |-- suites: array (nullable = true)\n",
            " |    |    |-- element: long (containsNull = true)\n",
            " |    |-- tipo_anuncio: string (nullable = true)\n",
            " |    |-- tipo_unidade: string (nullable = true)\n",
            " |    |-- tipo_uso: string (nullable = true)\n",
            " |    |-- vaga: array (nullable = true)\n",
            " |    |    |-- element: long (containsNull = true)\n",
            " |    |-- valores: array (nullable = true)\n",
            " |    |    |-- element: struct (containsNull = true)\n",
            " |    |    |    |-- condominio: string (nullable = true)\n",
            " |    |    |    |-- iptu: string (nullable = true)\n",
            " |    |    |    |-- tipo: string (nullable = true)\n",
            " |    |    |    |-- valor: string (nullable = true)\n",
            " |-- imagens: array (nullable = true)\n",
            " |    |-- element: struct (containsNull = true)\n",
            " |    |    |-- id: string (nullable = true)\n",
            " |    |    |-- url: string (nullable = true)\n",
            " |-- usuario: struct (nullable = true)\n",
            " |    |-- id: string (nullable = true)\n",
            " |    |-- nome: string (nullable = true)\n",
            "\n"
          ]
        }
      ],
      "source": [
        "dados.printSchema()"
      ]
    },
    {
      "cell_type": "markdown",
      "metadata": {
        "id": "tNXtC2PgLrjH"
      },
      "source": [
        "Como queremos lidar somente com as variáveis da coluna \"anuncio\", vamos selecioná-la."
      ]
    },
    {
      "cell_type": "markdown",
      "metadata": {
        "id": "vInVGqedMFcf"
      },
      "source": [
        "| Colunas         | Descrição                                                      |\n",
        "|-----------------|----------------------------------------------------------------|\n",
        "| id              | Código de identificação do anúncio no sistema da InsightPlaces |\n",
        "| tipo_unidade    | Tipo de imóvel (apartamento, casa e outros)                    |\n",
        "| tipo_uso        | Tipo de uso do imóvel (residencial ou comercial)               |\n",
        "| area_total      | Área total do imóvel (construção e terreno)                    |\n",
        "| area_util       | Área construída do imóvel                                      |\n",
        "| quartos         | Quantidade de quartos do imóvel                                |\n",
        "| suites          | Quantidade de suítes do imóvel                                 |\n",
        "| banheiros       | Quantidade de banheiros do imóvel                              |\n",
        "| vaga            | Quantidade de vagas de garagem do imóvel                       |\n",
        "| caracteristicas | Listagem de características do imóvel                          |\n",
        "| andar           | Número do andar do imóvel                                      |\n",
        "| endereco        | Informações sobre o endereço do imóvel                         |\n",
        "| valores         | Informações sobre valores de venda e locação dos imóveis       |"
      ]
    },
    {
      "cell_type": "code",
      "execution_count": 17,
      "metadata": {
        "colab": {
          "base_uri": "https://localhost:8080/"
        },
        "id": "SmZmwfehpaN1",
        "outputId": "a795d124-8be0-4eaf-816c-7eaf8ee5d01a"
      },
      "outputs": [
        {
          "output_type": "stream",
          "name": "stdout",
          "text": [
            "+-----+----------+---------+---------+--------------------+--------------------+--------------------+-------+------+------------+------------+-----------+----+--------------------+\n",
            "|andar|area_total|area_util|banheiros|     caracteristicas|            endereco|                  id|quartos|suites|tipo_anuncio|tipo_unidade|   tipo_uso|vaga|             valores|\n",
            "+-----+----------+---------+---------+--------------------+--------------------+--------------------+-------+------+------------+------------+-----------+----+--------------------+\n",
            "|    0|        []|     [16]|      [0]|                  []|{Centro, 20061003...|47d553e0-79f2-4a4...|    [0]|   [0]|       Usado|      Outros|  Comercial| [1]|[{260, 107, Venda...|\n",
            "|    0|        []|     [14]|      [0]|                  []|{Centro, 20051040...|b6ffbae1-17f6-487...|    [0]|    []|       Usado|      Outros|  Comercial| [0]|[{260, 107, Venda...|\n",
            "|    0|    [1026]|   [1026]|      [0]|                  []|{Maria da Graça, ...|1fb030a5-9e3e-4a1...|    [0]|    []|       Usado|      Outros|  Comercial| [0]|[{null, 1613, Ven...|\n",
            "|    0|     [120]|    [120]|      [0]|[Portão eletrônic...|{Campo Grande, 23...|ac6cb348-69d6-45a...|    [0]|    []|       Usado|      Outros|Residencial|  []|[{80, null, Venda...|\n",
            "|    0|       [3]|      [3]|      [0]|                  []|{São Cristóvão, 2...|e032b908-ef42-4d4...|    [0]|    []|       Usado|      Outros|Residencial|  []|[{0, 0, Venda, 50...|\n",
            "|    0|      [20]|     [15]|      [1]|                  []|{Centro, 20231047...|df9cf0b8-b972-433...|    [0]|    []|       Usado|      Outros|  Comercial| [1]|[{223, 87, Venda,...|\n",
            "|    3|      [43]|     [43]|      [1]|[Academia, Churra...|{Paciência, 23585...|d2e3a3aa-09b5-45a...|    [2]|    []|       Usado| Apartamento|Residencial| [1]|[{245, null, Vend...|\n",
            "|    2|      [42]|     [42]|      [1]|[Churrasqueira, P...|{Paciência, 23585...|085bab2c-87ad-452...|    [2]|    []|       Usado| Apartamento|Residencial| [1]|[{0, 0, Venda, 15...|\n",
            "|    0|        []|     [12]|      [0]|[Portaria 24h, El...|{Centro, 20231047...|096ad966-dc36-47b...|    [0]|    []|       Usado|      Outros|  Comercial| [1]|[{250, null, Vend...|\n",
            "|    1|      [41]|     [41]|      [1]|[Portaria 24h, Co...|{Guaratiba, 23036...|18d22cbe-1b86-476...|    [2]|    []|       Usado| Apartamento|Residencial| [1]|[{0, 0, Venda, 20...|\n",
            "|    3|      [43]|     [43]|      [1]|[Churrasqueira, P...|{Cosmos, 23066271...|bed8a354-9317-442...|    [2]|    []|       Usado| Apartamento|Residencial| [0]|[{285, null, Vend...|\n",
            "|    0|      [10]|      [4]|      [0]|[Elevador, Portar...|{Centro, 20080021...|b7d0fbd3-0b28-420...|    [0]|    []|       Usado|      Outros|  Comercial| [0]|[{200, 86, Venda,...|\n",
            "|    0|      [12]|     [12]|      [1]|      [Portaria 24h]|{Copacabana, 2202...|c6571c11-166e-4a4...|    [0]|    []|       Usado|      Outros|  Comercial|  []|[{470, null, Vend...|\n",
            "|    0|      [17]|     [17]|      [0]|          [Elevador]|{Centro, 20070021...|46d5b560-205f-45f...|    [0]|    []|       Usado|      Outros|  Comercial| [1]|[{294, 98, Venda,...|\n",
            "|    1|      [32]|     [32]|       []|[Elevador, Condom...|{Centro, 20090020...|db197997-00e6-4d6...|     []|    []|       Usado|      Outros|  Comercial| [1]|[{684, null, Vend...|\n",
            "|    0|        []|     [10]|      [0]|[Elevador, Condom...|{Saúde, 20080040,...|835d4338-4aa9-4e4...|    [0]|    []|       Usado|      Outros|  Comercial|  []|[{0, 120, Venda, ...|\n",
            "|    2|      [43]|     [43]|      [1]|[Academia, Churra...|{Guaratiba, 23036...|12a13315-d67f-48f...|    [2]|    []|       Usado| Apartamento|Residencial| [1]|[{245, null, Vend...|\n",
            "|    3|      [43]|     [43]|      [1]|[Churrasqueira, P...|{Cosmos, 23066271...|a2e6d7a5-0ff0-484...|    [2]|   [0]|       Usado| Apartamento|Residencial| [0]|[{285, null, Vend...|\n",
            "|    3|      [43]|     [43]|      [1]|[Churrasqueira, P...|{Paciência, 23585...|a6e3173b-c950-4db...|    [2]|    []|       Usado| Apartamento|Residencial| [1]|[{250, null, Vend...|\n",
            "|    3|      [43]|     [43]|      [1]|[Churrasqueira, P...|{Guaratiba, 23036...|2e6e5dfb-206c-496...|    [2]|   [0]|       Usado| Apartamento|Residencial| [1]|[{245, null, Vend...|\n",
            "+-----+----------+---------+---------+--------------------+--------------------+--------------------+-------+------+------------+------------+-----------+----+--------------------+\n",
            "only showing top 20 rows\n",
            "\n"
          ]
        }
      ],
      "source": [
        "dados\\\n",
        "    .select(\n",
        "        'anuncio.*'\n",
        "    )\\\n",
        "    .show()"
      ]
    },
    {
      "cell_type": "code",
      "execution_count": 18,
      "metadata": {
        "id": "efcrHKLGt8dR"
      },
      "outputs": [],
      "source": [
        "anuncio = dados.select('anuncio.*')"
      ]
    },
    {
      "cell_type": "markdown",
      "metadata": {
        "id": "3icuQnuRMoy8"
      },
      "source": [
        "Assim como requisitado pelo time de Data Science da imobiliária, iremos filtrar os imóveis por tipo de uso, tipo de unidade e tipo de anuncio. Mais especificamente os imóveis nas categorias **residencial, apartamento e usado**.\n"
      ]
    },
    {
      "cell_type": "code",
      "execution_count": 19,
      "metadata": {
        "colab": {
          "base_uri": "https://localhost:8080/"
        },
        "id": "gq6LDvDPMfHa",
        "outputId": "f52778fe-e941-49f4-c778-9e0d9b6eddc3"
      },
      "outputs": [
        {
          "output_type": "stream",
          "name": "stdout",
          "text": [
            "+-----------+-----+\n",
            "|   tipo_uso|count|\n",
            "+-----------+-----+\n",
            "|  Comercial| 4542|\n",
            "|Residencial|84541|\n",
            "+-----------+-----+\n",
            "\n"
          ]
        }
      ],
      "source": [
        "anuncio\\\n",
        "      .select('tipo_uso')\\\n",
        "      .groupBy('tipo_uso')\\\n",
        "      .count()\\\n",
        "      .show()"
      ]
    },
    {
      "cell_type": "markdown",
      "metadata": {
        "id": "SRm9kGpBOGg5"
      },
      "source": [
        "Como imóveis residenciais e comerciais seguem métricas diferentes no que se refere a precificação, ficaremos somente com os residenciais em nosso modelo, por enquanto."
      ]
    },
    {
      "cell_type": "code",
      "execution_count": 20,
      "metadata": {
        "id": "JDKlcLp9N_s1"
      },
      "outputs": [],
      "source": [
        "anuncio = anuncio.filter('tipo_uso == \"Residencial\"')"
      ]
    },
    {
      "cell_type": "code",
      "execution_count": 21,
      "metadata": {
        "id": "XPbOWvIJOX_j",
        "colab": {
          "base_uri": "https://localhost:8080/"
        },
        "outputId": "9b2aa912-3353-4f91-fcce-7632d5a891c1"
      },
      "outputs": [
        {
          "output_type": "stream",
          "name": "stdout",
          "text": [
            "+-----------+-----+\n",
            "|   tipo_uso|count|\n",
            "+-----------+-----+\n",
            "|Residencial|84541|\n",
            "+-----------+-----+\n",
            "\n"
          ]
        }
      ],
      "source": [
        "anuncio\\\n",
        "    .groupBy('tipo_uso')\\\n",
        "    .count()\\\n",
        "    .show()"
      ]
    },
    {
      "cell_type": "markdown",
      "metadata": {
        "id": "K2QqvbZlOwDK"
      },
      "source": [
        "Passando para o tipo de unidade, vamos agrupar para ver como estão distribuídos os imóveis em nossa base de dados"
      ]
    },
    {
      "cell_type": "code",
      "execution_count": 22,
      "metadata": {
        "colab": {
          "base_uri": "https://localhost:8080/"
        },
        "id": "jRgLhfZ0OqJr",
        "outputId": "4c27bd08-429a-4717-e168-f0200434a10f"
      },
      "outputs": [
        {
          "output_type": "stream",
          "name": "stdout",
          "text": [
            "+------------+-----+\n",
            "|tipo_unidade|count|\n",
            "+------------+-----+\n",
            "|      Outros| 7517|\n",
            "| Apartamento|66797|\n",
            "|        Casa|10227|\n",
            "+------------+-----+\n",
            "\n"
          ]
        }
      ],
      "source": [
        "anuncio\\\n",
        "      .groupBy('tipo_unidade')\\\n",
        "      .count()\\\n",
        "      .show()"
      ]
    },
    {
      "cell_type": "markdown",
      "metadata": {
        "id": "zXYipszfPKXR"
      },
      "source": [
        "Agora vamos filtrar novamente para ficarmos somente com os **Apartamentos**"
      ]
    },
    {
      "cell_type": "code",
      "execution_count": 23,
      "metadata": {
        "id": "JJ8v_WzmPHMK"
      },
      "outputs": [],
      "source": [
        "anuncio = anuncio.filter('tipo_unidade == \"Apartamento\"')"
      ]
    },
    {
      "cell_type": "code",
      "execution_count": 24,
      "metadata": {
        "colab": {
          "base_uri": "https://localhost:8080/"
        },
        "id": "Yd-j4IHxPYZY",
        "outputId": "8c6dfb34-81fb-41b3-8659-29c02d088c72"
      },
      "outputs": [
        {
          "output_type": "stream",
          "name": "stdout",
          "text": [
            "+------------+-----+\n",
            "|tipo_unidade|count|\n",
            "+------------+-----+\n",
            "| Apartamento|66797|\n",
            "+------------+-----+\n",
            "\n"
          ]
        }
      ],
      "source": [
        "anuncio\\\n",
        "      .groupBy('tipo_unidade')\\\n",
        "      .count()\\\n",
        "      .show()"
      ]
    },
    {
      "cell_type": "markdown",
      "metadata": {
        "id": "xh0M4KelPmqA"
      },
      "source": [
        "Antes da úlitma filtragem, vamos ver como eles estão distribuídos no que tange a idade."
      ]
    },
    {
      "cell_type": "code",
      "execution_count": 25,
      "metadata": {
        "colab": {
          "base_uri": "https://localhost:8080/"
        },
        "id": "QnwVOEzBPha4",
        "outputId": "54fd4591-0a7b-4474-9340-dfa70ba3c959"
      },
      "outputs": [
        {
          "output_type": "stream",
          "name": "stdout",
          "text": [
            "+------------+-----+\n",
            "|tipo_anuncio|count|\n",
            "+------------+-----+\n",
            "|       Usado|66562|\n",
            "|  Lançamento|  235|\n",
            "+------------+-----+\n",
            "\n"
          ]
        }
      ],
      "source": [
        "anuncio\\\n",
        "    .groupBy('tipo_anuncio')\\\n",
        "    .count()\\\n",
        "    .show()"
      ]
    },
    {
      "cell_type": "markdown",
      "metadata": {
        "id": "mgeeTaM3QPaz"
      },
      "source": [
        "Filtrando mais uma vez, vamos ficar somente com os imóveis **usados**."
      ]
    },
    {
      "cell_type": "code",
      "execution_count": 26,
      "metadata": {
        "id": "yGGP8hpnP8nP"
      },
      "outputs": [],
      "source": [
        "anuncio = anuncio.filter('tipo_anuncio == \"Usado\"')"
      ]
    },
    {
      "cell_type": "code",
      "execution_count": 27,
      "metadata": {
        "colab": {
          "base_uri": "https://localhost:8080/"
        },
        "id": "u8r3eOMGQaBf",
        "outputId": "58f64d47-c5a4-4040-f4dc-c7ae1314ebfc"
      },
      "outputs": [
        {
          "output_type": "stream",
          "name": "stdout",
          "text": [
            "+------------+-----+\n",
            "|tipo_anuncio|count|\n",
            "+------------+-----+\n",
            "|       Usado|66562|\n",
            "+------------+-----+\n",
            "\n"
          ]
        }
      ],
      "source": [
        "anuncio\\\n",
        "      .groupBy('tipo_anuncio')\\\n",
        "      .count()\\\n",
        "      .show()"
      ]
    },
    {
      "cell_type": "markdown",
      "metadata": {
        "id": "LvIRid3tRJJO"
      },
      "source": [
        "Com a base de dados filtrada como a equipe de Data Science solicitou, partiremos para mais uma etapa do ajuste de nossa base de dados."
      ]
    },
    {
      "cell_type": "code",
      "execution_count": 28,
      "metadata": {
        "colab": {
          "base_uri": "https://localhost:8080/"
        },
        "id": "UlqxuGQuQhGO",
        "outputId": "e81a7eb0-873e-47fe-a5e8-38c93c4f45a9"
      },
      "outputs": [
        {
          "output_type": "stream",
          "name": "stdout",
          "text": [
            "+-----+----------+---------+---------+--------------------------------------------------------------------------------------------------------------------------------------------------+-------------------------------------------------------------------------------------------------------------------------------------+------------------------------------+-------+------+------------+------------+-----------+----+----------------------------+\n",
            "|andar|area_total|area_util|banheiros|caracteristicas                                                                                                                                   |endereco                                                                                                                             |id                                  |quartos|suites|tipo_anuncio|tipo_unidade|tipo_uso   |vaga|valores                     |\n",
            "+-----+----------+---------+---------+--------------------------------------------------------------------------------------------------------------------------------------------------+-------------------------------------------------------------------------------------------------------------------------------------+------------------------------------+-------+------+------------+------------+-----------+----+----------------------------+\n",
            "|3    |[43]      |[43]     |[1]      |[Academia, Churrasqueira, Playground, Salão de festas, Condomínio fechado, Portão eletrônico, Portaria 24h, Animais permitidos]                   |{Paciência, 23585430, Rio de Janeiro, Rio de Janeiro, -22.919851, -43.634034, BR, Estrada de Santa Eugênia, Zona Oeste}              |d2e3a3aa-09b5-45a0-9dcd-918847cd3ca3|[2]    |[]    |Usado       |Apartamento |Residencial|[1] |[{245, null, Venda, 15000}] |\n",
            "|2    |[42]      |[42]     |[1]      |[Churrasqueira, Playground, Salão de festas, Condomínio fechado, Portão eletrônico, Portaria 24h, Animais permitidos]                             |{Paciência, 23585430, Rio de Janeiro, Rio de Janeiro, -22.928108, -43.635375, BR, Estrada de Santa Eugênia, Zona Oeste}              |085bab2c-87ad-452a-bd0f-8b1451509f84|[2]    |[]    |Usado       |Apartamento |Residencial|[1] |[{0, 0, Venda, 15000}]      |\n",
            "|1    |[41]      |[41]     |[1]      |[Portaria 24h, Condomínio fechado, Playground, Salão de festas, Churrasqueira, Portão eletrônico]                                                 |{Guaratiba, 23036060, Rio de Janeiro, Rio de Janeiro, -22.948756, -43.582824, BR, Estrada Cabuçu de Baixo, Zona Oeste}               |18d22cbe-1b86-4764-8def-70c615f15a61|[2]    |[]    |Usado       |Apartamento |Residencial|[1] |[{0, 0, Venda, 20000}]      |\n",
            "|3    |[43]      |[43]     |[1]      |[Churrasqueira, Piscina, Playground, Salão de festas, Condomínio fechado, Portão eletrônico, Portaria 24h, Animais permitidos]                    |{Cosmos, 23066271, Rio de Janeiro, Rio de Janeiro, -22.888194, -43.629602, BR, Estrada da Paciência, Zona Oeste}                     |bed8a354-9317-4426-b27e-1c798f864271|[2]    |[]    |Usado       |Apartamento |Residencial|[0] |[{285, null, Venda, 20000}] |\n",
            "|2    |[43]      |[43]     |[1]      |[Academia, Churrasqueira, Playground, Salão de festas, Condomínio fechado, Portão eletrônico, Portaria 24h, Animais permitidos]                   |{Guaratiba, 23036060, Rio de Janeiro, Rio de Janeiro, -22.948291, -43.582205, BR, Estrada Cabuçu de Baixo, Zona Oeste}               |12a13315-d67f-48f0-9497-017b83252781|[2]    |[]    |Usado       |Apartamento |Residencial|[1] |[{245, null, Venda, 15000}] |\n",
            "|3    |[43]      |[43]     |[1]      |[Churrasqueira, Piscina, Playground, Salão de festas, Condomínio fechado, Portaria 24h, Portão eletrônico, Animais permitidos]                    |{Cosmos, 23066271, Rio de Janeiro, Rio de Janeiro, -22.888194, -43.629602, BR, Estrada da Paciência, Zona Oeste}                     |a2e6d7a5-0ff0-484d-b3d8-3a8f15e2d80e|[2]    |[0]   |Usado       |Apartamento |Residencial|[0] |[{285, null, Venda, 20000}] |\n",
            "|3    |[43]      |[43]     |[1]      |[Churrasqueira, Playground, Salão de festas, Condomínio fechado, Portão eletrônico, Portaria 24h, Animais permitidos]                             |{Paciência, 23585430, Rio de Janeiro, Rio de Janeiro, -22.919851, -43.634034, BR, Estrada de Santa Eugênia, Zona Oeste}              |a6e3173b-c950-4db4-9b7b-80c44bd75e90|[2]    |[]    |Usado       |Apartamento |Residencial|[1] |[{250, null, Venda, 15000}] |\n",
            "|3    |[43]      |[43]     |[1]      |[Churrasqueira, Playground, Salão de festas, Condomínio fechado, Portão eletrônico, Animais permitidos]                                           |{Guaratiba, 23036060, Rio de Janeiro, Rio de Janeiro, -22.948291, -43.582205, BR, Estrada Cabuçu de Baixo, Zona Oeste}               |2e6e5dfb-206c-4968-944b-ea4c3918b50d|[2]    |[0]   |Usado       |Apartamento |Residencial|[1] |[{245, null, Venda, 15000}] |\n",
            "|3    |[43]      |[43]     |[1]      |[Churrasqueira, Playground, Salão de festas, Condomínio fechado, Portão eletrônico, Portaria 24h, Animais permitidos]                             |{Paciência, 23585430, Rio de Janeiro, Rio de Janeiro, -22.919851, -43.634034, BR, Estrada de Santa Eugênia, Zona Oeste}              |99f8d0f9-95a4-4613-a55d-c949e7a73e90|[2]    |[0]   |Usado       |Apartamento |Residencial|[1] |[{245, null, Venda, 15000}] |\n",
            "|4    |[43]      |[43]     |[1]      |[Churrasqueira, Playground, Salão de festas, Condomínio fechado, Portão eletrônico, Portaria 24h, Animais permitidos]                             |{Guaratiba, 23036060, Rio de Janeiro, Rio de Janeiro, -22.948291, -43.582205, BR, Estrada Cabuçu de Baixo, Zona Oeste}               |b3f44c1a-2d50-4d56-b1fb-a94d59b55ab8|[2]    |[]    |Usado       |Apartamento |Residencial|[1] |[{240, null, Venda, 17999}] |\n",
            "|0    |[60]      |[60]     |[1]      |[Condomínio fechado]                                                                                                                              |{Pedra de Guaratiba, 23025018, Rio de Janeiro, Rio de Janeiro, -22.991393, -43.628042, BR, Rua Cento e Trinta e Três, Zona Oeste}    |dc99d9e1-4c63-41f7-a53d-678b2b3ccb52|[2]    |[]    |Usado       |Apartamento |Residencial|[1] |[{0, 0, Venda, 15000}]      |\n",
            "|1    |[43]      |[43]     |[1]      |[Churrasqueira, Playground, Salão de festas, Condomínio fechado, Portão eletrônico, Portaria 24h]                                                 |{Cosmos, 23056630, Rio de Janeiro, Rio de Janeiro, -22.918594, -43.611184, BR, Rua das Amoreiras, Zona Oeste}                        |aa3606d8-8bcd-45ec-a609-d68a58a12014|[2]    |[]    |Usado       |Apartamento |Residencial|[1] |[{240, 0, Venda, 19999}]    |\n",
            "|0    |[43]      |[43]     |[1]      |[Churrasqueira, Playground, Salão de festas, Condomínio fechado, Portão eletrônico, Portaria 24h, Animais permitidos]                             |{Campo Grande, 23070600, Rio de Janeiro, Rio de Janeiro, -22.883694, -43.593646, BR, Rua Constituinte, Zona Oeste}                   |df80b0d5-677c-4be7-93c4-ddef578125ac|[2]    |[0]   |Usado       |Apartamento |Residencial|[0] |[{245, null, Venda, 19999}] |\n",
            "|2    |[43]      |[43]     |[1]      |[Academia, Churrasqueira, Piscina, Playground, Salão de festas, Condomínio fechado, Portão eletrônico, Portaria 24h, Animais permitidos]          |{Santa Cruz, 23520560, Rio de Janeiro, Rio de Janeiro, -22.945648, -43.640029, BR, Estrada de Santa Eugênia, Zona Oeste}             |3d6c0218-9b7d-474b-9a44-cd3e005375f9|[2]    |[]    |Usado       |Apartamento |Residencial|[2] |[{290, null, Venda, 25000}] |\n",
            "|3    |[43]      |[43]     |[1]      |[Salão de festas, Playground, Condomínio fechado, Portão eletrônico, Portaria 24h, Animais permitidos]                                            |{Guaratiba, 23020135, Rio de Janeiro, Rio de Janeiro, -22.936475, -43.583306, BR, Rua Seis de Julho, Zona Oeste}                     |304266cc-62d1-4ce7-909b-21198c306839|[2]    |[]    |Usado       |Apartamento |Residencial|[]  |[{285, null, Venda, 29999}] |\n",
            "|4    |[55]      |[55]     |[2]      |[Academia, Churrasqueira, Piscina, Playground, Salão de festas, Elevador, Condomínio fechado, Portão eletrônico, Portaria 24h, Animais permitidos]|{Recreio dos Bandeirantes, 22790880, Rio de Janeiro, Rio de Janeiro, -23.022323, -43.509961, BR, Rua Luiz Carlos Sarolli, Zona Oeste}|111472a2-afa1-4a73-a8b3-3588ffba362c|[2]    |[1]   |Usado       |Apartamento |Residencial|[1] |[{0, 0, Venda, 30000}]      |\n",
            "|0    |[45]      |[45]     |[1]      |[Playground, Piscina, Churrasqueira, Salão de festas, Condomínio fechado]                                                                         |{Cosmos, 23066271, Rio de Janeiro, Rio de Janeiro, -22.88939, -43.629587, BR, Estrada da Paciência, Zona Oeste}                      |275c1589-6537-4bf7-9504-74410dbf01fc|[2]    |[0]   |Usado       |Apartamento |Residencial|[1] |[{null, null, Venda, 30000}]|\n",
            "|5    |[42]      |[42]     |[1]      |[Condomínio fechado, Portaria 24h, Salão de festas, Portão eletrônico, Animais permitidos]                                                        |{Realengo, 21725180, Rio de Janeiro, Rio de Janeiro, -22.857776, -43.448282, BR, Rua Hélio do Amaral, Zona Oeste}                    |ab8f367f-7509-45c7-ad9a-f51f84584376|[2]    |[0]   |Usado       |Apartamento |Residencial|[0] |[{280, 0, Venda, 25000}]    |\n",
            "|1    |[43]      |[43]     |[1]      |[Churrasqueira, Playground, Salão de festas, Condomínio fechado, Portão eletrônico, Portaria 24h, Animais permitidos]                             |{Cosmos, 23058001, Rio de Janeiro, Rio de Janeiro, -22.915615, -43.61736, BR, Avenida Cesário de Melo, Zona Oeste}                   |e0a3d370-66dd-4f50-a3d9-cf09c8212318|[2]    |[]    |Usado       |Apartamento |Residencial|[1] |[{280, null, Venda, 27999}] |\n",
            "|3    |[]        |[55]     |[1]      |[Academia, Churrasqueira, Piscina, Playground, Salão de festas, Elevador, Condomínio fechado, Portão eletrônico, Portaria 24h, Animais permitidos]|{Todos os Santos, 20770240, Rio de Janeiro, Rio de Janeiro, -22.896488, -43.282714, BR, Rua José Bonifácio, Zona Norte}              |09c8ba2d-dbf1-4879-ba5b-1345355dc415|[2]    |[1]   |Usado       |Apartamento |Residencial|[1] |[{0, 0, Venda, 26000}]      |\n",
            "+-----+----------+---------+---------+--------------------------------------------------------------------------------------------------------------------------------------------------+-------------------------------------------------------------------------------------------------------------------------------------+------------------------------------+-------+------+------------+------------+-----------+----+----------------------------+\n",
            "only showing top 20 rows\n",
            "\n"
          ]
        }
      ],
      "source": [
        "anuncio.show(truncate=False)"
      ]
    },
    {
      "cell_type": "code",
      "execution_count": 29,
      "metadata": {
        "colab": {
          "base_uri": "https://localhost:8080/"
        },
        "id": "rdckUr31RZ4V",
        "outputId": "b2553887-2852-41b1-9b2d-52fc71fdb55d"
      },
      "outputs": [
        {
          "output_type": "stream",
          "name": "stdout",
          "text": [
            "root\n",
            " |-- andar: long (nullable = true)\n",
            " |-- area_total: array (nullable = true)\n",
            " |    |-- element: string (containsNull = true)\n",
            " |-- area_util: array (nullable = true)\n",
            " |    |-- element: string (containsNull = true)\n",
            " |-- banheiros: array (nullable = true)\n",
            " |    |-- element: long (containsNull = true)\n",
            " |-- caracteristicas: array (nullable = true)\n",
            " |    |-- element: string (containsNull = true)\n",
            " |-- endereco: struct (nullable = true)\n",
            " |    |-- bairro: string (nullable = true)\n",
            " |    |-- cep: string (nullable = true)\n",
            " |    |-- cidade: string (nullable = true)\n",
            " |    |-- estado: string (nullable = true)\n",
            " |    |-- latitude: double (nullable = true)\n",
            " |    |-- longitude: double (nullable = true)\n",
            " |    |-- pais: string (nullable = true)\n",
            " |    |-- rua: string (nullable = true)\n",
            " |    |-- zona: string (nullable = true)\n",
            " |-- id: string (nullable = true)\n",
            " |-- quartos: array (nullable = true)\n",
            " |    |-- element: long (containsNull = true)\n",
            " |-- suites: array (nullable = true)\n",
            " |    |-- element: long (containsNull = true)\n",
            " |-- tipo_anuncio: string (nullable = true)\n",
            " |-- tipo_unidade: string (nullable = true)\n",
            " |-- tipo_uso: string (nullable = true)\n",
            " |-- vaga: array (nullable = true)\n",
            " |    |-- element: long (containsNull = true)\n",
            " |-- valores: array (nullable = true)\n",
            " |    |-- element: struct (containsNull = true)\n",
            " |    |    |-- condominio: string (nullable = true)\n",
            " |    |    |-- iptu: string (nullable = true)\n",
            " |    |    |-- tipo: string (nullable = true)\n",
            " |    |    |-- valor: string (nullable = true)\n",
            "\n"
          ]
        }
      ],
      "source": [
        "anuncio.printSchema()"
      ]
    },
    {
      "cell_type": "markdown",
      "metadata": {
        "id": "Ys642KoCR3Tm"
      },
      "source": [
        "Como pudemos ver no printSchema acima, algumas colunas estão em formato de listas quando deveriam estar em formato numérico. Dessa forma vamos partir para essas conversões."
      ]
    },
    {
      "cell_type": "code",
      "execution_count": 30,
      "metadata": {
        "id": "50KoF9JIRncC"
      },
      "outputs": [],
      "source": [
        "from pyspark.sql import functions as f"
      ]
    },
    {
      "cell_type": "markdown",
      "metadata": {
        "id": "3XFdgxWFSzrd"
      },
      "source": [
        "Antes de fazermos as conversões, vamos nos assegurar que as listas só possuem um elemento."
      ]
    },
    {
      "cell_type": "code",
      "execution_count": 31,
      "metadata": {
        "colab": {
          "base_uri": "https://localhost:8080/"
        },
        "id": "9xA9xrs4SqGX",
        "outputId": "b0c5547a-d3f8-4d03-89b8-ed0db2b26cd4"
      },
      "outputs": [
        {
          "output_type": "stream",
          "name": "stdout",
          "text": [
            "+-------+-----+\n",
            "|quartos|count|\n",
            "+-------+-----+\n",
            "|      1|66562|\n",
            "+-------+-----+\n",
            "\n"
          ]
        }
      ],
      "source": [
        "anuncio\\\n",
        "    .select(f.size(f.col('quartos')).alias('quartos'))\\\n",
        "    .groupBy('quartos')\\\n",
        "    .count()\\\n",
        "    .show()"
      ]
    },
    {
      "cell_type": "code",
      "execution_count": 32,
      "metadata": {
        "id": "HvF_d8jSTgQm"
      },
      "outputs": [],
      "source": [
        "caracteristicas = ['quartos', 'suites', 'banheiros', 'vaga', 'area_total', 'area_util']"
      ]
    },
    {
      "cell_type": "code",
      "execution_count": 33,
      "metadata": {
        "id": "EF5hijsPTHf3",
        "colab": {
          "base_uri": "https://localhost:8080/"
        },
        "outputId": "bae31aa2-f5e7-470f-be4d-e87912dc87a8"
      },
      "outputs": [
        {
          "output_type": "stream",
          "name": "stdout",
          "text": [
            "+-------+-----+\n",
            "|quartos|count|\n",
            "+-------+-----+\n",
            "|      1|66562|\n",
            "+-------+-----+\n",
            "\n",
            "+------+-----+\n",
            "|suites|count|\n",
            "+------+-----+\n",
            "|     1|61008|\n",
            "|     0| 5554|\n",
            "+------+-----+\n",
            "\n",
            "+---------+-----+\n",
            "|banheiros|count|\n",
            "+---------+-----+\n",
            "|        1|66562|\n",
            "+---------+-----+\n",
            "\n",
            "+----+-----+\n",
            "|vaga|count|\n",
            "+----+-----+\n",
            "|   1|63545|\n",
            "|   0| 3017|\n",
            "+----+-----+\n",
            "\n",
            "+----------+-----+\n",
            "|area_total|count|\n",
            "+----------+-----+\n",
            "|         1|57368|\n",
            "|         0| 9194|\n",
            "+----------+-----+\n",
            "\n",
            "+---------+-----+\n",
            "|area_util|count|\n",
            "+---------+-----+\n",
            "|        1|66562|\n",
            "+---------+-----+\n",
            "\n"
          ]
        }
      ],
      "source": [
        "for col in caracteristicas:\n",
        "  anuncio.select(f.size(f.col(col)).alias(col))\\\n",
        "  .groupBy(col)\\\n",
        "  .count()\\\n",
        "  .show()"
      ]
    },
    {
      "cell_type": "markdown",
      "metadata": {
        "id": "E-H27f5fT4lb"
      },
      "source": [
        "Como pudemos ver acima, existem elementos vazios em três colunas: vaga, suites e area total. Nas duas primeiras é compreensível, uma vez que existem imóveis que não as possuem. Já no caso de área total, é preciso uma investigação."
      ]
    },
    {
      "cell_type": "markdown",
      "metadata": {
        "id": "Q0QaI4FuUhMQ"
      },
      "source": [
        "Passada a etapa de averiguação, vamos partir para a substituição das listas pelos valores nas colunas."
      ]
    },
    {
      "cell_type": "code",
      "execution_count": 34,
      "metadata": {
        "id": "ea5uT3GiTdo0",
        "colab": {
          "base_uri": "https://localhost:8080/"
        },
        "outputId": "77f28d69-f4b8-4d9c-aed4-b10a8516b39f"
      },
      "outputs": [
        {
          "output_type": "stream",
          "name": "stdout",
          "text": [
            "+-----+----------+---------+---------+--------------------+--------------------+--------------------+-------+------+------------+------------+-----------+----+--------------------+\n",
            "|andar|area_total|area_util|banheiros|     caracteristicas|            endereco|                  id|quartos|suites|tipo_anuncio|tipo_unidade|   tipo_uso|vaga|             valores|\n",
            "+-----+----------+---------+---------+--------------------+--------------------+--------------------+-------+------+------------+------------+-----------+----+--------------------+\n",
            "|    3|        43|       43|        1|[Academia, Churra...|{Paciência, 23585...|d2e3a3aa-09b5-45a...|      2|  null|       Usado| Apartamento|Residencial|   1|[{245, null, Vend...|\n",
            "|    2|        42|       42|        1|[Churrasqueira, P...|{Paciência, 23585...|085bab2c-87ad-452...|      2|  null|       Usado| Apartamento|Residencial|   1|[{0, 0, Venda, 15...|\n",
            "|    1|        41|       41|        1|[Portaria 24h, Co...|{Guaratiba, 23036...|18d22cbe-1b86-476...|      2|  null|       Usado| Apartamento|Residencial|   1|[{0, 0, Venda, 20...|\n",
            "|    3|        43|       43|        1|[Churrasqueira, P...|{Cosmos, 23066271...|bed8a354-9317-442...|      2|  null|       Usado| Apartamento|Residencial|   0|[{285, null, Vend...|\n",
            "|    2|        43|       43|        1|[Academia, Churra...|{Guaratiba, 23036...|12a13315-d67f-48f...|      2|  null|       Usado| Apartamento|Residencial|   1|[{245, null, Vend...|\n",
            "|    3|        43|       43|        1|[Churrasqueira, P...|{Cosmos, 23066271...|a2e6d7a5-0ff0-484...|      2|     0|       Usado| Apartamento|Residencial|   0|[{285, null, Vend...|\n",
            "|    3|        43|       43|        1|[Churrasqueira, P...|{Paciência, 23585...|a6e3173b-c950-4db...|      2|  null|       Usado| Apartamento|Residencial|   1|[{250, null, Vend...|\n",
            "|    3|        43|       43|        1|[Churrasqueira, P...|{Guaratiba, 23036...|2e6e5dfb-206c-496...|      2|     0|       Usado| Apartamento|Residencial|   1|[{245, null, Vend...|\n",
            "|    3|        43|       43|        1|[Churrasqueira, P...|{Paciência, 23585...|99f8d0f9-95a4-461...|      2|     0|       Usado| Apartamento|Residencial|   1|[{245, null, Vend...|\n",
            "|    4|        43|       43|        1|[Churrasqueira, P...|{Guaratiba, 23036...|b3f44c1a-2d50-4d5...|      2|  null|       Usado| Apartamento|Residencial|   1|[{240, null, Vend...|\n",
            "|    0|        60|       60|        1|[Condomínio fechado]|{Pedra de Guarati...|dc99d9e1-4c63-41f...|      2|  null|       Usado| Apartamento|Residencial|   1|[{0, 0, Venda, 15...|\n",
            "|    1|        43|       43|        1|[Churrasqueira, P...|{Cosmos, 23056630...|aa3606d8-8bcd-45e...|      2|  null|       Usado| Apartamento|Residencial|   1|[{240, 0, Venda, ...|\n",
            "|    0|        43|       43|        1|[Churrasqueira, P...|{Campo Grande, 23...|df80b0d5-677c-4be...|      2|     0|       Usado| Apartamento|Residencial|   0|[{245, null, Vend...|\n",
            "|    2|        43|       43|        1|[Academia, Churra...|{Santa Cruz, 2352...|3d6c0218-9b7d-474...|      2|  null|       Usado| Apartamento|Residencial|   2|[{290, null, Vend...|\n",
            "|    3|        43|       43|        1|[Salão de festas,...|{Guaratiba, 23020...|304266cc-62d1-4ce...|      2|  null|       Usado| Apartamento|Residencial|null|[{285, null, Vend...|\n",
            "|    4|        55|       55|        2|[Academia, Churra...|{Recreio dos Band...|111472a2-afa1-4a7...|      2|     1|       Usado| Apartamento|Residencial|   1|[{0, 0, Venda, 30...|\n",
            "|    0|        45|       45|        1|[Playground, Pisc...|{Cosmos, 23066271...|275c1589-6537-4bf...|      2|     0|       Usado| Apartamento|Residencial|   1|[{null, null, Ven...|\n",
            "|    5|        42|       42|        1|[Condomínio fecha...|{Realengo, 217251...|ab8f367f-7509-45c...|      2|     0|       Usado| Apartamento|Residencial|   0|[{280, 0, Venda, ...|\n",
            "|    1|        43|       43|        1|[Churrasqueira, P...|{Cosmos, 23058001...|e0a3d370-66dd-4f5...|      2|  null|       Usado| Apartamento|Residencial|   1|[{280, null, Vend...|\n",
            "|    3|      null|       55|        1|[Academia, Churra...|{Todos os Santos,...|09c8ba2d-dbf1-487...|      2|     1|       Usado| Apartamento|Residencial|   1|[{0, 0, Venda, 26...|\n",
            "+-----+----------+---------+---------+--------------------+--------------------+--------------------+-------+------+------------+------------+-----------+----+--------------------+\n",
            "only showing top 20 rows\n",
            "\n"
          ]
        }
      ],
      "source": [
        "anuncio\\\n",
        "      .select([f.col(c)[0].alias(c) if c in caracteristicas else c for c in anuncio.columns])\\\n",
        "      .show()"
      ]
    },
    {
      "cell_type": "code",
      "execution_count": 35,
      "metadata": {
        "id": "fHkny_OOU-JA"
      },
      "outputs": [],
      "source": [
        "anuncio=anuncio.select([f.col(c)[0].alias(c) if c in caracteristicas else c for c in anuncio.columns])"
      ]
    },
    {
      "cell_type": "code",
      "execution_count": 36,
      "metadata": {
        "id": "58QSZhEGVIJw",
        "colab": {
          "base_uri": "https://localhost:8080/"
        },
        "outputId": "b21dcbf3-d881-4aca-ed9a-1503269b2367"
      },
      "outputs": [
        {
          "output_type": "stream",
          "name": "stdout",
          "text": [
            "+-----+----------+---------+---------+--------------------+--------------------+--------------------+-------+------+------------+------------+-----------+----+--------------------+\n",
            "|andar|area_total|area_util|banheiros|     caracteristicas|            endereco|                  id|quartos|suites|tipo_anuncio|tipo_unidade|   tipo_uso|vaga|             valores|\n",
            "+-----+----------+---------+---------+--------------------+--------------------+--------------------+-------+------+------------+------------+-----------+----+--------------------+\n",
            "|    3|        43|       43|        1|[Academia, Churra...|{Paciência, 23585...|d2e3a3aa-09b5-45a...|      2|  null|       Usado| Apartamento|Residencial|   1|[{245, null, Vend...|\n",
            "|    2|        42|       42|        1|[Churrasqueira, P...|{Paciência, 23585...|085bab2c-87ad-452...|      2|  null|       Usado| Apartamento|Residencial|   1|[{0, 0, Venda, 15...|\n",
            "|    1|        41|       41|        1|[Portaria 24h, Co...|{Guaratiba, 23036...|18d22cbe-1b86-476...|      2|  null|       Usado| Apartamento|Residencial|   1|[{0, 0, Venda, 20...|\n",
            "|    3|        43|       43|        1|[Churrasqueira, P...|{Cosmos, 23066271...|bed8a354-9317-442...|      2|  null|       Usado| Apartamento|Residencial|   0|[{285, null, Vend...|\n",
            "|    2|        43|       43|        1|[Academia, Churra...|{Guaratiba, 23036...|12a13315-d67f-48f...|      2|  null|       Usado| Apartamento|Residencial|   1|[{245, null, Vend...|\n",
            "|    3|        43|       43|        1|[Churrasqueira, P...|{Cosmos, 23066271...|a2e6d7a5-0ff0-484...|      2|     0|       Usado| Apartamento|Residencial|   0|[{285, null, Vend...|\n",
            "|    3|        43|       43|        1|[Churrasqueira, P...|{Paciência, 23585...|a6e3173b-c950-4db...|      2|  null|       Usado| Apartamento|Residencial|   1|[{250, null, Vend...|\n",
            "|    3|        43|       43|        1|[Churrasqueira, P...|{Guaratiba, 23036...|2e6e5dfb-206c-496...|      2|     0|       Usado| Apartamento|Residencial|   1|[{245, null, Vend...|\n",
            "|    3|        43|       43|        1|[Churrasqueira, P...|{Paciência, 23585...|99f8d0f9-95a4-461...|      2|     0|       Usado| Apartamento|Residencial|   1|[{245, null, Vend...|\n",
            "|    4|        43|       43|        1|[Churrasqueira, P...|{Guaratiba, 23036...|b3f44c1a-2d50-4d5...|      2|  null|       Usado| Apartamento|Residencial|   1|[{240, null, Vend...|\n",
            "|    0|        60|       60|        1|[Condomínio fechado]|{Pedra de Guarati...|dc99d9e1-4c63-41f...|      2|  null|       Usado| Apartamento|Residencial|   1|[{0, 0, Venda, 15...|\n",
            "|    1|        43|       43|        1|[Churrasqueira, P...|{Cosmos, 23056630...|aa3606d8-8bcd-45e...|      2|  null|       Usado| Apartamento|Residencial|   1|[{240, 0, Venda, ...|\n",
            "|    0|        43|       43|        1|[Churrasqueira, P...|{Campo Grande, 23...|df80b0d5-677c-4be...|      2|     0|       Usado| Apartamento|Residencial|   0|[{245, null, Vend...|\n",
            "|    2|        43|       43|        1|[Academia, Churra...|{Santa Cruz, 2352...|3d6c0218-9b7d-474...|      2|  null|       Usado| Apartamento|Residencial|   2|[{290, null, Vend...|\n",
            "|    3|        43|       43|        1|[Salão de festas,...|{Guaratiba, 23020...|304266cc-62d1-4ce...|      2|  null|       Usado| Apartamento|Residencial|null|[{285, null, Vend...|\n",
            "|    4|        55|       55|        2|[Academia, Churra...|{Recreio dos Band...|111472a2-afa1-4a7...|      2|     1|       Usado| Apartamento|Residencial|   1|[{0, 0, Venda, 30...|\n",
            "|    0|        45|       45|        1|[Playground, Pisc...|{Cosmos, 23066271...|275c1589-6537-4bf...|      2|     0|       Usado| Apartamento|Residencial|   1|[{null, null, Ven...|\n",
            "|    5|        42|       42|        1|[Condomínio fecha...|{Realengo, 217251...|ab8f367f-7509-45c...|      2|     0|       Usado| Apartamento|Residencial|   0|[{280, 0, Venda, ...|\n",
            "|    1|        43|       43|        1|[Churrasqueira, P...|{Cosmos, 23058001...|e0a3d370-66dd-4f5...|      2|  null|       Usado| Apartamento|Residencial|   1|[{280, null, Vend...|\n",
            "|    3|      null|       55|        1|[Academia, Churra...|{Todos os Santos,...|09c8ba2d-dbf1-487...|      2|     1|       Usado| Apartamento|Residencial|   1|[{0, 0, Venda, 26...|\n",
            "+-----+----------+---------+---------+--------------------+--------------------+--------------------+-------+------+------------+------------+-----------+----+--------------------+\n",
            "only showing top 20 rows\n",
            "\n"
          ]
        }
      ],
      "source": [
        "anuncio.show()"
      ]
    },
    {
      "cell_type": "code",
      "execution_count": 37,
      "metadata": {
        "id": "z6PF04N6VSra",
        "colab": {
          "base_uri": "https://localhost:8080/"
        },
        "outputId": "0fb2851a-a485-4d9c-d4d7-0787cf3b8650"
      },
      "outputs": [
        {
          "output_type": "stream",
          "name": "stdout",
          "text": [
            "root\n",
            " |-- andar: long (nullable = true)\n",
            " |-- area_total: string (nullable = true)\n",
            " |-- area_util: string (nullable = true)\n",
            " |-- banheiros: long (nullable = true)\n",
            " |-- caracteristicas: array (nullable = true)\n",
            " |    |-- element: string (containsNull = true)\n",
            " |-- endereco: struct (nullable = true)\n",
            " |    |-- bairro: string (nullable = true)\n",
            " |    |-- cep: string (nullable = true)\n",
            " |    |-- cidade: string (nullable = true)\n",
            " |    |-- estado: string (nullable = true)\n",
            " |    |-- latitude: double (nullable = true)\n",
            " |    |-- longitude: double (nullable = true)\n",
            " |    |-- pais: string (nullable = true)\n",
            " |    |-- rua: string (nullable = true)\n",
            " |    |-- zona: string (nullable = true)\n",
            " |-- id: string (nullable = true)\n",
            " |-- quartos: long (nullable = true)\n",
            " |-- suites: long (nullable = true)\n",
            " |-- tipo_anuncio: string (nullable = true)\n",
            " |-- tipo_unidade: string (nullable = true)\n",
            " |-- tipo_uso: string (nullable = true)\n",
            " |-- vaga: long (nullable = true)\n",
            " |-- valores: array (nullable = true)\n",
            " |    |-- element: struct (containsNull = true)\n",
            " |    |    |-- condominio: string (nullable = true)\n",
            " |    |    |-- iptu: string (nullable = true)\n",
            " |    |    |-- tipo: string (nullable = true)\n",
            " |    |    |-- valor: string (nullable = true)\n",
            "\n"
          ]
        }
      ],
      "source": [
        "anuncio.printSchema()"
      ]
    },
    {
      "cell_type": "markdown",
      "metadata": {
        "id": "rp2b77cktAnT"
      },
      "source": [
        "Como a imobiliária Insight Places atua somente no Rio de Janeiro, a equipe de Data Science nos solicitou uma nova filtragem, agora por cidade, bairro e zona."
      ]
    },
    {
      "cell_type": "code",
      "execution_count": 38,
      "metadata": {
        "id": "J5IKgEd7qzR2",
        "colab": {
          "base_uri": "https://localhost:8080/"
        },
        "outputId": "468242b4-daf6-49db-d4d6-76964f927a6a"
      },
      "outputs": [
        {
          "output_type": "stream",
          "name": "stdout",
          "text": [
            "+--------------------+--------+--------------+--------------+----------+----------+----+--------------------+----------+\n",
            "|              bairro|     cep|        cidade|        estado|  latitude| longitude|pais|                 rua|      zona|\n",
            "+--------------------+--------+--------------+--------------+----------+----------+----+--------------------+----------+\n",
            "|           Paciência|23585430|Rio de Janeiro|Rio de Janeiro|-22.919851|-43.634034|  BR|Estrada de Santa ...|Zona Oeste|\n",
            "|           Paciência|23585430|Rio de Janeiro|Rio de Janeiro|-22.928108|-43.635375|  BR|Estrada de Santa ...|Zona Oeste|\n",
            "|           Guaratiba|23036060|Rio de Janeiro|Rio de Janeiro|-22.948756|-43.582824|  BR|Estrada Cabuçu de...|Zona Oeste|\n",
            "|              Cosmos|23066271|Rio de Janeiro|Rio de Janeiro|-22.888194|-43.629602|  BR|Estrada da Paciência|Zona Oeste|\n",
            "|           Guaratiba|23036060|Rio de Janeiro|Rio de Janeiro|-22.948291|-43.582205|  BR|Estrada Cabuçu de...|Zona Oeste|\n",
            "|              Cosmos|23066271|Rio de Janeiro|Rio de Janeiro|-22.888194|-43.629602|  BR|Estrada da Paciência|Zona Oeste|\n",
            "|           Paciência|23585430|Rio de Janeiro|Rio de Janeiro|-22.919851|-43.634034|  BR|Estrada de Santa ...|Zona Oeste|\n",
            "|           Guaratiba|23036060|Rio de Janeiro|Rio de Janeiro|-22.948291|-43.582205|  BR|Estrada Cabuçu de...|Zona Oeste|\n",
            "|           Paciência|23585430|Rio de Janeiro|Rio de Janeiro|-22.919851|-43.634034|  BR|Estrada de Santa ...|Zona Oeste|\n",
            "|           Guaratiba|23036060|Rio de Janeiro|Rio de Janeiro|-22.948291|-43.582205|  BR|Estrada Cabuçu de...|Zona Oeste|\n",
            "|  Pedra de Guaratiba|23025018|Rio de Janeiro|Rio de Janeiro|-22.991393|-43.628042|  BR|Rua Cento e Trint...|Zona Oeste|\n",
            "|              Cosmos|23056630|Rio de Janeiro|Rio de Janeiro|-22.918594|-43.611184|  BR|   Rua das Amoreiras|Zona Oeste|\n",
            "|        Campo Grande|23070600|Rio de Janeiro|Rio de Janeiro|-22.883694|-43.593646|  BR|    Rua Constituinte|Zona Oeste|\n",
            "|          Santa Cruz|23520560|Rio de Janeiro|Rio de Janeiro|-22.945648|-43.640029|  BR|Estrada de Santa ...|Zona Oeste|\n",
            "|           Guaratiba|23020135|Rio de Janeiro|Rio de Janeiro|-22.936475|-43.583306|  BR|   Rua Seis de Julho|Zona Oeste|\n",
            "|Recreio dos Bande...|22790880|Rio de Janeiro|Rio de Janeiro|-23.022323|-43.509961|  BR|Rua Luiz Carlos S...|Zona Oeste|\n",
            "|              Cosmos|23066271|Rio de Janeiro|Rio de Janeiro| -22.88939|-43.629587|  BR|Estrada da Paciência|Zona Oeste|\n",
            "|            Realengo|21725180|Rio de Janeiro|Rio de Janeiro|-22.857776|-43.448282|  BR| Rua Hélio do Amaral|Zona Oeste|\n",
            "|              Cosmos|23058001|Rio de Janeiro|Rio de Janeiro|-22.915615| -43.61736|  BR|Avenida Cesário d...|Zona Oeste|\n",
            "|     Todos os Santos|20770240|Rio de Janeiro|Rio de Janeiro|-22.896488|-43.282714|  BR|  Rua José Bonifácio|Zona Norte|\n",
            "+--------------------+--------+--------------+--------------+----------+----------+----+--------------------+----------+\n",
            "only showing top 20 rows\n",
            "\n"
          ]
        }
      ],
      "source": [
        "anuncio\\\n",
        "    .select('endereco.*')\\\n",
        "    .show()"
      ]
    },
    {
      "cell_type": "code",
      "execution_count": 39,
      "metadata": {
        "id": "hNbKdREpVVeI",
        "colab": {
          "base_uri": "https://localhost:8080/"
        },
        "outputId": "28bba20c-55f2-4b0d-b002-e253488fc174"
      },
      "outputs": [
        {
          "output_type": "stream",
          "name": "stdout",
          "text": [
            "+--------------------+----------+\n",
            "|              bairro|      zona|\n",
            "+--------------------+----------+\n",
            "|           Paciência|Zona Oeste|\n",
            "|           Paciência|Zona Oeste|\n",
            "|           Guaratiba|Zona Oeste|\n",
            "|              Cosmos|Zona Oeste|\n",
            "|           Guaratiba|Zona Oeste|\n",
            "|              Cosmos|Zona Oeste|\n",
            "|           Paciência|Zona Oeste|\n",
            "|           Guaratiba|Zona Oeste|\n",
            "|           Paciência|Zona Oeste|\n",
            "|           Guaratiba|Zona Oeste|\n",
            "|  Pedra de Guaratiba|Zona Oeste|\n",
            "|              Cosmos|Zona Oeste|\n",
            "|        Campo Grande|Zona Oeste|\n",
            "|          Santa Cruz|Zona Oeste|\n",
            "|           Guaratiba|Zona Oeste|\n",
            "|Recreio dos Bande...|Zona Oeste|\n",
            "|              Cosmos|Zona Oeste|\n",
            "|            Realengo|Zona Oeste|\n",
            "|              Cosmos|Zona Oeste|\n",
            "|     Todos os Santos|Zona Norte|\n",
            "+--------------------+----------+\n",
            "only showing top 20 rows\n",
            "\n"
          ]
        }
      ],
      "source": [
        "anuncio\\\n",
        "    .select('endereco.bairro', 'endereco.zona')\\\n",
        "    .show()"
      ]
    },
    {
      "cell_type": "code",
      "source": [
        "anuncio\\\n",
        "    .select('*',  'endereco.bairro', 'endereco.zona')\\\n",
        "    .drop('endereco')\\\n",
        "    .show()"
      ],
      "metadata": {
        "colab": {
          "base_uri": "https://localhost:8080/"
        },
        "id": "H267HeUNwiYK",
        "outputId": "0e138b22-c423-4891-c68f-e0745e0cb3af"
      },
      "execution_count": 40,
      "outputs": [
        {
          "output_type": "stream",
          "name": "stdout",
          "text": [
            "+-----+----------+---------+---------+--------------------+--------------------+-------+------+------------+------------+-----------+----+--------------------+--------------------+----------+\n",
            "|andar|area_total|area_util|banheiros|     caracteristicas|                  id|quartos|suites|tipo_anuncio|tipo_unidade|   tipo_uso|vaga|             valores|              bairro|      zona|\n",
            "+-----+----------+---------+---------+--------------------+--------------------+-------+------+------------+------------+-----------+----+--------------------+--------------------+----------+\n",
            "|    3|        43|       43|        1|[Academia, Churra...|d2e3a3aa-09b5-45a...|      2|  null|       Usado| Apartamento|Residencial|   1|[{245, null, Vend...|           Paciência|Zona Oeste|\n",
            "|    2|        42|       42|        1|[Churrasqueira, P...|085bab2c-87ad-452...|      2|  null|       Usado| Apartamento|Residencial|   1|[{0, 0, Venda, 15...|           Paciência|Zona Oeste|\n",
            "|    1|        41|       41|        1|[Portaria 24h, Co...|18d22cbe-1b86-476...|      2|  null|       Usado| Apartamento|Residencial|   1|[{0, 0, Venda, 20...|           Guaratiba|Zona Oeste|\n",
            "|    3|        43|       43|        1|[Churrasqueira, P...|bed8a354-9317-442...|      2|  null|       Usado| Apartamento|Residencial|   0|[{285, null, Vend...|              Cosmos|Zona Oeste|\n",
            "|    2|        43|       43|        1|[Academia, Churra...|12a13315-d67f-48f...|      2|  null|       Usado| Apartamento|Residencial|   1|[{245, null, Vend...|           Guaratiba|Zona Oeste|\n",
            "|    3|        43|       43|        1|[Churrasqueira, P...|a2e6d7a5-0ff0-484...|      2|     0|       Usado| Apartamento|Residencial|   0|[{285, null, Vend...|              Cosmos|Zona Oeste|\n",
            "|    3|        43|       43|        1|[Churrasqueira, P...|a6e3173b-c950-4db...|      2|  null|       Usado| Apartamento|Residencial|   1|[{250, null, Vend...|           Paciência|Zona Oeste|\n",
            "|    3|        43|       43|        1|[Churrasqueira, P...|2e6e5dfb-206c-496...|      2|     0|       Usado| Apartamento|Residencial|   1|[{245, null, Vend...|           Guaratiba|Zona Oeste|\n",
            "|    3|        43|       43|        1|[Churrasqueira, P...|99f8d0f9-95a4-461...|      2|     0|       Usado| Apartamento|Residencial|   1|[{245, null, Vend...|           Paciência|Zona Oeste|\n",
            "|    4|        43|       43|        1|[Churrasqueira, P...|b3f44c1a-2d50-4d5...|      2|  null|       Usado| Apartamento|Residencial|   1|[{240, null, Vend...|           Guaratiba|Zona Oeste|\n",
            "|    0|        60|       60|        1|[Condomínio fechado]|dc99d9e1-4c63-41f...|      2|  null|       Usado| Apartamento|Residencial|   1|[{0, 0, Venda, 15...|  Pedra de Guaratiba|Zona Oeste|\n",
            "|    1|        43|       43|        1|[Churrasqueira, P...|aa3606d8-8bcd-45e...|      2|  null|       Usado| Apartamento|Residencial|   1|[{240, 0, Venda, ...|              Cosmos|Zona Oeste|\n",
            "|    0|        43|       43|        1|[Churrasqueira, P...|df80b0d5-677c-4be...|      2|     0|       Usado| Apartamento|Residencial|   0|[{245, null, Vend...|        Campo Grande|Zona Oeste|\n",
            "|    2|        43|       43|        1|[Academia, Churra...|3d6c0218-9b7d-474...|      2|  null|       Usado| Apartamento|Residencial|   2|[{290, null, Vend...|          Santa Cruz|Zona Oeste|\n",
            "|    3|        43|       43|        1|[Salão de festas,...|304266cc-62d1-4ce...|      2|  null|       Usado| Apartamento|Residencial|null|[{285, null, Vend...|           Guaratiba|Zona Oeste|\n",
            "|    4|        55|       55|        2|[Academia, Churra...|111472a2-afa1-4a7...|      2|     1|       Usado| Apartamento|Residencial|   1|[{0, 0, Venda, 30...|Recreio dos Bande...|Zona Oeste|\n",
            "|    0|        45|       45|        1|[Playground, Pisc...|275c1589-6537-4bf...|      2|     0|       Usado| Apartamento|Residencial|   1|[{null, null, Ven...|              Cosmos|Zona Oeste|\n",
            "|    5|        42|       42|        1|[Condomínio fecha...|ab8f367f-7509-45c...|      2|     0|       Usado| Apartamento|Residencial|   0|[{280, 0, Venda, ...|            Realengo|Zona Oeste|\n",
            "|    1|        43|       43|        1|[Churrasqueira, P...|e0a3d370-66dd-4f5...|      2|  null|       Usado| Apartamento|Residencial|   1|[{280, null, Vend...|              Cosmos|Zona Oeste|\n",
            "|    3|      null|       55|        1|[Academia, Churra...|09c8ba2d-dbf1-487...|      2|     1|       Usado| Apartamento|Residencial|   1|[{0, 0, Venda, 26...|     Todos os Santos|Zona Norte|\n",
            "+-----+----------+---------+---------+--------------------+--------------------+-------+------+------------+------------+-----------+----+--------------------+--------------------+----------+\n",
            "only showing top 20 rows\n",
            "\n"
          ]
        }
      ]
    },
    {
      "cell_type": "code",
      "source": [
        "anuncio\\\n",
        "    .select('*',  'endereco.bairro', 'endereco.zona')\\\n",
        "    .drop('endereco')\\\n",
        "    .show()"
      ],
      "metadata": {
        "colab": {
          "base_uri": "https://localhost:8080/"
        },
        "id": "nc633dj2wj34",
        "outputId": "87ca9598-5aef-4406-d1a3-a5ec95894fc6"
      },
      "execution_count": 41,
      "outputs": [
        {
          "output_type": "stream",
          "name": "stdout",
          "text": [
            "+-----+----------+---------+---------+--------------------+--------------------+-------+------+------------+------------+-----------+----+--------------------+--------------------+----------+\n",
            "|andar|area_total|area_util|banheiros|     caracteristicas|                  id|quartos|suites|tipo_anuncio|tipo_unidade|   tipo_uso|vaga|             valores|              bairro|      zona|\n",
            "+-----+----------+---------+---------+--------------------+--------------------+-------+------+------------+------------+-----------+----+--------------------+--------------------+----------+\n",
            "|    3|        43|       43|        1|[Academia, Churra...|d2e3a3aa-09b5-45a...|      2|  null|       Usado| Apartamento|Residencial|   1|[{245, null, Vend...|           Paciência|Zona Oeste|\n",
            "|    2|        42|       42|        1|[Churrasqueira, P...|085bab2c-87ad-452...|      2|  null|       Usado| Apartamento|Residencial|   1|[{0, 0, Venda, 15...|           Paciência|Zona Oeste|\n",
            "|    1|        41|       41|        1|[Portaria 24h, Co...|18d22cbe-1b86-476...|      2|  null|       Usado| Apartamento|Residencial|   1|[{0, 0, Venda, 20...|           Guaratiba|Zona Oeste|\n",
            "|    3|        43|       43|        1|[Churrasqueira, P...|bed8a354-9317-442...|      2|  null|       Usado| Apartamento|Residencial|   0|[{285, null, Vend...|              Cosmos|Zona Oeste|\n",
            "|    2|        43|       43|        1|[Academia, Churra...|12a13315-d67f-48f...|      2|  null|       Usado| Apartamento|Residencial|   1|[{245, null, Vend...|           Guaratiba|Zona Oeste|\n",
            "|    3|        43|       43|        1|[Churrasqueira, P...|a2e6d7a5-0ff0-484...|      2|     0|       Usado| Apartamento|Residencial|   0|[{285, null, Vend...|              Cosmos|Zona Oeste|\n",
            "|    3|        43|       43|        1|[Churrasqueira, P...|a6e3173b-c950-4db...|      2|  null|       Usado| Apartamento|Residencial|   1|[{250, null, Vend...|           Paciência|Zona Oeste|\n",
            "|    3|        43|       43|        1|[Churrasqueira, P...|2e6e5dfb-206c-496...|      2|     0|       Usado| Apartamento|Residencial|   1|[{245, null, Vend...|           Guaratiba|Zona Oeste|\n",
            "|    3|        43|       43|        1|[Churrasqueira, P...|99f8d0f9-95a4-461...|      2|     0|       Usado| Apartamento|Residencial|   1|[{245, null, Vend...|           Paciência|Zona Oeste|\n",
            "|    4|        43|       43|        1|[Churrasqueira, P...|b3f44c1a-2d50-4d5...|      2|  null|       Usado| Apartamento|Residencial|   1|[{240, null, Vend...|           Guaratiba|Zona Oeste|\n",
            "|    0|        60|       60|        1|[Condomínio fechado]|dc99d9e1-4c63-41f...|      2|  null|       Usado| Apartamento|Residencial|   1|[{0, 0, Venda, 15...|  Pedra de Guaratiba|Zona Oeste|\n",
            "|    1|        43|       43|        1|[Churrasqueira, P...|aa3606d8-8bcd-45e...|      2|  null|       Usado| Apartamento|Residencial|   1|[{240, 0, Venda, ...|              Cosmos|Zona Oeste|\n",
            "|    0|        43|       43|        1|[Churrasqueira, P...|df80b0d5-677c-4be...|      2|     0|       Usado| Apartamento|Residencial|   0|[{245, null, Vend...|        Campo Grande|Zona Oeste|\n",
            "|    2|        43|       43|        1|[Academia, Churra...|3d6c0218-9b7d-474...|      2|  null|       Usado| Apartamento|Residencial|   2|[{290, null, Vend...|          Santa Cruz|Zona Oeste|\n",
            "|    3|        43|       43|        1|[Salão de festas,...|304266cc-62d1-4ce...|      2|  null|       Usado| Apartamento|Residencial|null|[{285, null, Vend...|           Guaratiba|Zona Oeste|\n",
            "|    4|        55|       55|        2|[Academia, Churra...|111472a2-afa1-4a7...|      2|     1|       Usado| Apartamento|Residencial|   1|[{0, 0, Venda, 30...|Recreio dos Bande...|Zona Oeste|\n",
            "|    0|        45|       45|        1|[Playground, Pisc...|275c1589-6537-4bf...|      2|     0|       Usado| Apartamento|Residencial|   1|[{null, null, Ven...|              Cosmos|Zona Oeste|\n",
            "|    5|        42|       42|        1|[Condomínio fecha...|ab8f367f-7509-45c...|      2|     0|       Usado| Apartamento|Residencial|   0|[{280, 0, Venda, ...|            Realengo|Zona Oeste|\n",
            "|    1|        43|       43|        1|[Churrasqueira, P...|e0a3d370-66dd-4f5...|      2|  null|       Usado| Apartamento|Residencial|   1|[{280, null, Vend...|              Cosmos|Zona Oeste|\n",
            "|    3|      null|       55|        1|[Academia, Churra...|09c8ba2d-dbf1-487...|      2|     1|       Usado| Apartamento|Residencial|   1|[{0, 0, Venda, 26...|     Todos os Santos|Zona Norte|\n",
            "+-----+----------+---------+---------+--------------------+--------------------+-------+------+------------+------------+-----------+----+--------------------+--------------------+----------+\n",
            "only showing top 20 rows\n",
            "\n"
          ]
        }
      ]
    },
    {
      "cell_type": "markdown",
      "source": [
        "Excluindo a coluna de endereço para ficarmos somente com as informações de bairro e zona"
      ],
      "metadata": {
        "id": "lg7Yy0QXx-5j"
      }
    },
    {
      "cell_type": "code",
      "source": [
        "anuncio=anuncio\\\n",
        "    .select('*',  'endereco.bairro', 'endereco.zona')\\\n",
        "    .drop('endereco')"
      ],
      "metadata": {
        "id": "XYykkoGfx6pR"
      },
      "execution_count": 42,
      "outputs": []
    },
    {
      "cell_type": "code",
      "source": [
        "anuncio.printSchema()"
      ],
      "metadata": {
        "colab": {
          "base_uri": "https://localhost:8080/"
        },
        "id": "MuImDASsyGNF",
        "outputId": "cee9135d-ca73-4932-b784-984e4fde62db"
      },
      "execution_count": 43,
      "outputs": [
        {
          "output_type": "stream",
          "name": "stdout",
          "text": [
            "root\n",
            " |-- andar: long (nullable = true)\n",
            " |-- area_total: string (nullable = true)\n",
            " |-- area_util: string (nullable = true)\n",
            " |-- banheiros: long (nullable = true)\n",
            " |-- caracteristicas: array (nullable = true)\n",
            " |    |-- element: string (containsNull = true)\n",
            " |-- id: string (nullable = true)\n",
            " |-- quartos: long (nullable = true)\n",
            " |-- suites: long (nullable = true)\n",
            " |-- tipo_anuncio: string (nullable = true)\n",
            " |-- tipo_unidade: string (nullable = true)\n",
            " |-- tipo_uso: string (nullable = true)\n",
            " |-- vaga: long (nullable = true)\n",
            " |-- valores: array (nullable = true)\n",
            " |    |-- element: struct (containsNull = true)\n",
            " |    |    |-- condominio: string (nullable = true)\n",
            " |    |    |-- iptu: string (nullable = true)\n",
            " |    |    |-- tipo: string (nullable = true)\n",
            " |    |    |-- valor: string (nullable = true)\n",
            " |-- bairro: string (nullable = true)\n",
            " |-- zona: string (nullable = true)\n",
            "\n"
          ]
        }
      ]
    },
    {
      "cell_type": "markdown",
      "source": [
        "Agora vamos focar na coluna 'valores', mais especificamente, em transformar o conteúdo dela, que está em formato de array, em colunas separadas em nosso DataFrame."
      ],
      "metadata": {
        "id": "k7egZD6t0Py2"
      }
    },
    {
      "cell_type": "markdown",
      "source": [
        "Analisando o .printSchema acima, podemos ver que a coluna 'valores' esta organizada em um array, ou seja, uma lista que contém elementos. Esses elementos são dicionários com as informações de **condomínio, iptu, tipo e valor**.\n",
        "\n",
        "Para isso vamos utilizar a funcção .explode() do spark.\n",
        "\n",
        "Como no momento do cadastro, o vendedor tem a opção de anuniciar para venda e/ou aluguel, alguns anuncios possuem esse valor a mais, por causa do aluguel.\n",
        "\n",
        "Para o modelo, usaremos somente os valores de **venda**, pois estamos desenvolvendo um modelo de precificação dos imóveis."
      ],
      "metadata": {
        "id": "i_knE47J1ER0"
      }
    },
    {
      "cell_type": "code",
      "source": [
        "anuncio\\\n",
        "    .select('valores')\\\n",
        "    .show()"
      ],
      "metadata": {
        "colab": {
          "base_uri": "https://localhost:8080/"
        },
        "id": "o4FQybcmz_kr",
        "outputId": "67448438-caa8-47cd-8426-a1c310b26a7f"
      },
      "execution_count": 44,
      "outputs": [
        {
          "output_type": "stream",
          "name": "stdout",
          "text": [
            "+--------------------+\n",
            "|             valores|\n",
            "+--------------------+\n",
            "|[{245, null, Vend...|\n",
            "|[{0, 0, Venda, 15...|\n",
            "|[{0, 0, Venda, 20...|\n",
            "|[{285, null, Vend...|\n",
            "|[{245, null, Vend...|\n",
            "|[{285, null, Vend...|\n",
            "|[{250, null, Vend...|\n",
            "|[{245, null, Vend...|\n",
            "|[{245, null, Vend...|\n",
            "|[{240, null, Vend...|\n",
            "|[{0, 0, Venda, 15...|\n",
            "|[{240, 0, Venda, ...|\n",
            "|[{245, null, Vend...|\n",
            "|[{290, null, Vend...|\n",
            "|[{285, null, Vend...|\n",
            "|[{0, 0, Venda, 30...|\n",
            "|[{null, null, Ven...|\n",
            "|[{280, 0, Venda, ...|\n",
            "|[{280, null, Vend...|\n",
            "|[{0, 0, Venda, 26...|\n",
            "+--------------------+\n",
            "only showing top 20 rows\n",
            "\n"
          ]
        }
      ]
    },
    {
      "cell_type": "code",
      "source": [
        "anuncio\\\n",
        "      .select(f.explode('valores').alias('valores'))\\\n",
        "      .select('valores.*')\\\n",
        "      .filter('valores.tipo==\"Venda\"')\\\n",
        "      .count()"
      ],
      "metadata": {
        "colab": {
          "base_uri": "https://localhost:8080/"
        },
        "id": "tNqVlkQs0sth",
        "outputId": "692d830a-1363-4c0f-a48d-f16d51eafbf2"
      },
      "execution_count": 45,
      "outputs": [
        {
          "output_type": "execute_result",
          "data": {
            "text/plain": [
              "66562"
            ]
          },
          "metadata": {},
          "execution_count": 45
        }
      ]
    },
    {
      "cell_type": "code",
      "source": [
        "anuncio\\\n",
        "    .select('id', f.explode('valores').alias('valores'))\\\n",
        "    .select('id', 'valores.*')\\\n",
        "    .show(50, truncate=False)"
      ],
      "metadata": {
        "colab": {
          "base_uri": "https://localhost:8080/"
        },
        "id": "k4jbI_PQ5VVH",
        "outputId": "e8168710-c444-45dc-81cb-ec98d086565d"
      },
      "execution_count": 46,
      "outputs": [
        {
          "output_type": "stream",
          "name": "stdout",
          "text": [
            "+------------------------------------+----------+----+-------+-----+\n",
            "|id                                  |condominio|iptu|tipo   |valor|\n",
            "+------------------------------------+----------+----+-------+-----+\n",
            "|d2e3a3aa-09b5-45a0-9dcd-918847cd3ca3|245       |null|Venda  |15000|\n",
            "|085bab2c-87ad-452a-bd0f-8b1451509f84|0         |0   |Venda  |15000|\n",
            "|18d22cbe-1b86-4764-8def-70c615f15a61|0         |0   |Venda  |20000|\n",
            "|bed8a354-9317-4426-b27e-1c798f864271|285       |null|Venda  |20000|\n",
            "|12a13315-d67f-48f0-9497-017b83252781|245       |null|Venda  |15000|\n",
            "|a2e6d7a5-0ff0-484d-b3d8-3a8f15e2d80e|285       |null|Venda  |20000|\n",
            "|a6e3173b-c950-4db4-9b7b-80c44bd75e90|250       |null|Venda  |15000|\n",
            "|2e6e5dfb-206c-4968-944b-ea4c3918b50d|245       |null|Venda  |15000|\n",
            "|99f8d0f9-95a4-4613-a55d-c949e7a73e90|245       |null|Venda  |15000|\n",
            "|b3f44c1a-2d50-4d56-b1fb-a94d59b55ab8|240       |null|Venda  |17999|\n",
            "|dc99d9e1-4c63-41f7-a53d-678b2b3ccb52|0         |0   |Venda  |15000|\n",
            "|aa3606d8-8bcd-45ec-a609-d68a58a12014|240       |0   |Venda  |19999|\n",
            "|df80b0d5-677c-4be7-93c4-ddef578125ac|245       |null|Venda  |19999|\n",
            "|3d6c0218-9b7d-474b-9a44-cd3e005375f9|290       |null|Venda  |25000|\n",
            "|304266cc-62d1-4ce7-909b-21198c306839|285       |null|Venda  |29999|\n",
            "|111472a2-afa1-4a73-a8b3-3588ffba362c|0         |0   |Venda  |30000|\n",
            "|275c1589-6537-4bf7-9504-74410dbf01fc|null      |null|Venda  |30000|\n",
            "|ab8f367f-7509-45c7-ad9a-f51f84584376|280       |0   |Venda  |25000|\n",
            "|e0a3d370-66dd-4f50-a3d9-cf09c8212318|280       |null|Venda  |27999|\n",
            "|09c8ba2d-dbf1-4879-ba5b-1345355dc415|0         |0   |Venda  |26000|\n",
            "|33da5489-72c9-4d18-883c-a85363348bcc|200       |0   |Venda  |23000|\n",
            "|08511604-dffe-40a4-801b-2ee1e73d49c5|245       |null|Venda  |29999|\n",
            "|a8de531f-5e85-4217-aa7d-578b9cc3ee97|null      |0   |Venda  |27000|\n",
            "|03a386b6-7ab8-4eff-891d-f8a16efc1989|285       |null|Venda  |22999|\n",
            "|f63ae653-c3ac-4d1a-a87e-9f3f1fb27c7f|200       |0   |Venda  |23000|\n",
            "|c2676515-0633-4375-958e-b7b1644a4108|null      |null|Venda  |28000|\n",
            "|01de0250-50cc-4e75-9c01-b886c5059ddc|200       |0   |Venda  |24999|\n",
            "|6b196ad0-fca5-4a2b-98f3-8e4abb633e5b|200       |0   |Venda  |23000|\n",
            "|57ac572e-34e2-4427-b3fa-d2198c4e9203|null      |0   |Venda  |25000|\n",
            "|fa17e63c-0a23-4a87-a985-9b7bd258353b|240       |null|Venda  |39999|\n",
            "|ae90e3f7-4b9e-4e68-a28c-7e98b6b3bd97|233       |null|Venda  |35000|\n",
            "|fca04c66-5f6d-4e9c-a2bd-b97eb179ad1b|270       |0   |Venda  |40000|\n",
            "|4f1755c9-862f-4dcd-a5f5-09af9ae74313|459       |0   |Venda  |40000|\n",
            "|61a40854-1fee-4f50-8c3c-d9fa4d9e16c7|233       |null|Venda  |39999|\n",
            "|d7ed40c6-96b2-4456-8ee6-c33e21772ba6|300       |null|Venda  |38000|\n",
            "|b8d40915-3fbd-4671-9797-e13e12f2d554|197       |0   |Venda  |40000|\n",
            "|891745fd-7826-425f-afb1-7a80425ebf1d|0         |0   |Venda  |35000|\n",
            "|47334896-dbd7-45ba-9b3f-c59bccdd54fb|275       |10  |Venda  |37000|\n",
            "|354e0850-cc2f-4a98-931b-af3ebb1527d0|0         |0   |Venda  |35000|\n",
            "|2cdbb771-2ae4-4979-a483-dcc6099d0893|350       |null|Venda  |50000|\n",
            "|42433229-ceef-4bb6-896a-46fdc1f85515|120       |0   |Venda  |43500|\n",
            "|c543da32-a895-45ee-9116-7f6387fcbc1b|299       |null|Venda  |50000|\n",
            "|31709fc3-0503-4e57-912f-e2fb0640cdf1|295       |null|Venda  |42000|\n",
            "|c425f585-53e3-44b6-8bb6-6b9b766b0e30|350       |20  |Venda  |49000|\n",
            "|c425f585-53e3-44b6-8bb6-6b9b766b0e30|350       |20  |Aluguel|700  |\n",
            "|df481ce5-65d0-4c15-936e-f4732ef96c49|0         |null|Venda  |50000|\n",
            "|df481ce5-65d0-4c15-936e-f4732ef96c49|0         |null|Aluguel|800  |\n",
            "|78c4d364-bed2-4af7-bbf4-fd2ffa83f7dd|150       |0   |Venda  |48000|\n",
            "|7e7d054f-0fb2-4c55-a66e-1c38de34e83a|null      |0   |Venda  |45000|\n",
            "|e1513f1d-2b36-4223-a94e-10e0b0ca42ba|50        |0   |Venda  |50000|\n",
            "+------------------------------------+----------+----+-------+-----+\n",
            "only showing top 50 rows\n",
            "\n"
          ]
        }
      ]
    },
    {
      "cell_type": "code",
      "source": [
        "anuncio\\\n",
        "    .select('id', f.explode('valores').alias('valores'))\\\n",
        "    .select('id', 'valores.*')\\\n",
        "    .filter('valores.tipo==\"Venda\"')\\\n",
        "    .show(truncate=False)"
      ],
      "metadata": {
        "colab": {
          "base_uri": "https://localhost:8080/"
        },
        "id": "FruFa_l57X-T",
        "outputId": "e7bf93ba-69ba-4cc6-e2cc-500ce342fbc9"
      },
      "execution_count": 47,
      "outputs": [
        {
          "output_type": "stream",
          "name": "stdout",
          "text": [
            "+------------------------------------+----------+----+-----+-----+\n",
            "|id                                  |condominio|iptu|tipo |valor|\n",
            "+------------------------------------+----------+----+-----+-----+\n",
            "|d2e3a3aa-09b5-45a0-9dcd-918847cd3ca3|245       |null|Venda|15000|\n",
            "|085bab2c-87ad-452a-bd0f-8b1451509f84|0         |0   |Venda|15000|\n",
            "|18d22cbe-1b86-4764-8def-70c615f15a61|0         |0   |Venda|20000|\n",
            "|bed8a354-9317-4426-b27e-1c798f864271|285       |null|Venda|20000|\n",
            "|12a13315-d67f-48f0-9497-017b83252781|245       |null|Venda|15000|\n",
            "|a2e6d7a5-0ff0-484d-b3d8-3a8f15e2d80e|285       |null|Venda|20000|\n",
            "|a6e3173b-c950-4db4-9b7b-80c44bd75e90|250       |null|Venda|15000|\n",
            "|2e6e5dfb-206c-4968-944b-ea4c3918b50d|245       |null|Venda|15000|\n",
            "|99f8d0f9-95a4-4613-a55d-c949e7a73e90|245       |null|Venda|15000|\n",
            "|b3f44c1a-2d50-4d56-b1fb-a94d59b55ab8|240       |null|Venda|17999|\n",
            "|dc99d9e1-4c63-41f7-a53d-678b2b3ccb52|0         |0   |Venda|15000|\n",
            "|aa3606d8-8bcd-45ec-a609-d68a58a12014|240       |0   |Venda|19999|\n",
            "|df80b0d5-677c-4be7-93c4-ddef578125ac|245       |null|Venda|19999|\n",
            "|3d6c0218-9b7d-474b-9a44-cd3e005375f9|290       |null|Venda|25000|\n",
            "|304266cc-62d1-4ce7-909b-21198c306839|285       |null|Venda|29999|\n",
            "|111472a2-afa1-4a73-a8b3-3588ffba362c|0         |0   |Venda|30000|\n",
            "|275c1589-6537-4bf7-9504-74410dbf01fc|null      |null|Venda|30000|\n",
            "|ab8f367f-7509-45c7-ad9a-f51f84584376|280       |0   |Venda|25000|\n",
            "|e0a3d370-66dd-4f50-a3d9-cf09c8212318|280       |null|Venda|27999|\n",
            "|09c8ba2d-dbf1-4879-ba5b-1345355dc415|0         |0   |Venda|26000|\n",
            "+------------------------------------+----------+----+-----+-----+\n",
            "only showing top 20 rows\n",
            "\n"
          ]
        }
      ]
    },
    {
      "cell_type": "code",
      "source": [
        "valores = anuncio\\\n",
        "      .select('id', f.explode('valores').alias('valores'))\\\n",
        "      .select('id', 'valores.*')\\\n",
        "      .filter('valores.tipo==\"Venda\"')"
      ],
      "metadata": {
        "id": "9M76KYnL7mcr"
      },
      "execution_count": 48,
      "outputs": []
    },
    {
      "cell_type": "markdown",
      "source": [
        "Utilizando a coluna 'id' como chave, vamos unir o dataframe 'valores' com o restante do DataFrame 'anuncio'."
      ],
      "metadata": {
        "id": "M1G-P6108tgo"
      }
    },
    {
      "cell_type": "code",
      "source": [
        "anuncio.join(valores, 'id', how='inner').count()"
      ],
      "metadata": {
        "colab": {
          "base_uri": "https://localhost:8080/"
        },
        "id": "9aTSFOyH8AyJ",
        "outputId": "87b7ff7e-7c35-4324-c8ef-44f791bebbed"
      },
      "execution_count": 49,
      "outputs": [
        {
          "output_type": "execute_result",
          "data": {
            "text/plain": [
              "66562"
            ]
          },
          "metadata": {},
          "execution_count": 49
        }
      ]
    },
    {
      "cell_type": "code",
      "source": [
        "anuncio.join(valores, 'id', how='inner').show()"
      ],
      "metadata": {
        "colab": {
          "base_uri": "https://localhost:8080/"
        },
        "id": "2eYWSdH088FY",
        "outputId": "d85b1c56-fa71-438f-f1d0-3454a738a356"
      },
      "execution_count": 50,
      "outputs": [
        {
          "output_type": "stream",
          "name": "stdout",
          "text": [
            "+--------------------+-----+----------+---------+---------+--------------------+-------+------+------------+------------+-----------+----+--------------------+--------------------+----------+----------+-----+-----+--------+\n",
            "|                  id|andar|area_total|area_util|banheiros|     caracteristicas|quartos|suites|tipo_anuncio|tipo_unidade|   tipo_uso|vaga|             valores|              bairro|      zona|condominio| iptu| tipo|   valor|\n",
            "+--------------------+-----+----------+---------+---------+--------------------+-------+------+------------+------------+-----------+----+--------------------+--------------------+----------+----------+-----+-----+--------+\n",
            "|006e2b19-f4de-450...|    0|       116|      116|        2|[Elevador, Academ...|      3|     1|       Usado| Apartamento|Residencial|   1|[{100, 100, Venda...|     Barra da Tijuca|Zona Oeste|       100|  100|Venda| 3793260|\n",
            "|011acce0-129f-4c2...|    0|       143|      143|        4|[Churrasqueira, P...|      4|     3|       Usado| Apartamento|Residencial|   1|[{3948, 2000, Ven...|         Jacarepaguá|Zona Oeste|      3948| 2000|Venda| 1600000|\n",
            "|013c582b-eca8-474...|    7|       236|      236|        4|[Elevador, Academ...|      5|     2|       Usado| Apartamento|Residencial|   3|[{20, 20, Venda, ...|Freguesia (Jacare...|Zona Oeste|        20|   20|Venda| 1535000|\n",
            "|013d04e0-6054-4ac...|    0|       215|      215|        3|[Churrasqueira, E...|      3|     1|       Usado| Apartamento|Residencial|   2|[{1685, 4500, Ven...|            Botafogo|  Zona Sul|      1685| 4500|Venda| 2279540|\n",
            "|02fba6ef-a691-442...|    3|        64|       64|        1|[Academia, Churra...|      2|     2|       Usado| Apartamento|Residencial|   1|[{784, 80, Venda,...|         Jacarepaguá|Zona Oeste|       784|   80|Venda|  380000|\n",
            "|03a386b6-7ab8-4ef...|    0|        43|       43|        1|[Churrasqueira, A...|      2|  null|       Usado| Apartamento|Residencial|   1|[{285, null, Vend...|            Realengo|Zona Oeste|       285| null|Venda|   22999|\n",
            "|05e0cf33-59c4-4dd...|    2|        66|       66|        2|[Elevador, Salão ...|      2|     0|       Usado| Apartamento|Residencial|   1|[{1600, 210, Vend...|              Leblon|  Zona Sul|      1600|  210|Venda| 1200000|\n",
            "|06e17192-b0ea-404...|    0|       154|      154|        5|[Condomínio fecha...|      4|  null|       Usado| Apartamento|Residencial|   3|[{1780, 4400, Ven...|     Barra da Tijuca|Zona Oeste|      1780| 4400|Venda| 2200000|\n",
            "|075962eb-be7f-47c...|    0|       100|      100|        3|[Piscina, Playgro...|      2|     1|       Usado| Apartamento|Residencial|   1|[{5000, 7840, Ven...|             Ipanema|  Zona Sul|      5000| 7840|Venda| 2000000|\n",
            "|07ab6e4a-fd5e-4c0...|    0|        70|       70|        2|          [Elevador]|      2|     0|       Usado| Apartamento|Residencial|   1|[{550, 1, Venda, ...|            Maracanã|Zona Norte|       550|    1|Venda|  438999|\n",
            "|07bb07c1-21cc-4da...|    2|        50|       48|        1|[Condomínio fecha...|      1|     0|       Usado| Apartamento|Residencial|   0|[{10, 10, Venda, ...|             Piedade|Zona Norte|        10|   10|Venda|  170000|\n",
            "|07cbfef2-efbf-4e8...|    1|       120|      120|        2|[Elevador, Portar...|      3|     0|       Usado| Apartamento|Residencial|   0|[{950, 270, Venda...|          Copacabana|  Zona Sul|       950|  270|Venda|  950000|\n",
            "|085e90da-4e5e-4bd...|    0|      null|      102|        2|[Academia, Churra...|      2|     2|       Usado| Apartamento|Residencial|   1|[{1, 1, Venda, 95...|         São Conrado|  Zona Sul|         1|    1|Venda|  950000|\n",
            "|092409e4-0c46-454...|    0|      null|       72|        1|[Elevador, Churra...|      2|     0|       Usado| Apartamento|Residencial|   1|[{2000, 225, Vend...|                Leme|  Zona Sul|      2000|  225|Venda|  750000|\n",
            "|0a00abfe-d8ac-487...|    0|        68|       68|        1|                  []|      2|     0|       Usado| Apartamento|Residencial|   0|[{750, 230, Venda...|               Zumbi|Zona Norte|       750|  230|Venda|  340000|\n",
            "|0b3f15d1-a6fe-429...|    2|       183|      183|        3|[Condomínio fecha...|      4|     2|       Usado| Apartamento|Residencial|   2|[{20, 20, Venda, ...|               Lagoa|  Zona Sul|        20|   20|Venda| 5784000|\n",
            "|0e3cea1c-fddc-4c5...|    0|       381|      381|        6|                  []|      4|     4|       Usado| Apartamento|Residencial|   3|[{6000, 28000, Ve...|     Barra da Tijuca|Zona Oeste|      6000|28000|Venda|10800000|\n",
            "|0e7f7703-c27b-4ac...|    4|        51|       51|        1|[Academia, Churra...|      2|     0|       Usado| Apartamento|Residencial|   1|[{435, 85, Venda,...|         Jacarepaguá|Zona Oeste|       435|   85|Venda|  239000|\n",
            "|0f8b79dd-85ac-48b...|    0|       168|      168|        5|[Condomínio fechado]|      4|     1|       Usado| Apartamento|Residencial|   2|[{2700, 900, Vend...|     Barra da Tijuca|Zona Oeste|      2700|  900|Venda| 3250000|\n",
            "|0f92a7ef-415f-4b5...|    0|       140|      140|        3|[Elevador, Condom...|      3|     1|       Usado| Apartamento|Residencial|   1|[{1400, 3800, Ven...|          Copacabana|  Zona Sul|      1400| 3800|Venda| 1650000|\n",
            "+--------------------+-----+----------+---------+---------+--------------------+-------+------+------------+------------+-----------+----+--------------------+--------------------+----------+----------+-----+-----+--------+\n",
            "only showing top 20 rows\n",
            "\n"
          ]
        }
      ]
    },
    {
      "cell_type": "markdown",
      "source": [
        "Excluindo agora a coluna 'valores'"
      ],
      "metadata": {
        "id": "O8vEhtna-xvb"
      }
    },
    {
      "cell_type": "code",
      "source": [
        "anuncio=anuncio.join(valores, 'id', how='inner').drop('valores')\n",
        "\n",
        "anuncio.show()"
      ],
      "metadata": {
        "colab": {
          "base_uri": "https://localhost:8080/"
        },
        "id": "8HJKvD5A-02U",
        "outputId": "9a93510b-f0b9-48e5-c4f5-e937ad733f2e"
      },
      "execution_count": 51,
      "outputs": [
        {
          "output_type": "stream",
          "name": "stdout",
          "text": [
            "+--------------------+-----+----------+---------+---------+--------------------+-------+------+------------+------------+-----------+----+--------------------+----------+----------+-----+-----+--------+\n",
            "|                  id|andar|area_total|area_util|banheiros|     caracteristicas|quartos|suites|tipo_anuncio|tipo_unidade|   tipo_uso|vaga|              bairro|      zona|condominio| iptu| tipo|   valor|\n",
            "+--------------------+-----+----------+---------+---------+--------------------+-------+------+------------+------------+-----------+----+--------------------+----------+----------+-----+-----+--------+\n",
            "|006e2b19-f4de-450...|    0|       116|      116|        2|[Elevador, Academ...|      3|     1|       Usado| Apartamento|Residencial|   1|     Barra da Tijuca|Zona Oeste|       100|  100|Venda| 3793260|\n",
            "|011acce0-129f-4c2...|    0|       143|      143|        4|[Churrasqueira, P...|      4|     3|       Usado| Apartamento|Residencial|   1|         Jacarepaguá|Zona Oeste|      3948| 2000|Venda| 1600000|\n",
            "|013c582b-eca8-474...|    7|       236|      236|        4|[Elevador, Academ...|      5|     2|       Usado| Apartamento|Residencial|   3|Freguesia (Jacare...|Zona Oeste|        20|   20|Venda| 1535000|\n",
            "|013d04e0-6054-4ac...|    0|       215|      215|        3|[Churrasqueira, E...|      3|     1|       Usado| Apartamento|Residencial|   2|            Botafogo|  Zona Sul|      1685| 4500|Venda| 2279540|\n",
            "|02fba6ef-a691-442...|    3|        64|       64|        1|[Academia, Churra...|      2|     2|       Usado| Apartamento|Residencial|   1|         Jacarepaguá|Zona Oeste|       784|   80|Venda|  380000|\n",
            "|03a386b6-7ab8-4ef...|    0|        43|       43|        1|[Churrasqueira, A...|      2|  null|       Usado| Apartamento|Residencial|   1|            Realengo|Zona Oeste|       285| null|Venda|   22999|\n",
            "|05e0cf33-59c4-4dd...|    2|        66|       66|        2|[Elevador, Salão ...|      2|     0|       Usado| Apartamento|Residencial|   1|              Leblon|  Zona Sul|      1600|  210|Venda| 1200000|\n",
            "|06e17192-b0ea-404...|    0|       154|      154|        5|[Condomínio fecha...|      4|  null|       Usado| Apartamento|Residencial|   3|     Barra da Tijuca|Zona Oeste|      1780| 4400|Venda| 2200000|\n",
            "|075962eb-be7f-47c...|    0|       100|      100|        3|[Piscina, Playgro...|      2|     1|       Usado| Apartamento|Residencial|   1|             Ipanema|  Zona Sul|      5000| 7840|Venda| 2000000|\n",
            "|07ab6e4a-fd5e-4c0...|    0|        70|       70|        2|          [Elevador]|      2|     0|       Usado| Apartamento|Residencial|   1|            Maracanã|Zona Norte|       550|    1|Venda|  438999|\n",
            "|07bb07c1-21cc-4da...|    2|        50|       48|        1|[Condomínio fecha...|      1|     0|       Usado| Apartamento|Residencial|   0|             Piedade|Zona Norte|        10|   10|Venda|  170000|\n",
            "|07cbfef2-efbf-4e8...|    1|       120|      120|        2|[Elevador, Portar...|      3|     0|       Usado| Apartamento|Residencial|   0|          Copacabana|  Zona Sul|       950|  270|Venda|  950000|\n",
            "|085e90da-4e5e-4bd...|    0|      null|      102|        2|[Academia, Churra...|      2|     2|       Usado| Apartamento|Residencial|   1|         São Conrado|  Zona Sul|         1|    1|Venda|  950000|\n",
            "|092409e4-0c46-454...|    0|      null|       72|        1|[Elevador, Churra...|      2|     0|       Usado| Apartamento|Residencial|   1|                Leme|  Zona Sul|      2000|  225|Venda|  750000|\n",
            "|0a00abfe-d8ac-487...|    0|        68|       68|        1|                  []|      2|     0|       Usado| Apartamento|Residencial|   0|               Zumbi|Zona Norte|       750|  230|Venda|  340000|\n",
            "|0b3f15d1-a6fe-429...|    2|       183|      183|        3|[Condomínio fecha...|      4|     2|       Usado| Apartamento|Residencial|   2|               Lagoa|  Zona Sul|        20|   20|Venda| 5784000|\n",
            "|0e3cea1c-fddc-4c5...|    0|       381|      381|        6|                  []|      4|     4|       Usado| Apartamento|Residencial|   3|     Barra da Tijuca|Zona Oeste|      6000|28000|Venda|10800000|\n",
            "|0e7f7703-c27b-4ac...|    4|        51|       51|        1|[Academia, Churra...|      2|     0|       Usado| Apartamento|Residencial|   1|         Jacarepaguá|Zona Oeste|       435|   85|Venda|  239000|\n",
            "|0f8b79dd-85ac-48b...|    0|       168|      168|        5|[Condomínio fechado]|      4|     1|       Usado| Apartamento|Residencial|   2|     Barra da Tijuca|Zona Oeste|      2700|  900|Venda| 3250000|\n",
            "|0f92a7ef-415f-4b5...|    0|       140|      140|        3|[Elevador, Condom...|      3|     1|       Usado| Apartamento|Residencial|   1|          Copacabana|  Zona Sul|      1400| 3800|Venda| 1650000|\n",
            "+--------------------+-----+----------+---------+---------+--------------------+-------+------+------------+------------+-----------+----+--------------------+----------+----------+-----+-----+--------+\n",
            "only showing top 20 rows\n",
            "\n"
          ]
        }
      ]
    },
    {
      "cell_type": "markdown",
      "source": [
        "Com a base de dados tratada, vamos salvá-la em formato parquet e .csv."
      ],
      "metadata": {
        "id": "Ur7eRh3MAVBU"
      }
    },
    {
      "cell_type": "code",
      "source": [
        "anuncio.write.parquet(\n",
        "    path = '/content/drive/Challenge_Data_Science_2/parquet',\n",
        "    mode = 'overwrite'\n",
        ")"
      ],
      "metadata": {
        "id": "fiiiL-66_Yoq"
      },
      "execution_count": 52,
      "outputs": []
    },
    {
      "cell_type": "markdown",
      "source": [
        "Para podermos salvar em .csv devemos excluir  a coluna 'caracteristicas', pois o formato não aceita array como datatype.\n",
        "\n",
        "\n",
        "\n",
        "\n",
        "\n"
      ],
      "metadata": {
        "id": "JSiPjS0ndCbw"
      }
    },
    {
      "cell_type": "code",
      "source": [
        "anuncio = anuncio.drop(\"caracteristicas\")"
      ],
      "metadata": {
        "id": "vV_uUT0MulH6"
      },
      "execution_count": 53,
      "outputs": []
    },
    {
      "cell_type": "code",
      "source": [
        "   anuncio.write.csv(\n",
        "    path = '/content/drive/Challenge_Data_Science_2/csv',\n",
        "    mode = 'overwrite',\n",
        "    header=True\n",
        "   )"
      ],
      "metadata": {
        "id": "p_FrxbjABJFy"
      },
      "execution_count": 54,
      "outputs": []
    },
    {
      "cell_type": "markdown",
      "source": [
        "Comparativo de tempo de execução dos arquivos .parquet e .csv"
      ],
      "metadata": {
        "id": "tWfpwtJt0eti"
      }
    },
    {
      "cell_type": "code",
      "source": [
        "#lendo arquivos\n",
        "\n",
        "anuncio_parquet = spark.read.parquet('/content/drive/Challenge_Data_Science_2/parquet')\n",
        "\n",
        "anuncio_csv = spark.read.csv('/content/drive/Challenge_Data_Science_2/csv', header = True)"
      ],
      "metadata": {
        "id": "NHVbIIGuBZQP"
      },
      "execution_count": 58,
      "outputs": []
    },
    {
      "cell_type": "code",
      "source": [
        "%%time\n",
        "anuncio_parquet.groupBy('bairro').count().show()"
      ],
      "metadata": {
        "colab": {
          "base_uri": "https://localhost:8080/"
        },
        "id": "tQFxLg39yg7N",
        "outputId": "f119518d-0349-4682-c0f3-1de93c62eef9"
      },
      "execution_count": 59,
      "outputs": [
        {
          "output_type": "stream",
          "name": "stdout",
          "text": [
            "+-------------------+-----+\n",
            "|             bairro|count|\n",
            "+-------------------+-----+\n",
            "|             Cocotá|   16|\n",
            "|              Gávea|  597|\n",
            "|       Tomás Coelho|   38|\n",
            "|            Ipanema| 2113|\n",
            "|           Realengo|   46|\n",
            "|      Gardênia Azul|    7|\n",
            "|              Rocha|   38|\n",
            "|      Bento Ribeiro|   33|\n",
            "|Vicente de Carvalho|   86|\n",
            "|         Manguinhos|    1|\n",
            "|        Jacarepaguá| 4437|\n",
            "|           Botafogo| 3499|\n",
            "|               Leme|  234|\n",
            "|       Campo Grande|  639|\n",
            "|       Padre Miguel|   15|\n",
            "|           Flamengo| 1378|\n",
            "|       Santo Cristo|  357|\n",
            "|  Engenho da Rainha|   25|\n",
            "| Pedra de Guaratiba|   12|\n",
            "|            Piedade|  104|\n",
            "+-------------------+-----+\n",
            "only showing top 20 rows\n",
            "\n",
            "CPU times: user 17.5 ms, sys: 3.38 ms, total: 20.9 ms\n",
            "Wall time: 2.18 s\n"
          ]
        }
      ]
    },
    {
      "cell_type": "code",
      "source": [
        "%%time\n",
        "anuncio_csv.groupBy('bairro').count().show()"
      ],
      "metadata": {
        "colab": {
          "base_uri": "https://localhost:8080/"
        },
        "id": "HzsrMz__1ECs",
        "outputId": "d21a2585-2bce-488d-f268-e28b8e2437ab"
      },
      "execution_count": 60,
      "outputs": [
        {
          "output_type": "stream",
          "name": "stdout",
          "text": [
            "+-------------------+-----+\n",
            "|             bairro|count|\n",
            "+-------------------+-----+\n",
            "|             Cocotá|   16|\n",
            "|              Gávea|  597|\n",
            "|       Tomás Coelho|   38|\n",
            "|            Ipanema| 2113|\n",
            "|           Realengo|   46|\n",
            "|      Gardênia Azul|    7|\n",
            "|              Rocha|   38|\n",
            "|      Bento Ribeiro|   33|\n",
            "|Vicente de Carvalho|   86|\n",
            "|         Manguinhos|    1|\n",
            "|        Jacarepaguá| 4437|\n",
            "|           Botafogo| 3499|\n",
            "|               Leme|  234|\n",
            "|       Campo Grande|  639|\n",
            "|       Padre Miguel|   15|\n",
            "|           Flamengo| 1378|\n",
            "|       Santo Cristo|  357|\n",
            "|  Engenho da Rainha|   25|\n",
            "| Pedra de Guaratiba|   12|\n",
            "|            Piedade|  104|\n",
            "+-------------------+-----+\n",
            "only showing top 20 rows\n",
            "\n",
            "CPU times: user 13.5 ms, sys: 1.21 ms, total: 14.7 ms\n",
            "Wall time: 1.67 s\n"
          ]
        }
      ]
    },
    {
      "cell_type": "code",
      "source": [],
      "metadata": {
        "id": "DQMWshgf1GVN"
      },
      "execution_count": null,
      "outputs": []
    }
  ],
  "metadata": {
    "colab": {
      "provenance": [],
      "authorship_tag": "ABX9TyMnOmpYVOLRM/V2NOJLgHeD",
      "include_colab_link": true
    },
    "kernelspec": {
      "display_name": "Python 3",
      "name": "python3"
    },
    "language_info": {
      "name": "python"
    }
  },
  "nbformat": 4,
  "nbformat_minor": 0
}