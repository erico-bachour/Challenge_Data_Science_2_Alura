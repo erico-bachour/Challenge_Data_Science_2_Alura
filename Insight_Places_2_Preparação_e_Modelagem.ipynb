{
  "cells": [
    {
      "cell_type": "markdown",
      "metadata": {
        "id": "view-in-github",
        "colab_type": "text"
      },
      "source": [
        "<a href=\"https://colab.research.google.com/github/erico-bachour/Challenge_Data_Science_2_Alura/blob/main/Insight_Places_2_Prepara%C3%A7%C3%A3o_e_Modelagem.ipynb\" target=\"_parent\"><img src=\"https://colab.research.google.com/assets/colab-badge.svg\" alt=\"Open In Colab\"/></a>"
      ]
    },
    {
      "cell_type": "markdown",
      "metadata": {
        "id": "-En4WYjyOddO"
      },
      "source": [
        "#**Imobiliária Insight Places - Modelo de Precificação**"
      ]
    },
    {
      "cell_type": "markdown",
      "metadata": {
        "id": "lztgtsR9sgaI"
      },
      "source": [
        "A partir da base de dados fornecida pela Imobiliária Insight Places e das instruções da equipe da Data Science da mesma, chegamos a essa etapa do projeto de criação do modelo de precificação de imóveis e do recomendador de imóveis.\n",
        "\n",
        "Feitas as filtragens, vamos ver como está a nossa nova base de dados.\n",
        "\n",
        "Mas antes vamos preparar o ambiente com as devidas bibliotecas de apoio."
      ]
    },
    {
      "cell_type": "code",
      "execution_count": null,
      "metadata": {
        "colab": {
          "base_uri": "https://localhost:8080/"
        },
        "id": "CvwAktgJsPbu",
        "outputId": "fb6ff3a6-fda0-427c-d7a6-de898f402a9c"
      },
      "outputs": [
        {
          "name": "stdout",
          "output_type": "stream",
          "text": [
            "Looking in indexes: https://pypi.org/simple, https://us-python.pkg.dev/colab-wheels/public/simple/\n",
            "Collecting pyspark==3.3.1\n",
            "  Downloading pyspark-3.3.1.tar.gz (281.4 MB)\n",
            "\u001b[K     |████████████████████████████████| 281.4 MB 30 kB/s \n",
            "\u001b[?25hCollecting py4j==0.10.9.5\n",
            "  Downloading py4j-0.10.9.5-py2.py3-none-any.whl (199 kB)\n",
            "\u001b[K     |████████████████████████████████| 199 kB 44.4 MB/s \n",
            "\u001b[?25hBuilding wheels for collected packages: pyspark\n",
            "  Building wheel for pyspark (setup.py) ... \u001b[?25l\u001b[?25hdone\n",
            "  Created wheel for pyspark: filename=pyspark-3.3.1-py2.py3-none-any.whl size=281845512 sha256=f6bb153e4ddb1e03122ab9b07d8f958d3aa1df72ad09eeea6cb175ac199a7d57\n",
            "  Stored in directory: /root/.cache/pip/wheels/43/dc/11/ec201cd671da62fa9c5cc77078235e40722170ceba231d7598\n",
            "Successfully built pyspark\n",
            "Installing collected packages: py4j, pyspark\n",
            "Successfully installed py4j-0.10.9.5 pyspark-3.3.1\n"
          ]
        }
      ],
      "source": [
        "!pip install pyspark==3.3.1"
      ]
    },
    {
      "cell_type": "code",
      "execution_count": null,
      "metadata": {
        "colab": {
          "base_uri": "https://localhost:8080/",
          "height": 219
        },
        "id": "0iS-5NQLt9T6",
        "outputId": "94dc74c1-c054-475b-96e8-30bc1845574f"
      },
      "outputs": [
        {
          "data": {
            "text/html": [
              "\n",
              "            <div>\n",
              "                <p><b>SparkSession - in-memory</b></p>\n",
              "                \n",
              "        <div>\n",
              "            <p><b>SparkContext</b></p>\n",
              "\n",
              "            <p><a href=\"http://ad78bb990692:4040\">Spark UI</a></p>\n",
              "\n",
              "            <dl>\n",
              "              <dt>Version</dt>\n",
              "                <dd><code>v3.3.1</code></dd>\n",
              "              <dt>Master</dt>\n",
              "                <dd><code>local[*]</code></dd>\n",
              "              <dt>AppName</dt>\n",
              "                <dd><code>Transformação com Spark</code></dd>\n",
              "            </dl>\n",
              "        </div>\n",
              "        \n",
              "            </div>\n",
              "        "
            ],
            "text/plain": [
              "<pyspark.sql.session.SparkSession at 0x7f888bdcfbe0>"
            ]
          },
          "execution_count": 2,
          "metadata": {},
          "output_type": "execute_result"
        }
      ],
      "source": [
        "from pyspark.sql import SparkSession\n",
        "\n",
        "spark = SparkSession.builder \\\n",
        "    .master('local[*]') \\\n",
        "    .appName(\"Transformação com Spark\") \\\n",
        "    .getOrCreate()\n",
        "\n",
        "spark"
      ]
    },
    {
      "cell_type": "markdown",
      "metadata": {
        "id": "bah1XgH6u3g4"
      },
      "source": [
        "Com as bibliotecas de apoio baixadas, vamos partir para a base de dados:"
      ]
    },
    {
      "cell_type": "code",
      "execution_count": null,
      "metadata": {
        "colab": {
          "base_uri": "https://localhost:8080/"
        },
        "id": "RLkXOf3k5yiv",
        "outputId": "6d3bf303-b12e-40f5-d212-0cf305bde1e4"
      },
      "outputs": [
        {
          "name": "stdout",
          "output_type": "stream",
          "text": [
            "--2022-12-05 00:53:28--  https://caelum-online-public.s3.amazonaws.com/challenge-spark/semana-2.zip\n",
            "Resolving caelum-online-public.s3.amazonaws.com (caelum-online-public.s3.amazonaws.com)... 52.217.8.84, 54.231.234.113, 52.217.168.9, ...\n",
            "Connecting to caelum-online-public.s3.amazonaws.com (caelum-online-public.s3.amazonaws.com)|52.217.8.84|:443... connected.\n",
            "HTTP request sent, awaiting response... 200 OK\n",
            "Length: 2763652 (2.6M) [application/zip]\n",
            "Saving to: ‘semana-2.zip’\n",
            "\n",
            "\rsemana-2.zip          0%[                    ]       0  --.-KB/s               \rsemana-2.zip        100%[===================>]   2.63M  --.-KB/s    in 0.1s    \n",
            "\n",
            "2022-12-05 00:53:28 (20.6 MB/s) - ‘semana-2.zip’ saved [2763652/2763652]\n",
            "\n"
          ]
        }
      ],
      "source": [
        "import zipfile\n",
        "!wget 'https://caelum-online-public.s3.amazonaws.com/challenge-spark/semana-2.zip'"
      ]
    },
    {
      "cell_type": "code",
      "execution_count": null,
      "metadata": {
        "id": "yvZrrRIz57Vl"
      },
      "outputs": [],
      "source": [
        "!unzip -q semana-2.zip"
      ]
    },
    {
      "cell_type": "code",
      "execution_count": null,
      "metadata": {
        "id": "drro76KjvKZq"
      },
      "outputs": [],
      "source": [
        "dataset = spark.read.parquet('/content/dataset_transformado_parquet')"
      ]
    },
    {
      "cell_type": "code",
      "execution_count": null,
      "metadata": {
        "colab": {
          "base_uri": "https://localhost:8080/",
          "height": 531
        },
        "id": "3qvDlS-8wVVv",
        "outputId": "ddab3bfe-5521-4643-f867-84d70a2dee6a"
      },
      "outputs": [
        {
          "data": {
            "text/html": [
              "\n",
              "  <div id=\"df-bb2051d9-bd4b-4c6e-9505-8d65f7e7d788\">\n",
              "    <div class=\"colab-df-container\">\n",
              "      <div>\n",
              "<style scoped>\n",
              "    .dataframe tbody tr th:only-of-type {\n",
              "        vertical-align: middle;\n",
              "    }\n",
              "\n",
              "    .dataframe tbody tr th {\n",
              "        vertical-align: top;\n",
              "    }\n",
              "\n",
              "    .dataframe thead th {\n",
              "        text-align: right;\n",
              "    }\n",
              "</style>\n",
              "<table border=\"1\" class=\"dataframe\">\n",
              "  <thead>\n",
              "    <tr style=\"text-align: right;\">\n",
              "      <th></th>\n",
              "      <th>id</th>\n",
              "      <th>andar</th>\n",
              "      <th>area_total</th>\n",
              "      <th>area_util</th>\n",
              "      <th>banheiros</th>\n",
              "      <th>caracteristicas</th>\n",
              "      <th>quartos</th>\n",
              "      <th>suites</th>\n",
              "      <th>tipo_anuncio</th>\n",
              "      <th>tipo_unidade</th>\n",
              "      <th>tipo_uso</th>\n",
              "      <th>vaga</th>\n",
              "      <th>bairro</th>\n",
              "      <th>zona</th>\n",
              "      <th>condominio</th>\n",
              "      <th>iptu</th>\n",
              "      <th>tipo</th>\n",
              "      <th>valor</th>\n",
              "    </tr>\n",
              "  </thead>\n",
              "  <tbody>\n",
              "    <tr>\n",
              "      <th>0</th>\n",
              "      <td>03a386b6-7ab8-4eff-891d-f8a16efc1989</td>\n",
              "      <td>0</td>\n",
              "      <td>43</td>\n",
              "      <td>43</td>\n",
              "      <td>1</td>\n",
              "      <td>[Churrasqueira, Academia, Playground, Salão de...</td>\n",
              "      <td>2</td>\n",
              "      <td>NaN</td>\n",
              "      <td>Usado</td>\n",
              "      <td>Apartamento</td>\n",
              "      <td>Residencial</td>\n",
              "      <td>1</td>\n",
              "      <td>Realengo</td>\n",
              "      <td>Zona Oeste</td>\n",
              "      <td>285</td>\n",
              "      <td>None</td>\n",
              "      <td>Venda</td>\n",
              "      <td>22999</td>\n",
              "    </tr>\n",
              "    <tr>\n",
              "      <th>1</th>\n",
              "      <td>1fe78d41-b8e0-4d21-a1a8-72cb7863f441</td>\n",
              "      <td>0</td>\n",
              "      <td>44</td>\n",
              "      <td>44</td>\n",
              "      <td>1</td>\n",
              "      <td>[]</td>\n",
              "      <td>2</td>\n",
              "      <td>0.0</td>\n",
              "      <td>Usado</td>\n",
              "      <td>Apartamento</td>\n",
              "      <td>Residencial</td>\n",
              "      <td>0</td>\n",
              "      <td>Irajá</td>\n",
              "      <td>Zona Norte</td>\n",
              "      <td>170</td>\n",
              "      <td>0</td>\n",
              "      <td>Venda</td>\n",
              "      <td>110000</td>\n",
              "    </tr>\n",
              "    <tr>\n",
              "      <th>2</th>\n",
              "      <td>1fa1c1e5-e98c-433f-9675-1b43d7d6da01</td>\n",
              "      <td>4</td>\n",
              "      <td>None</td>\n",
              "      <td>55</td>\n",
              "      <td>1</td>\n",
              "      <td>[]</td>\n",
              "      <td>2</td>\n",
              "      <td>0.0</td>\n",
              "      <td>Usado</td>\n",
              "      <td>Apartamento</td>\n",
              "      <td>Residencial</td>\n",
              "      <td>1</td>\n",
              "      <td>Cosmos</td>\n",
              "      <td>Zona Oeste</td>\n",
              "      <td>None</td>\n",
              "      <td>None</td>\n",
              "      <td>Venda</td>\n",
              "      <td>115000</td>\n",
              "    </tr>\n",
              "    <tr>\n",
              "      <th>3</th>\n",
              "      <td>a6ab01ae-3d40-40e7-bb6a-f2334e0abbe0</td>\n",
              "      <td>2</td>\n",
              "      <td>None</td>\n",
              "      <td>55</td>\n",
              "      <td>1</td>\n",
              "      <td>[]</td>\n",
              "      <td>2</td>\n",
              "      <td>0.0</td>\n",
              "      <td>Usado</td>\n",
              "      <td>Apartamento</td>\n",
              "      <td>Residencial</td>\n",
              "      <td>0</td>\n",
              "      <td>Tomás Coelho</td>\n",
              "      <td>Zona Norte</td>\n",
              "      <td>None</td>\n",
              "      <td>None</td>\n",
              "      <td>Venda</td>\n",
              "      <td>115000</td>\n",
              "    </tr>\n",
              "    <tr>\n",
              "      <th>4</th>\n",
              "      <td>1d8ff7a2-16bd-4e3f-a92e-1b85f923ebb0</td>\n",
              "      <td>0</td>\n",
              "      <td>None</td>\n",
              "      <td>50</td>\n",
              "      <td>1</td>\n",
              "      <td>[]</td>\n",
              "      <td>1</td>\n",
              "      <td>NaN</td>\n",
              "      <td>Usado</td>\n",
              "      <td>Apartamento</td>\n",
              "      <td>Residencial</td>\n",
              "      <td>0</td>\n",
              "      <td>Centro</td>\n",
              "      <td>Zona Central</td>\n",
              "      <td>1300</td>\n",
              "      <td>2679</td>\n",
              "      <td>Venda</td>\n",
              "      <td>125000</td>\n",
              "    </tr>\n",
              "  </tbody>\n",
              "</table>\n",
              "</div>\n",
              "      <button class=\"colab-df-convert\" onclick=\"convertToInteractive('df-bb2051d9-bd4b-4c6e-9505-8d65f7e7d788')\"\n",
              "              title=\"Convert this dataframe to an interactive table.\"\n",
              "              style=\"display:none;\">\n",
              "        \n",
              "  <svg xmlns=\"http://www.w3.org/2000/svg\" height=\"24px\"viewBox=\"0 0 24 24\"\n",
              "       width=\"24px\">\n",
              "    <path d=\"M0 0h24v24H0V0z\" fill=\"none\"/>\n",
              "    <path d=\"M18.56 5.44l.94 2.06.94-2.06 2.06-.94-2.06-.94-.94-2.06-.94 2.06-2.06.94zm-11 1L8.5 8.5l.94-2.06 2.06-.94-2.06-.94L8.5 2.5l-.94 2.06-2.06.94zm10 10l.94 2.06.94-2.06 2.06-.94-2.06-.94-.94-2.06-.94 2.06-2.06.94z\"/><path d=\"M17.41 7.96l-1.37-1.37c-.4-.4-.92-.59-1.43-.59-.52 0-1.04.2-1.43.59L10.3 9.45l-7.72 7.72c-.78.78-.78 2.05 0 2.83L4 21.41c.39.39.9.59 1.41.59.51 0 1.02-.2 1.41-.59l7.78-7.78 2.81-2.81c.8-.78.8-2.07 0-2.86zM5.41 20L4 18.59l7.72-7.72 1.47 1.35L5.41 20z\"/>\n",
              "  </svg>\n",
              "      </button>\n",
              "      \n",
              "  <style>\n",
              "    .colab-df-container {\n",
              "      display:flex;\n",
              "      flex-wrap:wrap;\n",
              "      gap: 12px;\n",
              "    }\n",
              "\n",
              "    .colab-df-convert {\n",
              "      background-color: #E8F0FE;\n",
              "      border: none;\n",
              "      border-radius: 50%;\n",
              "      cursor: pointer;\n",
              "      display: none;\n",
              "      fill: #1967D2;\n",
              "      height: 32px;\n",
              "      padding: 0 0 0 0;\n",
              "      width: 32px;\n",
              "    }\n",
              "\n",
              "    .colab-df-convert:hover {\n",
              "      background-color: #E2EBFA;\n",
              "      box-shadow: 0px 1px 2px rgba(60, 64, 67, 0.3), 0px 1px 3px 1px rgba(60, 64, 67, 0.15);\n",
              "      fill: #174EA6;\n",
              "    }\n",
              "\n",
              "    [theme=dark] .colab-df-convert {\n",
              "      background-color: #3B4455;\n",
              "      fill: #D2E3FC;\n",
              "    }\n",
              "\n",
              "    [theme=dark] .colab-df-convert:hover {\n",
              "      background-color: #434B5C;\n",
              "      box-shadow: 0px 1px 3px 1px rgba(0, 0, 0, 0.15);\n",
              "      filter: drop-shadow(0px 1px 2px rgba(0, 0, 0, 0.3));\n",
              "      fill: #FFFFFF;\n",
              "    }\n",
              "  </style>\n",
              "\n",
              "      <script>\n",
              "        const buttonEl =\n",
              "          document.querySelector('#df-bb2051d9-bd4b-4c6e-9505-8d65f7e7d788 button.colab-df-convert');\n",
              "        buttonEl.style.display =\n",
              "          google.colab.kernel.accessAllowed ? 'block' : 'none';\n",
              "\n",
              "        async function convertToInteractive(key) {\n",
              "          const element = document.querySelector('#df-bb2051d9-bd4b-4c6e-9505-8d65f7e7d788');\n",
              "          const dataTable =\n",
              "            await google.colab.kernel.invokeFunction('convertToInteractive',\n",
              "                                                     [key], {});\n",
              "          if (!dataTable) return;\n",
              "\n",
              "          const docLinkHtml = 'Like what you see? Visit the ' +\n",
              "            '<a target=\"_blank\" href=https://colab.research.google.com/notebooks/data_table.ipynb>data table notebook</a>'\n",
              "            + ' to learn more about interactive tables.';\n",
              "          element.innerHTML = '';\n",
              "          dataTable['output_type'] = 'display_data';\n",
              "          await google.colab.output.renderOutput(dataTable, element);\n",
              "          const docLink = document.createElement('div');\n",
              "          docLink.innerHTML = docLinkHtml;\n",
              "          element.appendChild(docLink);\n",
              "        }\n",
              "      </script>\n",
              "    </div>\n",
              "  </div>\n",
              "  "
            ],
            "text/plain": [
              "                                     id  andar area_total area_util  \\\n",
              "0  03a386b6-7ab8-4eff-891d-f8a16efc1989      0         43        43   \n",
              "1  1fe78d41-b8e0-4d21-a1a8-72cb7863f441      0         44        44   \n",
              "2  1fa1c1e5-e98c-433f-9675-1b43d7d6da01      4       None        55   \n",
              "3  a6ab01ae-3d40-40e7-bb6a-f2334e0abbe0      2       None        55   \n",
              "4  1d8ff7a2-16bd-4e3f-a92e-1b85f923ebb0      0       None        50   \n",
              "\n",
              "   banheiros                                    caracteristicas  quartos  \\\n",
              "0          1  [Churrasqueira, Academia, Playground, Salão de...        2   \n",
              "1          1                                                 []        2   \n",
              "2          1                                                 []        2   \n",
              "3          1                                                 []        2   \n",
              "4          1                                                 []        1   \n",
              "\n",
              "   suites tipo_anuncio tipo_unidade     tipo_uso  vaga        bairro  \\\n",
              "0     NaN        Usado  Apartamento  Residencial     1      Realengo   \n",
              "1     0.0        Usado  Apartamento  Residencial     0         Irajá   \n",
              "2     0.0        Usado  Apartamento  Residencial     1        Cosmos   \n",
              "3     0.0        Usado  Apartamento  Residencial     0  Tomás Coelho   \n",
              "4     NaN        Usado  Apartamento  Residencial     0        Centro   \n",
              "\n",
              "           zona condominio  iptu   tipo   valor  \n",
              "0    Zona Oeste        285  None  Venda   22999  \n",
              "1    Zona Norte        170     0  Venda  110000  \n",
              "2    Zona Oeste       None  None  Venda  115000  \n",
              "3    Zona Norte       None  None  Venda  115000  \n",
              "4  Zona Central       1300  2679  Venda  125000  "
            ]
          },
          "execution_count": 6,
          "metadata": {},
          "output_type": "execute_result"
        }
      ],
      "source": [
        "#mostrando a nova base dados:\n",
        "\n",
        "dataset.limit(5).toPandas()"
      ]
    },
    {
      "cell_type": "markdown",
      "metadata": {
        "id": "dOIEbiFE6fuy"
      },
      "source": [
        "revendo quantas linhas temos no dataset:"
      ]
    },
    {
      "cell_type": "code",
      "execution_count": null,
      "metadata": {
        "colab": {
          "base_uri": "https://localhost:8080/"
        },
        "id": "huaA1lMr6rDi",
        "outputId": "e4bcb618-6a75-47da-a64b-0aea65df50c6"
      },
      "outputs": [
        {
          "name": "stdout",
          "output_type": "stream",
          "text": [
            "Número de linhas no arquivo: 66562\n"
          ]
        }
      ],
      "source": [
        "print('Número de linhas no arquivo: %s' % dataset.count())"
      ]
    },
    {
      "cell_type": "code",
      "execution_count": null,
      "metadata": {
        "colab": {
          "base_uri": "https://localhost:8080/"
        },
        "id": "MPRDDkVA6vVd",
        "outputId": "e507b69a-657d-4351-96fa-2d15f90658a8"
      },
      "outputs": [
        {
          "name": "stdout",
          "output_type": "stream",
          "text": [
            "root\n",
            " |-- id: string (nullable = true)\n",
            " |-- andar: long (nullable = true)\n",
            " |-- area_total: string (nullable = true)\n",
            " |-- area_util: string (nullable = true)\n",
            " |-- banheiros: long (nullable = true)\n",
            " |-- caracteristicas: array (nullable = true)\n",
            " |    |-- element: string (containsNull = true)\n",
            " |-- quartos: long (nullable = true)\n",
            " |-- suites: long (nullable = true)\n",
            " |-- tipo_anuncio: string (nullable = true)\n",
            " |-- tipo_unidade: string (nullable = true)\n",
            " |-- tipo_uso: string (nullable = true)\n",
            " |-- vaga: long (nullable = true)\n",
            " |-- bairro: string (nullable = true)\n",
            " |-- zona: string (nullable = true)\n",
            " |-- condominio: string (nullable = true)\n",
            " |-- iptu: string (nullable = true)\n",
            " |-- tipo: string (nullable = true)\n",
            " |-- valor: string (nullable = true)\n",
            "\n"
          ]
        }
      ],
      "source": [
        "dataset.printSchema()"
      ]
    },
    {
      "cell_type": "markdown",
      "metadata": {
        "id": "yYGQPVnUOvQ7"
      },
      "source": [
        "##**Tratamento de Variáveis**"
      ]
    },
    {
      "cell_type": "markdown",
      "metadata": {
        "id": "ij6PpVowO6OV"
      },
      "source": [
        "### DataTypes"
      ]
    },
    {
      "cell_type": "markdown",
      "metadata": {
        "id": "_02uXLst-Olk"
      },
      "source": [
        "Analisando o .printSchema acima, podemos ver que muitas colunas numéricas estão errôneamente classificadas como 'string'. Dessa forma, vamos efetuar a conversão das mesmas para um formato numérico, seja ele SingleType ou DoubleType.\n",
        "\n",
        "Podemos converter o tipo de colunas numéricas, como \"andar\", \"banheiros\", \"suites\" e \"quartos\" para o tipo inteiro. Além disso também pode ser necessário converter as colunas \"area_util\", \"condominio\", \"iptu\" e \"valor\" para o tipo double."
      ]
    },
    {
      "cell_type": "code",
      "execution_count": null,
      "metadata": {
        "id": "lZoqMWpI9xi4"
      },
      "outputs": [],
      "source": [
        "from pyspark.sql.types import DoubleType, StringType, IntegerType\n",
        "from pyspark.sql import functions as f"
      ]
    },
    {
      "cell_type": "code",
      "execution_count": null,
      "metadata": {
        "id": "Rmok7RVdDIcV"
      },
      "outputs": [],
      "source": [
        "colunas_inteiras = ['andar', 'banheiros', 'suites', 'quartos']\n",
        "colunas_double = ['area_util','area_total', 'condominio', 'iptu', 'valor']"
      ]
    },
    {
      "cell_type": "code",
      "execution_count": null,
      "metadata": {
        "id": "aos2f7NUNXgC"
      },
      "outputs": [],
      "source": [
        "for coluna in colunas_inteiras:\n",
        "    dataset = dataset.withColumn(coluna, dataset[coluna].cast(IntegerType()))\n",
        "\n",
        "for coluna in colunas_double:\n",
        "   dataset = dataset.withColumn(coluna, dataset[coluna].cast(DoubleType()))"
      ]
    },
    {
      "cell_type": "code",
      "execution_count": null,
      "metadata": {
        "colab": {
          "base_uri": "https://localhost:8080/"
        },
        "id": "aHqpI8t3-vAC",
        "outputId": "eb70378c-bd6d-4d69-95e8-b2a5d7bd2ed8"
      },
      "outputs": [
        {
          "name": "stdout",
          "output_type": "stream",
          "text": [
            "root\n",
            " |-- id: string (nullable = true)\n",
            " |-- andar: integer (nullable = true)\n",
            " |-- area_total: double (nullable = true)\n",
            " |-- area_util: double (nullable = true)\n",
            " |-- banheiros: integer (nullable = true)\n",
            " |-- caracteristicas: array (nullable = true)\n",
            " |    |-- element: string (containsNull = true)\n",
            " |-- quartos: integer (nullable = true)\n",
            " |-- suites: integer (nullable = true)\n",
            " |-- tipo_anuncio: string (nullable = true)\n",
            " |-- tipo_unidade: string (nullable = true)\n",
            " |-- tipo_uso: string (nullable = true)\n",
            " |-- vaga: long (nullable = true)\n",
            " |-- bairro: string (nullable = true)\n",
            " |-- zona: string (nullable = true)\n",
            " |-- condominio: double (nullable = true)\n",
            " |-- iptu: double (nullable = true)\n",
            " |-- tipo: string (nullable = true)\n",
            " |-- valor: double (nullable = true)\n",
            "\n"
          ]
        }
      ],
      "source": [
        "dataset.printSchema()\n"
      ]
    },
    {
      "cell_type": "markdown",
      "metadata": {
        "id": "IkwQkdnjDb70"
      },
      "source": [
        "Como padrão nos modelos de Machine Learning, vamos renomear a coluna 'valor', que é a variável dependente, com o nome de 'label'."
      ]
    },
    {
      "cell_type": "code",
      "execution_count": null,
      "metadata": {
        "id": "hZb0emBPDFDk"
      },
      "outputs": [],
      "source": [
        "dataset = dataset.withColumnRenamed('valor', 'label')"
      ]
    },
    {
      "cell_type": "markdown",
      "metadata": {
        "id": "wgc4Al6sPmc6"
      },
      "source": [
        "Passada a etapa de conversão das colunas, vamos selecionar as variáveis que farão parte no nosso modelo de precificação.\n",
        "\n",
        "Como fizemos algumas filtragens na primeira parte do projeto, algumas colunas acabaram ficando com valores unicos, dessa forma, tornando-se irrelevantes para o modelo e serão excluídas."
      ]
    },
    {
      "cell_type": "code",
      "execution_count": null,
      "metadata": {
        "id": "AGG3YcTwPmBZ"
      },
      "outputs": [],
      "source": [
        "dataset=dataset\\\n",
        "    .select('*')\\\n",
        "    .drop('tipo', 'tipo_anuncio', 'tipo_unidade', 'tipo_uso')"
      ]
    },
    {
      "cell_type": "code",
      "execution_count": null,
      "metadata": {
        "colab": {
          "base_uri": "https://localhost:8080/",
          "height": 337
        },
        "id": "Bz76l-ceRHSa",
        "outputId": "de3b3227-a6b7-4cb3-af1c-75145f12a495"
      },
      "outputs": [
        {
          "data": {
            "text/html": [
              "\n",
              "  <div id=\"df-25e21f0b-c2d7-4ae3-95ae-662e0bdbd72a\">\n",
              "    <div class=\"colab-df-container\">\n",
              "      <div>\n",
              "<style scoped>\n",
              "    .dataframe tbody tr th:only-of-type {\n",
              "        vertical-align: middle;\n",
              "    }\n",
              "\n",
              "    .dataframe tbody tr th {\n",
              "        vertical-align: top;\n",
              "    }\n",
              "\n",
              "    .dataframe thead th {\n",
              "        text-align: right;\n",
              "    }\n",
              "</style>\n",
              "<table border=\"1\" class=\"dataframe\">\n",
              "  <thead>\n",
              "    <tr style=\"text-align: right;\">\n",
              "      <th></th>\n",
              "      <th>id</th>\n",
              "      <th>andar</th>\n",
              "      <th>area_total</th>\n",
              "      <th>area_util</th>\n",
              "      <th>banheiros</th>\n",
              "      <th>caracteristicas</th>\n",
              "      <th>quartos</th>\n",
              "      <th>suites</th>\n",
              "      <th>vaga</th>\n",
              "      <th>bairro</th>\n",
              "      <th>zona</th>\n",
              "      <th>condominio</th>\n",
              "      <th>iptu</th>\n",
              "      <th>label</th>\n",
              "    </tr>\n",
              "  </thead>\n",
              "  <tbody>\n",
              "    <tr>\n",
              "      <th>0</th>\n",
              "      <td>03a386b6-7ab8-4eff-891d-f8a16efc1989</td>\n",
              "      <td>0</td>\n",
              "      <td>43.0</td>\n",
              "      <td>43.0</td>\n",
              "      <td>1</td>\n",
              "      <td>[Churrasqueira, Academia, Playground, Salão de...</td>\n",
              "      <td>2</td>\n",
              "      <td>NaN</td>\n",
              "      <td>1</td>\n",
              "      <td>Realengo</td>\n",
              "      <td>Zona Oeste</td>\n",
              "      <td>285.0</td>\n",
              "      <td>NaN</td>\n",
              "      <td>22999.0</td>\n",
              "    </tr>\n",
              "    <tr>\n",
              "      <th>1</th>\n",
              "      <td>1fe78d41-b8e0-4d21-a1a8-72cb7863f441</td>\n",
              "      <td>0</td>\n",
              "      <td>44.0</td>\n",
              "      <td>44.0</td>\n",
              "      <td>1</td>\n",
              "      <td>[]</td>\n",
              "      <td>2</td>\n",
              "      <td>0.0</td>\n",
              "      <td>0</td>\n",
              "      <td>Irajá</td>\n",
              "      <td>Zona Norte</td>\n",
              "      <td>170.0</td>\n",
              "      <td>0.0</td>\n",
              "      <td>110000.0</td>\n",
              "    </tr>\n",
              "    <tr>\n",
              "      <th>2</th>\n",
              "      <td>1fa1c1e5-e98c-433f-9675-1b43d7d6da01</td>\n",
              "      <td>4</td>\n",
              "      <td>NaN</td>\n",
              "      <td>55.0</td>\n",
              "      <td>1</td>\n",
              "      <td>[]</td>\n",
              "      <td>2</td>\n",
              "      <td>0.0</td>\n",
              "      <td>1</td>\n",
              "      <td>Cosmos</td>\n",
              "      <td>Zona Oeste</td>\n",
              "      <td>NaN</td>\n",
              "      <td>NaN</td>\n",
              "      <td>115000.0</td>\n",
              "    </tr>\n",
              "    <tr>\n",
              "      <th>3</th>\n",
              "      <td>a6ab01ae-3d40-40e7-bb6a-f2334e0abbe0</td>\n",
              "      <td>2</td>\n",
              "      <td>NaN</td>\n",
              "      <td>55.0</td>\n",
              "      <td>1</td>\n",
              "      <td>[]</td>\n",
              "      <td>2</td>\n",
              "      <td>0.0</td>\n",
              "      <td>0</td>\n",
              "      <td>Tomás Coelho</td>\n",
              "      <td>Zona Norte</td>\n",
              "      <td>NaN</td>\n",
              "      <td>NaN</td>\n",
              "      <td>115000.0</td>\n",
              "    </tr>\n",
              "    <tr>\n",
              "      <th>4</th>\n",
              "      <td>1d8ff7a2-16bd-4e3f-a92e-1b85f923ebb0</td>\n",
              "      <td>0</td>\n",
              "      <td>NaN</td>\n",
              "      <td>50.0</td>\n",
              "      <td>1</td>\n",
              "      <td>[]</td>\n",
              "      <td>1</td>\n",
              "      <td>NaN</td>\n",
              "      <td>0</td>\n",
              "      <td>Centro</td>\n",
              "      <td>Zona Central</td>\n",
              "      <td>1300.0</td>\n",
              "      <td>2679.0</td>\n",
              "      <td>125000.0</td>\n",
              "    </tr>\n",
              "  </tbody>\n",
              "</table>\n",
              "</div>\n",
              "      <button class=\"colab-df-convert\" onclick=\"convertToInteractive('df-25e21f0b-c2d7-4ae3-95ae-662e0bdbd72a')\"\n",
              "              title=\"Convert this dataframe to an interactive table.\"\n",
              "              style=\"display:none;\">\n",
              "        \n",
              "  <svg xmlns=\"http://www.w3.org/2000/svg\" height=\"24px\"viewBox=\"0 0 24 24\"\n",
              "       width=\"24px\">\n",
              "    <path d=\"M0 0h24v24H0V0z\" fill=\"none\"/>\n",
              "    <path d=\"M18.56 5.44l.94 2.06.94-2.06 2.06-.94-2.06-.94-.94-2.06-.94 2.06-2.06.94zm-11 1L8.5 8.5l.94-2.06 2.06-.94-2.06-.94L8.5 2.5l-.94 2.06-2.06.94zm10 10l.94 2.06.94-2.06 2.06-.94-2.06-.94-.94-2.06-.94 2.06-2.06.94z\"/><path d=\"M17.41 7.96l-1.37-1.37c-.4-.4-.92-.59-1.43-.59-.52 0-1.04.2-1.43.59L10.3 9.45l-7.72 7.72c-.78.78-.78 2.05 0 2.83L4 21.41c.39.39.9.59 1.41.59.51 0 1.02-.2 1.41-.59l7.78-7.78 2.81-2.81c.8-.78.8-2.07 0-2.86zM5.41 20L4 18.59l7.72-7.72 1.47 1.35L5.41 20z\"/>\n",
              "  </svg>\n",
              "      </button>\n",
              "      \n",
              "  <style>\n",
              "    .colab-df-container {\n",
              "      display:flex;\n",
              "      flex-wrap:wrap;\n",
              "      gap: 12px;\n",
              "    }\n",
              "\n",
              "    .colab-df-convert {\n",
              "      background-color: #E8F0FE;\n",
              "      border: none;\n",
              "      border-radius: 50%;\n",
              "      cursor: pointer;\n",
              "      display: none;\n",
              "      fill: #1967D2;\n",
              "      height: 32px;\n",
              "      padding: 0 0 0 0;\n",
              "      width: 32px;\n",
              "    }\n",
              "\n",
              "    .colab-df-convert:hover {\n",
              "      background-color: #E2EBFA;\n",
              "      box-shadow: 0px 1px 2px rgba(60, 64, 67, 0.3), 0px 1px 3px 1px rgba(60, 64, 67, 0.15);\n",
              "      fill: #174EA6;\n",
              "    }\n",
              "\n",
              "    [theme=dark] .colab-df-convert {\n",
              "      background-color: #3B4455;\n",
              "      fill: #D2E3FC;\n",
              "    }\n",
              "\n",
              "    [theme=dark] .colab-df-convert:hover {\n",
              "      background-color: #434B5C;\n",
              "      box-shadow: 0px 1px 3px 1px rgba(0, 0, 0, 0.15);\n",
              "      filter: drop-shadow(0px 1px 2px rgba(0, 0, 0, 0.3));\n",
              "      fill: #FFFFFF;\n",
              "    }\n",
              "  </style>\n",
              "\n",
              "      <script>\n",
              "        const buttonEl =\n",
              "          document.querySelector('#df-25e21f0b-c2d7-4ae3-95ae-662e0bdbd72a button.colab-df-convert');\n",
              "        buttonEl.style.display =\n",
              "          google.colab.kernel.accessAllowed ? 'block' : 'none';\n",
              "\n",
              "        async function convertToInteractive(key) {\n",
              "          const element = document.querySelector('#df-25e21f0b-c2d7-4ae3-95ae-662e0bdbd72a');\n",
              "          const dataTable =\n",
              "            await google.colab.kernel.invokeFunction('convertToInteractive',\n",
              "                                                     [key], {});\n",
              "          if (!dataTable) return;\n",
              "\n",
              "          const docLinkHtml = 'Like what you see? Visit the ' +\n",
              "            '<a target=\"_blank\" href=https://colab.research.google.com/notebooks/data_table.ipynb>data table notebook</a>'\n",
              "            + ' to learn more about interactive tables.';\n",
              "          element.innerHTML = '';\n",
              "          dataTable['output_type'] = 'display_data';\n",
              "          await google.colab.output.renderOutput(dataTable, element);\n",
              "          const docLink = document.createElement('div');\n",
              "          docLink.innerHTML = docLinkHtml;\n",
              "          element.appendChild(docLink);\n",
              "        }\n",
              "      </script>\n",
              "    </div>\n",
              "  </div>\n",
              "  "
            ],
            "text/plain": [
              "                                     id  andar  area_total  area_util  \\\n",
              "0  03a386b6-7ab8-4eff-891d-f8a16efc1989      0        43.0       43.0   \n",
              "1  1fe78d41-b8e0-4d21-a1a8-72cb7863f441      0        44.0       44.0   \n",
              "2  1fa1c1e5-e98c-433f-9675-1b43d7d6da01      4         NaN       55.0   \n",
              "3  a6ab01ae-3d40-40e7-bb6a-f2334e0abbe0      2         NaN       55.0   \n",
              "4  1d8ff7a2-16bd-4e3f-a92e-1b85f923ebb0      0         NaN       50.0   \n",
              "\n",
              "   banheiros                                    caracteristicas  quartos  \\\n",
              "0          1  [Churrasqueira, Academia, Playground, Salão de...        2   \n",
              "1          1                                                 []        2   \n",
              "2          1                                                 []        2   \n",
              "3          1                                                 []        2   \n",
              "4          1                                                 []        1   \n",
              "\n",
              "   suites  vaga        bairro          zona  condominio    iptu     label  \n",
              "0     NaN     1      Realengo    Zona Oeste       285.0     NaN   22999.0  \n",
              "1     0.0     0         Irajá    Zona Norte       170.0     0.0  110000.0  \n",
              "2     0.0     1        Cosmos    Zona Oeste         NaN     NaN  115000.0  \n",
              "3     0.0     0  Tomás Coelho    Zona Norte         NaN     NaN  115000.0  \n",
              "4     NaN     0        Centro  Zona Central      1300.0  2679.0  125000.0  "
            ]
          },
          "execution_count": 15,
          "metadata": {},
          "output_type": "execute_result"
        }
      ],
      "source": [
        "dataset.limit(5).toPandas()"
      ]
    },
    {
      "cell_type": "markdown",
      "metadata": {
        "id": "t2BtjTCCVovj"
      },
      "source": [
        "Continuando o processo de limpeza, percebemos que duas colunas que merecem atenção são 'area_total' e 'area_util'. Como estamos lidando somente com apartamentos, as duas colunas acabam por se equivaler. Dessa forma, ficaremos somente com a que tiver o menor número de linhas vazias, pois não atrapalhará uma futura modelagem."
      ]
    },
    {
      "cell_type": "code",
      "execution_count": null,
      "metadata": {
        "colab": {
          "base_uri": "https://localhost:8080/"
        },
        "id": "Zs-mcT7ZL_b5",
        "outputId": "09c7a174-29dd-4831-8e81-904533f9a6d4"
      },
      "outputs": [
        {
          "name": "stdout",
          "output_type": "stream",
          "text": [
            "Número de linhas vazias da coluna area_total: 9\n",
            "Número de linhas vazias da coluna area_util: 0\n"
          ]
        }
      ],
      "source": [
        "print(\"Número de linhas vazias da coluna area_total: %s\" % dataset.select('area_total').where('area_total==0').count())\n",
        "print(\"Número de linhas vazias da coluna area_util: %s\" % dataset.select('area_util').where('area_util==0').count())"
      ]
    },
    {
      "cell_type": "markdown",
      "metadata": {
        "id": "9sXfZ6yqWPw2"
      },
      "source": [
        "Como pudemos ver na célula acima, ficaremos com a coluna 'area_util'."
      ]
    },
    {
      "cell_type": "code",
      "execution_count": null,
      "metadata": {
        "id": "vGERimS1MCH6"
      },
      "outputs": [],
      "source": [
        "dataset = dataset\\\n",
        "      .select('*')\\\n",
        "      .drop('area_total')\n"
      ]
    },
    {
      "cell_type": "code",
      "execution_count": null,
      "metadata": {
        "colab": {
          "base_uri": "https://localhost:8080/",
          "height": 337
        },
        "id": "LwfoFoEET8AR",
        "outputId": "b96be51f-4d03-4580-8b69-82be95ee5786"
      },
      "outputs": [
        {
          "data": {
            "text/html": [
              "\n",
              "  <div id=\"df-1748e409-54fb-43d9-b512-51757fad6de5\">\n",
              "    <div class=\"colab-df-container\">\n",
              "      <div>\n",
              "<style scoped>\n",
              "    .dataframe tbody tr th:only-of-type {\n",
              "        vertical-align: middle;\n",
              "    }\n",
              "\n",
              "    .dataframe tbody tr th {\n",
              "        vertical-align: top;\n",
              "    }\n",
              "\n",
              "    .dataframe thead th {\n",
              "        text-align: right;\n",
              "    }\n",
              "</style>\n",
              "<table border=\"1\" class=\"dataframe\">\n",
              "  <thead>\n",
              "    <tr style=\"text-align: right;\">\n",
              "      <th></th>\n",
              "      <th>id</th>\n",
              "      <th>andar</th>\n",
              "      <th>area_util</th>\n",
              "      <th>banheiros</th>\n",
              "      <th>caracteristicas</th>\n",
              "      <th>quartos</th>\n",
              "      <th>suites</th>\n",
              "      <th>vaga</th>\n",
              "      <th>bairro</th>\n",
              "      <th>zona</th>\n",
              "      <th>condominio</th>\n",
              "      <th>iptu</th>\n",
              "      <th>label</th>\n",
              "    </tr>\n",
              "  </thead>\n",
              "  <tbody>\n",
              "    <tr>\n",
              "      <th>0</th>\n",
              "      <td>03a386b6-7ab8-4eff-891d-f8a16efc1989</td>\n",
              "      <td>0</td>\n",
              "      <td>43.0</td>\n",
              "      <td>1</td>\n",
              "      <td>[Churrasqueira, Academia, Playground, Salão de...</td>\n",
              "      <td>2</td>\n",
              "      <td>NaN</td>\n",
              "      <td>1</td>\n",
              "      <td>Realengo</td>\n",
              "      <td>Zona Oeste</td>\n",
              "      <td>285.0</td>\n",
              "      <td>NaN</td>\n",
              "      <td>22999.0</td>\n",
              "    </tr>\n",
              "    <tr>\n",
              "      <th>1</th>\n",
              "      <td>1fe78d41-b8e0-4d21-a1a8-72cb7863f441</td>\n",
              "      <td>0</td>\n",
              "      <td>44.0</td>\n",
              "      <td>1</td>\n",
              "      <td>[]</td>\n",
              "      <td>2</td>\n",
              "      <td>0.0</td>\n",
              "      <td>0</td>\n",
              "      <td>Irajá</td>\n",
              "      <td>Zona Norte</td>\n",
              "      <td>170.0</td>\n",
              "      <td>0.0</td>\n",
              "      <td>110000.0</td>\n",
              "    </tr>\n",
              "    <tr>\n",
              "      <th>2</th>\n",
              "      <td>1fa1c1e5-e98c-433f-9675-1b43d7d6da01</td>\n",
              "      <td>4</td>\n",
              "      <td>55.0</td>\n",
              "      <td>1</td>\n",
              "      <td>[]</td>\n",
              "      <td>2</td>\n",
              "      <td>0.0</td>\n",
              "      <td>1</td>\n",
              "      <td>Cosmos</td>\n",
              "      <td>Zona Oeste</td>\n",
              "      <td>NaN</td>\n",
              "      <td>NaN</td>\n",
              "      <td>115000.0</td>\n",
              "    </tr>\n",
              "    <tr>\n",
              "      <th>3</th>\n",
              "      <td>a6ab01ae-3d40-40e7-bb6a-f2334e0abbe0</td>\n",
              "      <td>2</td>\n",
              "      <td>55.0</td>\n",
              "      <td>1</td>\n",
              "      <td>[]</td>\n",
              "      <td>2</td>\n",
              "      <td>0.0</td>\n",
              "      <td>0</td>\n",
              "      <td>Tomás Coelho</td>\n",
              "      <td>Zona Norte</td>\n",
              "      <td>NaN</td>\n",
              "      <td>NaN</td>\n",
              "      <td>115000.0</td>\n",
              "    </tr>\n",
              "    <tr>\n",
              "      <th>4</th>\n",
              "      <td>1d8ff7a2-16bd-4e3f-a92e-1b85f923ebb0</td>\n",
              "      <td>0</td>\n",
              "      <td>50.0</td>\n",
              "      <td>1</td>\n",
              "      <td>[]</td>\n",
              "      <td>1</td>\n",
              "      <td>NaN</td>\n",
              "      <td>0</td>\n",
              "      <td>Centro</td>\n",
              "      <td>Zona Central</td>\n",
              "      <td>1300.0</td>\n",
              "      <td>2679.0</td>\n",
              "      <td>125000.0</td>\n",
              "    </tr>\n",
              "  </tbody>\n",
              "</table>\n",
              "</div>\n",
              "      <button class=\"colab-df-convert\" onclick=\"convertToInteractive('df-1748e409-54fb-43d9-b512-51757fad6de5')\"\n",
              "              title=\"Convert this dataframe to an interactive table.\"\n",
              "              style=\"display:none;\">\n",
              "        \n",
              "  <svg xmlns=\"http://www.w3.org/2000/svg\" height=\"24px\"viewBox=\"0 0 24 24\"\n",
              "       width=\"24px\">\n",
              "    <path d=\"M0 0h24v24H0V0z\" fill=\"none\"/>\n",
              "    <path d=\"M18.56 5.44l.94 2.06.94-2.06 2.06-.94-2.06-.94-.94-2.06-.94 2.06-2.06.94zm-11 1L8.5 8.5l.94-2.06 2.06-.94-2.06-.94L8.5 2.5l-.94 2.06-2.06.94zm10 10l.94 2.06.94-2.06 2.06-.94-2.06-.94-.94-2.06-.94 2.06-2.06.94z\"/><path d=\"M17.41 7.96l-1.37-1.37c-.4-.4-.92-.59-1.43-.59-.52 0-1.04.2-1.43.59L10.3 9.45l-7.72 7.72c-.78.78-.78 2.05 0 2.83L4 21.41c.39.39.9.59 1.41.59.51 0 1.02-.2 1.41-.59l7.78-7.78 2.81-2.81c.8-.78.8-2.07 0-2.86zM5.41 20L4 18.59l7.72-7.72 1.47 1.35L5.41 20z\"/>\n",
              "  </svg>\n",
              "      </button>\n",
              "      \n",
              "  <style>\n",
              "    .colab-df-container {\n",
              "      display:flex;\n",
              "      flex-wrap:wrap;\n",
              "      gap: 12px;\n",
              "    }\n",
              "\n",
              "    .colab-df-convert {\n",
              "      background-color: #E8F0FE;\n",
              "      border: none;\n",
              "      border-radius: 50%;\n",
              "      cursor: pointer;\n",
              "      display: none;\n",
              "      fill: #1967D2;\n",
              "      height: 32px;\n",
              "      padding: 0 0 0 0;\n",
              "      width: 32px;\n",
              "    }\n",
              "\n",
              "    .colab-df-convert:hover {\n",
              "      background-color: #E2EBFA;\n",
              "      box-shadow: 0px 1px 2px rgba(60, 64, 67, 0.3), 0px 1px 3px 1px rgba(60, 64, 67, 0.15);\n",
              "      fill: #174EA6;\n",
              "    }\n",
              "\n",
              "    [theme=dark] .colab-df-convert {\n",
              "      background-color: #3B4455;\n",
              "      fill: #D2E3FC;\n",
              "    }\n",
              "\n",
              "    [theme=dark] .colab-df-convert:hover {\n",
              "      background-color: #434B5C;\n",
              "      box-shadow: 0px 1px 3px 1px rgba(0, 0, 0, 0.15);\n",
              "      filter: drop-shadow(0px 1px 2px rgba(0, 0, 0, 0.3));\n",
              "      fill: #FFFFFF;\n",
              "    }\n",
              "  </style>\n",
              "\n",
              "      <script>\n",
              "        const buttonEl =\n",
              "          document.querySelector('#df-1748e409-54fb-43d9-b512-51757fad6de5 button.colab-df-convert');\n",
              "        buttonEl.style.display =\n",
              "          google.colab.kernel.accessAllowed ? 'block' : 'none';\n",
              "\n",
              "        async function convertToInteractive(key) {\n",
              "          const element = document.querySelector('#df-1748e409-54fb-43d9-b512-51757fad6de5');\n",
              "          const dataTable =\n",
              "            await google.colab.kernel.invokeFunction('convertToInteractive',\n",
              "                                                     [key], {});\n",
              "          if (!dataTable) return;\n",
              "\n",
              "          const docLinkHtml = 'Like what you see? Visit the ' +\n",
              "            '<a target=\"_blank\" href=https://colab.research.google.com/notebooks/data_table.ipynb>data table notebook</a>'\n",
              "            + ' to learn more about interactive tables.';\n",
              "          element.innerHTML = '';\n",
              "          dataTable['output_type'] = 'display_data';\n",
              "          await google.colab.output.renderOutput(dataTable, element);\n",
              "          const docLink = document.createElement('div');\n",
              "          docLink.innerHTML = docLinkHtml;\n",
              "          element.appendChild(docLink);\n",
              "        }\n",
              "      </script>\n",
              "    </div>\n",
              "  </div>\n",
              "  "
            ],
            "text/plain": [
              "                                     id  andar  area_util  banheiros  \\\n",
              "0  03a386b6-7ab8-4eff-891d-f8a16efc1989      0       43.0          1   \n",
              "1  1fe78d41-b8e0-4d21-a1a8-72cb7863f441      0       44.0          1   \n",
              "2  1fa1c1e5-e98c-433f-9675-1b43d7d6da01      4       55.0          1   \n",
              "3  a6ab01ae-3d40-40e7-bb6a-f2334e0abbe0      2       55.0          1   \n",
              "4  1d8ff7a2-16bd-4e3f-a92e-1b85f923ebb0      0       50.0          1   \n",
              "\n",
              "                                     caracteristicas  quartos  suites  vaga  \\\n",
              "0  [Churrasqueira, Academia, Playground, Salão de...        2     NaN     1   \n",
              "1                                                 []        2     0.0     0   \n",
              "2                                                 []        2     0.0     1   \n",
              "3                                                 []        2     0.0     0   \n",
              "4                                                 []        1     NaN     0   \n",
              "\n",
              "         bairro          zona  condominio    iptu     label  \n",
              "0      Realengo    Zona Oeste       285.0     NaN   22999.0  \n",
              "1         Irajá    Zona Norte       170.0     0.0  110000.0  \n",
              "2        Cosmos    Zona Oeste         NaN     NaN  115000.0  \n",
              "3  Tomás Coelho    Zona Norte         NaN     NaN  115000.0  \n",
              "4        Centro  Zona Central      1300.0  2679.0  125000.0  "
            ]
          },
          "execution_count": 18,
          "metadata": {},
          "output_type": "execute_result"
        }
      ],
      "source": [
        "dataset.limit(5).toPandas()"
      ]
    },
    {
      "cell_type": "markdown",
      "metadata": {
        "id": "r_62cRGoPD0b"
      },
      "source": [
        "### Coluna Características"
      ]
    },
    {
      "cell_type": "markdown",
      "metadata": {
        "id": "EwaVVyGJgNIP"
      },
      "source": [
        "Observando nosso DataFrame, podemos perceber que a coluna 'características' está montada de uma forma que atrapalha a modelagem, pois seus elementos estão organizados em listas. Isso impede uma contagem de cada característica individualmente."
      ]
    },
    {
      "cell_type": "code",
      "execution_count": null,
      "metadata": {
        "id": "UiJ6hoRssbU_"
      },
      "outputs": [],
      "source": [
        "from pyspark.sql.types import *\n",
        "from pyspark.sql.functions import col\n",
        "from pyspark.sql.functions import *"
      ]
    },
    {
      "cell_type": "markdown",
      "metadata": {
        "id": "rzG0Two5N77w"
      },
      "source": [
        "vamos criar um novo dataframe somente com as caracteristicas em lista e a coluna 'id' para uma futura união."
      ]
    },
    {
      "cell_type": "code",
      "execution_count": null,
      "metadata": {
        "colab": {
          "base_uri": "https://localhost:8080/"
        },
        "id": "xm-dVT6FtLmO",
        "outputId": "483b938b-f9a3-4aa2-c2c3-a2290272f2e4"
      },
      "outputs": [
        {
          "name": "stdout",
          "output_type": "stream",
          "text": [
            "+------------------------------------+-----------------------------------------------------------------------------------------------------------------------------------------+\n",
            "|id                                  |caracteristicas                                                                                                                          |\n",
            "+------------------------------------+-----------------------------------------------------------------------------------------------------------------------------------------+\n",
            "|03a386b6-7ab8-4eff-891d-f8a16efc1989|[Churrasqueira, Academia, Playground, Salão de festas, Condomínio fechado, Portão eletrônico, Portaria 24h, Animais permitidos]          |\n",
            "|1fe78d41-b8e0-4d21-a1a8-72cb7863f441|[]                                                                                                                                       |\n",
            "|1fa1c1e5-e98c-433f-9675-1b43d7d6da01|[]                                                                                                                                       |\n",
            "|a6ab01ae-3d40-40e7-bb6a-f2334e0abbe0|[]                                                                                                                                       |\n",
            "|1d8ff7a2-16bd-4e3f-a92e-1b85f923ebb0|[]                                                                                                                                       |\n",
            "|40a2cbde-946b-42da-b7f2-b80057c7a47f|[Condomínio fechado, Portaria 24h, Salão de festas, Churrasqueira, Piscina, Animais permitidos]                                          |\n",
            "|be269ddf-a4a3-4a72-bd54-93cdccf512dd|[Churrasqueira, Condomínio fechado, Piscina]                                                                                             |\n",
            "|4b7e3d59-34fd-4bac-9232-1015cb3b3a24|[Churrasqueira, Piscina, Playground, Salão de festas, Condomínio fechado, Portão eletrônico, Portaria 24h, Animais permitidos]           |\n",
            "|a1a0c2ac-4fa8-4b02-a087-f9d76b6bccb7|[Churrasqueira, Elevador, Salão de festas, Condomínio fechado, Portão eletrônico, Portaria 24h, Animais permitidos]                      |\n",
            "|390d2b88-e06d-47e5-ba7f-a680130ac5f0|[Salão de festas]                                                                                                                        |\n",
            "|07bb07c1-21cc-4daa-99c4-e12b53da67d2|[Condomínio fechado, Animais permitidos]                                                                                                 |\n",
            "|7d3a1bae-988c-44b9-8e42-99267dda4245|[Playground, Churrasqueira, Salão de festas, Condomínio fechado, Portão eletrônico, Portaria 24h, Animais permitidos]                    |\n",
            "|47af17f0-1c81-474c-b7ec-fefbe48954d0|[]                                                                                                                                       |\n",
            "|a9bd1575-e9f2-43d7-850c-c8d1385e6908|[Condomínio fechado, Portão eletrônico, Animais permitidos]                                                                              |\n",
            "|cfca7253-3d02-4cdc-99de-714ad1b4cc61|[Academia, Churrasqueira, Condomínio fechado, Elevador, Playground, Portão eletrônico, Portaria 24h, Salão de festas, Animais permitidos]|\n",
            "|b571ae97-e3d8-4fbf-80b9-2c2c78fb02c1|[Academia, Condomínio fechado, Elevador, Portaria 24h, Salão de festas, Churrasqueira, Portão eletrônico, Animais permitidos]            |\n",
            "|eb5fdc65-acae-45f8-9075-b5238b19bd9e|[Academia, Condomínio fechado, Elevador, Portaria 24h, Salão de festas, Playground, Portão eletrônico, Animais permitidos]               |\n",
            "|77cd0388-e3ff-40c3-928c-f4d535049bff|[]                                                                                                                                       |\n",
            "|74a91f07-7387-4a8e-bfbe-c8aec0bf645f|[Salão de festas, Elevador]                                                                                                              |\n",
            "|6aab1165-508d-4554-b122-b61c178109de|[Animais permitidos]                                                                                                                     |\n",
            "+------------------------------------+-----------------------------------------------------------------------------------------------------------------------------------------+\n",
            "only showing top 20 rows\n",
            "\n"
          ]
        }
      ],
      "source": [
        "caracteristicas = dataset.select('id', 'caracteristicas')\n",
        "caracteristicas.show(truncate=False)"
      ]
    },
    {
      "cell_type": "code",
      "execution_count": null,
      "metadata": {
        "colab": {
          "base_uri": "https://localhost:8080/"
        },
        "id": "hIjc8_-d0tEQ",
        "outputId": "34657b6e-a61f-4680-fb9e-790db43767f2"
      },
      "outputs": [
        {
          "name": "stdout",
          "output_type": "stream",
          "text": [
            "+--------------------+------------------+\n",
            "|                  id|               col|\n",
            "+--------------------+------------------+\n",
            "|03a386b6-7ab8-4ef...|     Churrasqueira|\n",
            "|03a386b6-7ab8-4ef...|          Academia|\n",
            "|03a386b6-7ab8-4ef...|        Playground|\n",
            "|03a386b6-7ab8-4ef...|   Salão de festas|\n",
            "|03a386b6-7ab8-4ef...|Condomínio fechado|\n",
            "|03a386b6-7ab8-4ef...| Portão eletrônico|\n",
            "|03a386b6-7ab8-4ef...|      Portaria 24h|\n",
            "|03a386b6-7ab8-4ef...|Animais permitidos|\n",
            "|1fe78d41-b8e0-4d2...|              null|\n",
            "|1fa1c1e5-e98c-433...|              null|\n",
            "+--------------------+------------------+\n",
            "\n"
          ]
        }
      ],
      "source": [
        "caracteristicas\\\n",
        "        .select(\"id\", explode_outer(\"caracteristicas\"))\\\n",
        "        .limit(10)\\\n",
        "        .show()"
      ]
    },
    {
      "cell_type": "code",
      "execution_count": null,
      "metadata": {
        "id": "iauM136w7gOM"
      },
      "outputs": [],
      "source": [
        "caracteristicas_explode = caracteristicas.select('id', explode_outer(\"caracteristicas\"))"
      ]
    },
    {
      "cell_type": "markdown",
      "metadata": {
        "id": "lcAdYDAaONf1"
      },
      "source": [
        "com a coluna 'caracteristicas' explodida em diversas colunas, vamos pivotar esse dataframe, sempre agrupado pelo 'id'. Dessa forma, o que eram linhas tornarão-se colunas."
      ]
    },
    {
      "cell_type": "code",
      "execution_count": null,
      "metadata": {
        "id": "8sJJadOb76gF"
      },
      "outputs": [],
      "source": [
        "caracteristicas_2 = caracteristicas_explode.groupBy(\"id\").pivot(\"col\").count()\n",
        "caracteristicas_pivot = caracteristicas_2.select('*')\n"
      ]
    },
    {
      "cell_type": "code",
      "execution_count": null,
      "metadata": {
        "colab": {
          "base_uri": "https://localhost:8080/"
        },
        "id": "3eytFKCeANnp",
        "outputId": "7742ac16-e7c3-408c-8759-0a4c36f8b805"
      },
      "outputs": [
        {
          "name": "stdout",
          "output_type": "stream",
          "text": [
            "root\n",
            " |-- id: string (nullable = true)\n",
            " |-- null: long (nullable = true)\n",
            " |-- Academia: long (nullable = true)\n",
            " |-- Animais permitidos: long (nullable = true)\n",
            " |-- Churrasqueira: long (nullable = true)\n",
            " |-- Condomínio fechado: long (nullable = true)\n",
            " |-- Elevador: long (nullable = true)\n",
            " |-- Piscina: long (nullable = true)\n",
            " |-- Playground: long (nullable = true)\n",
            " |-- Portaria 24h: long (nullable = true)\n",
            " |-- Portão eletrônico: long (nullable = true)\n",
            " |-- Salão de festas: long (nullable = true)\n",
            "\n"
          ]
        }
      ],
      "source": [
        "caracteristicas_pivot.printSchema()"
      ]
    },
    {
      "cell_type": "code",
      "execution_count": null,
      "metadata": {
        "colab": {
          "base_uri": "https://localhost:8080/",
          "height": 354
        },
        "id": "rWE8yzSs8hYw",
        "outputId": "cc876314-e35b-481a-8335-a73ccbc2b859"
      },
      "outputs": [
        {
          "data": {
            "text/html": [
              "\n",
              "  <div id=\"df-92714dfe-8e6c-4455-a0d3-bb142498136a\">\n",
              "    <div class=\"colab-df-container\">\n",
              "      <div>\n",
              "<style scoped>\n",
              "    .dataframe tbody tr th:only-of-type {\n",
              "        vertical-align: middle;\n",
              "    }\n",
              "\n",
              "    .dataframe tbody tr th {\n",
              "        vertical-align: top;\n",
              "    }\n",
              "\n",
              "    .dataframe thead th {\n",
              "        text-align: right;\n",
              "    }\n",
              "</style>\n",
              "<table border=\"1\" class=\"dataframe\">\n",
              "  <thead>\n",
              "    <tr style=\"text-align: right;\">\n",
              "      <th></th>\n",
              "      <th>id</th>\n",
              "      <th>null</th>\n",
              "      <th>Academia</th>\n",
              "      <th>Animais permitidos</th>\n",
              "      <th>Churrasqueira</th>\n",
              "      <th>Condomínio fechado</th>\n",
              "      <th>Elevador</th>\n",
              "      <th>Piscina</th>\n",
              "      <th>Playground</th>\n",
              "      <th>Portaria 24h</th>\n",
              "      <th>Portão eletrônico</th>\n",
              "      <th>Salão de festas</th>\n",
              "    </tr>\n",
              "  </thead>\n",
              "  <tbody>\n",
              "    <tr>\n",
              "      <th>0</th>\n",
              "      <td>fd96bbd5-d631-416a-9f84-29091cefe14c</td>\n",
              "      <td>NaN</td>\n",
              "      <td>1.0</td>\n",
              "      <td>1.0</td>\n",
              "      <td>1.0</td>\n",
              "      <td>1.0</td>\n",
              "      <td>1.0</td>\n",
              "      <td>1.0</td>\n",
              "      <td>1</td>\n",
              "      <td>1.0</td>\n",
              "      <td>1.0</td>\n",
              "      <td>1</td>\n",
              "    </tr>\n",
              "    <tr>\n",
              "      <th>1</th>\n",
              "      <td>bfffedfe-99e7-4aed-9a9f-f766225a0f1f</td>\n",
              "      <td>NaN</td>\n",
              "      <td>NaN</td>\n",
              "      <td>1.0</td>\n",
              "      <td>1.0</td>\n",
              "      <td>1.0</td>\n",
              "      <td>1.0</td>\n",
              "      <td>NaN</td>\n",
              "      <td>1</td>\n",
              "      <td>NaN</td>\n",
              "      <td>1.0</td>\n",
              "      <td>1</td>\n",
              "    </tr>\n",
              "    <tr>\n",
              "      <th>2</th>\n",
              "      <td>fcb67af3-5601-415f-9d1f-75280923a4e3</td>\n",
              "      <td>NaN</td>\n",
              "      <td>1.0</td>\n",
              "      <td>1.0</td>\n",
              "      <td>1.0</td>\n",
              "      <td>NaN</td>\n",
              "      <td>NaN</td>\n",
              "      <td>1.0</td>\n",
              "      <td>1</td>\n",
              "      <td>NaN</td>\n",
              "      <td>NaN</td>\n",
              "      <td>1</td>\n",
              "    </tr>\n",
              "    <tr>\n",
              "      <th>3</th>\n",
              "      <td>afecddff-f4cc-4ab8-bdbf-242b7dff7241</td>\n",
              "      <td>NaN</td>\n",
              "      <td>1.0</td>\n",
              "      <td>1.0</td>\n",
              "      <td>1.0</td>\n",
              "      <td>1.0</td>\n",
              "      <td>1.0</td>\n",
              "      <td>1.0</td>\n",
              "      <td>1</td>\n",
              "      <td>1.0</td>\n",
              "      <td>1.0</td>\n",
              "      <td>1</td>\n",
              "    </tr>\n",
              "    <tr>\n",
              "      <th>4</th>\n",
              "      <td>1bbc40f3-4f5c-4595-99b1-56ef42a54ede</td>\n",
              "      <td>NaN</td>\n",
              "      <td>1.0</td>\n",
              "      <td>NaN</td>\n",
              "      <td>NaN</td>\n",
              "      <td>1.0</td>\n",
              "      <td>1.0</td>\n",
              "      <td>1.0</td>\n",
              "      <td>1</td>\n",
              "      <td>1.0</td>\n",
              "      <td>1.0</td>\n",
              "      <td>1</td>\n",
              "    </tr>\n",
              "  </tbody>\n",
              "</table>\n",
              "</div>\n",
              "      <button class=\"colab-df-convert\" onclick=\"convertToInteractive('df-92714dfe-8e6c-4455-a0d3-bb142498136a')\"\n",
              "              title=\"Convert this dataframe to an interactive table.\"\n",
              "              style=\"display:none;\">\n",
              "        \n",
              "  <svg xmlns=\"http://www.w3.org/2000/svg\" height=\"24px\"viewBox=\"0 0 24 24\"\n",
              "       width=\"24px\">\n",
              "    <path d=\"M0 0h24v24H0V0z\" fill=\"none\"/>\n",
              "    <path d=\"M18.56 5.44l.94 2.06.94-2.06 2.06-.94-2.06-.94-.94-2.06-.94 2.06-2.06.94zm-11 1L8.5 8.5l.94-2.06 2.06-.94-2.06-.94L8.5 2.5l-.94 2.06-2.06.94zm10 10l.94 2.06.94-2.06 2.06-.94-2.06-.94-.94-2.06-.94 2.06-2.06.94z\"/><path d=\"M17.41 7.96l-1.37-1.37c-.4-.4-.92-.59-1.43-.59-.52 0-1.04.2-1.43.59L10.3 9.45l-7.72 7.72c-.78.78-.78 2.05 0 2.83L4 21.41c.39.39.9.59 1.41.59.51 0 1.02-.2 1.41-.59l7.78-7.78 2.81-2.81c.8-.78.8-2.07 0-2.86zM5.41 20L4 18.59l7.72-7.72 1.47 1.35L5.41 20z\"/>\n",
              "  </svg>\n",
              "      </button>\n",
              "      \n",
              "  <style>\n",
              "    .colab-df-container {\n",
              "      display:flex;\n",
              "      flex-wrap:wrap;\n",
              "      gap: 12px;\n",
              "    }\n",
              "\n",
              "    .colab-df-convert {\n",
              "      background-color: #E8F0FE;\n",
              "      border: none;\n",
              "      border-radius: 50%;\n",
              "      cursor: pointer;\n",
              "      display: none;\n",
              "      fill: #1967D2;\n",
              "      height: 32px;\n",
              "      padding: 0 0 0 0;\n",
              "      width: 32px;\n",
              "    }\n",
              "\n",
              "    .colab-df-convert:hover {\n",
              "      background-color: #E2EBFA;\n",
              "      box-shadow: 0px 1px 2px rgba(60, 64, 67, 0.3), 0px 1px 3px 1px rgba(60, 64, 67, 0.15);\n",
              "      fill: #174EA6;\n",
              "    }\n",
              "\n",
              "    [theme=dark] .colab-df-convert {\n",
              "      background-color: #3B4455;\n",
              "      fill: #D2E3FC;\n",
              "    }\n",
              "\n",
              "    [theme=dark] .colab-df-convert:hover {\n",
              "      background-color: #434B5C;\n",
              "      box-shadow: 0px 1px 3px 1px rgba(0, 0, 0, 0.15);\n",
              "      filter: drop-shadow(0px 1px 2px rgba(0, 0, 0, 0.3));\n",
              "      fill: #FFFFFF;\n",
              "    }\n",
              "  </style>\n",
              "\n",
              "      <script>\n",
              "        const buttonEl =\n",
              "          document.querySelector('#df-92714dfe-8e6c-4455-a0d3-bb142498136a button.colab-df-convert');\n",
              "        buttonEl.style.display =\n",
              "          google.colab.kernel.accessAllowed ? 'block' : 'none';\n",
              "\n",
              "        async function convertToInteractive(key) {\n",
              "          const element = document.querySelector('#df-92714dfe-8e6c-4455-a0d3-bb142498136a');\n",
              "          const dataTable =\n",
              "            await google.colab.kernel.invokeFunction('convertToInteractive',\n",
              "                                                     [key], {});\n",
              "          if (!dataTable) return;\n",
              "\n",
              "          const docLinkHtml = 'Like what you see? Visit the ' +\n",
              "            '<a target=\"_blank\" href=https://colab.research.google.com/notebooks/data_table.ipynb>data table notebook</a>'\n",
              "            + ' to learn more about interactive tables.';\n",
              "          element.innerHTML = '';\n",
              "          dataTable['output_type'] = 'display_data';\n",
              "          await google.colab.output.renderOutput(dataTable, element);\n",
              "          const docLink = document.createElement('div');\n",
              "          docLink.innerHTML = docLinkHtml;\n",
              "          element.appendChild(docLink);\n",
              "        }\n",
              "      </script>\n",
              "    </div>\n",
              "  </div>\n",
              "  "
            ],
            "text/plain": [
              "                                     id  null  Academia  Animais permitidos  \\\n",
              "0  fd96bbd5-d631-416a-9f84-29091cefe14c   NaN       1.0                 1.0   \n",
              "1  bfffedfe-99e7-4aed-9a9f-f766225a0f1f   NaN       NaN                 1.0   \n",
              "2  fcb67af3-5601-415f-9d1f-75280923a4e3   NaN       1.0                 1.0   \n",
              "3  afecddff-f4cc-4ab8-bdbf-242b7dff7241   NaN       1.0                 1.0   \n",
              "4  1bbc40f3-4f5c-4595-99b1-56ef42a54ede   NaN       1.0                 NaN   \n",
              "\n",
              "   Churrasqueira  Condomínio fechado  Elevador  Piscina  Playground  \\\n",
              "0            1.0                 1.0       1.0      1.0           1   \n",
              "1            1.0                 1.0       1.0      NaN           1   \n",
              "2            1.0                 NaN       NaN      1.0           1   \n",
              "3            1.0                 1.0       1.0      1.0           1   \n",
              "4            NaN                 1.0       1.0      1.0           1   \n",
              "\n",
              "   Portaria 24h  Portão eletrônico  Salão de festas  \n",
              "0           1.0                1.0                1  \n",
              "1           NaN                1.0                1  \n",
              "2           NaN                NaN                1  \n",
              "3           1.0                1.0                1  \n",
              "4           1.0                1.0                1  "
            ]
          },
          "execution_count": 25,
          "metadata": {},
          "output_type": "execute_result"
        }
      ],
      "source": [
        "caracteristicas_pivot.limit(5).toPandas()"
      ]
    },
    {
      "cell_type": "markdown",
      "metadata": {
        "id": "kEcjdBJlOmOq"
      },
      "source": [
        "com o dataframe pivotado, vamos uní-lo com o principal, usando a coluna 'id' como chave e num segundo momento excluindo as colunas 'caracteristicas' e 'null', pois não serão úteis para o modelo."
      ]
    },
    {
      "cell_type": "code",
      "execution_count": null,
      "metadata": {
        "id": "Rj1d7x4-DSxR"
      },
      "outputs": [],
      "source": [
        "dataset = dataset.join(caracteristicas_pivot, on='id', how='outer')"
      ]
    },
    {
      "cell_type": "code",
      "execution_count": null,
      "metadata": {
        "colab": {
          "base_uri": "https://localhost:8080/"
        },
        "id": "BgkoWGrhDzc3",
        "outputId": "878e42a5-7f0f-4cef-b719-fa1bae51e255"
      },
      "outputs": [
        {
          "name": "stdout",
          "output_type": "stream",
          "text": [
            "+--------------------+-----+---------+---------+-------+------+----+--------------------+----------+----------+------+---------+--------+------------------+-------------+------------------+--------+-------+----------+------------+-----------------+---------------+\n",
            "|                  id|andar|area_util|banheiros|quartos|suites|vaga|              bairro|      zona|condominio|  iptu|    label|Academia|Animais permitidos|Churrasqueira|Condomínio fechado|Elevador|Piscina|Playground|Portaria 24h|Portão eletrônico|Salão de festas|\n",
            "+--------------------+-----+---------+---------+-------+------+----+--------------------+----------+----------+------+---------+--------+------------------+-------------+------------------+--------+-------+----------+------------+-----------------+---------------+\n",
            "|00012605-9cae-45b...|    0|    410.0|        3|      4|     1|   1|             Ipanema|  Zona Sul|    3300.0|5780.0|4600000.0|    null|              null|         null|              null|       1|   null|      null|        null|             null|           null|\n",
            "|0002dfaf-7735-481...|    1|     50.0|        1|      1|  null|   1|         Vila Isabel|Zona Norte|     500.0| 600.0| 360000.0|    null|                 1|         null|              null|       1|   null|      null|        null|                1|              1|\n",
            "|0003ce76-949d-484...|    0|    148.0|        4|      4|     2|   2|         Jacarepaguá|Zona Oeste|       0.0|   0.0|1200000.0|    null|              null|            1|              null|       1|      1|      null|        null|             null|           null|\n",
            "|00064277-de4c-4a3...|    0|    104.0|        1|      2|     0|   0|          Copacabana|  Zona Sul|    1010.0| 272.0| 750000.0|    null|              null|         null|              null|       1|   null|      null|        null|             null|           null|\n",
            "|000be8fe-2044-4ce...|    0|     71.0|        2|      2|  null|   1|             Humaitá|  Zona Sul|    1312.0| 360.0|1025000.0|    null|              null|         null|              null|       1|   null|      null|        null|             null|           null|\n",
            "|000c1a63-e78c-437...|    3|    115.0|        2|      3|     0|   0|          Copacabana|  Zona Sul|    1904.0|3831.0|1100000.0|    null|                 1|         null|                 1|       1|   null|         1|           1|                1|              1|\n",
            "|000ded8f-425e-435...|    0|     65.0|        1|      2|     0|   0|Recreio dos Bande...|Zona Oeste|       0.0|   0.0| 593036.0|       1|                 1|            1|                 1|       1|      1|         1|           1|                1|              1|\n",
            "|000e02d5-7ee3-4e1...|    1|     74.0|        2|      2|     1|   1|     Barra da Tijuca|Zona Oeste|       1.0|   1.0|1031576.0|       1|                 1|            1|                 1|       1|      1|         1|           1|                1|              1|\n",
            "|0012887a-18e2-4c9...|    5|    100.0|        3|      3|     1|   0|          Copacabana|  Zona Sul|    2081.0| 240.0| 800000.0|    null|                 1|         null|              null|       1|   null|      null|        null|                1|           null|\n",
            "|0014ca0d-459e-442...|   11|    105.0|        3|      3|     1|   2|     Barra da Tijuca|Zona Oeste|    1400.0| 281.0|1150000.0|    null|              null|         null|              null|    null|   null|      null|        null|             null|           null|\n",
            "|00189386-7a13-4f8...|    0|     70.0|        3|      2|     1|   2|Recreio dos Bande...|Zona Oeste|    1003.0| 981.0| 497000.0|       1|              null|            1|                 1|    null|   null|      null|        null|             null|              1|\n",
            "|0018e345-5e30-425...|    0|     72.0|        2|      2|     1|   0|             Ipanema|  Zona Sul|    1000.0|3000.0|1580000.0|    null|              null|         null|              null|    null|   null|      null|        null|             null|           null|\n",
            "|0019b46a-d9e3-405...|    0|    164.0|        5|      4|     2|   3|     Barra da Tijuca|Zona Oeste|    2900.0| 360.0|1750000.0|       1|                 1|            1|                 1|       1|      1|         1|           1|                1|              1|\n",
            "|001a96b3-d026-459...|    0|     90.0|        3|      2|     1|   1|     Barra da Tijuca|Zona Oeste|    1300.0|3000.0| 890000.0|       1|              null|            1|              null|    null|   null|      null|        null|             null|           null|\n",
            "|001d8c08-a187-4d7...|    8|    187.0|        5|      4|     2|   6|              Tijuca|Zona Norte|    2487.0|4817.0|1700000.0|    null|                 1|            1|                 1|       1|      1|         1|           1|                1|           null|\n",
            "|001e8003-ef49-4ac...|    0|    114.0|        2|      4|     1|   2|              Leblon|  Zona Sul|    1557.0|2475.0|1500000.0|    null|              null|         null|              null|       1|   null|      null|        null|             null|           null|\n",
            "|00227240-98ad-4e9...|    0|     75.0|        3|      2|     2|   1|     Barra da Tijuca|Zona Oeste|    1200.0|2000.0| 800000.0|       1|                 1|            1|                 1|       1|      1|         1|           1|                1|              1|\n",
            "|0022cda2-8e17-48a...|    3|    150.0|        3|      4|  null|null|            Flamengo|  Zona Sul|       0.0|   0.0|1125000.0|    null|              null|         null|              null|    null|   null|      null|        null|             null|           null|\n",
            "|0023e20a-7798-42d...|    0|     48.0|        1|      1|     0|   1|     Jardim Botânico|  Zona Sul|      null|  null| 906000.0|    null|                 1|         null|              null|       1|   null|      null|           1|                1|           null|\n",
            "|00281fb0-f53e-4b2...|    5|     65.0|        2|      2|     1|   1|     Barra da Tijuca|Zona Oeste|    1100.0| 210.0| 690000.0|       1|              null|            1|                 1|       1|      1|         1|           1|                1|              1|\n",
            "+--------------------+-----+---------+---------+-------+------+----+--------------------+----------+----------+------+---------+--------+------------------+-------------+------------------+--------+-------+----------+------------+-----------------+---------------+\n",
            "only showing top 20 rows\n",
            "\n"
          ]
        }
      ],
      "source": [
        "dataset = dataset.drop('caracteristicas', 'null')\n",
        "dataset.show()"
      ]
    },
    {
      "cell_type": "code",
      "execution_count": null,
      "metadata": {
        "colab": {
          "base_uri": "https://localhost:8080/"
        },
        "id": "-W0zY4sNLo4T",
        "outputId": "3d4dec40-7eb5-4d5d-8f76-c9f9a407a382"
      },
      "outputs": [
        {
          "data": {
            "text/plain": [
              "66562"
            ]
          },
          "execution_count": 28,
          "metadata": {},
          "output_type": "execute_result"
        }
      ],
      "source": [
        "dataset.count()"
      ]
    },
    {
      "cell_type": "markdown",
      "metadata": {
        "id": "eEsg2D92PMym"
      },
      "source": [
        "## Lidando com dados nulos"
      ]
    },
    {
      "cell_type": "markdown",
      "metadata": {
        "id": "OCmOPoXog6xM"
      },
      "source": [
        "Para conseguirmos elaborar um modelo de precificação adequado, precisamos resolver o problema dos dados nulos, pois os modelos não costumam trabalhar corretamente com dados faltantes.\n",
        "\n",
        "Dessa forma, vamos substituir no dataset os valores nulos por 0."
      ]
    },
    {
      "cell_type": "code",
      "execution_count": null,
      "metadata": {
        "colab": {
          "base_uri": "https://localhost:8080/"
        },
        "id": "fwWjoKrcWosp",
        "outputId": "7efbb540-d419-4bd6-abed-caedc61d0714"
      },
      "outputs": [
        {
          "name": "stdout",
          "output_type": "stream",
          "text": [
            "+------+-----+\n",
            "|suites|count|\n",
            "+------+-----+\n",
            "|    12|    1|\n",
            "|  null| 5554|\n",
            "|     1|33889|\n",
            "|     6|   27|\n",
            "|     3| 3751|\n",
            "|    20|    2|\n",
            "|     5|  354|\n",
            "|     4| 3026|\n",
            "|     7|    3|\n",
            "|     2| 7228|\n",
            "|     0|12724|\n",
            "|    10|    1|\n",
            "|    21|    1|\n",
            "|    30|    1|\n",
            "+------+-----+\n",
            "\n"
          ]
        }
      ],
      "source": [
        "dataset.select('suites').groupBy('suites').count().show()"
      ]
    },
    {
      "cell_type": "code",
      "execution_count": null,
      "metadata": {
        "colab": {
          "base_uri": "https://localhost:8080/",
          "height": 595
        },
        "id": "NAFpaxscXajc",
        "outputId": "3ec7b6a2-e079-4cec-c82f-5573326e8be2"
      },
      "outputs": [
        {
          "data": {
            "text/html": [
              "\n",
              "  <div id=\"df-a8a0dd76-c67a-4165-b714-1cf89a7c59bd\">\n",
              "    <div class=\"colab-df-container\">\n",
              "      <div>\n",
              "<style scoped>\n",
              "    .dataframe tbody tr th:only-of-type {\n",
              "        vertical-align: middle;\n",
              "    }\n",
              "\n",
              "    .dataframe tbody tr th {\n",
              "        vertical-align: top;\n",
              "    }\n",
              "\n",
              "    .dataframe thead th {\n",
              "        text-align: right;\n",
              "    }\n",
              "</style>\n",
              "<table border=\"1\" class=\"dataframe\">\n",
              "  <thead>\n",
              "    <tr style=\"text-align: right;\">\n",
              "      <th></th>\n",
              "      <th>id</th>\n",
              "      <th>andar</th>\n",
              "      <th>area_util</th>\n",
              "      <th>banheiros</th>\n",
              "      <th>quartos</th>\n",
              "      <th>suites</th>\n",
              "      <th>vaga</th>\n",
              "      <th>bairro</th>\n",
              "      <th>zona</th>\n",
              "      <th>condominio</th>\n",
              "      <th>...</th>\n",
              "      <th>Academia</th>\n",
              "      <th>Animais permitidos</th>\n",
              "      <th>Churrasqueira</th>\n",
              "      <th>Condomínio fechado</th>\n",
              "      <th>Elevador</th>\n",
              "      <th>Piscina</th>\n",
              "      <th>Playground</th>\n",
              "      <th>Portaria 24h</th>\n",
              "      <th>Portão eletrônico</th>\n",
              "      <th>Salão de festas</th>\n",
              "    </tr>\n",
              "  </thead>\n",
              "  <tbody>\n",
              "    <tr>\n",
              "      <th>0</th>\n",
              "      <td>00012605-9cae-45b3-82a2-f09d117fa7a4</td>\n",
              "      <td>0</td>\n",
              "      <td>410.0</td>\n",
              "      <td>3</td>\n",
              "      <td>4</td>\n",
              "      <td>1</td>\n",
              "      <td>1</td>\n",
              "      <td>Ipanema</td>\n",
              "      <td>Zona Sul</td>\n",
              "      <td>3300.0</td>\n",
              "      <td>...</td>\n",
              "      <td>0</td>\n",
              "      <td>0</td>\n",
              "      <td>0</td>\n",
              "      <td>0</td>\n",
              "      <td>1</td>\n",
              "      <td>0</td>\n",
              "      <td>0</td>\n",
              "      <td>0</td>\n",
              "      <td>0</td>\n",
              "      <td>0</td>\n",
              "    </tr>\n",
              "    <tr>\n",
              "      <th>1</th>\n",
              "      <td>0002dfaf-7735-481b-8523-8f59fb87e4e1</td>\n",
              "      <td>1</td>\n",
              "      <td>50.0</td>\n",
              "      <td>1</td>\n",
              "      <td>1</td>\n",
              "      <td>0</td>\n",
              "      <td>1</td>\n",
              "      <td>Vila Isabel</td>\n",
              "      <td>Zona Norte</td>\n",
              "      <td>500.0</td>\n",
              "      <td>...</td>\n",
              "      <td>0</td>\n",
              "      <td>1</td>\n",
              "      <td>0</td>\n",
              "      <td>0</td>\n",
              "      <td>1</td>\n",
              "      <td>0</td>\n",
              "      <td>0</td>\n",
              "      <td>0</td>\n",
              "      <td>1</td>\n",
              "      <td>1</td>\n",
              "    </tr>\n",
              "    <tr>\n",
              "      <th>2</th>\n",
              "      <td>0003ce76-949d-4841-90ec-7abea911ce6a</td>\n",
              "      <td>0</td>\n",
              "      <td>148.0</td>\n",
              "      <td>4</td>\n",
              "      <td>4</td>\n",
              "      <td>2</td>\n",
              "      <td>2</td>\n",
              "      <td>Jacarepaguá</td>\n",
              "      <td>Zona Oeste</td>\n",
              "      <td>0.0</td>\n",
              "      <td>...</td>\n",
              "      <td>0</td>\n",
              "      <td>0</td>\n",
              "      <td>1</td>\n",
              "      <td>0</td>\n",
              "      <td>1</td>\n",
              "      <td>1</td>\n",
              "      <td>0</td>\n",
              "      <td>0</td>\n",
              "      <td>0</td>\n",
              "      <td>0</td>\n",
              "    </tr>\n",
              "    <tr>\n",
              "      <th>3</th>\n",
              "      <td>00064277-de4c-4a31-8136-cd3dc86b0ac5</td>\n",
              "      <td>0</td>\n",
              "      <td>104.0</td>\n",
              "      <td>1</td>\n",
              "      <td>2</td>\n",
              "      <td>0</td>\n",
              "      <td>0</td>\n",
              "      <td>Copacabana</td>\n",
              "      <td>Zona Sul</td>\n",
              "      <td>1010.0</td>\n",
              "      <td>...</td>\n",
              "      <td>0</td>\n",
              "      <td>0</td>\n",
              "      <td>0</td>\n",
              "      <td>0</td>\n",
              "      <td>1</td>\n",
              "      <td>0</td>\n",
              "      <td>0</td>\n",
              "      <td>0</td>\n",
              "      <td>0</td>\n",
              "      <td>0</td>\n",
              "    </tr>\n",
              "    <tr>\n",
              "      <th>4</th>\n",
              "      <td>000be8fe-2044-4cec-a8f6-6853e56f2d5e</td>\n",
              "      <td>0</td>\n",
              "      <td>71.0</td>\n",
              "      <td>2</td>\n",
              "      <td>2</td>\n",
              "      <td>0</td>\n",
              "      <td>1</td>\n",
              "      <td>Humaitá</td>\n",
              "      <td>Zona Sul</td>\n",
              "      <td>1312.0</td>\n",
              "      <td>...</td>\n",
              "      <td>0</td>\n",
              "      <td>0</td>\n",
              "      <td>0</td>\n",
              "      <td>0</td>\n",
              "      <td>1</td>\n",
              "      <td>0</td>\n",
              "      <td>0</td>\n",
              "      <td>0</td>\n",
              "      <td>0</td>\n",
              "      <td>0</td>\n",
              "    </tr>\n",
              "  </tbody>\n",
              "</table>\n",
              "<p>5 rows × 22 columns</p>\n",
              "</div>\n",
              "      <button class=\"colab-df-convert\" onclick=\"convertToInteractive('df-a8a0dd76-c67a-4165-b714-1cf89a7c59bd')\"\n",
              "              title=\"Convert this dataframe to an interactive table.\"\n",
              "              style=\"display:none;\">\n",
              "        \n",
              "  <svg xmlns=\"http://www.w3.org/2000/svg\" height=\"24px\"viewBox=\"0 0 24 24\"\n",
              "       width=\"24px\">\n",
              "    <path d=\"M0 0h24v24H0V0z\" fill=\"none\"/>\n",
              "    <path d=\"M18.56 5.44l.94 2.06.94-2.06 2.06-.94-2.06-.94-.94-2.06-.94 2.06-2.06.94zm-11 1L8.5 8.5l.94-2.06 2.06-.94-2.06-.94L8.5 2.5l-.94 2.06-2.06.94zm10 10l.94 2.06.94-2.06 2.06-.94-2.06-.94-.94-2.06-.94 2.06-2.06.94z\"/><path d=\"M17.41 7.96l-1.37-1.37c-.4-.4-.92-.59-1.43-.59-.52 0-1.04.2-1.43.59L10.3 9.45l-7.72 7.72c-.78.78-.78 2.05 0 2.83L4 21.41c.39.39.9.59 1.41.59.51 0 1.02-.2 1.41-.59l7.78-7.78 2.81-2.81c.8-.78.8-2.07 0-2.86zM5.41 20L4 18.59l7.72-7.72 1.47 1.35L5.41 20z\"/>\n",
              "  </svg>\n",
              "      </button>\n",
              "      \n",
              "  <style>\n",
              "    .colab-df-container {\n",
              "      display:flex;\n",
              "      flex-wrap:wrap;\n",
              "      gap: 12px;\n",
              "    }\n",
              "\n",
              "    .colab-df-convert {\n",
              "      background-color: #E8F0FE;\n",
              "      border: none;\n",
              "      border-radius: 50%;\n",
              "      cursor: pointer;\n",
              "      display: none;\n",
              "      fill: #1967D2;\n",
              "      height: 32px;\n",
              "      padding: 0 0 0 0;\n",
              "      width: 32px;\n",
              "    }\n",
              "\n",
              "    .colab-df-convert:hover {\n",
              "      background-color: #E2EBFA;\n",
              "      box-shadow: 0px 1px 2px rgba(60, 64, 67, 0.3), 0px 1px 3px 1px rgba(60, 64, 67, 0.15);\n",
              "      fill: #174EA6;\n",
              "    }\n",
              "\n",
              "    [theme=dark] .colab-df-convert {\n",
              "      background-color: #3B4455;\n",
              "      fill: #D2E3FC;\n",
              "    }\n",
              "\n",
              "    [theme=dark] .colab-df-convert:hover {\n",
              "      background-color: #434B5C;\n",
              "      box-shadow: 0px 1px 3px 1px rgba(0, 0, 0, 0.15);\n",
              "      filter: drop-shadow(0px 1px 2px rgba(0, 0, 0, 0.3));\n",
              "      fill: #FFFFFF;\n",
              "    }\n",
              "  </style>\n",
              "\n",
              "      <script>\n",
              "        const buttonEl =\n",
              "          document.querySelector('#df-a8a0dd76-c67a-4165-b714-1cf89a7c59bd button.colab-df-convert');\n",
              "        buttonEl.style.display =\n",
              "          google.colab.kernel.accessAllowed ? 'block' : 'none';\n",
              "\n",
              "        async function convertToInteractive(key) {\n",
              "          const element = document.querySelector('#df-a8a0dd76-c67a-4165-b714-1cf89a7c59bd');\n",
              "          const dataTable =\n",
              "            await google.colab.kernel.invokeFunction('convertToInteractive',\n",
              "                                                     [key], {});\n",
              "          if (!dataTable) return;\n",
              "\n",
              "          const docLinkHtml = 'Like what you see? Visit the ' +\n",
              "            '<a target=\"_blank\" href=https://colab.research.google.com/notebooks/data_table.ipynb>data table notebook</a>'\n",
              "            + ' to learn more about interactive tables.';\n",
              "          element.innerHTML = '';\n",
              "          dataTable['output_type'] = 'display_data';\n",
              "          await google.colab.output.renderOutput(dataTable, element);\n",
              "          const docLink = document.createElement('div');\n",
              "          docLink.innerHTML = docLinkHtml;\n",
              "          element.appendChild(docLink);\n",
              "        }\n",
              "      </script>\n",
              "    </div>\n",
              "  </div>\n",
              "  "
            ],
            "text/plain": [
              "                                     id  andar  area_util  banheiros  quartos  \\\n",
              "0  00012605-9cae-45b3-82a2-f09d117fa7a4      0      410.0          3        4   \n",
              "1  0002dfaf-7735-481b-8523-8f59fb87e4e1      1       50.0          1        1   \n",
              "2  0003ce76-949d-4841-90ec-7abea911ce6a      0      148.0          4        4   \n",
              "3  00064277-de4c-4a31-8136-cd3dc86b0ac5      0      104.0          1        2   \n",
              "4  000be8fe-2044-4cec-a8f6-6853e56f2d5e      0       71.0          2        2   \n",
              "\n",
              "   suites  vaga       bairro        zona  condominio  ...  Academia  \\\n",
              "0       1     1      Ipanema    Zona Sul      3300.0  ...         0   \n",
              "1       0     1  Vila Isabel  Zona Norte       500.0  ...         0   \n",
              "2       2     2  Jacarepaguá  Zona Oeste         0.0  ...         0   \n",
              "3       0     0   Copacabana    Zona Sul      1010.0  ...         0   \n",
              "4       0     1      Humaitá    Zona Sul      1312.0  ...         0   \n",
              "\n",
              "   Animais permitidos  Churrasqueira  Condomínio fechado  Elevador  Piscina  \\\n",
              "0                   0              0                   0         1        0   \n",
              "1                   1              0                   0         1        0   \n",
              "2                   0              1                   0         1        1   \n",
              "3                   0              0                   0         1        0   \n",
              "4                   0              0                   0         1        0   \n",
              "\n",
              "   Playground  Portaria 24h  Portão eletrônico  Salão de festas  \n",
              "0           0             0                  0                0  \n",
              "1           0             0                  1                1  \n",
              "2           0             0                  0                0  \n",
              "3           0             0                  0                0  \n",
              "4           0             0                  0                0  \n",
              "\n",
              "[5 rows x 22 columns]"
            ]
          },
          "execution_count": 30,
          "metadata": {},
          "output_type": "execute_result"
        }
      ],
      "source": [
        "dataset = dataset.fillna(0)\n",
        "dataset.limit(5).toPandas()"
      ]
    },
    {
      "cell_type": "code",
      "execution_count": null,
      "metadata": {
        "colab": {
          "base_uri": "https://localhost:8080/"
        },
        "id": "iv0RyA1YlZsW",
        "outputId": "670da494-fcd8-4c6d-ba85-20c3517a4090"
      },
      "outputs": [
        {
          "name": "stdout",
          "output_type": "stream",
          "text": [
            "+------+-----+\n",
            "|suites|count|\n",
            "+------+-----+\n",
            "|    12|    1|\n",
            "|     1|33889|\n",
            "|     6|   27|\n",
            "|     3| 3751|\n",
            "|    20|    2|\n",
            "|     5|  354|\n",
            "|     4| 3026|\n",
            "|     7|    3|\n",
            "|     2| 7228|\n",
            "|     0|18278|\n",
            "|    10|    1|\n",
            "|    21|    1|\n",
            "|    30|    1|\n",
            "+------+-----+\n",
            "\n"
          ]
        }
      ],
      "source": [
        "dataset.select('suites').groupBy('suites').count().show()"
      ]
    },
    {
      "cell_type": "markdown",
      "metadata": {
        "id": "gJ52ZqwlPVL4"
      },
      "source": [
        "## Colunas Binárias"
      ]
    },
    {
      "cell_type": "markdown",
      "metadata": {
        "id": "PtXwR2c5BO5H"
      },
      "source": [
        "Numa próxima etapa, vamos transformar algumas colunas em binárias. Mas primeiro verificaremos se ela possui poucas respostas possíveis, o que possibilita a transformação em Dummy."
      ]
    },
    {
      "cell_type": "code",
      "execution_count": null,
      "metadata": {
        "colab": {
          "base_uri": "https://localhost:8080/"
        },
        "id": "pyNdKbzs_6iw",
        "outputId": "3379273d-887d-43f0-bd66-b2f02c204267"
      },
      "outputs": [
        {
          "name": "stdout",
          "output_type": "stream",
          "text": [
            "+------------+-----+\n",
            "|        zona|count|\n",
            "+------------+-----+\n",
            "|  Zona Norte|11897|\n",
            "|  Zona Oeste|32979|\n",
            "|Zona Central| 1144|\n",
            "|    Zona Sul|20531|\n",
            "|            |   11|\n",
            "+------------+-----+\n",
            "\n"
          ]
        }
      ],
      "source": [
        "dataset\\\n",
        "    .select('zona')\\\n",
        "    .groupBy('zona')\\\n",
        "    .count()\\\n",
        "    .show()"
      ]
    },
    {
      "cell_type": "markdown",
      "metadata": {
        "id": "9FBqqq2JQY1e"
      },
      "source": [
        "como vimos que alguns registro não possuem zona, vamos proceder para eliminá-los"
      ]
    },
    {
      "cell_type": "code",
      "execution_count": null,
      "metadata": {
        "colab": {
          "base_uri": "https://localhost:8080/"
        },
        "id": "1bWHWNrUdVlT",
        "outputId": "04427b5f-d3b0-4901-f533-8777b9a9ed4b"
      },
      "outputs": [
        {
          "data": {
            "text/plain": [
              "66551"
            ]
          },
          "execution_count": 33,
          "metadata": {},
          "output_type": "execute_result"
        }
      ],
      "source": [
        "dataset = dataset.filter(dataset.zona != \"\")\n",
        "dataset.count()"
      ]
    },
    {
      "cell_type": "markdown",
      "metadata": {
        "id": "F22YmpjahcvF"
      },
      "source": [
        "Com os dados nulos excluídos, vamos pivotar a coluna 'zona' para que as quatro zonas tornem-se colunas booleanas."
      ]
    },
    {
      "cell_type": "code",
      "execution_count": null,
      "metadata": {
        "colab": {
          "base_uri": "https://localhost:8080/"
        },
        "id": "rNACsna6hma8",
        "outputId": "db33eb29-a70d-4cbf-a4e2-e9ac0e7b74f5"
      },
      "outputs": [
        {
          "name": "stdout",
          "output_type": "stream",
          "text": [
            "+--------------------+------------+----------+----------+--------+\n",
            "|                  id|Zona Central|Zona Norte|Zona Oeste|Zona Sul|\n",
            "+--------------------+------------+----------+----------+--------+\n",
            "|4e47e4d4-3326-4eb...|           0|         0|         0|       1|\n",
            "|02fba6ef-a691-442...|           0|         0|         1|       0|\n",
            "+--------------------+------------+----------+----------+--------+\n",
            "\n"
          ]
        }
      ],
      "source": [
        "zonas = dataset.groupBy(\"id\").pivot(\"zona\").count().fillna(0)\n",
        "zonas.limit(2).show()\n"
      ]
    },
    {
      "cell_type": "code",
      "execution_count": null,
      "metadata": {
        "colab": {
          "base_uri": "https://localhost:8080/",
          "height": 595
        },
        "id": "Izm81nH2jHJ-",
        "outputId": "9f257cd5-ebb4-490e-b7bd-893e4da11eea"
      },
      "outputs": [
        {
          "data": {
            "text/html": [
              "\n",
              "  <div id=\"df-cdc1b6ac-b9c2-4a9c-b17e-4a11d9e6282b\">\n",
              "    <div class=\"colab-df-container\">\n",
              "      <div>\n",
              "<style scoped>\n",
              "    .dataframe tbody tr th:only-of-type {\n",
              "        vertical-align: middle;\n",
              "    }\n",
              "\n",
              "    .dataframe tbody tr th {\n",
              "        vertical-align: top;\n",
              "    }\n",
              "\n",
              "    .dataframe thead th {\n",
              "        text-align: right;\n",
              "    }\n",
              "</style>\n",
              "<table border=\"1\" class=\"dataframe\">\n",
              "  <thead>\n",
              "    <tr style=\"text-align: right;\">\n",
              "      <th></th>\n",
              "      <th>id</th>\n",
              "      <th>andar</th>\n",
              "      <th>area_util</th>\n",
              "      <th>banheiros</th>\n",
              "      <th>quartos</th>\n",
              "      <th>suites</th>\n",
              "      <th>vaga</th>\n",
              "      <th>bairro</th>\n",
              "      <th>condominio</th>\n",
              "      <th>iptu</th>\n",
              "      <th>...</th>\n",
              "      <th>Elevador</th>\n",
              "      <th>Piscina</th>\n",
              "      <th>Playground</th>\n",
              "      <th>Portaria 24h</th>\n",
              "      <th>Portão eletrônico</th>\n",
              "      <th>Salão de festas</th>\n",
              "      <th>Zona Central</th>\n",
              "      <th>Zona Norte</th>\n",
              "      <th>Zona Oeste</th>\n",
              "      <th>Zona Sul</th>\n",
              "    </tr>\n",
              "  </thead>\n",
              "  <tbody>\n",
              "    <tr>\n",
              "      <th>0</th>\n",
              "      <td>00012605-9cae-45b3-82a2-f09d117fa7a4</td>\n",
              "      <td>0</td>\n",
              "      <td>410.0</td>\n",
              "      <td>3</td>\n",
              "      <td>4</td>\n",
              "      <td>1</td>\n",
              "      <td>1</td>\n",
              "      <td>Ipanema</td>\n",
              "      <td>3300.0</td>\n",
              "      <td>5780.0</td>\n",
              "      <td>...</td>\n",
              "      <td>1</td>\n",
              "      <td>0</td>\n",
              "      <td>0</td>\n",
              "      <td>0</td>\n",
              "      <td>0</td>\n",
              "      <td>0</td>\n",
              "      <td>0</td>\n",
              "      <td>0</td>\n",
              "      <td>0</td>\n",
              "      <td>1</td>\n",
              "    </tr>\n",
              "    <tr>\n",
              "      <th>1</th>\n",
              "      <td>0002dfaf-7735-481b-8523-8f59fb87e4e1</td>\n",
              "      <td>1</td>\n",
              "      <td>50.0</td>\n",
              "      <td>1</td>\n",
              "      <td>1</td>\n",
              "      <td>0</td>\n",
              "      <td>1</td>\n",
              "      <td>Vila Isabel</td>\n",
              "      <td>500.0</td>\n",
              "      <td>600.0</td>\n",
              "      <td>...</td>\n",
              "      <td>1</td>\n",
              "      <td>0</td>\n",
              "      <td>0</td>\n",
              "      <td>0</td>\n",
              "      <td>1</td>\n",
              "      <td>1</td>\n",
              "      <td>0</td>\n",
              "      <td>1</td>\n",
              "      <td>0</td>\n",
              "      <td>0</td>\n",
              "    </tr>\n",
              "    <tr>\n",
              "      <th>2</th>\n",
              "      <td>0003ce76-949d-4841-90ec-7abea911ce6a</td>\n",
              "      <td>0</td>\n",
              "      <td>148.0</td>\n",
              "      <td>4</td>\n",
              "      <td>4</td>\n",
              "      <td>2</td>\n",
              "      <td>2</td>\n",
              "      <td>Jacarepaguá</td>\n",
              "      <td>0.0</td>\n",
              "      <td>0.0</td>\n",
              "      <td>...</td>\n",
              "      <td>1</td>\n",
              "      <td>1</td>\n",
              "      <td>0</td>\n",
              "      <td>0</td>\n",
              "      <td>0</td>\n",
              "      <td>0</td>\n",
              "      <td>0</td>\n",
              "      <td>0</td>\n",
              "      <td>1</td>\n",
              "      <td>0</td>\n",
              "    </tr>\n",
              "    <tr>\n",
              "      <th>3</th>\n",
              "      <td>00064277-de4c-4a31-8136-cd3dc86b0ac5</td>\n",
              "      <td>0</td>\n",
              "      <td>104.0</td>\n",
              "      <td>1</td>\n",
              "      <td>2</td>\n",
              "      <td>0</td>\n",
              "      <td>0</td>\n",
              "      <td>Copacabana</td>\n",
              "      <td>1010.0</td>\n",
              "      <td>272.0</td>\n",
              "      <td>...</td>\n",
              "      <td>1</td>\n",
              "      <td>0</td>\n",
              "      <td>0</td>\n",
              "      <td>0</td>\n",
              "      <td>0</td>\n",
              "      <td>0</td>\n",
              "      <td>0</td>\n",
              "      <td>0</td>\n",
              "      <td>0</td>\n",
              "      <td>1</td>\n",
              "    </tr>\n",
              "    <tr>\n",
              "      <th>4</th>\n",
              "      <td>000be8fe-2044-4cec-a8f6-6853e56f2d5e</td>\n",
              "      <td>0</td>\n",
              "      <td>71.0</td>\n",
              "      <td>2</td>\n",
              "      <td>2</td>\n",
              "      <td>0</td>\n",
              "      <td>1</td>\n",
              "      <td>Humaitá</td>\n",
              "      <td>1312.0</td>\n",
              "      <td>360.0</td>\n",
              "      <td>...</td>\n",
              "      <td>1</td>\n",
              "      <td>0</td>\n",
              "      <td>0</td>\n",
              "      <td>0</td>\n",
              "      <td>0</td>\n",
              "      <td>0</td>\n",
              "      <td>0</td>\n",
              "      <td>0</td>\n",
              "      <td>0</td>\n",
              "      <td>1</td>\n",
              "    </tr>\n",
              "  </tbody>\n",
              "</table>\n",
              "<p>5 rows × 25 columns</p>\n",
              "</div>\n",
              "      <button class=\"colab-df-convert\" onclick=\"convertToInteractive('df-cdc1b6ac-b9c2-4a9c-b17e-4a11d9e6282b')\"\n",
              "              title=\"Convert this dataframe to an interactive table.\"\n",
              "              style=\"display:none;\">\n",
              "        \n",
              "  <svg xmlns=\"http://www.w3.org/2000/svg\" height=\"24px\"viewBox=\"0 0 24 24\"\n",
              "       width=\"24px\">\n",
              "    <path d=\"M0 0h24v24H0V0z\" fill=\"none\"/>\n",
              "    <path d=\"M18.56 5.44l.94 2.06.94-2.06 2.06-.94-2.06-.94-.94-2.06-.94 2.06-2.06.94zm-11 1L8.5 8.5l.94-2.06 2.06-.94-2.06-.94L8.5 2.5l-.94 2.06-2.06.94zm10 10l.94 2.06.94-2.06 2.06-.94-2.06-.94-.94-2.06-.94 2.06-2.06.94z\"/><path d=\"M17.41 7.96l-1.37-1.37c-.4-.4-.92-.59-1.43-.59-.52 0-1.04.2-1.43.59L10.3 9.45l-7.72 7.72c-.78.78-.78 2.05 0 2.83L4 21.41c.39.39.9.59 1.41.59.51 0 1.02-.2 1.41-.59l7.78-7.78 2.81-2.81c.8-.78.8-2.07 0-2.86zM5.41 20L4 18.59l7.72-7.72 1.47 1.35L5.41 20z\"/>\n",
              "  </svg>\n",
              "      </button>\n",
              "      \n",
              "  <style>\n",
              "    .colab-df-container {\n",
              "      display:flex;\n",
              "      flex-wrap:wrap;\n",
              "      gap: 12px;\n",
              "    }\n",
              "\n",
              "    .colab-df-convert {\n",
              "      background-color: #E8F0FE;\n",
              "      border: none;\n",
              "      border-radius: 50%;\n",
              "      cursor: pointer;\n",
              "      display: none;\n",
              "      fill: #1967D2;\n",
              "      height: 32px;\n",
              "      padding: 0 0 0 0;\n",
              "      width: 32px;\n",
              "    }\n",
              "\n",
              "    .colab-df-convert:hover {\n",
              "      background-color: #E2EBFA;\n",
              "      box-shadow: 0px 1px 2px rgba(60, 64, 67, 0.3), 0px 1px 3px 1px rgba(60, 64, 67, 0.15);\n",
              "      fill: #174EA6;\n",
              "    }\n",
              "\n",
              "    [theme=dark] .colab-df-convert {\n",
              "      background-color: #3B4455;\n",
              "      fill: #D2E3FC;\n",
              "    }\n",
              "\n",
              "    [theme=dark] .colab-df-convert:hover {\n",
              "      background-color: #434B5C;\n",
              "      box-shadow: 0px 1px 3px 1px rgba(0, 0, 0, 0.15);\n",
              "      filter: drop-shadow(0px 1px 2px rgba(0, 0, 0, 0.3));\n",
              "      fill: #FFFFFF;\n",
              "    }\n",
              "  </style>\n",
              "\n",
              "      <script>\n",
              "        const buttonEl =\n",
              "          document.querySelector('#df-cdc1b6ac-b9c2-4a9c-b17e-4a11d9e6282b button.colab-df-convert');\n",
              "        buttonEl.style.display =\n",
              "          google.colab.kernel.accessAllowed ? 'block' : 'none';\n",
              "\n",
              "        async function convertToInteractive(key) {\n",
              "          const element = document.querySelector('#df-cdc1b6ac-b9c2-4a9c-b17e-4a11d9e6282b');\n",
              "          const dataTable =\n",
              "            await google.colab.kernel.invokeFunction('convertToInteractive',\n",
              "                                                     [key], {});\n",
              "          if (!dataTable) return;\n",
              "\n",
              "          const docLinkHtml = 'Like what you see? Visit the ' +\n",
              "            '<a target=\"_blank\" href=https://colab.research.google.com/notebooks/data_table.ipynb>data table notebook</a>'\n",
              "            + ' to learn more about interactive tables.';\n",
              "          element.innerHTML = '';\n",
              "          dataTable['output_type'] = 'display_data';\n",
              "          await google.colab.output.renderOutput(dataTable, element);\n",
              "          const docLink = document.createElement('div');\n",
              "          docLink.innerHTML = docLinkHtml;\n",
              "          element.appendChild(docLink);\n",
              "        }\n",
              "      </script>\n",
              "    </div>\n",
              "  </div>\n",
              "  "
            ],
            "text/plain": [
              "                                     id  andar  area_util  banheiros  quartos  \\\n",
              "0  00012605-9cae-45b3-82a2-f09d117fa7a4      0      410.0          3        4   \n",
              "1  0002dfaf-7735-481b-8523-8f59fb87e4e1      1       50.0          1        1   \n",
              "2  0003ce76-949d-4841-90ec-7abea911ce6a      0      148.0          4        4   \n",
              "3  00064277-de4c-4a31-8136-cd3dc86b0ac5      0      104.0          1        2   \n",
              "4  000be8fe-2044-4cec-a8f6-6853e56f2d5e      0       71.0          2        2   \n",
              "\n",
              "   suites  vaga       bairro  condominio    iptu  ...  Elevador  Piscina  \\\n",
              "0       1     1      Ipanema      3300.0  5780.0  ...         1        0   \n",
              "1       0     1  Vila Isabel       500.0   600.0  ...         1        0   \n",
              "2       2     2  Jacarepaguá         0.0     0.0  ...         1        1   \n",
              "3       0     0   Copacabana      1010.0   272.0  ...         1        0   \n",
              "4       0     1      Humaitá      1312.0   360.0  ...         1        0   \n",
              "\n",
              "   Playground  Portaria 24h  Portão eletrônico  Salão de festas  Zona Central  \\\n",
              "0           0             0                  0                0             0   \n",
              "1           0             0                  1                1             0   \n",
              "2           0             0                  0                0             0   \n",
              "3           0             0                  0                0             0   \n",
              "4           0             0                  0                0             0   \n",
              "\n",
              "   Zona Norte  Zona Oeste  Zona Sul  \n",
              "0           0           0         1  \n",
              "1           1           0         0  \n",
              "2           0           1         0  \n",
              "3           0           0         1  \n",
              "4           0           0         1  \n",
              "\n",
              "[5 rows x 25 columns]"
            ]
          },
          "execution_count": 35,
          "metadata": {},
          "output_type": "execute_result"
        }
      ],
      "source": [
        "dataset = dataset.join(zonas, on='id', how='outer')\n",
        "dataset = dataset.drop('zona')\n",
        "dataset.limit(5).toPandas()"
      ]
    },
    {
      "cell_type": "markdown",
      "metadata": {
        "id": "zSzQ-19cPb2k"
      },
      "source": [
        "## Limpeza Extra"
      ]
    },
    {
      "cell_type": "markdown",
      "metadata": {
        "id": "5lkvyPlXqxu_"
      },
      "source": [
        "Analisando a consolidação da coluna andar, vemos alguns registros que não condizem com a realidade."
      ]
    },
    {
      "cell_type": "code",
      "execution_count": null,
      "metadata": {
        "colab": {
          "base_uri": "https://localhost:8080/"
        },
        "id": "W0o8C8ynq7rL",
        "outputId": "2c0a3b99-364c-4f6c-b606-484ee8e82d01"
      },
      "outputs": [
        {
          "name": "stdout",
          "output_type": "stream",
          "text": [
            "+-----+-----+\n",
            "|andar|count|\n",
            "+-----+-----+\n",
            "|  300|    1|\n",
            "|  280|    1|\n",
            "|  504|    1|\n",
            "| 1234|    8|\n",
            "|  102|    1|\n",
            "|   50|   31|\n",
            "|  703|    1|\n",
            "|   70|    2|\n",
            "|  345|    1|\n",
            "|  150|    1|\n",
            "|  123|    5|\n",
            "|   99|    6|\n",
            "+-----+-----+\n",
            "\n"
          ]
        }
      ],
      "source": [
        "dataset\\\n",
        "    .select('andar')\\\n",
        "    .filter('andar >= 50')\\\n",
        "    .groupBy('andar')\\\n",
        "    .count()\\\n",
        "    .show()"
      ]
    },
    {
      "cell_type": "markdown",
      "metadata": {
        "id": "tghcPG9YsGB5"
      },
      "source": [
        "Após breve pesquisa na internet, descobriu-se que o maior edificio do Estado do Rio de Janeiro é o Rio Sul Center, que possui 48 andares, o que torna impossível a existência desses imóveis supracitados.\n",
        "\n",
        "Dado que estamos lidando com uma amostra de mais de 60 mil, esses 59 imóveis não farão grande diferença nos resultados do modelo.\n",
        "\n",
        "Assim, vamos prosseguir na exclusão desses registros."
      ]
    },
    {
      "cell_type": "code",
      "execution_count": null,
      "metadata": {
        "colab": {
          "base_uri": "https://localhost:8080/",
          "height": 595
        },
        "id": "A6LxNGxDsFQ6",
        "outputId": "febdbe31-3dbe-45eb-c43e-bc3270072715"
      },
      "outputs": [
        {
          "data": {
            "text/html": [
              "\n",
              "  <div id=\"df-d0ec4484-23a2-4de0-bdd7-128ce4694929\">\n",
              "    <div class=\"colab-df-container\">\n",
              "      <div>\n",
              "<style scoped>\n",
              "    .dataframe tbody tr th:only-of-type {\n",
              "        vertical-align: middle;\n",
              "    }\n",
              "\n",
              "    .dataframe tbody tr th {\n",
              "        vertical-align: top;\n",
              "    }\n",
              "\n",
              "    .dataframe thead th {\n",
              "        text-align: right;\n",
              "    }\n",
              "</style>\n",
              "<table border=\"1\" class=\"dataframe\">\n",
              "  <thead>\n",
              "    <tr style=\"text-align: right;\">\n",
              "      <th></th>\n",
              "      <th>id</th>\n",
              "      <th>andar</th>\n",
              "      <th>area_util</th>\n",
              "      <th>banheiros</th>\n",
              "      <th>quartos</th>\n",
              "      <th>suites</th>\n",
              "      <th>vaga</th>\n",
              "      <th>bairro</th>\n",
              "      <th>condominio</th>\n",
              "      <th>iptu</th>\n",
              "      <th>...</th>\n",
              "      <th>Elevador</th>\n",
              "      <th>Piscina</th>\n",
              "      <th>Playground</th>\n",
              "      <th>Portaria 24h</th>\n",
              "      <th>Portão eletrônico</th>\n",
              "      <th>Salão de festas</th>\n",
              "      <th>Zona Central</th>\n",
              "      <th>Zona Norte</th>\n",
              "      <th>Zona Oeste</th>\n",
              "      <th>Zona Sul</th>\n",
              "    </tr>\n",
              "  </thead>\n",
              "  <tbody>\n",
              "    <tr>\n",
              "      <th>0</th>\n",
              "      <td>00012605-9cae-45b3-82a2-f09d117fa7a4</td>\n",
              "      <td>0</td>\n",
              "      <td>410.0</td>\n",
              "      <td>3</td>\n",
              "      <td>4</td>\n",
              "      <td>1</td>\n",
              "      <td>1</td>\n",
              "      <td>Ipanema</td>\n",
              "      <td>3300.0</td>\n",
              "      <td>5780.0</td>\n",
              "      <td>...</td>\n",
              "      <td>1</td>\n",
              "      <td>0</td>\n",
              "      <td>0</td>\n",
              "      <td>0</td>\n",
              "      <td>0</td>\n",
              "      <td>0</td>\n",
              "      <td>0</td>\n",
              "      <td>0</td>\n",
              "      <td>0</td>\n",
              "      <td>1</td>\n",
              "    </tr>\n",
              "    <tr>\n",
              "      <th>1</th>\n",
              "      <td>0002dfaf-7735-481b-8523-8f59fb87e4e1</td>\n",
              "      <td>1</td>\n",
              "      <td>50.0</td>\n",
              "      <td>1</td>\n",
              "      <td>1</td>\n",
              "      <td>0</td>\n",
              "      <td>1</td>\n",
              "      <td>Vila Isabel</td>\n",
              "      <td>500.0</td>\n",
              "      <td>600.0</td>\n",
              "      <td>...</td>\n",
              "      <td>1</td>\n",
              "      <td>0</td>\n",
              "      <td>0</td>\n",
              "      <td>0</td>\n",
              "      <td>1</td>\n",
              "      <td>1</td>\n",
              "      <td>0</td>\n",
              "      <td>1</td>\n",
              "      <td>0</td>\n",
              "      <td>0</td>\n",
              "    </tr>\n",
              "    <tr>\n",
              "      <th>2</th>\n",
              "      <td>0003ce76-949d-4841-90ec-7abea911ce6a</td>\n",
              "      <td>0</td>\n",
              "      <td>148.0</td>\n",
              "      <td>4</td>\n",
              "      <td>4</td>\n",
              "      <td>2</td>\n",
              "      <td>2</td>\n",
              "      <td>Jacarepaguá</td>\n",
              "      <td>0.0</td>\n",
              "      <td>0.0</td>\n",
              "      <td>...</td>\n",
              "      <td>1</td>\n",
              "      <td>1</td>\n",
              "      <td>0</td>\n",
              "      <td>0</td>\n",
              "      <td>0</td>\n",
              "      <td>0</td>\n",
              "      <td>0</td>\n",
              "      <td>0</td>\n",
              "      <td>1</td>\n",
              "      <td>0</td>\n",
              "    </tr>\n",
              "    <tr>\n",
              "      <th>3</th>\n",
              "      <td>00064277-de4c-4a31-8136-cd3dc86b0ac5</td>\n",
              "      <td>0</td>\n",
              "      <td>104.0</td>\n",
              "      <td>1</td>\n",
              "      <td>2</td>\n",
              "      <td>0</td>\n",
              "      <td>0</td>\n",
              "      <td>Copacabana</td>\n",
              "      <td>1010.0</td>\n",
              "      <td>272.0</td>\n",
              "      <td>...</td>\n",
              "      <td>1</td>\n",
              "      <td>0</td>\n",
              "      <td>0</td>\n",
              "      <td>0</td>\n",
              "      <td>0</td>\n",
              "      <td>0</td>\n",
              "      <td>0</td>\n",
              "      <td>0</td>\n",
              "      <td>0</td>\n",
              "      <td>1</td>\n",
              "    </tr>\n",
              "    <tr>\n",
              "      <th>4</th>\n",
              "      <td>000be8fe-2044-4cec-a8f6-6853e56f2d5e</td>\n",
              "      <td>0</td>\n",
              "      <td>71.0</td>\n",
              "      <td>2</td>\n",
              "      <td>2</td>\n",
              "      <td>0</td>\n",
              "      <td>1</td>\n",
              "      <td>Humaitá</td>\n",
              "      <td>1312.0</td>\n",
              "      <td>360.0</td>\n",
              "      <td>...</td>\n",
              "      <td>1</td>\n",
              "      <td>0</td>\n",
              "      <td>0</td>\n",
              "      <td>0</td>\n",
              "      <td>0</td>\n",
              "      <td>0</td>\n",
              "      <td>0</td>\n",
              "      <td>0</td>\n",
              "      <td>0</td>\n",
              "      <td>1</td>\n",
              "    </tr>\n",
              "  </tbody>\n",
              "</table>\n",
              "<p>5 rows × 25 columns</p>\n",
              "</div>\n",
              "      <button class=\"colab-df-convert\" onclick=\"convertToInteractive('df-d0ec4484-23a2-4de0-bdd7-128ce4694929')\"\n",
              "              title=\"Convert this dataframe to an interactive table.\"\n",
              "              style=\"display:none;\">\n",
              "        \n",
              "  <svg xmlns=\"http://www.w3.org/2000/svg\" height=\"24px\"viewBox=\"0 0 24 24\"\n",
              "       width=\"24px\">\n",
              "    <path d=\"M0 0h24v24H0V0z\" fill=\"none\"/>\n",
              "    <path d=\"M18.56 5.44l.94 2.06.94-2.06 2.06-.94-2.06-.94-.94-2.06-.94 2.06-2.06.94zm-11 1L8.5 8.5l.94-2.06 2.06-.94-2.06-.94L8.5 2.5l-.94 2.06-2.06.94zm10 10l.94 2.06.94-2.06 2.06-.94-2.06-.94-.94-2.06-.94 2.06-2.06.94z\"/><path d=\"M17.41 7.96l-1.37-1.37c-.4-.4-.92-.59-1.43-.59-.52 0-1.04.2-1.43.59L10.3 9.45l-7.72 7.72c-.78.78-.78 2.05 0 2.83L4 21.41c.39.39.9.59 1.41.59.51 0 1.02-.2 1.41-.59l7.78-7.78 2.81-2.81c.8-.78.8-2.07 0-2.86zM5.41 20L4 18.59l7.72-7.72 1.47 1.35L5.41 20z\"/>\n",
              "  </svg>\n",
              "      </button>\n",
              "      \n",
              "  <style>\n",
              "    .colab-df-container {\n",
              "      display:flex;\n",
              "      flex-wrap:wrap;\n",
              "      gap: 12px;\n",
              "    }\n",
              "\n",
              "    .colab-df-convert {\n",
              "      background-color: #E8F0FE;\n",
              "      border: none;\n",
              "      border-radius: 50%;\n",
              "      cursor: pointer;\n",
              "      display: none;\n",
              "      fill: #1967D2;\n",
              "      height: 32px;\n",
              "      padding: 0 0 0 0;\n",
              "      width: 32px;\n",
              "    }\n",
              "\n",
              "    .colab-df-convert:hover {\n",
              "      background-color: #E2EBFA;\n",
              "      box-shadow: 0px 1px 2px rgba(60, 64, 67, 0.3), 0px 1px 3px 1px rgba(60, 64, 67, 0.15);\n",
              "      fill: #174EA6;\n",
              "    }\n",
              "\n",
              "    [theme=dark] .colab-df-convert {\n",
              "      background-color: #3B4455;\n",
              "      fill: #D2E3FC;\n",
              "    }\n",
              "\n",
              "    [theme=dark] .colab-df-convert:hover {\n",
              "      background-color: #434B5C;\n",
              "      box-shadow: 0px 1px 3px 1px rgba(0, 0, 0, 0.15);\n",
              "      filter: drop-shadow(0px 1px 2px rgba(0, 0, 0, 0.3));\n",
              "      fill: #FFFFFF;\n",
              "    }\n",
              "  </style>\n",
              "\n",
              "      <script>\n",
              "        const buttonEl =\n",
              "          document.querySelector('#df-d0ec4484-23a2-4de0-bdd7-128ce4694929 button.colab-df-convert');\n",
              "        buttonEl.style.display =\n",
              "          google.colab.kernel.accessAllowed ? 'block' : 'none';\n",
              "\n",
              "        async function convertToInteractive(key) {\n",
              "          const element = document.querySelector('#df-d0ec4484-23a2-4de0-bdd7-128ce4694929');\n",
              "          const dataTable =\n",
              "            await google.colab.kernel.invokeFunction('convertToInteractive',\n",
              "                                                     [key], {});\n",
              "          if (!dataTable) return;\n",
              "\n",
              "          const docLinkHtml = 'Like what you see? Visit the ' +\n",
              "            '<a target=\"_blank\" href=https://colab.research.google.com/notebooks/data_table.ipynb>data table notebook</a>'\n",
              "            + ' to learn more about interactive tables.';\n",
              "          element.innerHTML = '';\n",
              "          dataTable['output_type'] = 'display_data';\n",
              "          await google.colab.output.renderOutput(dataTable, element);\n",
              "          const docLink = document.createElement('div');\n",
              "          docLink.innerHTML = docLinkHtml;\n",
              "          element.appendChild(docLink);\n",
              "        }\n",
              "      </script>\n",
              "    </div>\n",
              "  </div>\n",
              "  "
            ],
            "text/plain": [
              "                                     id  andar  area_util  banheiros  quartos  \\\n",
              "0  00012605-9cae-45b3-82a2-f09d117fa7a4      0      410.0          3        4   \n",
              "1  0002dfaf-7735-481b-8523-8f59fb87e4e1      1       50.0          1        1   \n",
              "2  0003ce76-949d-4841-90ec-7abea911ce6a      0      148.0          4        4   \n",
              "3  00064277-de4c-4a31-8136-cd3dc86b0ac5      0      104.0          1        2   \n",
              "4  000be8fe-2044-4cec-a8f6-6853e56f2d5e      0       71.0          2        2   \n",
              "\n",
              "   suites  vaga       bairro  condominio    iptu  ...  Elevador  Piscina  \\\n",
              "0       1     1      Ipanema      3300.0  5780.0  ...         1        0   \n",
              "1       0     1  Vila Isabel       500.0   600.0  ...         1        0   \n",
              "2       2     2  Jacarepaguá         0.0     0.0  ...         1        1   \n",
              "3       0     0   Copacabana      1010.0   272.0  ...         1        0   \n",
              "4       0     1      Humaitá      1312.0   360.0  ...         1        0   \n",
              "\n",
              "   Playground  Portaria 24h  Portão eletrônico  Salão de festas  Zona Central  \\\n",
              "0           0             0                  0                0             0   \n",
              "1           0             0                  1                1             0   \n",
              "2           0             0                  0                0             0   \n",
              "3           0             0                  0                0             0   \n",
              "4           0             0                  0                0             0   \n",
              "\n",
              "   Zona Norte  Zona Oeste  Zona Sul  \n",
              "0           0           0         1  \n",
              "1           1           0         0  \n",
              "2           0           1         0  \n",
              "3           0           0         1  \n",
              "4           0           0         1  \n",
              "\n",
              "[5 rows x 25 columns]"
            ]
          },
          "execution_count": 37,
          "metadata": {},
          "output_type": "execute_result"
        }
      ],
      "source": [
        "dataset_final = dataset.filter(dataset.andar < 49)\n",
        "dataset.limit(5).toPandas()"
      ]
    },
    {
      "cell_type": "markdown",
      "metadata": {
        "id": "-4OQzbrDPimg"
      },
      "source": [
        "##Salvando a base de dados"
      ]
    },
    {
      "cell_type": "markdown",
      "metadata": {
        "id": "oOEoCuHfkj4v"
      },
      "source": [
        "Com a base de dados montada, vamos salvá-la para que possamos usá-la futuramente nos nossos modelos e algoritmos"
      ]
    },
    {
      "cell_type": "code",
      "execution_count": null,
      "metadata": {
        "id": "f6UxIjcJkjdB"
      },
      "outputs": [],
      "source": [
        "dataset_final.write.parquet(\n",
        "    path = '/content/drive/Challenge_Data_Science_2/dataset_finalizado/parquet',\n",
        "    mode = 'overwrite'\n",
        ")"
      ]
    },
    {
      "cell_type": "markdown",
      "metadata": {
        "id": "a82UQFRyPecO"
      },
      "source": [
        "Finalizada a parte de filtragem, limpeza e transformação da nossa base de dados, vamos passar para a etapa de vetorização das nossas variáveis (features) para o modelo de precificação."
      ]
    },
    {
      "cell_type": "code",
      "execution_count": null,
      "metadata": {
        "colab": {
          "base_uri": "https://localhost:8080/"
        },
        "id": "_b1yK6rLwD5V",
        "outputId": "4e186dd2-1dc4-4be1-a635-881c1e63db2b"
      },
      "outputs": [
        {
          "name": "stdout",
          "output_type": "stream",
          "text": [
            "+--------------------------------------------------------------------------------------------+--------+\n",
            "|features                                                                                    |label   |\n",
            "+--------------------------------------------------------------------------------------------+--------+\n",
            "|[0.0,43.0,1.0,2.0,0.0,1.0,285.0,0.0,0.0,0.0,1.0,0.0,1.0,1.0,1.0,0.0,1.0,1.0,0.0,1.0,1.0,1.0]|22999.0 |\n",
            "|(22,[1,2,3,6,9],[44.0,1.0,2.0,170.0,1.0])                                                   |110000.0|\n",
            "|(22,[0,1,2,3,5,10],[4.0,55.0,1.0,2.0,1.0,1.0])                                              |115000.0|\n",
            "|(22,[0,1,2,3,9],[2.0,55.0,1.0,2.0,1.0])                                                     |115000.0|\n",
            "|(22,[1,2,3,6,7,8],[50.0,1.0,1.0,1300.0,2679.0,1.0])                                         |125000.0|\n",
            "+--------------------------------------------------------------------------------------------+--------+\n",
            "only showing top 5 rows\n",
            "\n"
          ]
        }
      ],
      "source": [
        "from pyspark.ml.feature import VectorAssembler\n",
        "\n",
        "x = ['andar',\n",
        "    'area_util',\n",
        "    'banheiros',\n",
        "    'quartos',\n",
        "    'suites',\n",
        "    'vaga',\n",
        "    'condominio',\n",
        "    'iptu',\n",
        "    'Zona Central',\n",
        "    'Zona Norte',\n",
        "    'Zona Oeste',\n",
        "    'Zona Sul',\n",
        "    'Condomínio fechado',\n",
        "    'Playground',\n",
        "    'Portão eletrônico',\n",
        "    'Piscina',\n",
        "    'Animais permitidos',\n",
        "    'Portaria 24h',\n",
        "    'Elevador',\n",
        "    'Academia',\n",
        "    'Salão de festas',\n",
        "    'Churrasqueira']\n",
        "\n",
        "vect_features = VectorAssembler(inputCols = x, outputCol = 'features')\n",
        "imoveis_vect = vect_features.transform(dataset_final)\n",
        "dataset_vect = imoveis_vect.select('features', 'label')\n",
        "\n",
        "dataset_vect.show(5, truncate=False)"
      ]
    },
    {
      "cell_type": "markdown",
      "metadata": {
        "id": "k6ZNkFoxJs33"
      },
      "source": [
        "## **Análise de Correlação**"
      ]
    },
    {
      "cell_type": "markdown",
      "metadata": {
        "id": "4jd4pzj6Jy2Y"
      },
      "source": [
        "Antes de inserir os dados no modelo, vamos verificar a correlação entre as variáveis que a compõem. Caso haja algum caso de correlação alta, procederemos com a exclusão de uma das colunas, pois manter as duas siginificaria 'imputar' a mesma informação duas vezes no modelo, o que aumentaria a variância das previsões."
      ]
    },
    {
      "cell_type": "code",
      "execution_count": null,
      "metadata": {
        "id": "KuyaAbP6JyCX"
      },
      "outputs": [],
      "source": [
        "from pyspark.ml.stat import Correlation\n",
        "import pandas as pd"
      ]
    },
    {
      "cell_type": "code",
      "execution_count": null,
      "metadata": {
        "id": "GN5027b0Jn7m"
      },
      "outputs": [],
      "source": [
        "correlacao = Correlation.corr(dataset_vect, 'features').collect()"
      ]
    },
    {
      "cell_type": "code",
      "execution_count": null,
      "metadata": {
        "colab": {
          "base_uri": "https://localhost:8080/"
        },
        "id": "IbUwduLMLF_C",
        "outputId": "be348cb1-a16a-4d8e-ece5-32e9493a8187"
      },
      "outputs": [
        {
          "data": {
            "text/plain": [
              "[Row(pearson(features)=DenseMatrix(22, 22, [1.0, 0.0462, 0.0095, -0.0096, 0.0327, 0.0345, 0.0267, 0.0016, ..., 0.3162, 0.7521, 0.3105, 0.3723, 0.3802, 0.6761, 0.6476, 1.0], False))]"
            ]
          },
          "execution_count": 42,
          "metadata": {},
          "output_type": "execute_result"
        }
      ],
      "source": [
        "correlacao"
      ]
    },
    {
      "cell_type": "code",
      "execution_count": null,
      "metadata": {
        "id": "ZIVJpHK_LHl8"
      },
      "outputs": [],
      "source": [
        "correlacao = Correlation.corr(dataset_vect, 'features').collect()[0][0]"
      ]
    },
    {
      "cell_type": "code",
      "execution_count": null,
      "metadata": {
        "colab": {
          "base_uri": "https://localhost:8080/"
        },
        "id": "Kj9fPVRqLR1B",
        "outputId": "f73d8b98-92d8-44fc-f8f4-f76155970453"
      },
      "outputs": [
        {
          "data": {
            "text/plain": [
              "DenseMatrix(22, 22, [1.0, 0.0462, 0.0095, -0.0096, 0.0327, 0.0345, 0.0267, 0.0016, ..., 0.3162, 0.7521, 0.3105, 0.3723, 0.3802, 0.6761, 0.6476, 1.0], False)"
            ]
          },
          "execution_count": 44,
          "metadata": {},
          "output_type": "execute_result"
        }
      ],
      "source": [
        "correlacao"
      ]
    },
    {
      "cell_type": "code",
      "execution_count": null,
      "metadata": {
        "id": "F2czu09eLTIy"
      },
      "outputs": [],
      "source": [
        "dataframe_correlacao = pd.DataFrame(correlacao.toArray(), columns=x, index=x)"
      ]
    },
    {
      "cell_type": "code",
      "execution_count": null,
      "metadata": {
        "colab": {
          "base_uri": "https://localhost:8080/",
          "height": 919
        },
        "id": "6TurM4cbLkwJ",
        "outputId": "438e71b6-9d8d-4368-baf7-a63b25f73e0b"
      },
      "outputs": [
        {
          "data": {
            "text/html": [
              "\n",
              "  <div id=\"df-81030636-b720-4219-b797-002e4ea0dfc0\">\n",
              "    <div class=\"colab-df-container\">\n",
              "      <div>\n",
              "<style scoped>\n",
              "    .dataframe tbody tr th:only-of-type {\n",
              "        vertical-align: middle;\n",
              "    }\n",
              "\n",
              "    .dataframe tbody tr th {\n",
              "        vertical-align: top;\n",
              "    }\n",
              "\n",
              "    .dataframe thead th {\n",
              "        text-align: right;\n",
              "    }\n",
              "</style>\n",
              "<table border=\"1\" class=\"dataframe\">\n",
              "  <thead>\n",
              "    <tr style=\"text-align: right;\">\n",
              "      <th></th>\n",
              "      <th>andar</th>\n",
              "      <th>area_util</th>\n",
              "      <th>banheiros</th>\n",
              "      <th>quartos</th>\n",
              "      <th>suites</th>\n",
              "      <th>vaga</th>\n",
              "      <th>condominio</th>\n",
              "      <th>iptu</th>\n",
              "      <th>Zona Central</th>\n",
              "      <th>Zona Norte</th>\n",
              "      <th>...</th>\n",
              "      <th>Condomínio fechado</th>\n",
              "      <th>Playground</th>\n",
              "      <th>Portão eletrônico</th>\n",
              "      <th>Piscina</th>\n",
              "      <th>Animais permitidos</th>\n",
              "      <th>Portaria 24h</th>\n",
              "      <th>Elevador</th>\n",
              "      <th>Academia</th>\n",
              "      <th>Salão de festas</th>\n",
              "      <th>Churrasqueira</th>\n",
              "    </tr>\n",
              "  </thead>\n",
              "  <tbody>\n",
              "    <tr>\n",
              "      <th>andar</th>\n",
              "      <td>1.000000</td>\n",
              "      <td>0.046198</td>\n",
              "      <td>0.009455</td>\n",
              "      <td>-0.009635</td>\n",
              "      <td>0.032725</td>\n",
              "      <td>0.034510</td>\n",
              "      <td>0.026720</td>\n",
              "      <td>0.001615</td>\n",
              "      <td>0.121550</td>\n",
              "      <td>-0.010744</td>\n",
              "      <td>...</td>\n",
              "      <td>0.308178</td>\n",
              "      <td>0.168621</td>\n",
              "      <td>0.355281</td>\n",
              "      <td>0.131943</td>\n",
              "      <td>0.350930</td>\n",
              "      <td>0.380609</td>\n",
              "      <td>0.244818</td>\n",
              "      <td>0.202036</td>\n",
              "      <td>0.184248</td>\n",
              "      <td>0.137387</td>\n",
              "    </tr>\n",
              "    <tr>\n",
              "      <th>area_util</th>\n",
              "      <td>0.046198</td>\n",
              "      <td>1.000000</td>\n",
              "      <td>0.670963</td>\n",
              "      <td>0.673997</td>\n",
              "      <td>0.620033</td>\n",
              "      <td>0.471716</td>\n",
              "      <td>0.045691</td>\n",
              "      <td>0.021330</td>\n",
              "      <td>-0.103781</td>\n",
              "      <td>-0.170427</td>\n",
              "      <td>...</td>\n",
              "      <td>-0.012613</td>\n",
              "      <td>-0.015780</td>\n",
              "      <td>-0.001932</td>\n",
              "      <td>0.018153</td>\n",
              "      <td>-0.013085</td>\n",
              "      <td>-0.024327</td>\n",
              "      <td>0.016930</td>\n",
              "      <td>0.002008</td>\n",
              "      <td>-0.026989</td>\n",
              "      <td>-0.024059</td>\n",
              "    </tr>\n",
              "    <tr>\n",
              "      <th>banheiros</th>\n",
              "      <td>0.009455</td>\n",
              "      <td>0.670963</td>\n",
              "      <td>1.000000</td>\n",
              "      <td>0.648891</td>\n",
              "      <td>0.739751</td>\n",
              "      <td>0.444756</td>\n",
              "      <td>0.027208</td>\n",
              "      <td>0.013936</td>\n",
              "      <td>-0.125419</td>\n",
              "      <td>-0.163967</td>\n",
              "      <td>...</td>\n",
              "      <td>-0.005387</td>\n",
              "      <td>0.066205</td>\n",
              "      <td>-0.016378</td>\n",
              "      <td>0.099122</td>\n",
              "      <td>-0.024656</td>\n",
              "      <td>-0.034841</td>\n",
              "      <td>0.057167</td>\n",
              "      <td>0.079168</td>\n",
              "      <td>0.055745</td>\n",
              "      <td>0.042615</td>\n",
              "    </tr>\n",
              "    <tr>\n",
              "      <th>quartos</th>\n",
              "      <td>-0.009635</td>\n",
              "      <td>0.673997</td>\n",
              "      <td>0.648891</td>\n",
              "      <td>1.000000</td>\n",
              "      <td>0.579728</td>\n",
              "      <td>0.430165</td>\n",
              "      <td>0.021662</td>\n",
              "      <td>0.017248</td>\n",
              "      <td>-0.162725</td>\n",
              "      <td>-0.120688</td>\n",
              "      <td>...</td>\n",
              "      <td>-0.000387</td>\n",
              "      <td>0.077624</td>\n",
              "      <td>-0.015508</td>\n",
              "      <td>0.082614</td>\n",
              "      <td>-0.021275</td>\n",
              "      <td>-0.022393</td>\n",
              "      <td>0.025686</td>\n",
              "      <td>0.061236</td>\n",
              "      <td>0.060723</td>\n",
              "      <td>0.061367</td>\n",
              "    </tr>\n",
              "    <tr>\n",
              "      <th>suites</th>\n",
              "      <td>0.032725</td>\n",
              "      <td>0.620033</td>\n",
              "      <td>0.739751</td>\n",
              "      <td>0.579728</td>\n",
              "      <td>1.000000</td>\n",
              "      <td>0.457883</td>\n",
              "      <td>0.029088</td>\n",
              "      <td>0.011826</td>\n",
              "      <td>-0.103890</td>\n",
              "      <td>-0.215384</td>\n",
              "      <td>...</td>\n",
              "      <td>0.139045</td>\n",
              "      <td>0.188886</td>\n",
              "      <td>0.089883</td>\n",
              "      <td>0.263994</td>\n",
              "      <td>0.065415</td>\n",
              "      <td>0.080245</td>\n",
              "      <td>0.120113</td>\n",
              "      <td>0.242672</td>\n",
              "      <td>0.173670</td>\n",
              "      <td>0.185516</td>\n",
              "    </tr>\n",
              "    <tr>\n",
              "      <th>vaga</th>\n",
              "      <td>0.034510</td>\n",
              "      <td>0.471716</td>\n",
              "      <td>0.444756</td>\n",
              "      <td>0.430165</td>\n",
              "      <td>0.457883</td>\n",
              "      <td>1.000000</td>\n",
              "      <td>0.025896</td>\n",
              "      <td>0.011977</td>\n",
              "      <td>-0.098112</td>\n",
              "      <td>-0.105472</td>\n",
              "      <td>...</td>\n",
              "      <td>0.079531</td>\n",
              "      <td>0.133475</td>\n",
              "      <td>0.046517</td>\n",
              "      <td>0.170411</td>\n",
              "      <td>0.038533</td>\n",
              "      <td>0.035094</td>\n",
              "      <td>0.061499</td>\n",
              "      <td>0.139895</td>\n",
              "      <td>0.133168</td>\n",
              "      <td>0.131533</td>\n",
              "    </tr>\n",
              "    <tr>\n",
              "      <th>condominio</th>\n",
              "      <td>0.026720</td>\n",
              "      <td>0.045691</td>\n",
              "      <td>0.027208</td>\n",
              "      <td>0.021662</td>\n",
              "      <td>0.029088</td>\n",
              "      <td>0.025896</td>\n",
              "      <td>1.000000</td>\n",
              "      <td>0.202201</td>\n",
              "      <td>-0.004420</td>\n",
              "      <td>-0.010110</td>\n",
              "      <td>...</td>\n",
              "      <td>0.012329</td>\n",
              "      <td>0.009582</td>\n",
              "      <td>0.006178</td>\n",
              "      <td>0.010028</td>\n",
              "      <td>0.012591</td>\n",
              "      <td>0.011997</td>\n",
              "      <td>0.013399</td>\n",
              "      <td>0.014321</td>\n",
              "      <td>0.009145</td>\n",
              "      <td>0.005718</td>\n",
              "    </tr>\n",
              "    <tr>\n",
              "      <th>iptu</th>\n",
              "      <td>0.001615</td>\n",
              "      <td>0.021330</td>\n",
              "      <td>0.013936</td>\n",
              "      <td>0.017248</td>\n",
              "      <td>0.011826</td>\n",
              "      <td>0.011977</td>\n",
              "      <td>0.202201</td>\n",
              "      <td>1.000000</td>\n",
              "      <td>-0.003637</td>\n",
              "      <td>-0.008721</td>\n",
              "      <td>...</td>\n",
              "      <td>-0.005231</td>\n",
              "      <td>0.000794</td>\n",
              "      <td>-0.004485</td>\n",
              "      <td>0.002501</td>\n",
              "      <td>-0.001875</td>\n",
              "      <td>-0.001195</td>\n",
              "      <td>0.006523</td>\n",
              "      <td>0.003359</td>\n",
              "      <td>0.001128</td>\n",
              "      <td>-0.003078</td>\n",
              "    </tr>\n",
              "    <tr>\n",
              "      <th>Zona Central</th>\n",
              "      <td>0.121550</td>\n",
              "      <td>-0.103781</td>\n",
              "      <td>-0.125419</td>\n",
              "      <td>-0.162725</td>\n",
              "      <td>-0.103890</td>\n",
              "      <td>-0.098112</td>\n",
              "      <td>-0.004420</td>\n",
              "      <td>-0.003637</td>\n",
              "      <td>1.000000</td>\n",
              "      <td>-0.061697</td>\n",
              "      <td>...</td>\n",
              "      <td>0.047252</td>\n",
              "      <td>-0.002906</td>\n",
              "      <td>0.043298</td>\n",
              "      <td>0.013599</td>\n",
              "      <td>0.054959</td>\n",
              "      <td>0.049477</td>\n",
              "      <td>0.037947</td>\n",
              "      <td>0.043168</td>\n",
              "      <td>0.008755</td>\n",
              "      <td>0.001966</td>\n",
              "    </tr>\n",
              "    <tr>\n",
              "      <th>Zona Norte</th>\n",
              "      <td>-0.010744</td>\n",
              "      <td>-0.170427</td>\n",
              "      <td>-0.163967</td>\n",
              "      <td>-0.120688</td>\n",
              "      <td>-0.215384</td>\n",
              "      <td>-0.105472</td>\n",
              "      <td>-0.010110</td>\n",
              "      <td>-0.008721</td>\n",
              "      <td>-0.061697</td>\n",
              "      <td>1.000000</td>\n",
              "      <td>...</td>\n",
              "      <td>-0.089529</td>\n",
              "      <td>-0.036435</td>\n",
              "      <td>-0.032204</td>\n",
              "      <td>-0.133882</td>\n",
              "      <td>-0.025925</td>\n",
              "      <td>-0.072634</td>\n",
              "      <td>-0.027633</td>\n",
              "      <td>-0.120873</td>\n",
              "      <td>-0.018486</td>\n",
              "      <td>-0.050968</td>\n",
              "    </tr>\n",
              "    <tr>\n",
              "      <th>Zona Oeste</th>\n",
              "      <td>-0.006971</td>\n",
              "      <td>0.120722</td>\n",
              "      <td>0.190143</td>\n",
              "      <td>0.163211</td>\n",
              "      <td>0.288446</td>\n",
              "      <td>0.257426</td>\n",
              "      <td>0.002337</td>\n",
              "      <td>-0.005670</td>\n",
              "      <td>-0.130939</td>\n",
              "      <td>-0.462288</td>\n",
              "      <td>...</td>\n",
              "      <td>0.220751</td>\n",
              "      <td>0.287030</td>\n",
              "      <td>0.078928</td>\n",
              "      <td>0.431037</td>\n",
              "      <td>0.082946</td>\n",
              "      <td>0.078941</td>\n",
              "      <td>0.053038</td>\n",
              "      <td>0.360255</td>\n",
              "      <td>0.305864</td>\n",
              "      <td>0.416767</td>\n",
              "    </tr>\n",
              "    <tr>\n",
              "      <th>Zona Sul</th>\n",
              "      <td>-0.017727</td>\n",
              "      <td>0.039914</td>\n",
              "      <td>-0.034492</td>\n",
              "      <td>-0.030755</td>\n",
              "      <td>-0.104282</td>\n",
              "      <td>-0.163516</td>\n",
              "      <td>0.007102</td>\n",
              "      <td>0.014394</td>\n",
              "      <td>-0.088344</td>\n",
              "      <td>-0.311902</td>\n",
              "      <td>...</td>\n",
              "      <td>-0.177932</td>\n",
              "      <td>-0.279603</td>\n",
              "      <td>-0.070883</td>\n",
              "      <td>-0.359259</td>\n",
              "      <td>-0.083720</td>\n",
              "      <td>-0.039095</td>\n",
              "      <td>-0.045150</td>\n",
              "      <td>-0.301762</td>\n",
              "      <td>-0.318156</td>\n",
              "      <td>-0.409327</td>\n",
              "    </tr>\n",
              "    <tr>\n",
              "      <th>Condomínio fechado</th>\n",
              "      <td>0.308178</td>\n",
              "      <td>-0.012613</td>\n",
              "      <td>-0.005387</td>\n",
              "      <td>-0.000387</td>\n",
              "      <td>0.139045</td>\n",
              "      <td>0.079531</td>\n",
              "      <td>0.012329</td>\n",
              "      <td>-0.005231</td>\n",
              "      <td>0.047252</td>\n",
              "      <td>-0.089529</td>\n",
              "      <td>...</td>\n",
              "      <td>1.000000</td>\n",
              "      <td>0.480546</td>\n",
              "      <td>0.682998</td>\n",
              "      <td>0.493311</td>\n",
              "      <td>0.627340</td>\n",
              "      <td>0.696446</td>\n",
              "      <td>0.523111</td>\n",
              "      <td>0.591636</td>\n",
              "      <td>0.513793</td>\n",
              "      <td>0.475015</td>\n",
              "    </tr>\n",
              "    <tr>\n",
              "      <th>Playground</th>\n",
              "      <td>0.168621</td>\n",
              "      <td>-0.015780</td>\n",
              "      <td>0.066205</td>\n",
              "      <td>0.077624</td>\n",
              "      <td>0.188886</td>\n",
              "      <td>0.133475</td>\n",
              "      <td>0.009582</td>\n",
              "      <td>0.000794</td>\n",
              "      <td>-0.002906</td>\n",
              "      <td>-0.036435</td>\n",
              "      <td>...</td>\n",
              "      <td>0.480546</td>\n",
              "      <td>1.000000</td>\n",
              "      <td>0.355329</td>\n",
              "      <td>0.644735</td>\n",
              "      <td>0.343868</td>\n",
              "      <td>0.426752</td>\n",
              "      <td>0.418010</td>\n",
              "      <td>0.671350</td>\n",
              "      <td>0.738148</td>\n",
              "      <td>0.626947</td>\n",
              "    </tr>\n",
              "    <tr>\n",
              "      <th>Portão eletrônico</th>\n",
              "      <td>0.355281</td>\n",
              "      <td>-0.001932</td>\n",
              "      <td>-0.016378</td>\n",
              "      <td>-0.015508</td>\n",
              "      <td>0.089883</td>\n",
              "      <td>0.046517</td>\n",
              "      <td>0.006178</td>\n",
              "      <td>-0.004485</td>\n",
              "      <td>0.043298</td>\n",
              "      <td>-0.032204</td>\n",
              "      <td>...</td>\n",
              "      <td>0.682998</td>\n",
              "      <td>0.355329</td>\n",
              "      <td>1.000000</td>\n",
              "      <td>0.318190</td>\n",
              "      <td>0.688386</td>\n",
              "      <td>0.783165</td>\n",
              "      <td>0.481414</td>\n",
              "      <td>0.417900</td>\n",
              "      <td>0.385270</td>\n",
              "      <td>0.316205</td>\n",
              "    </tr>\n",
              "    <tr>\n",
              "      <th>Piscina</th>\n",
              "      <td>0.131943</td>\n",
              "      <td>0.018153</td>\n",
              "      <td>0.099122</td>\n",
              "      <td>0.082614</td>\n",
              "      <td>0.263994</td>\n",
              "      <td>0.170411</td>\n",
              "      <td>0.010028</td>\n",
              "      <td>0.002501</td>\n",
              "      <td>0.013599</td>\n",
              "      <td>-0.133882</td>\n",
              "      <td>...</td>\n",
              "      <td>0.493311</td>\n",
              "      <td>0.644735</td>\n",
              "      <td>0.318190</td>\n",
              "      <td>1.000000</td>\n",
              "      <td>0.303641</td>\n",
              "      <td>0.387280</td>\n",
              "      <td>0.411159</td>\n",
              "      <td>0.748348</td>\n",
              "      <td>0.653862</td>\n",
              "      <td>0.752089</td>\n",
              "    </tr>\n",
              "    <tr>\n",
              "      <th>Animais permitidos</th>\n",
              "      <td>0.350930</td>\n",
              "      <td>-0.013085</td>\n",
              "      <td>-0.024656</td>\n",
              "      <td>-0.021275</td>\n",
              "      <td>0.065415</td>\n",
              "      <td>0.038533</td>\n",
              "      <td>0.012591</td>\n",
              "      <td>-0.001875</td>\n",
              "      <td>0.054959</td>\n",
              "      <td>-0.025925</td>\n",
              "      <td>...</td>\n",
              "      <td>0.627340</td>\n",
              "      <td>0.343868</td>\n",
              "      <td>0.688386</td>\n",
              "      <td>0.303641</td>\n",
              "      <td>1.000000</td>\n",
              "      <td>0.672096</td>\n",
              "      <td>0.465178</td>\n",
              "      <td>0.410673</td>\n",
              "      <td>0.389010</td>\n",
              "      <td>0.310529</td>\n",
              "    </tr>\n",
              "    <tr>\n",
              "      <th>Portaria 24h</th>\n",
              "      <td>0.380609</td>\n",
              "      <td>-0.024327</td>\n",
              "      <td>-0.034841</td>\n",
              "      <td>-0.022393</td>\n",
              "      <td>0.080245</td>\n",
              "      <td>0.035094</td>\n",
              "      <td>0.011997</td>\n",
              "      <td>-0.001195</td>\n",
              "      <td>0.049477</td>\n",
              "      <td>-0.072634</td>\n",
              "      <td>...</td>\n",
              "      <td>0.696446</td>\n",
              "      <td>0.426752</td>\n",
              "      <td>0.783165</td>\n",
              "      <td>0.387280</td>\n",
              "      <td>0.672096</td>\n",
              "      <td>1.000000</td>\n",
              "      <td>0.518356</td>\n",
              "      <td>0.494142</td>\n",
              "      <td>0.458652</td>\n",
              "      <td>0.372281</td>\n",
              "    </tr>\n",
              "    <tr>\n",
              "      <th>Elevador</th>\n",
              "      <td>0.244818</td>\n",
              "      <td>0.016930</td>\n",
              "      <td>0.057167</td>\n",
              "      <td>0.025686</td>\n",
              "      <td>0.120113</td>\n",
              "      <td>0.061499</td>\n",
              "      <td>0.013399</td>\n",
              "      <td>0.006523</td>\n",
              "      <td>0.037947</td>\n",
              "      <td>-0.027633</td>\n",
              "      <td>...</td>\n",
              "      <td>0.523111</td>\n",
              "      <td>0.418010</td>\n",
              "      <td>0.481414</td>\n",
              "      <td>0.411159</td>\n",
              "      <td>0.465178</td>\n",
              "      <td>0.518356</td>\n",
              "      <td>1.000000</td>\n",
              "      <td>0.455146</td>\n",
              "      <td>0.430364</td>\n",
              "      <td>0.380176</td>\n",
              "    </tr>\n",
              "    <tr>\n",
              "      <th>Academia</th>\n",
              "      <td>0.202036</td>\n",
              "      <td>0.002008</td>\n",
              "      <td>0.079168</td>\n",
              "      <td>0.061236</td>\n",
              "      <td>0.242672</td>\n",
              "      <td>0.139895</td>\n",
              "      <td>0.014321</td>\n",
              "      <td>0.003359</td>\n",
              "      <td>0.043168</td>\n",
              "      <td>-0.120873</td>\n",
              "      <td>...</td>\n",
              "      <td>0.591636</td>\n",
              "      <td>0.671350</td>\n",
              "      <td>0.417900</td>\n",
              "      <td>0.748348</td>\n",
              "      <td>0.410673</td>\n",
              "      <td>0.494142</td>\n",
              "      <td>0.455146</td>\n",
              "      <td>1.000000</td>\n",
              "      <td>0.693790</td>\n",
              "      <td>0.676100</td>\n",
              "    </tr>\n",
              "    <tr>\n",
              "      <th>Salão de festas</th>\n",
              "      <td>0.184248</td>\n",
              "      <td>-0.026989</td>\n",
              "      <td>0.055745</td>\n",
              "      <td>0.060723</td>\n",
              "      <td>0.173670</td>\n",
              "      <td>0.133168</td>\n",
              "      <td>0.009145</td>\n",
              "      <td>0.001128</td>\n",
              "      <td>0.008755</td>\n",
              "      <td>-0.018486</td>\n",
              "      <td>...</td>\n",
              "      <td>0.513793</td>\n",
              "      <td>0.738148</td>\n",
              "      <td>0.385270</td>\n",
              "      <td>0.653862</td>\n",
              "      <td>0.389010</td>\n",
              "      <td>0.458652</td>\n",
              "      <td>0.430364</td>\n",
              "      <td>0.693790</td>\n",
              "      <td>1.000000</td>\n",
              "      <td>0.647599</td>\n",
              "    </tr>\n",
              "    <tr>\n",
              "      <th>Churrasqueira</th>\n",
              "      <td>0.137387</td>\n",
              "      <td>-0.024059</td>\n",
              "      <td>0.042615</td>\n",
              "      <td>0.061367</td>\n",
              "      <td>0.185516</td>\n",
              "      <td>0.131533</td>\n",
              "      <td>0.005718</td>\n",
              "      <td>-0.003078</td>\n",
              "      <td>0.001966</td>\n",
              "      <td>-0.050968</td>\n",
              "      <td>...</td>\n",
              "      <td>0.475015</td>\n",
              "      <td>0.626947</td>\n",
              "      <td>0.316205</td>\n",
              "      <td>0.752089</td>\n",
              "      <td>0.310529</td>\n",
              "      <td>0.372281</td>\n",
              "      <td>0.380176</td>\n",
              "      <td>0.676100</td>\n",
              "      <td>0.647599</td>\n",
              "      <td>1.000000</td>\n",
              "    </tr>\n",
              "  </tbody>\n",
              "</table>\n",
              "<p>22 rows × 22 columns</p>\n",
              "</div>\n",
              "      <button class=\"colab-df-convert\" onclick=\"convertToInteractive('df-81030636-b720-4219-b797-002e4ea0dfc0')\"\n",
              "              title=\"Convert this dataframe to an interactive table.\"\n",
              "              style=\"display:none;\">\n",
              "        \n",
              "  <svg xmlns=\"http://www.w3.org/2000/svg\" height=\"24px\"viewBox=\"0 0 24 24\"\n",
              "       width=\"24px\">\n",
              "    <path d=\"M0 0h24v24H0V0z\" fill=\"none\"/>\n",
              "    <path d=\"M18.56 5.44l.94 2.06.94-2.06 2.06-.94-2.06-.94-.94-2.06-.94 2.06-2.06.94zm-11 1L8.5 8.5l.94-2.06 2.06-.94-2.06-.94L8.5 2.5l-.94 2.06-2.06.94zm10 10l.94 2.06.94-2.06 2.06-.94-2.06-.94-.94-2.06-.94 2.06-2.06.94z\"/><path d=\"M17.41 7.96l-1.37-1.37c-.4-.4-.92-.59-1.43-.59-.52 0-1.04.2-1.43.59L10.3 9.45l-7.72 7.72c-.78.78-.78 2.05 0 2.83L4 21.41c.39.39.9.59 1.41.59.51 0 1.02-.2 1.41-.59l7.78-7.78 2.81-2.81c.8-.78.8-2.07 0-2.86zM5.41 20L4 18.59l7.72-7.72 1.47 1.35L5.41 20z\"/>\n",
              "  </svg>\n",
              "      </button>\n",
              "      \n",
              "  <style>\n",
              "    .colab-df-container {\n",
              "      display:flex;\n",
              "      flex-wrap:wrap;\n",
              "      gap: 12px;\n",
              "    }\n",
              "\n",
              "    .colab-df-convert {\n",
              "      background-color: #E8F0FE;\n",
              "      border: none;\n",
              "      border-radius: 50%;\n",
              "      cursor: pointer;\n",
              "      display: none;\n",
              "      fill: #1967D2;\n",
              "      height: 32px;\n",
              "      padding: 0 0 0 0;\n",
              "      width: 32px;\n",
              "    }\n",
              "\n",
              "    .colab-df-convert:hover {\n",
              "      background-color: #E2EBFA;\n",
              "      box-shadow: 0px 1px 2px rgba(60, 64, 67, 0.3), 0px 1px 3px 1px rgba(60, 64, 67, 0.15);\n",
              "      fill: #174EA6;\n",
              "    }\n",
              "\n",
              "    [theme=dark] .colab-df-convert {\n",
              "      background-color: #3B4455;\n",
              "      fill: #D2E3FC;\n",
              "    }\n",
              "\n",
              "    [theme=dark] .colab-df-convert:hover {\n",
              "      background-color: #434B5C;\n",
              "      box-shadow: 0px 1px 3px 1px rgba(0, 0, 0, 0.15);\n",
              "      filter: drop-shadow(0px 1px 2px rgba(0, 0, 0, 0.3));\n",
              "      fill: #FFFFFF;\n",
              "    }\n",
              "  </style>\n",
              "\n",
              "      <script>\n",
              "        const buttonEl =\n",
              "          document.querySelector('#df-81030636-b720-4219-b797-002e4ea0dfc0 button.colab-df-convert');\n",
              "        buttonEl.style.display =\n",
              "          google.colab.kernel.accessAllowed ? 'block' : 'none';\n",
              "\n",
              "        async function convertToInteractive(key) {\n",
              "          const element = document.querySelector('#df-81030636-b720-4219-b797-002e4ea0dfc0');\n",
              "          const dataTable =\n",
              "            await google.colab.kernel.invokeFunction('convertToInteractive',\n",
              "                                                     [key], {});\n",
              "          if (!dataTable) return;\n",
              "\n",
              "          const docLinkHtml = 'Like what you see? Visit the ' +\n",
              "            '<a target=\"_blank\" href=https://colab.research.google.com/notebooks/data_table.ipynb>data table notebook</a>'\n",
              "            + ' to learn more about interactive tables.';\n",
              "          element.innerHTML = '';\n",
              "          dataTable['output_type'] = 'display_data';\n",
              "          await google.colab.output.renderOutput(dataTable, element);\n",
              "          const docLink = document.createElement('div');\n",
              "          docLink.innerHTML = docLinkHtml;\n",
              "          element.appendChild(docLink);\n",
              "        }\n",
              "      </script>\n",
              "    </div>\n",
              "  </div>\n",
              "  "
            ],
            "text/plain": [
              "                       andar  area_util  banheiros   quartos    suites  \\\n",
              "andar               1.000000   0.046198   0.009455 -0.009635  0.032725   \n",
              "area_util           0.046198   1.000000   0.670963  0.673997  0.620033   \n",
              "banheiros           0.009455   0.670963   1.000000  0.648891  0.739751   \n",
              "quartos            -0.009635   0.673997   0.648891  1.000000  0.579728   \n",
              "suites              0.032725   0.620033   0.739751  0.579728  1.000000   \n",
              "vaga                0.034510   0.471716   0.444756  0.430165  0.457883   \n",
              "condominio          0.026720   0.045691   0.027208  0.021662  0.029088   \n",
              "iptu                0.001615   0.021330   0.013936  0.017248  0.011826   \n",
              "Zona Central        0.121550  -0.103781  -0.125419 -0.162725 -0.103890   \n",
              "Zona Norte         -0.010744  -0.170427  -0.163967 -0.120688 -0.215384   \n",
              "Zona Oeste         -0.006971   0.120722   0.190143  0.163211  0.288446   \n",
              "Zona Sul           -0.017727   0.039914  -0.034492 -0.030755 -0.104282   \n",
              "Condomínio fechado  0.308178  -0.012613  -0.005387 -0.000387  0.139045   \n",
              "Playground          0.168621  -0.015780   0.066205  0.077624  0.188886   \n",
              "Portão eletrônico   0.355281  -0.001932  -0.016378 -0.015508  0.089883   \n",
              "Piscina             0.131943   0.018153   0.099122  0.082614  0.263994   \n",
              "Animais permitidos  0.350930  -0.013085  -0.024656 -0.021275  0.065415   \n",
              "Portaria 24h        0.380609  -0.024327  -0.034841 -0.022393  0.080245   \n",
              "Elevador            0.244818   0.016930   0.057167  0.025686  0.120113   \n",
              "Academia            0.202036   0.002008   0.079168  0.061236  0.242672   \n",
              "Salão de festas     0.184248  -0.026989   0.055745  0.060723  0.173670   \n",
              "Churrasqueira       0.137387  -0.024059   0.042615  0.061367  0.185516   \n",
              "\n",
              "                        vaga  condominio      iptu  Zona Central  Zona Norte  \\\n",
              "andar               0.034510    0.026720  0.001615      0.121550   -0.010744   \n",
              "area_util           0.471716    0.045691  0.021330     -0.103781   -0.170427   \n",
              "banheiros           0.444756    0.027208  0.013936     -0.125419   -0.163967   \n",
              "quartos             0.430165    0.021662  0.017248     -0.162725   -0.120688   \n",
              "suites              0.457883    0.029088  0.011826     -0.103890   -0.215384   \n",
              "vaga                1.000000    0.025896  0.011977     -0.098112   -0.105472   \n",
              "condominio          0.025896    1.000000  0.202201     -0.004420   -0.010110   \n",
              "iptu                0.011977    0.202201  1.000000     -0.003637   -0.008721   \n",
              "Zona Central       -0.098112   -0.004420 -0.003637      1.000000   -0.061697   \n",
              "Zona Norte         -0.105472   -0.010110 -0.008721     -0.061697    1.000000   \n",
              "Zona Oeste          0.257426    0.002337 -0.005670     -0.130939   -0.462288   \n",
              "Zona Sul           -0.163516    0.007102  0.014394     -0.088344   -0.311902   \n",
              "Condomínio fechado  0.079531    0.012329 -0.005231      0.047252   -0.089529   \n",
              "Playground          0.133475    0.009582  0.000794     -0.002906   -0.036435   \n",
              "Portão eletrônico   0.046517    0.006178 -0.004485      0.043298   -0.032204   \n",
              "Piscina             0.170411    0.010028  0.002501      0.013599   -0.133882   \n",
              "Animais permitidos  0.038533    0.012591 -0.001875      0.054959   -0.025925   \n",
              "Portaria 24h        0.035094    0.011997 -0.001195      0.049477   -0.072634   \n",
              "Elevador            0.061499    0.013399  0.006523      0.037947   -0.027633   \n",
              "Academia            0.139895    0.014321  0.003359      0.043168   -0.120873   \n",
              "Salão de festas     0.133168    0.009145  0.001128      0.008755   -0.018486   \n",
              "Churrasqueira       0.131533    0.005718 -0.003078      0.001966   -0.050968   \n",
              "\n",
              "                    ...  Condomínio fechado  Playground  Portão eletrônico  \\\n",
              "andar               ...            0.308178    0.168621           0.355281   \n",
              "area_util           ...           -0.012613   -0.015780          -0.001932   \n",
              "banheiros           ...           -0.005387    0.066205          -0.016378   \n",
              "quartos             ...           -0.000387    0.077624          -0.015508   \n",
              "suites              ...            0.139045    0.188886           0.089883   \n",
              "vaga                ...            0.079531    0.133475           0.046517   \n",
              "condominio          ...            0.012329    0.009582           0.006178   \n",
              "iptu                ...           -0.005231    0.000794          -0.004485   \n",
              "Zona Central        ...            0.047252   -0.002906           0.043298   \n",
              "Zona Norte          ...           -0.089529   -0.036435          -0.032204   \n",
              "Zona Oeste          ...            0.220751    0.287030           0.078928   \n",
              "Zona Sul            ...           -0.177932   -0.279603          -0.070883   \n",
              "Condomínio fechado  ...            1.000000    0.480546           0.682998   \n",
              "Playground          ...            0.480546    1.000000           0.355329   \n",
              "Portão eletrônico   ...            0.682998    0.355329           1.000000   \n",
              "Piscina             ...            0.493311    0.644735           0.318190   \n",
              "Animais permitidos  ...            0.627340    0.343868           0.688386   \n",
              "Portaria 24h        ...            0.696446    0.426752           0.783165   \n",
              "Elevador            ...            0.523111    0.418010           0.481414   \n",
              "Academia            ...            0.591636    0.671350           0.417900   \n",
              "Salão de festas     ...            0.513793    0.738148           0.385270   \n",
              "Churrasqueira       ...            0.475015    0.626947           0.316205   \n",
              "\n",
              "                     Piscina  Animais permitidos  Portaria 24h  Elevador  \\\n",
              "andar               0.131943            0.350930      0.380609  0.244818   \n",
              "area_util           0.018153           -0.013085     -0.024327  0.016930   \n",
              "banheiros           0.099122           -0.024656     -0.034841  0.057167   \n",
              "quartos             0.082614           -0.021275     -0.022393  0.025686   \n",
              "suites              0.263994            0.065415      0.080245  0.120113   \n",
              "vaga                0.170411            0.038533      0.035094  0.061499   \n",
              "condominio          0.010028            0.012591      0.011997  0.013399   \n",
              "iptu                0.002501           -0.001875     -0.001195  0.006523   \n",
              "Zona Central        0.013599            0.054959      0.049477  0.037947   \n",
              "Zona Norte         -0.133882           -0.025925     -0.072634 -0.027633   \n",
              "Zona Oeste          0.431037            0.082946      0.078941  0.053038   \n",
              "Zona Sul           -0.359259           -0.083720     -0.039095 -0.045150   \n",
              "Condomínio fechado  0.493311            0.627340      0.696446  0.523111   \n",
              "Playground          0.644735            0.343868      0.426752  0.418010   \n",
              "Portão eletrônico   0.318190            0.688386      0.783165  0.481414   \n",
              "Piscina             1.000000            0.303641      0.387280  0.411159   \n",
              "Animais permitidos  0.303641            1.000000      0.672096  0.465178   \n",
              "Portaria 24h        0.387280            0.672096      1.000000  0.518356   \n",
              "Elevador            0.411159            0.465178      0.518356  1.000000   \n",
              "Academia            0.748348            0.410673      0.494142  0.455146   \n",
              "Salão de festas     0.653862            0.389010      0.458652  0.430364   \n",
              "Churrasqueira       0.752089            0.310529      0.372281  0.380176   \n",
              "\n",
              "                    Academia  Salão de festas  Churrasqueira  \n",
              "andar               0.202036         0.184248       0.137387  \n",
              "area_util           0.002008        -0.026989      -0.024059  \n",
              "banheiros           0.079168         0.055745       0.042615  \n",
              "quartos             0.061236         0.060723       0.061367  \n",
              "suites              0.242672         0.173670       0.185516  \n",
              "vaga                0.139895         0.133168       0.131533  \n",
              "condominio          0.014321         0.009145       0.005718  \n",
              "iptu                0.003359         0.001128      -0.003078  \n",
              "Zona Central        0.043168         0.008755       0.001966  \n",
              "Zona Norte         -0.120873        -0.018486      -0.050968  \n",
              "Zona Oeste          0.360255         0.305864       0.416767  \n",
              "Zona Sul           -0.301762        -0.318156      -0.409327  \n",
              "Condomínio fechado  0.591636         0.513793       0.475015  \n",
              "Playground          0.671350         0.738148       0.626947  \n",
              "Portão eletrônico   0.417900         0.385270       0.316205  \n",
              "Piscina             0.748348         0.653862       0.752089  \n",
              "Animais permitidos  0.410673         0.389010       0.310529  \n",
              "Portaria 24h        0.494142         0.458652       0.372281  \n",
              "Elevador            0.455146         0.430364       0.380176  \n",
              "Academia            1.000000         0.693790       0.676100  \n",
              "Salão de festas     0.693790         1.000000       0.647599  \n",
              "Churrasqueira       0.676100         0.647599       1.000000  \n",
              "\n",
              "[22 rows x 22 columns]"
            ]
          },
          "execution_count": 46,
          "metadata": {},
          "output_type": "execute_result"
        }
      ],
      "source": [
        "dataframe_correlacao"
      ]
    },
    {
      "cell_type": "markdown",
      "metadata": {
        "id": "mVfy_b7NLqAO"
      },
      "source": [
        "Para facilitar a visualização, vamos inserir um mapa de calor nessa matriz de correlação."
      ]
    },
    {
      "cell_type": "code",
      "execution_count": null,
      "metadata": {
        "id": "_VoVEnjXL1HV"
      },
      "outputs": [],
      "source": [
        "import matplotlib.pyplot as plt\n",
        "import seaborn as sns"
      ]
    },
    {
      "cell_type": "code",
      "execution_count": null,
      "metadata": {
        "colab": {
          "base_uri": "https://localhost:8080/",
          "height": 705
        },
        "id": "PwP-GFHBL5-j",
        "outputId": "6436bb3b-b909-4676-a1a6-4b0ba6e5ab9f"
      },
      "outputs": [
        {
          "data": {
            "text/plain": [
              "<matplotlib.axes._subplots.AxesSubplot at 0x7f887bf08160>"
            ]
          },
          "execution_count": 48,
          "metadata": {},
          "output_type": "execute_result"
        },
        {
          "data": {
            "image/png": "[encoded data removed]",
            "text/plain": [
              "<Figure size 864x720 with 2 Axes>"
            ]
          },
          "metadata": {},
          "output_type": "display_data"
        }
      ],
      "source": [
        "plt.figure(figsize=(12,10))\n",
        "paleta = sns.color_palette('light:blue', as_cmap=True)\n",
        "sns.heatmap(dataframe_correlacao.round(1), annot=True, cmap=paleta)"
      ]
    },
    {
      "cell_type": "markdown",
      "metadata": {
        "id": "9nHT-SSoMUew"
      },
      "source": [
        "Como não temos nenhum valor de correlação próximo a 0.9, não excluiremos nenhuma feature da nossa base de dados."
      ]
    },
    {
      "cell_type": "markdown",
      "metadata": {
        "id": "pU_l5xeS-Csi"
      },
      "source": [
        "## **Modelos de Regressão**"
      ]
    },
    {
      "cell_type": "markdown",
      "metadata": {
        "id": "E_RNkxw1Svr4"
      },
      "source": [
        "##Regressão Linear##"
      ]
    },
    {
      "cell_type": "markdown",
      "metadata": {
        "id": "zKCf0Nm5B-0E"
      },
      "source": [
        "Como primeiro modelo, vamos rodar uma Regressão Linear para ver como ela se comportar com a nossa base de dados."
      ]
    },
    {
      "cell_type": "code",
      "execution_count": null,
      "metadata": {
        "id": "Ib3eddQWQ-j5"
      },
      "outputs": [],
      "source": [
        "from pyspark.ml.regression import LinearRegression"
      ]
    },
    {
      "cell_type": "markdown",
      "metadata": {
        "id": "vSPtB3EsSnv3"
      },
      "source": [
        "Antes de rodar os modelos, vamos dividir a base de dados em treino e teste."
      ]
    },
    {
      "cell_type": "code",
      "execution_count": null,
      "metadata": {
        "id": "QBbQN7uWCaST"
      },
      "outputs": [],
      "source": [
        "treino, teste = dataset_vect.randomSplit([0.7, 0.3], seed=100)"
      ]
    },
    {
      "cell_type": "code",
      "execution_count": null,
      "metadata": {
        "colab": {
          "base_uri": "https://localhost:8080/"
        },
        "id": "SA5yZZ58CkSi",
        "outputId": "2ecccff3-d549-4696-a328-0e80797a44a1"
      },
      "outputs": [
        {
          "data": {
            "text/plain": [
              "46555"
            ]
          },
          "execution_count": 51,
          "metadata": {},
          "output_type": "execute_result"
        }
      ],
      "source": [
        "treino.count()"
      ]
    },
    {
      "cell_type": "code",
      "execution_count": null,
      "metadata": {
        "colab": {
          "base_uri": "https://localhost:8080/"
        },
        "id": "CErtu01mClm8",
        "outputId": "d04d6201-8c35-47b9-fda2-54ee6b8a1aa5"
      },
      "outputs": [
        {
          "data": {
            "text/plain": [
              "19937"
            ]
          },
          "execution_count": 52,
          "metadata": {},
          "output_type": "execute_result"
        }
      ],
      "source": [
        "teste.count()"
      ]
    },
    {
      "cell_type": "code",
      "execution_count": null,
      "metadata": {
        "id": "n70_NO6aCnr4"
      },
      "outputs": [],
      "source": [
        "lr = LinearRegression()"
      ]
    },
    {
      "cell_type": "code",
      "execution_count": null,
      "metadata": {
        "id": "fVVozPJbCsvZ"
      },
      "outputs": [],
      "source": [
        "modelo_lr = lr.fit(treino)"
      ]
    },
    {
      "cell_type": "markdown",
      "metadata": {
        "id": "FnVd1TULFwgO"
      },
      "source": [
        "Com o modelo 'fitado' aos dados, vamos partir para as previsões"
      ]
    },
    {
      "cell_type": "code",
      "execution_count": null,
      "metadata": {
        "id": "U7WLnr80CvDB"
      },
      "outputs": [],
      "source": [
        "previsoes_lr_treino = modelo_lr.transform(treino)"
      ]
    },
    {
      "cell_type": "code",
      "execution_count": null,
      "metadata": {
        "colab": {
          "base_uri": "https://localhost:8080/"
        },
        "id": "2QQasUySEfPP",
        "outputId": "26b1e8d2-19d0-47b7-e02d-39e2d2f782ea"
      },
      "outputs": [
        {
          "name": "stdout",
          "output_type": "stream",
          "text": [
            "+--------------------+--------+-----------------+\n",
            "|            features|   label|       prediction|\n",
            "+--------------------+--------+-----------------+\n",
            "|(22,[0,1,2,3,4,5,...|629000.0|772556.4096014949|\n",
            "|(22,[0,1,2,3,4,5,...|445000.0|669254.9790037455|\n",
            "|(22,[0,1,2,3,4,5,...|539000.0|646595.5875506172|\n",
            "|(22,[0,1,2,3,4,5,...|262000.0|753010.5793610114|\n",
            "|(22,[0,1,2,3,4,5,...|115000.0|285119.5196443312|\n",
            "+--------------------+--------+-----------------+\n",
            "\n"
          ]
        }
      ],
      "source": [
        "previsoes_lr_treino.limit(5).show()"
      ]
    },
    {
      "cell_type": "markdown",
      "metadata": {
        "id": "zQMHuKRLF6Jz"
      },
      "source": [
        "## Métricas de Avaliação"
      ]
    },
    {
      "cell_type": "markdown",
      "metadata": {
        "id": "2YAfSePlGB51"
      },
      "source": [
        "Para avaliar a eficiência ou não do modelo, vamos utilizar duas métricas: o R² (R-Quadrado) e o RMSE (Root Mean Squarred Error). O primeiro mede o quanto o modelo está ajustado aos dados, já o segundo mede os erros do modelo e não o modelo em si."
      ]
    },
    {
      "cell_type": "code",
      "execution_count": null,
      "metadata": {
        "id": "WNg3Rrl7F9dr"
      },
      "outputs": [],
      "source": [
        "resumo_treino = modelo_lr.summary"
      ]
    },
    {
      "cell_type": "code",
      "execution_count": null,
      "metadata": {
        "colab": {
          "base_uri": "https://localhost:8080/"
        },
        "id": "mUHiSqELG4Nz",
        "outputId": "fd3df259-6038-413c-c616-b2c10bf81b53"
      },
      "outputs": [
        {
          "data": {
            "text/plain": [
              "0.6570089968534134"
            ]
          },
          "execution_count": 58,
          "metadata": {},
          "output_type": "execute_result"
        }
      ],
      "source": [
        "resumo_treino.r2"
      ]
    },
    {
      "cell_type": "code",
      "execution_count": null,
      "metadata": {
        "colab": {
          "base_uri": "https://localhost:8080/"
        },
        "id": "j_KT56ZqG6NS",
        "outputId": "9eb3add7-2073-40b3-a4c5-336de4acdfba"
      },
      "outputs": [
        {
          "data": {
            "text/plain": [
              "864908.9551752538"
            ]
          },
          "execution_count": 59,
          "metadata": {},
          "output_type": "execute_result"
        }
      ],
      "source": [
        "resumo_treino.rootMeanSquaredError"
      ]
    },
    {
      "cell_type": "code",
      "execution_count": null,
      "metadata": {
        "id": "Tn3xu-1SHCn5"
      },
      "outputs": [],
      "source": [
        "resumo_teste = modelo_lr.evaluate(teste)"
      ]
    },
    {
      "cell_type": "code",
      "execution_count": null,
      "metadata": {
        "colab": {
          "base_uri": "https://localhost:8080/"
        },
        "id": "0MP0c-DyHJFj",
        "outputId": "3c6944a0-b43b-47b0-fdf9-78308a7b04e0"
      },
      "outputs": [
        {
          "data": {
            "text/plain": [
              "0.6850474276634951"
            ]
          },
          "execution_count": 61,
          "metadata": {},
          "output_type": "execute_result"
        }
      ],
      "source": [
        "resumo_teste.r2"
      ]
    },
    {
      "cell_type": "code",
      "execution_count": null,
      "metadata": {
        "colab": {
          "base_uri": "https://localhost:8080/"
        },
        "id": "pnDKSTQuHLAp",
        "outputId": "5804dfed-6e46-46b8-80d8-183a939a8499"
      },
      "outputs": [
        {
          "data": {
            "text/plain": [
              "819334.7666387704"
            ]
          },
          "execution_count": 62,
          "metadata": {},
          "output_type": "execute_result"
        }
      ],
      "source": [
        "resumo_teste.rootMeanSquaredError"
      ]
    },
    {
      "cell_type": "markdown",
      "metadata": {
        "id": "PgKxp3BkHQ4j"
      },
      "source": [
        "Agora vamos agregar esses dados em uma tabela"
      ]
    },
    {
      "cell_type": "code",
      "execution_count": null,
      "metadata": {
        "colab": {
          "base_uri": "https://localhost:8080/"
        },
        "id": "pjuHyuRjHUWY",
        "outputId": "e33d3a13-0655-46af-f2c4-3dba412862a9"
      },
      "outputs": [
        {
          "name": "stdout",
          "output_type": "stream",
          "text": [
            "Regressão Linear\n",
            "==============================\n",
            "Dados de Treino\n",
            "==============================\n",
            "R²: 0.657009\n",
            "RMSE: 864908.955175\n",
            "\n",
            "==============================\n",
            "Dados de Teste\n",
            "==============================\n",
            "R²: 0.685047\n",
            "RMSE: 819334.766639\n"
          ]
        }
      ],
      "source": [
        "print('Regressão Linear')\n",
        "print(\"=\"*30)\n",
        "print(\"Dados de Treino\")\n",
        "print(\"=\"*30)\n",
        "print(\"R²: %f\" % resumo_treino.r2)\n",
        "print(\"RMSE: %f\" % resumo_treino.rootMeanSquaredError)\n",
        "print(\"\")\n",
        "print(\"=\"*30)\n",
        "print(\"Dados de Teste\")\n",
        "print(\"=\"*30)\n",
        "print(\"R²: %f\" % resumo_teste.r2)\n",
        "print(\"RMSE: %f\" % resumo_teste.rootMeanSquaredError)"
      ]
    },
    {
      "cell_type": "markdown",
      "metadata": {
        "id": "ocqkl5wDS1Ig"
      },
      "source": [
        "##Arvore de Decisão"
      ]
    },
    {
      "cell_type": "markdown",
      "metadata": {
        "id": "kIkkFOAXS8oB"
      },
      "source": [
        "Como alternativa, vamos testar outros modelos de regressão para ver se eles se comportam melhor com nossa base de dados. Começando pelo modelo de Árvore de Decisão."
      ]
    },
    {
      "cell_type": "code",
      "execution_count": null,
      "metadata": {
        "id": "_1U8dT8eHWaB"
      },
      "outputs": [],
      "source": [
        "from pyspark.ml.regression import DecisionTreeRegressor"
      ]
    },
    {
      "cell_type": "code",
      "execution_count": null,
      "metadata": {
        "id": "Fus0iN87TT_P"
      },
      "outputs": [],
      "source": [
        "dtr = DecisionTreeRegressor(seed=100, maxDepth=7)"
      ]
    },
    {
      "cell_type": "code",
      "execution_count": null,
      "metadata": {
        "id": "OB7rJFXPTafn"
      },
      "outputs": [],
      "source": [
        "modelo_dtr = dtr.fit(treino)"
      ]
    },
    {
      "cell_type": "code",
      "execution_count": null,
      "metadata": {
        "id": "2_XCYnW8TekH"
      },
      "outputs": [],
      "source": [
        "previsoes_dtr_treino = modelo_dtr.transform(treino)"
      ]
    },
    {
      "cell_type": "code",
      "execution_count": null,
      "metadata": {
        "colab": {
          "base_uri": "https://localhost:8080/"
        },
        "id": "R98DcLiVTjXu",
        "outputId": "9500ccdb-50fb-4441-d00e-c7dfd445a9c5"
      },
      "outputs": [
        {
          "name": "stdout",
          "output_type": "stream",
          "text": [
            "+--------------------+--------+-----------------+\n",
            "|            features|   label|       prediction|\n",
            "+--------------------+--------+-----------------+\n",
            "|(22,[0,1,2,3,4,5,...|629000.0| 560293.165784459|\n",
            "|(22,[0,1,2,3,4,5,...|445000.0|379455.9124548737|\n",
            "|(22,[0,1,2,3,4,5,...|539000.0|379455.9124548737|\n",
            "|(22,[0,1,2,3,4,5,...|262000.0| 560293.165784459|\n",
            "|(22,[0,1,2,3,4,5,...|115000.0|379455.9124548737|\n",
            "+--------------------+--------+-----------------+\n",
            "\n"
          ]
        }
      ],
      "source": [
        "previsoes_dtr_treino.limit(5).show()"
      ]
    },
    {
      "cell_type": "markdown",
      "metadata": {
        "id": "A_1yEYOpTvXo"
      },
      "source": [
        "##Métricas de Avaliação"
      ]
    },
    {
      "cell_type": "code",
      "execution_count": null,
      "metadata": {
        "id": "ZC_RF8x2TmkG"
      },
      "outputs": [],
      "source": [
        "from pyspark.ml.evaluation import RegressionEvaluator"
      ]
    },
    {
      "cell_type": "code",
      "execution_count": null,
      "metadata": {
        "colab": {
          "base_uri": "https://localhost:8080/"
        },
        "id": "L21sETKRT3WF",
        "outputId": "851dea26-807c-4ab7-a9d9-e6d085562862"
      },
      "outputs": [
        {
          "name": "stdout",
          "output_type": "stream",
          "text": [
            "R2: 0.8035499521342946\n",
            "RMSE: 654568.4958794373\n"
          ]
        }
      ],
      "source": [
        "evaluator = RegressionEvaluator()\n",
        "\n",
        "print(\"R2: %s\" % evaluator.evaluate(previsoes_dtr_treino, {evaluator.metricName: \"r2\"}))\n",
        "print(\"RMSE: %s\" % evaluator.evaluate(previsoes_dtr_treino, {evaluator.metricName: \"rmse\"}))"
      ]
    },
    {
      "cell_type": "code",
      "execution_count": null,
      "metadata": {
        "id": "6gD40hZCT74N"
      },
      "outputs": [],
      "source": [
        "previsoes_dtr_teste = modelo_dtr.transform(teste)"
      ]
    },
    {
      "cell_type": "code",
      "execution_count": null,
      "metadata": {
        "colab": {
          "base_uri": "https://localhost:8080/"
        },
        "id": "JisMTzKqT__0",
        "outputId": "0d453a65-6817-4d70-a68f-63fbde5ae434"
      },
      "outputs": [
        {
          "name": "stdout",
          "output_type": "stream",
          "text": [
            "+--------------------+---------+-----------------+\n",
            "|            features|    label|       prediction|\n",
            "+--------------------+---------+-----------------+\n",
            "|(22,[0,1,2,3,4,5,...| 600000.0| 560293.165784459|\n",
            "|(22,[0,1,2,3,4,5,...| 400000.0|379455.9124548737|\n",
            "|(22,[0,1,2,3,4,5,...| 790000.0|719874.5835380836|\n",
            "|(22,[0,1,2,3,4,5,...| 755000.0|719874.5835380836|\n",
            "|(22,[0,1,2,3,4,5,...|1047795.0|719874.5835380836|\n",
            "+--------------------+---------+-----------------+\n",
            "\n"
          ]
        }
      ],
      "source": [
        "previsoes_dtr_teste.limit(5).show()"
      ]
    },
    {
      "cell_type": "markdown",
      "metadata": {
        "id": "fR_YYk8FUVVh"
      },
      "source": [
        "Consolidando as informações:"
      ]
    },
    {
      "cell_type": "code",
      "execution_count": null,
      "metadata": {
        "colab": {
          "base_uri": "https://localhost:8080/"
        },
        "id": "osbcjBVPUAWd",
        "outputId": "fc804632-b0e4-49cd-9f0e-902da429102f"
      },
      "outputs": [
        {
          "name": "stdout",
          "output_type": "stream",
          "text": [
            "Regressão por Árvore de Decisão\n",
            "==============================\n",
            "Dados de Treino\n",
            "==============================\n",
            "R²: 0.803550\n",
            "RMSE: 654568.495879\n",
            "\n",
            "==============================\n",
            "Dados de Teste\n",
            "==============================\n",
            "R²: 0.777008\n",
            "RMSE: 689419.449628\n"
          ]
        }
      ],
      "source": [
        "print('Regressão por Árvore de Decisão')\n",
        "print(\"=\"*30)\n",
        "print(\"Dados de Treino\")\n",
        "print(\"=\"*30)\n",
        "print(\"R²: %f\" % evaluator.evaluate(previsoes_dtr_treino, {evaluator.metricName: \"r2\"}))\n",
        "print(\"RMSE: %f\" % evaluator.evaluate(previsoes_dtr_treino, {evaluator.metricName: \"rmse\"}))\n",
        "print(\"\")\n",
        "print(\"=\"*30)\n",
        "print(\"Dados de Teste\")\n",
        "print(\"=\"*30)\n",
        "print(\"R²: %f\" % evaluator.evaluate(previsoes_dtr_teste, {evaluator.metricName: \"r2\"}))\n",
        "print(\"RMSE: %f\" % evaluator.evaluate(previsoes_dtr_teste, {evaluator.metricName: \"rmse\"}))\n"
      ]
    },
    {
      "cell_type": "markdown",
      "metadata": {
        "id": "RxWgzEooU6Hi"
      },
      "source": [
        "Analisando os números de R-quadrado e do RMSE, obtivemos melhorias em comparação com os da Regressão Linear, pois temos um numero maior de R-Quadrado e uma raiz do erro quadrado menor.\n",
        "\n",
        "Apesar disso, vamos testar outros modelos para ver se encontramos alternativas ainda melhores."
      ]
    },
    {
      "cell_type": "markdown",
      "metadata": {
        "id": "wg1IZORLUuOA"
      },
      "source": [
        "##Random Forest"
      ]
    },
    {
      "cell_type": "markdown",
      "metadata": {
        "id": "mfXgZTcEUy23"
      },
      "source": [
        "Outro modelo que podemos usar é o de Random Forrest. Ele nada mais é do que a agregação de várias árvores de decisão, o que o torna mais preciso nas regressões, porém com um custo maior de tempo e processamento computacional."
      ]
    },
    {
      "cell_type": "code",
      "execution_count": null,
      "metadata": {
        "id": "Wyjf3e37UaSs"
      },
      "outputs": [],
      "source": [
        "from pyspark.ml.regression import RandomForestRegressor"
      ]
    },
    {
      "cell_type": "code",
      "execution_count": null,
      "metadata": {
        "id": "suhMWo4nV5jJ"
      },
      "outputs": [],
      "source": [
        "rfr = RandomForestRegressor(seed=100, maxDepth=7, numTrees=10)"
      ]
    },
    {
      "cell_type": "code",
      "execution_count": null,
      "metadata": {
        "id": "URy_bbh5WDTr"
      },
      "outputs": [],
      "source": [
        "modelo_rfr = rfr.fit(treino)"
      ]
    },
    {
      "cell_type": "code",
      "execution_count": null,
      "metadata": {
        "id": "PfDPrMoAWGQA"
      },
      "outputs": [],
      "source": [
        "previsoes_rfr_treino = modelo_rfr.transform(treino)"
      ]
    },
    {
      "cell_type": "code",
      "execution_count": null,
      "metadata": {
        "colab": {
          "base_uri": "https://localhost:8080/"
        },
        "id": "KTED0U03WMkp",
        "outputId": "94150ef9-a250-41c1-8db5-fb9a55d126d9"
      },
      "outputs": [
        {
          "name": "stdout",
          "output_type": "stream",
          "text": [
            "+--------------------+--------+------------------+\n",
            "|            features|   label|        prediction|\n",
            "+--------------------+--------+------------------+\n",
            "|(22,[0,1,2,3,4,5,...|629000.0| 560215.6464033049|\n",
            "|(22,[0,1,2,3,4,5,...|445000.0|428667.36377591983|\n",
            "|(22,[0,1,2,3,4,5,...|539000.0| 430591.5874386422|\n",
            "|(22,[0,1,2,3,4,5,...|262000.0| 585222.1424217133|\n",
            "|(22,[0,1,2,3,4,5,...|115000.0| 402008.6946131499|\n",
            "+--------------------+--------+------------------+\n",
            "\n"
          ]
        }
      ],
      "source": [
        "previsoes_rfr_treino.limit(5).show()"
      ]
    },
    {
      "cell_type": "markdown",
      "metadata": {
        "id": "r3QEyzstWSlj"
      },
      "source": [
        "##Métricas de Avaliação"
      ]
    },
    {
      "cell_type": "code",
      "execution_count": null,
      "metadata": {
        "colab": {
          "base_uri": "https://localhost:8080/"
        },
        "id": "7vK_-ZZUWQgY",
        "outputId": "4a5b052a-45bd-4d82-86b3-82fce090b72f"
      },
      "outputs": [
        {
          "name": "stdout",
          "output_type": "stream",
          "text": [
            "0.8112068967275745\n",
            "641685.3026216191\n"
          ]
        }
      ],
      "source": [
        "print(evaluator.evaluate(previsoes_rfr_treino, {evaluator.metricName: \"r2\"}))\n",
        "print(evaluator.evaluate(previsoes_rfr_treino, {evaluator.metricName: \"rmse\"}))"
      ]
    },
    {
      "cell_type": "code",
      "execution_count": null,
      "metadata": {
        "id": "o2vLKsDKWXZo"
      },
      "outputs": [],
      "source": [
        "previsoes_rfr_teste = modelo_rfr.transform(teste)"
      ]
    },
    {
      "cell_type": "code",
      "execution_count": null,
      "metadata": {
        "colab": {
          "base_uri": "https://localhost:8080/"
        },
        "id": "BN0F5kH0WaIq",
        "outputId": "33ef7428-35c9-47d8-d362-cc071d36d1aa"
      },
      "outputs": [
        {
          "name": "stdout",
          "output_type": "stream",
          "text": [
            "+--------------------+---------+------------------+\n",
            "|            features|    label|        prediction|\n",
            "+--------------------+---------+------------------+\n",
            "|(22,[0,1,2,3,4,5,...| 600000.0| 612217.3173588592|\n",
            "|(22,[0,1,2,3,4,5,...| 400000.0|453255.42237586586|\n",
            "|(22,[0,1,2,3,4,5,...| 790000.0|  605369.737147045|\n",
            "|(22,[0,1,2,3,4,5,...| 755000.0| 615703.7635054996|\n",
            "|(22,[0,1,2,3,4,5,...|1047795.0|  605369.737147045|\n",
            "+--------------------+---------+------------------+\n",
            "\n"
          ]
        }
      ],
      "source": [
        "previsoes_rfr_teste.limit(5).show()"
      ]
    },
    {
      "cell_type": "markdown",
      "metadata": {
        "id": "yMA_jpzxWkt-"
      },
      "source": [
        "consolidando os dados:"
      ]
    },
    {
      "cell_type": "code",
      "execution_count": null,
      "metadata": {
        "colab": {
          "base_uri": "https://localhost:8080/"
        },
        "id": "whwBdsChWad5",
        "outputId": "db8e64b7-3150-4155-efaf-9935349fe798"
      },
      "outputs": [
        {
          "name": "stdout",
          "output_type": "stream",
          "text": [
            "Regressão por Random Forest\n",
            "==============================\n",
            "Dados de Treino\n",
            "==============================\n",
            "R²: 0.811207\n",
            "RMSE: 641685.302622\n",
            "\n",
            "==============================\n",
            "Dados de Teste\n",
            "==============================\n",
            "R²: 0.795984\n",
            "RMSE: 659434.104815\n"
          ]
        }
      ],
      "source": [
        "print('Regressão por Random Forest')\n",
        "print(\"=\"*30)\n",
        "print(\"Dados de Treino\")\n",
        "print(\"=\"*30)\n",
        "print(\"R²: %f\" % evaluator.evaluate(previsoes_rfr_treino, {evaluator.metricName: \"r2\"}))\n",
        "print(\"RMSE: %f\" % evaluator.evaluate(previsoes_rfr_treino, {evaluator.metricName: \"rmse\"}))\n",
        "print(\"\")\n",
        "print(\"=\"*30)\n",
        "print(\"Dados de Teste\")\n",
        "print(\"=\"*30)\n",
        "print(\"R²: %f\" % evaluator.evaluate(previsoes_rfr_teste, {evaluator.metricName: \"r2\"}))\n",
        "print(\"RMSE: %f\" % evaluator.evaluate(previsoes_rfr_teste, {evaluator.metricName: \"rmse\"}))"
      ]
    },
    {
      "cell_type": "markdown",
      "metadata": {
        "id": "XM-eBUuHW1eV"
      },
      "source": [
        "Novamente, obtivemos melhorias em relação a Árvore de Decisão, apesar de pequenas. Vamos continuar buscando novas formas de ajustar o modelo para que ele melhor se comporte com os dados."
      ]
    },
    {
      "cell_type": "markdown",
      "metadata": {
        "id": "VJ-SJDSjXh91"
      },
      "source": [
        "## **Técnicas de Otimização**"
      ]
    },
    {
      "cell_type": "markdown",
      "metadata": {
        "id": "0Q1BW3ZpXlBL"
      },
      "source": [
        "##Cross Validation"
      ]
    },
    {
      "cell_type": "markdown",
      "metadata": {
        "id": "z7-Fp5OXYybt"
      },
      "source": [
        "\n",
        "A técnica conhecida como cross validation (validação cruzada) atua através da separação do conjunto de dados em k grupos, no qual um grupo será utilizado para teste e os restantes para treinamento do modelo. Ao realizar o primeiro treinamento, é selecionado um grupo para teste diferente do utilizado a princípio e o restante dos grupos é utilizado para treinamento."
      ]
    },
    {
      "cell_type": "markdown",
      "metadata": {
        "id": "7kLuKzFWZWIE"
      },
      "source": [
        "###Árvore de Decisão"
      ]
    },
    {
      "cell_type": "code",
      "execution_count": null,
      "metadata": {
        "id": "9MPWRtoZXkeu"
      },
      "outputs": [],
      "source": [
        "from pyspark.ml.regression import DecisionTreeRegressor\n",
        "from pyspark.ml.tuning import CrossValidator, ParamGridBuilder\n",
        "from pyspark.ml.evaluation import RegressionEvaluator"
      ]
    },
    {
      "cell_type": "code",
      "execution_count": null,
      "metadata": {
        "id": "-O1e6mNnWtqn"
      },
      "outputs": [],
      "source": [
        "dtr = DecisionTreeRegressor()"
      ]
    },
    {
      "cell_type": "code",
      "execution_count": null,
      "metadata": {
        "id": "_xLRHXGIY-qO"
      },
      "outputs": [],
      "source": [
        "grid = ParamGridBuilder() \\\n",
        "      .addGrid(dtr.maxDepth, [2, 5, 10]) \\\n",
        "      .addGrid(dtr.maxBins, [10, 32, 45]) \\\n",
        "      .build()"
      ]
    },
    {
      "cell_type": "code",
      "execution_count": null,
      "metadata": {
        "id": "qWOcLh-NZATk"
      },
      "outputs": [],
      "source": [
        "evaluator = RegressionEvaluator()"
      ]
    },
    {
      "cell_type": "code",
      "execution_count": null,
      "metadata": {
        "id": "ib3zvu_4ZBpW"
      },
      "outputs": [],
      "source": [
        "dtr_cv = CrossValidator(\n",
        "    estimator=dtr,\n",
        "    estimatorParamMaps=\tgrid,\n",
        "    evaluator=evaluator,\n",
        "    numFolds=3,\n",
        "    seed= 100\n",
        ")"
      ]
    },
    {
      "cell_type": "code",
      "execution_count": null,
      "metadata": {
        "id": "FNzjATPAZDDV"
      },
      "outputs": [],
      "source": [
        "modelo_dtr_cv = dtr_cv.fit(treino)"
      ]
    },
    {
      "cell_type": "code",
      "execution_count": null,
      "metadata": {
        "id": "0c_kYTPzZHR9"
      },
      "outputs": [],
      "source": [
        "previsoes_dtr_cv_teste = modelo_dtr_cv.transform(teste)"
      ]
    },
    {
      "cell_type": "code",
      "execution_count": null,
      "metadata": {
        "colab": {
          "base_uri": "https://localhost:8080/"
        },
        "id": "n4CoNFX6ZIw1",
        "outputId": "66fba5d2-541d-480e-c909-1aa44b8917f0"
      },
      "outputs": [
        {
          "name": "stdout",
          "output_type": "stream",
          "text": [
            "Regressão por Árvore de Decisão\n",
            "==============================\n",
            "Sem Cross Validation\n",
            "==============================\n",
            "R²: 0.777008\n",
            "RMSE: 689419.449628\n",
            "\n",
            "==============================\n",
            "Com Cross Validation\n",
            "==============================\n",
            "R²: 0.792169\n",
            "RMSE: 665569.745327\n"
          ]
        }
      ],
      "source": [
        "print('Regressão por Árvore de Decisão')\n",
        "print(\"=\"*30)\n",
        "print(\"Sem Cross Validation\")\n",
        "print(\"=\"*30)\n",
        "print(\"R²: %f\" % evaluator.evaluate(previsoes_dtr_teste, {evaluator.metricName: \"r2\"}))\n",
        "print(\"RMSE: %f\" % evaluator.evaluate(previsoes_dtr_teste, {evaluator.metricName: \"rmse\"}))\n",
        "print(\"\")\n",
        "print(\"=\"*30)\n",
        "print(\"Com Cross Validation\")\n",
        "print(\"=\"*30)\n",
        "print(\"R²: %f\" % evaluator.evaluate(previsoes_dtr_cv_teste, {evaluator.metricName: \"r2\"}))\n",
        "print(\"RMSE: %f\" % evaluator.evaluate(previsoes_dtr_cv_teste, {evaluator.metricName: \"rmse\"}))"
      ]
    },
    {
      "cell_type": "markdown",
      "metadata": {
        "id": "Wakppqo3ZbTS"
      },
      "source": [
        "###Random Forest"
      ]
    },
    {
      "cell_type": "code",
      "execution_count": null,
      "metadata": {
        "id": "pb-wAr2XZL1d"
      },
      "outputs": [],
      "source": [
        "from pyspark.ml.regression import RandomForestRegressor"
      ]
    },
    {
      "cell_type": "code",
      "execution_count": null,
      "metadata": {
        "id": "lzexzOKXZg4V"
      },
      "outputs": [],
      "source": [
        "rfr = RandomForestRegressor()"
      ]
    },
    {
      "cell_type": "code",
      "execution_count": null,
      "metadata": {
        "id": "eFPGIMR3Zh00"
      },
      "outputs": [],
      "source": [
        "grid = ParamGridBuilder() \\\n",
        "      .addGrid(rfr.numTrees, [10, 20, 30]) \\\n",
        "      .addGrid(rfr.maxDepth, [5, 10])\\\n",
        "      .addGrid(rfr.maxBins, [10, 32, 45]) \\\n",
        "      .build()"
      ]
    },
    {
      "cell_type": "markdown",
      "metadata": {
        "id": "zvfBog9YZmkc"
      },
      "source": [
        "maxBins = quanto maior o numero, mais refinada são as tentativas de gerar os melhores nós"
      ]
    },
    {
      "cell_type": "code",
      "execution_count": null,
      "metadata": {
        "id": "A3ZVONZgZjAL"
      },
      "outputs": [],
      "source": [
        "evaluator = RegressionEvaluator()"
      ]
    },
    {
      "cell_type": "code",
      "execution_count": null,
      "metadata": {
        "id": "m5Wbix-xZqv7"
      },
      "outputs": [],
      "source": [
        "rfr_cv = CrossValidator(\n",
        "    estimator = rfr,\n",
        "    estimatorParamMaps=grid,\n",
        "    evaluator = evaluator,\n",
        "    numFolds = 3\n",
        ")"
      ]
    },
    {
      "cell_type": "code",
      "execution_count": null,
      "metadata": {
        "colab": {
          "background_save": true
        },
        "id": "qzrnpD4uZsjz"
      },
      "outputs": [],
      "source": [
        "modelo_rfr_cv = rfr_cv.fit(treino)"
      ]
    },
    {
      "cell_type": "code",
      "execution_count": null,
      "metadata": {
        "colab": {
          "background_save": true
        },
        "id": "G_mwT4kgZuX7"
      },
      "outputs": [],
      "source": [
        "previsoes_rfr_cv_teste = modelo_rfr_cv.transform(teste)"
      ]
    },
    {
      "cell_type": "code",
      "execution_count": null,
      "metadata": {
        "colab": {
          "background_save": true
        },
        "id": "trDUvCHMZwNU",
        "outputId": "e0e95ed5-0373-4006-e989-9830056a904c"
      },
      "outputs": [
        {
          "name": "stdout",
          "output_type": "stream",
          "text": [
            "Regressão por Random Forest\n",
            "==============================\n",
            "Sem Cross Validation\n",
            "==============================\n",
            "R²: 0.795984\n",
            "RMSE: 659434.104815\n",
            "\n",
            "==============================\n",
            "Com Cross Validation\n",
            "==============================\n",
            "R²: 0.831812\n",
            "RMSE: 598737.838350\n"
          ]
        }
      ],
      "source": [
        "print('Regressão por Random Forest')\n",
        "print(\"=\"*30)\n",
        "print(\"Sem Cross Validation\")\n",
        "print(\"=\"*30)\n",
        "print(\"R²: %f\" % evaluator.evaluate(previsoes_rfr_teste, {evaluator.metricName: \"r2\"}))\n",
        "print(\"RMSE: %f\" % evaluator.evaluate(previsoes_rfr_teste, {evaluator.metricName: \"rmse\"}))\n",
        "print(\"\")\n",
        "print(\"=\"*30)\n",
        "print(\"Com Cross Validation\")\n",
        "print(\"=\"*30)\n",
        "print(\"R²: %f\" % evaluator.evaluate(previsoes_rfr_cv_teste, {evaluator.metricName: \"r2\"}))\n",
        "print(\"RMSE: %f\" % evaluator.evaluate(previsoes_rfr_cv_teste, {evaluator.metricName: \"rmse\"}))"
      ]
    },
    {
      "cell_type": "markdown",
      "metadata": {
        "id": "2ryf2dX0Z7VL"
      },
      "source": [
        "Como podemos ver nas consolidações das métricas, o melhor modelo dentre os testados foi o de Random Forrest com Cross Validation, pois ele apresenta o maior R-Quadrado e o menor RMSE."
      ]
    }
  ],
  "metadata": {
    "colab": {
      "provenance": [],
      "authorship_tag": "ABX9TyPetFQ3EREHrhLZE6JTe728",
      "include_colab_link": true
    },
    "kernelspec": {
      "display_name": "Python 3",
      "name": "python3"
    },
    "language_info": {
      "name": "python"
    }
  },
  "nbformat": 4,
  "nbformat_minor": 0
}